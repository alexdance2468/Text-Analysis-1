{
 "cells": [
  {
   "cell_type": "markdown",
   "metadata": {},
   "source": [
    "# Alex NLP Project"
   ]
  },
  {
   "cell_type": "markdown",
   "metadata": {},
   "source": [
    "# Usefuk\n",
    "* https://stackabuse.com/python-for-nlp-working-with-text-and-pdf-files/\n",
    "* https://towardsdatascience.com/introduction-to-natural-language-processing-for-text-df845750fb63\n",
    "* https://www.datacamp.com/community/tutorials/simplifying-sentiment-analysis-python\n",
    "* https://www.digitalocean.com/community/tutorials/how-to-perform-sentiment-analysis-in-python-3-using-the-natural-language-toolkit-nltk\n",
    "* https://machinelearningmastery.com/clean-text-machine-learning-python/"
   ]
  },
  {
   "cell_type": "code",
   "execution_count": 1,
   "metadata": {},
   "outputs": [],
   "source": [
    "import docx2txt\n",
    "from collections import Counter"
   ]
  },
  {
   "cell_type": "code",
   "execution_count": 2,
   "metadata": {},
   "outputs": [],
   "source": [
    "\n",
    "## Import Libraries\n",
    "%matplotlib inline\n",
    "import matplotlib.pyplot as plt\n",
    "from collections import Counter\n",
    "\n",
    "from nltk.tokenize import word_tokenize\n",
    "from nltk.stem.porter import PorterStemmer\n",
    "\n",
    "import regex as re\n",
    "import spacy\n",
    "import nltk\n",
    "import string"
   ]
  },
  {
   "cell_type": "code",
   "execution_count": 3,
   "metadata": {},
   "outputs": [],
   "source": [
    "# Import the libraries we need\n",
    "from sklearn.feature_extraction.text import CountVectorizer\n",
    "import pandas as pd\n",
    "import numpy as np"
   ]
  },
  {
   "cell_type": "code",
   "execution_count": 4,
   "metadata": {},
   "outputs": [],
   "source": [
    "from csv import reader\n",
    "from wordcloud import WordCloud, STOPWORDS "
   ]
  },
  {
   "cell_type": "code",
   "execution_count": 5,
   "metadata": {},
   "outputs": [],
   "source": [
    "import seaborn as sns"
   ]
  },
  {
   "cell_type": "code",
   "execution_count": null,
   "metadata": {},
   "outputs": [],
   "source": []
  },
  {
   "cell_type": "markdown",
   "metadata": {},
   "source": [
    "# Word Document"
   ]
  },
  {
   "cell_type": "code",
   "execution_count": 6,
   "metadata": {},
   "outputs": [],
   "source": [
    "#my_text = docx2txt.process ('C:/Users/alexd/Alex Folder 1/NLP Project1/Anybody up for.docx')\n",
    "#my_text = docx2txt.process ('C:/Users/alexd/Alex Folder 1/NLP Project1/1A. The Aqueduct of Segovia.docx')\n",
    "#my_text = docx2txt.process ('C:/Users/alexd/Alex Folder 1/NLP Project1/Data/ROMANCING1.docx')\n",
    "#my_text = docx2txt.process ('C:/Users/alexd/Alex Folder 1/NLP Project1/Data/Pride and Prejudice.docx')\n",
    "#my_text = docx2txt.process ('C:/Users/alexd/Alex Folder 1/NLP Project1/Data/Alice Adventures.docx')\n",
    "#my_text = docx2txt.process ('C:/Users/alexd/Alex Folder 1/NLP Project1/Data/ClimateArticle_Published_corr.docx')\n",
    "#my_text = docx2txt.process ('C:/Users/alexd/Alex Folder 1/NLP Project1/Data/FourCollidingCouples_210119.docx')\n",
    "#my_text = docx2txt.process ('C:/Users/alexd/Alex Folder 1/NLP Project1/Data/The witness.docx')\n",
    "#my_text = docx2txt.process ('C:/Users/alexd/Alex Folder 1/NLP Project1/Data/The witness - badspelling.docx')\n",
    "#my_text = docx2txt.process ('C:/Users/alexd/Alex Folder 1/NLP Project1/Data/Treasure Island.docx')\n",
    "\n",
    "\n",
    "my_text = docx2txt.process ('C:/Users/alexd/Alex Folder 1/NLP Project1/Data/holybible.docx')\n",
    "\n",
    "#my_text = docx2txt.process ('C:/Users/alexd/Alex Folder 1/NLP Project1/Data/Pitch Deck v08 A4.docx')\n",
    "#my_text = docx2txt.process ('C:/Users/alexd/Alex Folder 1/NLP Project1/Data/Data Scientist - Collaboration.docx')\n",
    "\n",
    "\n",
    "\n",
    "\n",
    "\n",
    "\n"
   ]
  },
  {
   "cell_type": "code",
   "execution_count": 7,
   "metadata": {},
   "outputs": [
    {
     "name": "stdout",
     "output_type": "stream",
     "text": [
      "<class 'str'>\n"
     ]
    }
   ],
   "source": [
    "print(type(my_text))"
   ]
  },
  {
   "cell_type": "code",
   "execution_count": 8,
   "metadata": {},
   "outputs": [],
   "source": [
    "#print(my_text)"
   ]
  },
  {
   "cell_type": "code",
   "execution_count": null,
   "metadata": {},
   "outputs": [],
   "source": []
  },
  {
   "cell_type": "code",
   "execution_count": 9,
   "metadata": {},
   "outputs": [],
   "source": [
    "# create a bar chart of the frequency of the words in the text\n",
    "def plot_words(tokens, top = 30):\n",
    "    tokens_counter = Counter(tokens)\n",
    "    tok = [t for (t, _) in tokens_counter.most_common()]\n",
    "    val = [v for (_, v) in tokens_counter.most_common()]\n",
    "\n",
    "    plt.figure(figsize = (16, 6))\n",
    "    plt.bar(tok[:top], val[:top])\n",
    "    plt.title('Number of terms: %d' % len(tokens_counter))\n",
    "    plt.xticks(rotation = 90)\n",
    "\n",
    "    plt.show()"
   ]
  },
  {
   "cell_type": "code",
   "execution_count": null,
   "metadata": {},
   "outputs": [],
   "source": []
  },
  {
   "cell_type": "code",
   "execution_count": null,
   "metadata": {},
   "outputs": [],
   "source": []
  },
  {
   "cell_type": "markdown",
   "metadata": {},
   "source": [
    "# from Jason"
   ]
  },
  {
   "cell_type": "code",
   "execution_count": 10,
   "metadata": {},
   "outputs": [],
   "source": [
    "words = my_text.split()"
   ]
  },
  {
   "cell_type": "code",
   "execution_count": 11,
   "metadata": {},
   "outputs": [
    {
     "data": {
      "text/plain": [
       "821184"
      ]
     },
     "execution_count": 11,
     "metadata": {},
     "output_type": "execute_result"
    }
   ],
   "source": [
    "len(words)"
   ]
  },
  {
   "cell_type": "code",
   "execution_count": 12,
   "metadata": {},
   "outputs": [
    {
     "name": "stdout",
     "output_type": "stream",
     "text": [
      "['The', 'Revelation', 'of', 'John', 'The', 'General', 'Epistle', 'of', 'Jude', 'The', 'Second', 'Epistle', 'General', 'of', 'John', 'The', 'Third', 'Epistle', 'General', 'of', 'John', 'The', 'First', 'Epistle', 'General', 'of', 'John', 'The', 'Second', 'Epistle', 'General', 'of', 'Peter', 'The', 'Second', 'Epistle', 'of', 'Paul', 'to', 'the', 'Thessalonians', 'The', 'First', 'Epistle', 'of', 'Paul', 'the', 'Apostle', 'to', 'Timothy', 'The', 'First', 'Epistle', 'of', 'Paul', 'the', 'Apostle', 'to', 'the', 'Thessalonians', 'The', 'Epistle', 'of', 'Paul', 'the', 'Apostle', 'to', 'the', 'Colossians', 'The', 'Epistle', 'of', 'Paul', 'the', 'Apostle', 'to', 'the', 'Ephesians', 'The', 'Second', 'Epistle', 'of', 'Paul', 'the', 'Apostle', 'to', 'Timothy', 'The', 'General', 'Epistle', 'of', 'James', 'The', 'First', 'Epistle', 'General', 'of', 'Peter', 'The', 'Epistle']\n"
     ]
    }
   ],
   "source": [
    "print(words[:100])"
   ]
  },
  {
   "cell_type": "code",
   "execution_count": 13,
   "metadata": {},
   "outputs": [],
   "source": [
    "words2 = re.split(r'\\W+', my_text)\n"
   ]
  },
  {
   "cell_type": "code",
   "execution_count": 14,
   "metadata": {},
   "outputs": [
    {
     "name": "stdout",
     "output_type": "stream",
     "text": [
      "['The', 'Revelation', 'of', 'John', 'The', 'General', 'Epistle', 'of', 'Jude', 'The', 'Second', 'Epistle', 'General', 'of', 'John', 'The', 'Third', 'Epistle', 'General', 'of', 'John', 'The', 'First', 'Epistle', 'General', 'of', 'John', 'The', 'Second', 'Epistle', 'General', 'of', 'Peter', 'The', 'Second', 'Epistle', 'of', 'Paul', 'to', 'the', 'Thessalonians', 'The', 'First', 'Epistle', 'of', 'Paul', 'the', 'Apostle', 'to', 'Timothy', 'The', 'First', 'Epistle', 'of', 'Paul', 'the', 'Apostle', 'to', 'the', 'Thessalonians', 'The', 'Epistle', 'of', 'Paul', 'the', 'Apostle', 'to', 'the', 'Colossians', 'The', 'Epistle', 'of', 'Paul', 'the', 'Apostle', 'to', 'the', 'Ephesians', 'The', 'Second', 'Epistle', 'of', 'Paul', 'the', 'Apostle', 'to', 'Timothy', 'The', 'General', 'Epistle', 'of', 'James', 'The', 'First', 'Epistle', 'General', 'of', 'Peter', 'The', 'Epistle']\n"
     ]
    }
   ],
   "source": [
    "print(words2[:100])"
   ]
  },
  {
   "cell_type": "code",
   "execution_count": 15,
   "metadata": {},
   "outputs": [
    {
     "name": "stdout",
     "output_type": "stream",
     "text": [
      "!\"#$%&'()*+,-./:;<=>?@[\\]^_`{|}~\n"
     ]
    }
   ],
   "source": [
    "print(string.punctuation)\n"
   ]
  },
  {
   "cell_type": "code",
   "execution_count": 16,
   "metadata": {},
   "outputs": [],
   "source": [
    "re_punc = re.compile('[%s]' % re.escape(string.punctuation))\n",
    "# remove punctuation from each word\n",
    "stripped = [re_punc.sub('', w) for w in words]"
   ]
  },
  {
   "cell_type": "code",
   "execution_count": 17,
   "metadata": {},
   "outputs": [],
   "source": [
    "re_punc = re.compile('[%s]' % re.escape(string.punctuation))\n"
   ]
  },
  {
   "cell_type": "code",
   "execution_count": 18,
   "metadata": {},
   "outputs": [],
   "source": [
    "stripped = [re_punc.sub('', w) for w in words]\n"
   ]
  },
  {
   "cell_type": "code",
   "execution_count": 19,
   "metadata": {},
   "outputs": [
    {
     "name": "stdout",
     "output_type": "stream",
     "text": [
      "['The', 'Revelation', 'of', 'John', 'The', 'General', 'Epistle', 'of', 'Jude', 'The', 'Second', 'Epistle', 'General', 'of', 'John', 'The', 'Third', 'Epistle', 'General', 'of', 'John', 'The', 'First', 'Epistle', 'General', 'of', 'John', 'The', 'Second', 'Epistle', 'General', 'of', 'Peter', 'The', 'Second', 'Epistle', 'of', 'Paul', 'to', 'the', 'Thessalonians', 'The', 'First', 'Epistle', 'of', 'Paul', 'the', 'Apostle', 'to', 'Timothy', 'The', 'First', 'Epistle', 'of', 'Paul', 'the', 'Apostle', 'to', 'the', 'Thessalonians', 'The', 'Epistle', 'of', 'Paul', 'the', 'Apostle', 'to', 'the', 'Colossians', 'The', 'Epistle', 'of', 'Paul', 'the', 'Apostle', 'to', 'the', 'Ephesians', 'The', 'Second', 'Epistle', 'of', 'Paul', 'the', 'Apostle', 'to', 'Timothy', 'The', 'General', 'Epistle', 'of', 'James', 'The', 'First', 'Epistle', 'General', 'of', 'Peter', 'The', 'Epistle']\n"
     ]
    }
   ],
   "source": [
    "print(stripped[:100])\n"
   ]
  },
  {
   "cell_type": "code",
   "execution_count": null,
   "metadata": {},
   "outputs": [],
   "source": []
  },
  {
   "cell_type": "code",
   "execution_count": 20,
   "metadata": {},
   "outputs": [],
   "source": [
    "table = str.maketrans('', '', string.punctuation)"
   ]
  },
  {
   "cell_type": "code",
   "execution_count": 21,
   "metadata": {},
   "outputs": [
    {
     "name": "stdout",
     "output_type": "stream",
     "text": [
      "{33: None, 34: None, 35: None, 36: None, 37: None, 38: None, 39: None, 40: None, 41: None, 42: None, 43: None, 44: None, 45: None, 46: None, 47: None, 58: None, 59: None, 60: None, 61: None, 62: None, 63: None, 64: None, 91: None, 92: None, 93: None, 94: None, 95: None, 96: None, 123: None, 124: None, 125: None, 126: None}\n"
     ]
    }
   ],
   "source": [
    "print(table)"
   ]
  },
  {
   "cell_type": "code",
   "execution_count": 22,
   "metadata": {},
   "outputs": [],
   "source": [
    "from pandas import DataFrame"
   ]
  },
  {
   "cell_type": "code",
   "execution_count": 23,
   "metadata": {},
   "outputs": [
    {
     "name": "stdout",
     "output_type": "stream",
     "text": [
      "<class 'list'>\n"
     ]
    }
   ],
   "source": [
    "print(type(stripped))"
   ]
  },
  {
   "cell_type": "code",
   "execution_count": 24,
   "metadata": {},
   "outputs": [],
   "source": [
    "stripped_df = DataFrame (stripped,columns=['Words'])"
   ]
  },
  {
   "cell_type": "code",
   "execution_count": 25,
   "metadata": {},
   "outputs": [
    {
     "data": {
      "text/plain": [
       "(821184, 1)"
      ]
     },
     "execution_count": 25,
     "metadata": {},
     "output_type": "execute_result"
    }
   ],
   "source": [
    "stripped_df.shape  ## Good"
   ]
  },
  {
   "cell_type": "code",
   "execution_count": 26,
   "metadata": {},
   "outputs": [
    {
     "data": {
      "text/plain": [
       "Words    22042\n",
       "dtype: int64"
      ]
     },
     "execution_count": 26,
     "metadata": {},
     "output_type": "execute_result"
    }
   ],
   "source": [
    "stripped_df.nunique()"
   ]
  },
  {
   "cell_type": "code",
   "execution_count": 27,
   "metadata": {},
   "outputs": [
    {
     "data": {
      "text/html": [
       "<div>\n",
       "<style scoped>\n",
       "    .dataframe tbody tr th:only-of-type {\n",
       "        vertical-align: middle;\n",
       "    }\n",
       "\n",
       "    .dataframe tbody tr th {\n",
       "        vertical-align: top;\n",
       "    }\n",
       "\n",
       "    .dataframe thead th {\n",
       "        text-align: right;\n",
       "    }\n",
       "</style>\n",
       "<table border=\"1\" class=\"dataframe\">\n",
       "  <thead>\n",
       "    <tr style=\"text-align: right;\">\n",
       "      <th></th>\n",
       "      <th>Words</th>\n",
       "    </tr>\n",
       "  </thead>\n",
       "  <tbody>\n",
       "    <tr>\n",
       "      <th>0</th>\n",
       "      <td>The</td>\n",
       "    </tr>\n",
       "    <tr>\n",
       "      <th>1</th>\n",
       "      <td>Revelation</td>\n",
       "    </tr>\n",
       "    <tr>\n",
       "      <th>2</th>\n",
       "      <td>of</td>\n",
       "    </tr>\n",
       "    <tr>\n",
       "      <th>3</th>\n",
       "      <td>John</td>\n",
       "    </tr>\n",
       "    <tr>\n",
       "      <th>4</th>\n",
       "      <td>The</td>\n",
       "    </tr>\n",
       "  </tbody>\n",
       "</table>\n",
       "</div>"
      ],
      "text/plain": [
       "        Words\n",
       "0         The\n",
       "1  Revelation\n",
       "2          of\n",
       "3        John\n",
       "4         The"
      ]
     },
     "execution_count": 27,
     "metadata": {},
     "output_type": "execute_result"
    }
   ],
   "source": [
    "stripped_df.head()"
   ]
  },
  {
   "cell_type": "code",
   "execution_count": null,
   "metadata": {},
   "outputs": [],
   "source": []
  },
  {
   "cell_type": "code",
   "execution_count": 28,
   "metadata": {},
   "outputs": [],
   "source": [
    "re_print = re.compile('[^%s]' % re.escape(string.printable))\n"
   ]
  },
  {
   "cell_type": "code",
   "execution_count": 29,
   "metadata": {},
   "outputs": [],
   "source": [
    "result = [re_print.sub('', w) for w in words]\n"
   ]
  },
  {
   "cell_type": "code",
   "execution_count": 30,
   "metadata": {},
   "outputs": [
    {
     "name": "stdout",
     "output_type": "stream",
     "text": [
      "['the', 'revelation', 'of', 'john', 'the', 'general', 'epistle', 'of', 'jude', 'the', 'second', 'epistle', 'general', 'of', 'john', 'the', 'third', 'epistle', 'general', 'of', 'john', 'the', 'first', 'epistle', 'general', 'of', 'john', 'the', 'second', 'epistle', 'general', 'of', 'peter', 'the', 'second', 'epistle', 'of', 'paul', 'to', 'the', 'thessalonians', 'the', 'first', 'epistle', 'of', 'paul', 'the', 'apostle', 'to', 'timothy', 'the', 'first', 'epistle', 'of', 'paul', 'the', 'apostle', 'to', 'the', 'thessalonians', 'the', 'epistle', 'of', 'paul', 'the', 'apostle', 'to', 'the', 'colossians', 'the', 'epistle', 'of', 'paul', 'the', 'apostle', 'to', 'the', 'ephesians', 'the', 'second', 'epistle', 'of', 'paul', 'the', 'apostle', 'to', 'timothy', 'the', 'general', 'epistle', 'of', 'james', 'the', 'first', 'epistle', 'general', 'of', 'peter', 'the', 'epistle']\n"
     ]
    }
   ],
   "source": [
    "words = [word.lower() for word in words]\n",
    "print(words[:100])"
   ]
  },
  {
   "cell_type": "code",
   "execution_count": 31,
   "metadata": {},
   "outputs": [],
   "source": [
    "#stop_words = set(stopwords.words('english'))\n",
    "#words = [w for w in words if not w in stop_words]\n",
    "#print(words[:100])\n"
   ]
  },
  {
   "cell_type": "code",
   "execution_count": null,
   "metadata": {},
   "outputs": [],
   "source": []
  },
  {
   "cell_type": "markdown",
   "metadata": {},
   "source": [
    "# Get to Sentences"
   ]
  },
  {
   "cell_type": "code",
   "execution_count": null,
   "metadata": {},
   "outputs": [],
   "source": []
  },
  {
   "cell_type": "code",
   "execution_count": 32,
   "metadata": {},
   "outputs": [],
   "source": [
    "sentences = nltk.sent_tokenize(my_text)"
   ]
  },
  {
   "cell_type": "code",
   "execution_count": 33,
   "metadata": {},
   "outputs": [],
   "source": [
    "#print(sentences)"
   ]
  },
  {
   "cell_type": "code",
   "execution_count": 34,
   "metadata": {},
   "outputs": [],
   "source": [
    "TestS =['TestAlex']"
   ]
  },
  {
   "cell_type": "code",
   "execution_count": 35,
   "metadata": {},
   "outputs": [],
   "source": [
    "#TestSdf=pd.DataFrame( list(reader(TestS)))"
   ]
  },
  {
   "cell_type": "code",
   "execution_count": 36,
   "metadata": {},
   "outputs": [],
   "source": [
    "i=0\n",
    "matrix=[]\n",
    "for sentence in sentences:\n",
    "\n",
    "    #print(sentence)\n",
    "    #print()\n",
    "    # Extra below\n",
    "    matrix.append(sentence)\n",
    "    #print(type(sentence))\n",
    "    i += 1\n",
    "   "
   ]
  },
  {
   "cell_type": "code",
   "execution_count": 37,
   "metadata": {},
   "outputs": [],
   "source": [
    " sentence_df = pd.DataFrame(matrix,columns=['Sentence'])"
   ]
  },
  {
   "cell_type": "code",
   "execution_count": 38,
   "metadata": {},
   "outputs": [
    {
     "data": {
      "text/html": [
       "<div>\n",
       "<style scoped>\n",
       "    .dataframe tbody tr th:only-of-type {\n",
       "        vertical-align: middle;\n",
       "    }\n",
       "\n",
       "    .dataframe tbody tr th {\n",
       "        vertical-align: top;\n",
       "    }\n",
       "\n",
       "    .dataframe thead th {\n",
       "        text-align: right;\n",
       "    }\n",
       "</style>\n",
       "<table border=\"1\" class=\"dataframe\">\n",
       "  <thead>\n",
       "    <tr style=\"text-align: right;\">\n",
       "      <th></th>\n",
       "      <th>Sentence</th>\n",
       "    </tr>\n",
       "  </thead>\n",
       "  <tbody>\n",
       "    <tr>\n",
       "      <th>0</th>\n",
       "      <td>The Revelation of John\\n\\nThe General Epistle ...</td>\n",
       "    </tr>\n",
       "    <tr>\n",
       "      <th>1</th>\n",
       "      <td>http://bit.ly/PrintPostWS \\n\\n\\n\\nThe Old Test...</td>\n",
       "    </tr>\n",
       "    <tr>\n",
       "      <th>2</th>\n",
       "      <td>(Until the rest are completed by David Robert ...</td>\n",
       "    </tr>\n",
       "    <tr>\n",
       "      <th>3</th>\n",
       "      <td>Acts is in progress.)</td>\n",
       "    </tr>\n",
       "    <tr>\n",
       "      <th>4</th>\n",
       "      <td>To download an edition of just the fresh trans...</td>\n",
       "    </tr>\n",
       "  </tbody>\n",
       "</table>\n",
       "</div>"
      ],
      "text/plain": [
       "                                            Sentence\n",
       "0  The Revelation of John\\n\\nThe General Epistle ...\n",
       "1  http://bit.ly/PrintPostWS \\n\\n\\n\\nThe Old Test...\n",
       "2  (Until the rest are completed by David Robert ...\n",
       "3                              Acts is in progress.)\n",
       "4  To download an edition of just the fresh trans..."
      ]
     },
     "execution_count": 38,
     "metadata": {},
     "output_type": "execute_result"
    }
   ],
   "source": [
    "sentence_df.head()"
   ]
  },
  {
   "cell_type": "code",
   "execution_count": 39,
   "metadata": {},
   "outputs": [
    {
     "data": {
      "text/plain": [
       "(31383, 1)"
      ]
     },
     "execution_count": 39,
     "metadata": {},
     "output_type": "execute_result"
    }
   ],
   "source": [
    "sentence_df.shape"
   ]
  },
  {
   "cell_type": "code",
   "execution_count": 40,
   "metadata": {},
   "outputs": [
    {
     "data": {
      "text/plain": [
       "<bound method DataFrame.nunique of                                                 Sentence\n",
       "0      The Revelation of John\\n\\nThe General Epistle ...\n",
       "1      http://bit.ly/PrintPostWS \\n\\n\\n\\nThe Old Test...\n",
       "2      (Until the rest are completed by David Robert ...\n",
       "3                                  Acts is in progress.)\n",
       "4      To download an edition of just the fresh trans...\n",
       "...                                                  ...\n",
       "31378  18I testify to everyone who is hearing these w...\n",
       "31379  20The one who is testifying these things says,...\n",
       "31380                            Amen; come, Lord Jesus.\n",
       "31381  21The grace of the Lord Jesus be with all the ...\n",
       "31382  http://bibletranslation.ws/palmer-translation/...\n",
       "\n",
       "[31383 rows x 1 columns]>"
      ]
     },
     "execution_count": 40,
     "metadata": {},
     "output_type": "execute_result"
    }
   ],
   "source": [
    "sentence_df.nunique"
   ]
  },
  {
   "cell_type": "code",
   "execution_count": 41,
   "metadata": {},
   "outputs": [
    {
     "data": {
      "text/plain": [
       "Amen.                                                                                                                                                                                                                                  31\n",
       "A Psalm of David.                                                                                                                                                                                                                      20\n",
       "Praise ye Yahweh.                                                                                                                                                                                                                      13\n",
       "says Yahweh.                                                                                                                                                                                                                           11\n",
       "And all the people shall say, amen.                                                                                                                                                                                                    11\n",
       "                                                                                                                                                                                                                                       ..\n",
       "8:20 I walk in the way of righteousness, In the midst of the paths of justice;\\n\\n8:21 That I may cause those that love me to inherit substance, and that I may fill their treasuries.                                                  1\n",
       "⁵While Peter was being kept in prison, prayer was earnestly being made by the church on his behalf to God.                                                                                                                              1\n",
       "Chapter 11\\n\\n11:1 And the people were as murmurers, speaking evil in the ears of Yahweh: and when Yahweh heard it, his anger was kindled; and the fire of Yahweh burnt among them, and devoured in the uttermost part of the camp.     1\n",
       "10:11 So Jehu smote all that remained of the house of Ahab in Jezreel, and all his great men, and his familiar friends, and his priests, until he left him none remaining.                                                              1\n",
       "16:3 And when I come, whomsoever you shall approve by your letters, them will I send to bring your liberality to Jerusalem.                                                                                                             1\n",
       "Name: Sentence, Length: 31172, dtype: int64"
      ]
     },
     "execution_count": 41,
     "metadata": {},
     "output_type": "execute_result"
    }
   ],
   "source": [
    "sentence_df['Sentence'].value_counts()"
   ]
  },
  {
   "cell_type": "code",
   "execution_count": 42,
   "metadata": {},
   "outputs": [],
   "source": [
    "#TestSdf.head()"
   ]
  },
  {
   "cell_type": "code",
   "execution_count": 43,
   "metadata": {},
   "outputs": [],
   "source": [
    "#TestS2=pd.DataFrame( list(reader(TestS))"
   ]
  },
  {
   "cell_type": "code",
   "execution_count": 44,
   "metadata": {},
   "outputs": [],
   "source": [
    "for sentence in sentences:\n",
    "    words = nltk.word_tokenize(sentence)\n",
    "    #print(words)\n",
    "    #print()"
   ]
  },
  {
   "cell_type": "code",
   "execution_count": 45,
   "metadata": {},
   "outputs": [],
   "source": [
    "from nltk.stem import PorterStemmer, WordNetLemmatizer\n",
    "from nltk.corpus import wordnet\n",
    "\n"
   ]
  },
  {
   "cell_type": "code",
   "execution_count": 46,
   "metadata": {},
   "outputs": [],
   "source": [
    "def compare_stemmer_and_lemmatizer(stemmer, lemmatizer, word, pos):\n",
    "    \"\"\"\n",
    "    Print the results of stemmind and lemmitization using the passed stemmer, lemmatizer, word and pos (part of speech)\n",
    "    \"\"\"\n",
    "    print(\"Stemmer:\", stemmer.stem(word))\n",
    "    print(\"Lemmatizer:\", lemmatizer.lemmatize(word, pos))\n",
    "    print()\n",
    "\n",
    "\n"
   ]
  },
  {
   "cell_type": "code",
   "execution_count": 47,
   "metadata": {},
   "outputs": [],
   "source": [
    "lemmatizer = WordNetLemmatizer()\n",
    "stemmer = PorterStemmer()\n"
   ]
  },
  {
   "cell_type": "code",
   "execution_count": 48,
   "metadata": {},
   "outputs": [
    {
     "name": "stdout",
     "output_type": "stream",
     "text": [
      "Stemmer: seen\n",
      "Lemmatizer: see\n",
      "\n",
      "Stemmer: drove\n",
      "Lemmatizer: drive\n",
      "\n"
     ]
    }
   ],
   "source": [
    "compare_stemmer_and_lemmatizer(stemmer, lemmatizer, word = \"seen\", pos = wordnet.VERB)\n",
    "compare_stemmer_and_lemmatizer(stemmer, lemmatizer, word = \"drove\", pos = wordnet.VERB)"
   ]
  },
  {
   "cell_type": "code",
   "execution_count": 49,
   "metadata": {},
   "outputs": [
    {
     "name": "stdout",
     "output_type": "stream",
     "text": [
      "['i', 'me', 'my', 'myself', 'we', 'our', 'ours', 'ourselves', 'you', \"you're\", \"you've\", \"you'll\", \"you'd\", 'your', 'yours', 'yourself', 'yourselves', 'he', 'him', 'his', 'himself', 'she', \"she's\", 'her', 'hers', 'herself', 'it', \"it's\", 'its', 'itself', 'they', 'them', 'their', 'theirs', 'themselves', 'what', 'which', 'who', 'whom', 'this', 'that', \"that'll\", 'these', 'those', 'am', 'is', 'are', 'was', 'were', 'be', 'been', 'being', 'have', 'has', 'had', 'having', 'do', 'does', 'did', 'doing', 'a', 'an', 'the', 'and', 'but', 'if', 'or', 'because', 'as', 'until', 'while', 'of', 'at', 'by', 'for', 'with', 'about', 'against', 'between', 'into', 'through', 'during', 'before', 'after', 'above', 'below', 'to', 'from', 'up', 'down', 'in', 'out', 'on', 'off', 'over', 'under', 'again', 'further', 'then', 'once', 'here', 'there', 'when', 'where', 'why', 'how', 'all', 'any', 'both', 'each', 'few', 'more', 'most', 'other', 'some', 'such', 'no', 'nor', 'not', 'only', 'own', 'same', 'so', 'than', 'too', 'very', 's', 't', 'can', 'will', 'just', 'don', \"don't\", 'should', \"should've\", 'now', 'd', 'll', 'm', 'o', 're', 've', 'y', 'ain', 'aren', \"aren't\", 'couldn', \"couldn't\", 'didn', \"didn't\", 'doesn', \"doesn't\", 'hadn', \"hadn't\", 'hasn', \"hasn't\", 'haven', \"haven't\", 'isn', \"isn't\", 'ma', 'mightn', \"mightn't\", 'mustn', \"mustn't\", 'needn', \"needn't\", 'shan', \"shan't\", 'shouldn', \"shouldn't\", 'wasn', \"wasn't\", 'weren', \"weren't\", 'won', \"won't\", 'wouldn', \"wouldn't\"]\n"
     ]
    }
   ],
   "source": [
    "\n",
    "from nltk.corpus import stopwords\n",
    "print(stopwords.words(\"english\"))"
   ]
  },
  {
   "cell_type": "code",
   "execution_count": 50,
   "metadata": {},
   "outputs": [],
   "source": [
    "stop_words = set(stopwords.words(\"english\"))"
   ]
  },
  {
   "cell_type": "code",
   "execution_count": 51,
   "metadata": {},
   "outputs": [
    {
     "data": {
      "text/plain": [
       "list"
      ]
     },
     "execution_count": 51,
     "metadata": {},
     "output_type": "execute_result"
    }
   ],
   "source": [
    "type(sentences)"
   ]
  },
  {
   "cell_type": "code",
   "execution_count": 52,
   "metadata": {},
   "outputs": [],
   "source": [
    "#words = nltk.word_tokenize(sentences) ##??"
   ]
  },
  {
   "cell_type": "code",
   "execution_count": null,
   "metadata": {},
   "outputs": [],
   "source": []
  },
  {
   "cell_type": "code",
   "execution_count": 53,
   "metadata": {},
   "outputs": [],
   "source": [
    "#re.findall('Sineads', my_text)"
   ]
  },
  {
   "cell_type": "code",
   "execution_count": 54,
   "metadata": {},
   "outputs": [
    {
     "data": {
      "text/plain": [
       "58585"
      ]
     },
     "execution_count": 54,
     "metadata": {},
     "output_type": "execute_result"
    }
   ],
   "source": [
    "len(set(my_text.split(' ')))"
   ]
  },
  {
   "cell_type": "markdown",
   "metadata": {},
   "source": [
    "remove text or content, e.g. quotes (\") or metadata (===)\n",
    "add content or markers, e.g. (#FLAG, --NAME--)\n",
    "remove or convert special symbols, e.g. \"é\" to \"e\"\n",
    "remove or convert emoticons"
   ]
  },
  {
   "cell_type": "code",
   "execution_count": 55,
   "metadata": {},
   "outputs": [],
   "source": [
    "my_text = re.sub(r'[=\"]', '', my_text)"
   ]
  },
  {
   "cell_type": "code",
   "execution_count": 56,
   "metadata": {},
   "outputs": [],
   "source": [
    "#my_text = re.sub(r'[=\\n]', '', my_text)\n",
    "\n",
    "#print(my_text[:1000])"
   ]
  },
  {
   "cell_type": "markdown",
   "metadata": {},
   "source": [
    "# Split Doc into smaller\n",
    "* https://stackoverflow.com/questions/291740/how-do-i-split-a-huge-text-file-in-python"
   ]
  },
  {
   "cell_type": "markdown",
   "metadata": {},
   "source": [
    "import logging.handlers\n",
    "log = logging.getLogger()\n",
    "fh = logging.handlers.RotatingFileHandler(\"my_text\", \n",
    "     maxBytes=2**20*100, backupCount=100) \n",
    "# 100 MB each, up to a maximum of 100 files\n"
   ]
  },
  {
   "cell_type": "markdown",
   "metadata": {},
   "source": [
    "log.addHandler(fh)\n",
    "log.setLevel(logging.INFO)\n",
    "f = open(\"my_text\")\n"
   ]
  },
  {
   "cell_type": "markdown",
   "metadata": {},
   "source": [
    "while True:\n",
    "    log.info(f.readline().strip())"
   ]
  },
  {
   "cell_type": "code",
   "execution_count": null,
   "metadata": {},
   "outputs": [],
   "source": []
  },
  {
   "cell_type": "markdown",
   "metadata": {},
   "source": [
    "# spaCy model invocation and text processing\n",
    "##spaCy does the processing of the text as part of the reading of the data"
   ]
  },
  {
   "cell_type": "code",
   "execution_count": 57,
   "metadata": {},
   "outputs": [],
   "source": [
    "import spacy"
   ]
  },
  {
   "cell_type": "code",
   "execution_count": null,
   "metadata": {},
   "outputs": [],
   "source": []
  },
  {
   "cell_type": "code",
   "execution_count": 58,
   "metadata": {},
   "outputs": [],
   "source": [
    "# load spaCy and the English model\n",
    "nlp = spacy.load('en_core_web_sm')\n",
    "nlp.max_length = 5030000 \n",
    "\n",
    "# process the text\n",
    "doc = nlp(my_text)"
   ]
  },
  {
   "cell_type": "code",
   "execution_count": 59,
   "metadata": {},
   "outputs": [],
   "source": [
    "#print(doc)"
   ]
  },
  {
   "cell_type": "markdown",
   "metadata": {},
   "source": [
    "# Tokenise"
   ]
  },
  {
   "cell_type": "markdown",
   "metadata": {},
   "source": [
    "for i, t in enumerate(doc):\n",
    "    print('%2d| %r' % (i+1, t.text))\n",
    "    #if t.text == '.':\n",
    "    #    break"
   ]
  },
  {
   "cell_type": "markdown",
   "metadata": {},
   "source": [
    "# Label"
   ]
  },
  {
   "cell_type": "markdown",
   "metadata": {},
   "source": [
    "for entity in doc.ents:\n",
    "        print(entity.text,entity.label_)"
   ]
  },
  {
   "cell_type": "markdown",
   "metadata": {},
   "source": [
    "# Tokenise"
   ]
  },
  {
   "cell_type": "markdown",
   "metadata": {},
   "source": [
    "## spaCy\n",
    "print('i | with stop words without')\n",
    "print('--| --------------- ------------')\n",
    "\n",
    "# for all the tokens\n",
    "for i, t in enumerate(doc):\n",
    "    print('%2d| %-15r %r' % (i+1, t.text, ('' if t.is_stop else t.text)))\n",
    "\n",
    "    # break after the first sentence\n",
    "    #if t.text == '.':\n",
    "     #   break"
   ]
  },
  {
   "cell_type": "code",
   "execution_count": 60,
   "metadata": {},
   "outputs": [],
   "source": [
    "# extra"
   ]
  },
  {
   "cell_type": "code",
   "execution_count": 61,
   "metadata": {},
   "outputs": [],
   "source": [
    "## spaCy\n",
    "good_word_matrix=[]\n",
    "for i, t in enumerate(doc):\n",
    "    if not t.is_stop:\n",
    "        #print(t.text)\n",
    "        good_word_matrix.append(t.text)\n",
    "    \n"
   ]
  },
  {
   "cell_type": "code",
   "execution_count": 62,
   "metadata": {},
   "outputs": [],
   "source": [
    "good_word_df= pd.DataFrame(good_word_matrix,columns=['good_words'])"
   ]
  },
  {
   "cell_type": "code",
   "execution_count": 63,
   "metadata": {},
   "outputs": [
    {
     "data": {
      "text/plain": [
       "(504113, 1)"
      ]
     },
     "execution_count": 63,
     "metadata": {},
     "output_type": "execute_result"
    }
   ],
   "source": [
    "good_word_df.shape"
   ]
  },
  {
   "cell_type": "code",
   "execution_count": 64,
   "metadata": {},
   "outputs": [
    {
     "data": {
      "text/html": [
       "<div>\n",
       "<style scoped>\n",
       "    .dataframe tbody tr th:only-of-type {\n",
       "        vertical-align: middle;\n",
       "    }\n",
       "\n",
       "    .dataframe tbody tr th {\n",
       "        vertical-align: top;\n",
       "    }\n",
       "\n",
       "    .dataframe thead th {\n",
       "        text-align: right;\n",
       "    }\n",
       "</style>\n",
       "<table border=\"1\" class=\"dataframe\">\n",
       "  <thead>\n",
       "    <tr style=\"text-align: right;\">\n",
       "      <th></th>\n",
       "      <th>good_words</th>\n",
       "    </tr>\n",
       "  </thead>\n",
       "  <tbody>\n",
       "    <tr>\n",
       "      <th>0</th>\n",
       "      <td>Revelation</td>\n",
       "    </tr>\n",
       "    <tr>\n",
       "      <th>1</th>\n",
       "      <td>John</td>\n",
       "    </tr>\n",
       "    <tr>\n",
       "      <th>2</th>\n",
       "      <td>\\n\\n</td>\n",
       "    </tr>\n",
       "    <tr>\n",
       "      <th>3</th>\n",
       "      <td>General</td>\n",
       "    </tr>\n",
       "    <tr>\n",
       "      <th>4</th>\n",
       "      <td>Epistle</td>\n",
       "    </tr>\n",
       "  </tbody>\n",
       "</table>\n",
       "</div>"
      ],
      "text/plain": [
       "   good_words\n",
       "0  Revelation\n",
       "1        John\n",
       "2        \\n\\n\n",
       "3     General\n",
       "4     Epistle"
      ]
     },
     "execution_count": 64,
     "metadata": {},
     "output_type": "execute_result"
    }
   ],
   "source": [
    "good_word_df.head()"
   ]
  },
  {
   "cell_type": "code",
   "execution_count": 65,
   "metadata": {},
   "outputs": [
    {
     "data": {
      "text/html": [
       "<div>\n",
       "<style scoped>\n",
       "    .dataframe tbody tr th:only-of-type {\n",
       "        vertical-align: middle;\n",
       "    }\n",
       "\n",
       "    .dataframe tbody tr th {\n",
       "        vertical-align: top;\n",
       "    }\n",
       "\n",
       "    .dataframe thead th {\n",
       "        text-align: right;\n",
       "    }\n",
       "</style>\n",
       "<table border=\"1\" class=\"dataframe\">\n",
       "  <thead>\n",
       "    <tr style=\"text-align: right;\">\n",
       "      <th></th>\n",
       "      <th>good_words</th>\n",
       "    </tr>\n",
       "  </thead>\n",
       "  <tbody>\n",
       "    <tr>\n",
       "      <th>504108</th>\n",
       "      <td>http://bibletranslation.ws/palmer-translation/</td>\n",
       "    </tr>\n",
       "    <tr>\n",
       "      <th>504109</th>\n",
       "      <td>\\n\\n</td>\n",
       "    </tr>\n",
       "    <tr>\n",
       "      <th>504110</th>\n",
       "      <td>http://bibletranslation.ws/palmer-translation/</td>\n",
       "    </tr>\n",
       "    <tr>\n",
       "      <th>504111</th>\n",
       "      <td>\\n\\n</td>\n",
       "    </tr>\n",
       "    <tr>\n",
       "      <th>504112</th>\n",
       "      <td>http://bibletranslation.ws/palmer-translation/</td>\n",
       "    </tr>\n",
       "  </tbody>\n",
       "</table>\n",
       "</div>"
      ],
      "text/plain": [
       "                                            good_words\n",
       "504108  http://bibletranslation.ws/palmer-translation/\n",
       "504109                                            \\n\\n\n",
       "504110  http://bibletranslation.ws/palmer-translation/\n",
       "504111                                            \\n\\n\n",
       "504112  http://bibletranslation.ws/palmer-translation/"
      ]
     },
     "execution_count": 65,
     "metadata": {},
     "output_type": "execute_result"
    }
   ],
   "source": [
    "good_word_df.tail()"
   ]
  },
  {
   "cell_type": "code",
   "execution_count": 66,
   "metadata": {},
   "outputs": [
    {
     "name": "stdout",
     "output_type": "stream",
     "text": [
      "There are 504113 observations and 1 features in this dataset. \n",
      "\n"
     ]
    }
   ],
   "source": [
    "print(\"There are {} observations and {} features in this dataset. \\n\".format(good_word_df.shape[0],good_word_df.shape[1]))\n",
    "\n",
    "#print(\"There are {} types of wine in this dataset such as {}... \\n\".format(len(df.variety.unique()),\", \".join(df.variety.unique()[0:5])))\n",
    "\n",
    "#print(\"There are {} countries producing wine in this dataset such as {}... \\n\".format(len(df.country.unique()),\", \".join(df.country.unique()[0:5])))\n",
    "                                                                                      "
   ]
  },
  {
   "cell_type": "code",
   "execution_count": 67,
   "metadata": {},
   "outputs": [
    {
     "data": {
      "text/plain": [
       ",           70903\n",
       ".           27744\n",
       "\\n\\n        26205\n",
       ";           12614\n",
       "shall        9562\n",
       "            ...  \n",
       "assuaged        1\n",
       "119:17          1\n",
       "rustling        1\n",
       "results         1\n",
       "104:3           1\n",
       "Name: good_words, Length: 21789, dtype: int64"
      ]
     },
     "execution_count": 67,
     "metadata": {},
     "output_type": "execute_result"
    }
   ],
   "source": [
    "good_word_df['good_words'].value_counts()"
   ]
  },
  {
   "cell_type": "code",
   "execution_count": null,
   "metadata": {},
   "outputs": [],
   "source": []
  },
  {
   "cell_type": "code",
   "execution_count": null,
   "metadata": {},
   "outputs": [],
   "source": []
  },
  {
   "cell_type": "code",
   "execution_count": 68,
   "metadata": {},
   "outputs": [],
   "source": [
    "word_group = good_word_df['good_words'].value_counts()"
   ]
  },
  {
   "cell_type": "code",
   "execution_count": 69,
   "metadata": {},
   "outputs": [
    {
     "data": {
      "text/plain": [
       ",         70903\n",
       ".         27744\n",
       "\\n\\n      26205\n",
       ";         12614\n",
       "shall      9562\n",
       ":          7883\n",
       "           7570\n",
       "Yahweh     6900\n",
       "God        4034\n",
       "said       3839\n",
       "?          3238\n",
       "Israel     2581\n",
       "king       2488\n",
       "man        2386\n",
       "-          2311\n",
       "ye         2274\n",
       "\\n\\n\\t     2258\n",
       "son        2116\n",
       "people     1962\n",
       "house      1956\n",
       "Name: good_words, dtype: int64"
      ]
     },
     "execution_count": 69,
     "metadata": {},
     "output_type": "execute_result"
    }
   ],
   "source": [
    "word_group.head(20)"
   ]
  },
  {
   "cell_type": "code",
   "execution_count": 70,
   "metadata": {},
   "outputs": [],
   "source": [
    "#word_group = word_group.drop(['.','\\n\\n','“','”','\\n\\n\\n\\n',','])"
   ]
  },
  {
   "cell_type": "code",
   "execution_count": 71,
   "metadata": {},
   "outputs": [
    {
     "data": {
      "text/plain": [
       ",         70903\n",
       ".         27744\n",
       "\\n\\n      26205\n",
       ";         12614\n",
       "shall      9562\n",
       ":          7883\n",
       "           7570\n",
       "Yahweh     6900\n",
       "God        4034\n",
       "said       3839\n",
       "?          3238\n",
       "Israel     2581\n",
       "king       2488\n",
       "man        2386\n",
       "-          2311\n",
       "ye         2274\n",
       "\\n\\n\\t     2258\n",
       "son        2116\n",
       "people     1962\n",
       "house      1956\n",
       "Name: good_words, dtype: int64"
      ]
     },
     "execution_count": 71,
     "metadata": {},
     "output_type": "execute_result"
    }
   ],
   "source": [
    "word_group.head(20)"
   ]
  },
  {
   "cell_type": "code",
   "execution_count": 72,
   "metadata": {},
   "outputs": [
    {
     "name": "stdout",
     "output_type": "stream",
     "text": [
      "<class 'pandas.core.series.Series'>\n"
     ]
    }
   ],
   "source": [
    "print(type(word_group))"
   ]
  },
  {
   "cell_type": "code",
   "execution_count": 73,
   "metadata": {},
   "outputs": [
    {
     "data": {
      "text/plain": [
       "job_title    0\n",
       "dtype: int64"
      ]
     },
     "execution_count": 73,
     "metadata": {},
     "output_type": "execute_result"
    }
   ],
   "source": [
    "pd.DataFrame(word_group,columns=['job_title']).nunique()"
   ]
  },
  {
   "cell_type": "code",
   "execution_count": 74,
   "metadata": {},
   "outputs": [
    {
     "name": "stdout",
     "output_type": "stream",
     "text": [
      "<class 'pandas.core.frame.DataFrame'>\n"
     ]
    }
   ],
   "source": [
    "print(type(good_word_df))"
   ]
  },
  {
   "cell_type": "code",
   "execution_count": 75,
   "metadata": {},
   "outputs": [
    {
     "data": {
      "text/plain": [
       ",           70903\n",
       ".           27744\n",
       "\\n\\n        26205\n",
       ";           12614\n",
       "shall        9562\n",
       "            ...  \n",
       "assuaged        1\n",
       "119:17          1\n",
       "rustling        1\n",
       "results         1\n",
       "104:3           1\n",
       "Name: good_words, Length: 21789, dtype: int64"
      ]
     },
     "execution_count": 75,
     "metadata": {},
     "output_type": "execute_result"
    }
   ],
   "source": [
    "word_group"
   ]
  },
  {
   "cell_type": "code",
   "execution_count": 76,
   "metadata": {},
   "outputs": [],
   "source": [
    "word_group_df = pd.DataFrame(word_group) #, columns=['pred','b'])"
   ]
  },
  {
   "cell_type": "code",
   "execution_count": 77,
   "metadata": {},
   "outputs": [
    {
     "data": {
      "text/html": [
       "<div>\n",
       "<style scoped>\n",
       "    .dataframe tbody tr th:only-of-type {\n",
       "        vertical-align: middle;\n",
       "    }\n",
       "\n",
       "    .dataframe tbody tr th {\n",
       "        vertical-align: top;\n",
       "    }\n",
       "\n",
       "    .dataframe thead th {\n",
       "        text-align: right;\n",
       "    }\n",
       "</style>\n",
       "<table border=\"1\" class=\"dataframe\">\n",
       "  <thead>\n",
       "    <tr style=\"text-align: right;\">\n",
       "      <th></th>\n",
       "      <th>good_words</th>\n",
       "    </tr>\n",
       "  </thead>\n",
       "  <tbody>\n",
       "    <tr>\n",
       "      <th>,</th>\n",
       "      <td>70903</td>\n",
       "    </tr>\n",
       "    <tr>\n",
       "      <th>.</th>\n",
       "      <td>27744</td>\n",
       "    </tr>\n",
       "    <tr>\n",
       "      <th>\\n\\n</th>\n",
       "      <td>26205</td>\n",
       "    </tr>\n",
       "    <tr>\n",
       "      <th>;</th>\n",
       "      <td>12614</td>\n",
       "    </tr>\n",
       "    <tr>\n",
       "      <th>shall</th>\n",
       "      <td>9562</td>\n",
       "    </tr>\n",
       "  </tbody>\n",
       "</table>\n",
       "</div>"
      ],
      "text/plain": [
       "       good_words\n",
       ",           70903\n",
       ".           27744\n",
       "\\n\\n        26205\n",
       ";           12614\n",
       "shall        9562"
      ]
     },
     "execution_count": 77,
     "metadata": {},
     "output_type": "execute_result"
    }
   ],
   "source": [
    "word_group_df.head()"
   ]
  },
  {
   "cell_type": "code",
   "execution_count": 78,
   "metadata": {},
   "outputs": [],
   "source": [
    "word_group_df= word_group_df.reset_index() "
   ]
  },
  {
   "cell_type": "code",
   "execution_count": 79,
   "metadata": {},
   "outputs": [
    {
     "data": {
      "text/html": [
       "<div>\n",
       "<style scoped>\n",
       "    .dataframe tbody tr th:only-of-type {\n",
       "        vertical-align: middle;\n",
       "    }\n",
       "\n",
       "    .dataframe tbody tr th {\n",
       "        vertical-align: top;\n",
       "    }\n",
       "\n",
       "    .dataframe thead th {\n",
       "        text-align: right;\n",
       "    }\n",
       "</style>\n",
       "<table border=\"1\" class=\"dataframe\">\n",
       "  <thead>\n",
       "    <tr style=\"text-align: right;\">\n",
       "      <th></th>\n",
       "      <th>index</th>\n",
       "      <th>good_words</th>\n",
       "    </tr>\n",
       "  </thead>\n",
       "  <tbody>\n",
       "    <tr>\n",
       "      <th>0</th>\n",
       "      <td>,</td>\n",
       "      <td>70903</td>\n",
       "    </tr>\n",
       "    <tr>\n",
       "      <th>1</th>\n",
       "      <td>.</td>\n",
       "      <td>27744</td>\n",
       "    </tr>\n",
       "    <tr>\n",
       "      <th>2</th>\n",
       "      <td>\\n\\n</td>\n",
       "      <td>26205</td>\n",
       "    </tr>\n",
       "    <tr>\n",
       "      <th>3</th>\n",
       "      <td>;</td>\n",
       "      <td>12614</td>\n",
       "    </tr>\n",
       "    <tr>\n",
       "      <th>4</th>\n",
       "      <td>shall</td>\n",
       "      <td>9562</td>\n",
       "    </tr>\n",
       "  </tbody>\n",
       "</table>\n",
       "</div>"
      ],
      "text/plain": [
       "   index  good_words\n",
       "0      ,       70903\n",
       "1      .       27744\n",
       "2   \\n\\n       26205\n",
       "3      ;       12614\n",
       "4  shall        9562"
      ]
     },
     "execution_count": 79,
     "metadata": {},
     "output_type": "execute_result"
    }
   ],
   "source": [
    "word_group_df.head()"
   ]
  },
  {
   "cell_type": "code",
   "execution_count": 80,
   "metadata": {},
   "outputs": [],
   "source": [
    "word_group_df= word_group_df.reset_index() \n",
    "word_group_df = word_group_df.rename({'index' : 'word', 'good words' : 'number'}, axis=1)"
   ]
  },
  {
   "cell_type": "code",
   "execution_count": 81,
   "metadata": {},
   "outputs": [
    {
     "data": {
      "text/html": [
       "<div>\n",
       "<style scoped>\n",
       "    .dataframe tbody tr th:only-of-type {\n",
       "        vertical-align: middle;\n",
       "    }\n",
       "\n",
       "    .dataframe tbody tr th {\n",
       "        vertical-align: top;\n",
       "    }\n",
       "\n",
       "    .dataframe thead th {\n",
       "        text-align: right;\n",
       "    }\n",
       "</style>\n",
       "<table border=\"1\" class=\"dataframe\">\n",
       "  <thead>\n",
       "    <tr style=\"text-align: right;\">\n",
       "      <th></th>\n",
       "      <th>level_0</th>\n",
       "      <th>word</th>\n",
       "      <th>good_words</th>\n",
       "    </tr>\n",
       "  </thead>\n",
       "  <tbody>\n",
       "    <tr>\n",
       "      <th>0</th>\n",
       "      <td>0</td>\n",
       "      <td>,</td>\n",
       "      <td>70903</td>\n",
       "    </tr>\n",
       "    <tr>\n",
       "      <th>1</th>\n",
       "      <td>1</td>\n",
       "      <td>.</td>\n",
       "      <td>27744</td>\n",
       "    </tr>\n",
       "    <tr>\n",
       "      <th>2</th>\n",
       "      <td>2</td>\n",
       "      <td>\\n\\n</td>\n",
       "      <td>26205</td>\n",
       "    </tr>\n",
       "    <tr>\n",
       "      <th>3</th>\n",
       "      <td>3</td>\n",
       "      <td>;</td>\n",
       "      <td>12614</td>\n",
       "    </tr>\n",
       "    <tr>\n",
       "      <th>4</th>\n",
       "      <td>4</td>\n",
       "      <td>shall</td>\n",
       "      <td>9562</td>\n",
       "    </tr>\n",
       "  </tbody>\n",
       "</table>\n",
       "</div>"
      ],
      "text/plain": [
       "   level_0   word  good_words\n",
       "0        0      ,       70903\n",
       "1        1      .       27744\n",
       "2        2   \\n\\n       26205\n",
       "3        3      ;       12614\n",
       "4        4  shall        9562"
      ]
     },
     "execution_count": 81,
     "metadata": {},
     "output_type": "execute_result"
    }
   ],
   "source": [
    "word_group_df.head()"
   ]
  },
  {
   "cell_type": "code",
   "execution_count": 82,
   "metadata": {},
   "outputs": [],
   "source": [
    "word_group_df['length'] = word_group_df['word'].str.len()"
   ]
  },
  {
   "cell_type": "code",
   "execution_count": 83,
   "metadata": {},
   "outputs": [
    {
     "data": {
      "text/html": [
       "<div>\n",
       "<style scoped>\n",
       "    .dataframe tbody tr th:only-of-type {\n",
       "        vertical-align: middle;\n",
       "    }\n",
       "\n",
       "    .dataframe tbody tr th {\n",
       "        vertical-align: top;\n",
       "    }\n",
       "\n",
       "    .dataframe thead th {\n",
       "        text-align: right;\n",
       "    }\n",
       "</style>\n",
       "<table border=\"1\" class=\"dataframe\">\n",
       "  <thead>\n",
       "    <tr style=\"text-align: right;\">\n",
       "      <th></th>\n",
       "      <th>level_0</th>\n",
       "      <th>word</th>\n",
       "      <th>good_words</th>\n",
       "      <th>length</th>\n",
       "    </tr>\n",
       "  </thead>\n",
       "  <tbody>\n",
       "    <tr>\n",
       "      <th>0</th>\n",
       "      <td>0</td>\n",
       "      <td>,</td>\n",
       "      <td>70903</td>\n",
       "      <td>1</td>\n",
       "    </tr>\n",
       "    <tr>\n",
       "      <th>1</th>\n",
       "      <td>1</td>\n",
       "      <td>.</td>\n",
       "      <td>27744</td>\n",
       "      <td>1</td>\n",
       "    </tr>\n",
       "    <tr>\n",
       "      <th>2</th>\n",
       "      <td>2</td>\n",
       "      <td>\\n\\n</td>\n",
       "      <td>26205</td>\n",
       "      <td>2</td>\n",
       "    </tr>\n",
       "    <tr>\n",
       "      <th>3</th>\n",
       "      <td>3</td>\n",
       "      <td>;</td>\n",
       "      <td>12614</td>\n",
       "      <td>1</td>\n",
       "    </tr>\n",
       "    <tr>\n",
       "      <th>4</th>\n",
       "      <td>4</td>\n",
       "      <td>shall</td>\n",
       "      <td>9562</td>\n",
       "      <td>5</td>\n",
       "    </tr>\n",
       "  </tbody>\n",
       "</table>\n",
       "</div>"
      ],
      "text/plain": [
       "   level_0   word  good_words  length\n",
       "0        0      ,       70903       1\n",
       "1        1      .       27744       1\n",
       "2        2   \\n\\n       26205       2\n",
       "3        3      ;       12614       1\n",
       "4        4  shall        9562       5"
      ]
     },
     "execution_count": 83,
     "metadata": {},
     "output_type": "execute_result"
    }
   ],
   "source": [
    "word_group_df.head()"
   ]
  },
  {
   "cell_type": "code",
   "execution_count": 84,
   "metadata": {},
   "outputs": [
    {
     "data": {
      "text/plain": [
       "5     5530\n",
       "6     3443\n",
       "4     3116\n",
       "7     2818\n",
       "8     2253\n",
       "9     1647\n",
       "10    1020\n",
       "3      745\n",
       "11     562\n",
       "12     264\n",
       "2      164\n",
       "13      96\n",
       "1       61\n",
       "14      36\n",
       "15      14\n",
       "16       6\n",
       "46       2\n",
       "50       2\n",
       "21       1\n",
       "40       1\n",
       "25       1\n",
       "57       1\n",
       "18       1\n",
       "27       1\n",
       "49       1\n",
       "17       1\n",
       "30       1\n",
       "48       1\n",
       "Name: length, dtype: int64"
      ]
     },
     "execution_count": 84,
     "metadata": {},
     "output_type": "execute_result"
    }
   ],
   "source": [
    "word_group_df['length'].value_counts() # Good - word length"
   ]
  },
  {
   "cell_type": "code",
   "execution_count": 85,
   "metadata": {},
   "outputs": [
    {
     "data": {
      "text/html": [
       "<div>\n",
       "<style scoped>\n",
       "    .dataframe tbody tr th:only-of-type {\n",
       "        vertical-align: middle;\n",
       "    }\n",
       "\n",
       "    .dataframe tbody tr th {\n",
       "        vertical-align: top;\n",
       "    }\n",
       "\n",
       "    .dataframe thead th {\n",
       "        text-align: right;\n",
       "    }\n",
       "</style>\n",
       "<table border=\"1\" class=\"dataframe\">\n",
       "  <thead>\n",
       "    <tr style=\"text-align: right;\">\n",
       "      <th></th>\n",
       "      <th>level_0</th>\n",
       "      <th>word</th>\n",
       "      <th>good_words</th>\n",
       "      <th>length</th>\n",
       "    </tr>\n",
       "  </thead>\n",
       "  <tbody>\n",
       "    <tr>\n",
       "      <th>19979</th>\n",
       "      <td>19979</td>\n",
       "      <td>http://bibletranslation.ws/trans/diatessaronpa...</td>\n",
       "      <td>1</td>\n",
       "      <td>57</td>\n",
       "    </tr>\n",
       "    <tr>\n",
       "      <th>19955</th>\n",
       "      <td>19955</td>\n",
       "      <td>http://www.bibletranslation.ws/palmer-translat...</td>\n",
       "      <td>1</td>\n",
       "      <td>50</td>\n",
       "    </tr>\n",
       "    <tr>\n",
       "      <th>15536</th>\n",
       "      <td>15536</td>\n",
       "      <td>http://bibletranslation.ws/trans/DRPbiblesofar...</td>\n",
       "      <td>1</td>\n",
       "      <td>50</td>\n",
       "    </tr>\n",
       "    <tr>\n",
       "      <th>17415</th>\n",
       "      <td>17415</td>\n",
       "      <td>http://bibletranslation.ws/trans/holybiblebyz.pdf</td>\n",
       "      <td>1</td>\n",
       "      <td>49</td>\n",
       "    </tr>\n",
       "    <tr>\n",
       "      <th>14284</th>\n",
       "      <td>14284</td>\n",
       "      <td>http://bibletranslation.ws/trans/holybibletr.pdf</td>\n",
       "      <td>1</td>\n",
       "      <td>48</td>\n",
       "    </tr>\n",
       "    <tr>\n",
       "      <th>...</th>\n",
       "      <td>...</td>\n",
       "      <td>...</td>\n",
       "      <td>...</td>\n",
       "      <td>...</td>\n",
       "    </tr>\n",
       "    <tr>\n",
       "      <th>77</th>\n",
       "      <td>77</td>\n",
       "      <td>!</td>\n",
       "      <td>541</td>\n",
       "      <td>1</td>\n",
       "    </tr>\n",
       "    <tr>\n",
       "      <th>14907</th>\n",
       "      <td>14907</td>\n",
       "      <td>ר</td>\n",
       "      <td>1</td>\n",
       "      <td>1</td>\n",
       "    </tr>\n",
       "    <tr>\n",
       "      <th>167</th>\n",
       "      <td>167</td>\n",
       "      <td>(</td>\n",
       "      <td>292</td>\n",
       "      <td>1</td>\n",
       "    </tr>\n",
       "    <tr>\n",
       "      <th>1999</th>\n",
       "      <td>1999</td>\n",
       "      <td>‘</td>\n",
       "      <td>27</td>\n",
       "      <td>1</td>\n",
       "    </tr>\n",
       "    <tr>\n",
       "      <th>0</th>\n",
       "      <td>0</td>\n",
       "      <td>,</td>\n",
       "      <td>70903</td>\n",
       "      <td>1</td>\n",
       "    </tr>\n",
       "  </tbody>\n",
       "</table>\n",
       "<p>21789 rows × 4 columns</p>\n",
       "</div>"
      ],
      "text/plain": [
       "       level_0                                               word  good_words  \\\n",
       "19979    19979  http://bibletranslation.ws/trans/diatessaronpa...           1   \n",
       "19955    19955  http://www.bibletranslation.ws/palmer-translat...           1   \n",
       "15536    15536  http://bibletranslation.ws/trans/DRPbiblesofar...           1   \n",
       "17415    17415  http://bibletranslation.ws/trans/holybiblebyz.pdf           1   \n",
       "14284    14284   http://bibletranslation.ws/trans/holybibletr.pdf           1   \n",
       "...        ...                                                ...         ...   \n",
       "77          77                                                  !         541   \n",
       "14907    14907                                                  ר           1   \n",
       "167        167                                                  (         292   \n",
       "1999      1999                                                  ‘          27   \n",
       "0            0                                                  ,       70903   \n",
       "\n",
       "       length  \n",
       "19979      57  \n",
       "19955      50  \n",
       "15536      50  \n",
       "17415      49  \n",
       "14284      48  \n",
       "...       ...  \n",
       "77          1  \n",
       "14907       1  \n",
       "167         1  \n",
       "1999        1  \n",
       "0           1  \n",
       "\n",
       "[21789 rows x 4 columns]"
      ]
     },
     "execution_count": 85,
     "metadata": {},
     "output_type": "execute_result"
    }
   ],
   "source": [
    "word_group_df.sort_values(by=['length'], ascending=False) # Good - longest words"
   ]
  },
  {
   "cell_type": "code",
   "execution_count": 86,
   "metadata": {},
   "outputs": [],
   "source": [
    "LongWords = word_group_df[word_group_df['length']>13 ]"
   ]
  },
  {
   "cell_type": "code",
   "execution_count": 87,
   "metadata": {},
   "outputs": [
    {
     "data": {
      "text/html": [
       "<div>\n",
       "<style scoped>\n",
       "    .dataframe tbody tr th:only-of-type {\n",
       "        vertical-align: middle;\n",
       "    }\n",
       "\n",
       "    .dataframe tbody tr th {\n",
       "        vertical-align: top;\n",
       "    }\n",
       "\n",
       "    .dataframe thead th {\n",
       "        text-align: right;\n",
       "    }\n",
       "</style>\n",
       "<table border=\"1\" class=\"dataframe\">\n",
       "  <thead>\n",
       "    <tr style=\"text-align: right;\">\n",
       "      <th></th>\n",
       "      <th>level_0</th>\n",
       "      <th>word</th>\n",
       "      <th>good_words</th>\n",
       "      <th>length</th>\n",
       "    </tr>\n",
       "  </thead>\n",
       "  <tbody>\n",
       "    <tr>\n",
       "      <th>340</th>\n",
       "      <td>340</td>\n",
       "      <td>lovingkindness</td>\n",
       "      <td>164</td>\n",
       "      <td>14</td>\n",
       "    </tr>\n",
       "    <tr>\n",
       "      <th>763</th>\n",
       "      <td>763</td>\n",
       "      <td>http://bibletranslation.ws/palmer-translation/</td>\n",
       "      <td>68</td>\n",
       "      <td>46</td>\n",
       "    </tr>\n",
       "    <tr>\n",
       "      <th>884</th>\n",
       "      <td>884</td>\n",
       "      <td>Nebuchadnezzar</td>\n",
       "      <td>59</td>\n",
       "      <td>14</td>\n",
       "    </tr>\n",
       "    <tr>\n",
       "      <th>1116</th>\n",
       "      <td>1116</td>\n",
       "      <td>transgressions</td>\n",
       "      <td>49</td>\n",
       "      <td>14</td>\n",
       "    </tr>\n",
       "    <tr>\n",
       "      <th>1369</th>\n",
       "      <td>1369</td>\n",
       "      <td>interpretation</td>\n",
       "      <td>40</td>\n",
       "      <td>14</td>\n",
       "    </tr>\n",
       "    <tr>\n",
       "      <th>1678</th>\n",
       "      <td>1678</td>\n",
       "      <td>Nebuchadrezzar</td>\n",
       "      <td>32</td>\n",
       "      <td>14</td>\n",
       "    </tr>\n",
       "    <tr>\n",
       "      <th>1689</th>\n",
       "      <td>1689</td>\n",
       "      <td>unrighteousness</td>\n",
       "      <td>32</td>\n",
       "      <td>15</td>\n",
       "    </tr>\n",
       "    <tr>\n",
       "      <th>2896</th>\n",
       "      <td>2896</td>\n",
       "      <td>uncircumcision</td>\n",
       "      <td>17</td>\n",
       "      <td>14</td>\n",
       "    </tr>\n",
       "    <tr>\n",
       "      <th>2934</th>\n",
       "      <td>2934</td>\n",
       "      <td>Notwithstanding</td>\n",
       "      <td>17</td>\n",
       "      <td>15</td>\n",
       "    </tr>\n",
       "    <tr>\n",
       "      <th>4217</th>\n",
       "      <td>4217</td>\n",
       "      <td>lovingkindnesses</td>\n",
       "      <td>11</td>\n",
       "      <td>16</td>\n",
       "    </tr>\n",
       "    <tr>\n",
       "      <th>5493</th>\n",
       "      <td>5493</td>\n",
       "      <td>stumblingblock</td>\n",
       "      <td>7</td>\n",
       "      <td>14</td>\n",
       "    </tr>\n",
       "    <tr>\n",
       "      <th>6655</th>\n",
       "      <td>6655</td>\n",
       "      <td>principalities</td>\n",
       "      <td>5</td>\n",
       "      <td>14</td>\n",
       "    </tr>\n",
       "    <tr>\n",
       "      <th>6823</th>\n",
       "      <td>6823</td>\n",
       "      <td>sanctification</td>\n",
       "      <td>5</td>\n",
       "      <td>14</td>\n",
       "    </tr>\n",
       "    <tr>\n",
       "      <th>7257</th>\n",
       "      <td>7257</td>\n",
       "      <td>presumptuously</td>\n",
       "      <td>4</td>\n",
       "      <td>14</td>\n",
       "    </tr>\n",
       "    <tr>\n",
       "      <th>7586</th>\n",
       "      <td>7586</td>\n",
       "      <td>reconciliation</td>\n",
       "      <td>4</td>\n",
       "      <td>14</td>\n",
       "    </tr>\n",
       "    <tr>\n",
       "      <th>7764</th>\n",
       "      <td>7764</td>\n",
       "      <td>גֻּלְגֻּלְתָּא</td>\n",
       "      <td>4</td>\n",
       "      <td>14</td>\n",
       "    </tr>\n",
       "    <tr>\n",
       "      <th>8001</th>\n",
       "      <td>8001</td>\n",
       "      <td>http://www.bibletranslation.ws/tran.html</td>\n",
       "      <td>4</td>\n",
       "      <td>40</td>\n",
       "    </tr>\n",
       "    <tr>\n",
       "      <th>8429</th>\n",
       "      <td>8429</td>\n",
       "      <td>Transfiguration</td>\n",
       "      <td>3</td>\n",
       "      <td>15</td>\n",
       "    </tr>\n",
       "    <tr>\n",
       "      <th>9328</th>\n",
       "      <td>9328</td>\n",
       "      <td>lasciviousness</td>\n",
       "      <td>3</td>\n",
       "      <td>14</td>\n",
       "    </tr>\n",
       "    <tr>\n",
       "      <th>9386</th>\n",
       "      <td>9386</td>\n",
       "      <td>bloodguiltiness</td>\n",
       "      <td>3</td>\n",
       "      <td>15</td>\n",
       "    </tr>\n",
       "  </tbody>\n",
       "</table>\n",
       "</div>"
      ],
      "text/plain": [
       "      level_0                                            word  good_words  \\\n",
       "340       340                                  lovingkindness         164   \n",
       "763       763  http://bibletranslation.ws/palmer-translation/          68   \n",
       "884       884                                  Nebuchadnezzar          59   \n",
       "1116     1116                                  transgressions          49   \n",
       "1369     1369                                  interpretation          40   \n",
       "1678     1678                                  Nebuchadrezzar          32   \n",
       "1689     1689                                 unrighteousness          32   \n",
       "2896     2896                                  uncircumcision          17   \n",
       "2934     2934                                 Notwithstanding          17   \n",
       "4217     4217                                lovingkindnesses          11   \n",
       "5493     5493                                  stumblingblock           7   \n",
       "6655     6655                                  principalities           5   \n",
       "6823     6823                                  sanctification           5   \n",
       "7257     7257                                  presumptuously           4   \n",
       "7586     7586                                  reconciliation           4   \n",
       "7764     7764                                  גֻּלְגֻּלְתָּא           4   \n",
       "8001     8001        http://www.bibletranslation.ws/tran.html           4   \n",
       "8429     8429                                 Transfiguration           3   \n",
       "9328     9328                                  lasciviousness           3   \n",
       "9386     9386                                 bloodguiltiness           3   \n",
       "\n",
       "      length  \n",
       "340       14  \n",
       "763       46  \n",
       "884       14  \n",
       "1116      14  \n",
       "1369      14  \n",
       "1678      14  \n",
       "1689      15  \n",
       "2896      14  \n",
       "2934      15  \n",
       "4217      16  \n",
       "5493      14  \n",
       "6655      14  \n",
       "6823      14  \n",
       "7257      14  \n",
       "7586      14  \n",
       "7764      14  \n",
       "8001      40  \n",
       "8429      15  \n",
       "9328      14  \n",
       "9386      15  "
      ]
     },
     "execution_count": 87,
     "metadata": {},
     "output_type": "execute_result"
    }
   ],
   "source": [
    "LongWords.head(20)"
   ]
  },
  {
   "cell_type": "code",
   "execution_count": 88,
   "metadata": {},
   "outputs": [],
   "source": [
    "#word_group_df = word_group_df.drop(word_group_df['length'] < 3))  # TO DO get rid of short words"
   ]
  },
  {
   "cell_type": "code",
   "execution_count": 89,
   "metadata": {},
   "outputs": [],
   "source": [
    "#word_group_df['length'] < 3"
   ]
  },
  {
   "cell_type": "code",
   "execution_count": 90,
   "metadata": {},
   "outputs": [
    {
     "data": {
      "text/html": [
       "<div>\n",
       "<style scoped>\n",
       "    .dataframe tbody tr th:only-of-type {\n",
       "        vertical-align: middle;\n",
       "    }\n",
       "\n",
       "    .dataframe tbody tr th {\n",
       "        vertical-align: top;\n",
       "    }\n",
       "\n",
       "    .dataframe thead th {\n",
       "        text-align: right;\n",
       "    }\n",
       "</style>\n",
       "<table border=\"1\" class=\"dataframe\">\n",
       "  <thead>\n",
       "    <tr style=\"text-align: right;\">\n",
       "      <th></th>\n",
       "      <th>level_0</th>\n",
       "      <th>word</th>\n",
       "      <th>good_words</th>\n",
       "      <th>length</th>\n",
       "    </tr>\n",
       "  </thead>\n",
       "  <tbody>\n",
       "    <tr>\n",
       "      <th>0</th>\n",
       "      <td>0</td>\n",
       "      <td>,</td>\n",
       "      <td>70903</td>\n",
       "      <td>1</td>\n",
       "    </tr>\n",
       "    <tr>\n",
       "      <th>1</th>\n",
       "      <td>1</td>\n",
       "      <td>.</td>\n",
       "      <td>27744</td>\n",
       "      <td>1</td>\n",
       "    </tr>\n",
       "    <tr>\n",
       "      <th>2</th>\n",
       "      <td>2</td>\n",
       "      <td>\\n\\n</td>\n",
       "      <td>26205</td>\n",
       "      <td>2</td>\n",
       "    </tr>\n",
       "    <tr>\n",
       "      <th>3</th>\n",
       "      <td>3</td>\n",
       "      <td>;</td>\n",
       "      <td>12614</td>\n",
       "      <td>1</td>\n",
       "    </tr>\n",
       "    <tr>\n",
       "      <th>4</th>\n",
       "      <td>4</td>\n",
       "      <td>shall</td>\n",
       "      <td>9562</td>\n",
       "      <td>5</td>\n",
       "    </tr>\n",
       "    <tr>\n",
       "      <th>5</th>\n",
       "      <td>5</td>\n",
       "      <td>:</td>\n",
       "      <td>7883</td>\n",
       "      <td>1</td>\n",
       "    </tr>\n",
       "    <tr>\n",
       "      <th>6</th>\n",
       "      <td>6</td>\n",
       "      <td></td>\n",
       "      <td>7570</td>\n",
       "      <td>1</td>\n",
       "    </tr>\n",
       "    <tr>\n",
       "      <th>7</th>\n",
       "      <td>7</td>\n",
       "      <td>Yahweh</td>\n",
       "      <td>6900</td>\n",
       "      <td>6</td>\n",
       "    </tr>\n",
       "    <tr>\n",
       "      <th>8</th>\n",
       "      <td>8</td>\n",
       "      <td>God</td>\n",
       "      <td>4034</td>\n",
       "      <td>3</td>\n",
       "    </tr>\n",
       "    <tr>\n",
       "      <th>9</th>\n",
       "      <td>9</td>\n",
       "      <td>said</td>\n",
       "      <td>3839</td>\n",
       "      <td>4</td>\n",
       "    </tr>\n",
       "  </tbody>\n",
       "</table>\n",
       "</div>"
      ],
      "text/plain": [
       "   level_0    word  good_words  length\n",
       "0        0       ,       70903       1\n",
       "1        1       .       27744       1\n",
       "2        2    \\n\\n       26205       2\n",
       "3        3       ;       12614       1\n",
       "4        4   shall        9562       5\n",
       "5        5       :        7883       1\n",
       "6        6                7570       1\n",
       "7        7  Yahweh        6900       6\n",
       "8        8     God        4034       3\n",
       "9        9    said        3839       4"
      ]
     },
     "execution_count": 90,
     "metadata": {},
     "output_type": "execute_result"
    }
   ],
   "source": [
    "word_group_df.head(10)"
   ]
  },
  {
   "cell_type": "code",
   "execution_count": null,
   "metadata": {},
   "outputs": [],
   "source": []
  },
  {
   "cell_type": "code",
   "execution_count": 91,
   "metadata": {},
   "outputs": [],
   "source": [
    "import matplotlib.pyplot as plt"
   ]
  },
  {
   "cell_type": "code",
   "execution_count": 92,
   "metadata": {},
   "outputs": [
    {
     "data": {
      "image/png": "[encoded data removed]",
      "text/plain": [
       "<Figure size 1152x432 with 1 Axes>"
      ]
     },
     "metadata": {
      "needs_background": "light"
     },
     "output_type": "display_data"
    }
   ],
   "source": [
    "plot_words(['%r' % t.text for t in doc])"
   ]
  },
  {
   "cell_type": "code",
   "execution_count": 93,
   "metadata": {},
   "outputs": [
    {
     "data": {
      "image/png": "[encoded data removed]",
      "text/plain": [
       "<Figure size 1152x432 with 1 Axes>"
      ]
     },
     "metadata": {
      "needs_background": "light"
     },
     "output_type": "display_data"
    }
   ],
   "source": [
    "plot_words(['%r' % t.text for t in doc if not (t.is_stop | t.is_punct)])"
   ]
  },
  {
   "cell_type": "markdown",
   "metadata": {},
   "source": [
    "## spaCy\n",
    "for i, s in enumerate(doc.sents):\n",
    "    print('%2d: %s' % (i, re.sub(r'\\n+', '', s.text)))\n",
    "    if s.as_doc().ents:\n",
    "        print('-'*80)\n",
    "        for e in s.as_doc().ents:\n",
    "            print('%-11s: %s' % (e.label_, re.sub(r'\\n+', '', e.text)))\n",
    "    print('='*80)"
   ]
  },
  {
   "cell_type": "code",
   "execution_count": 94,
   "metadata": {},
   "outputs": [],
   "source": [
    "# use nltk to find tokens\n",
    "tokens = nltk.word_tokenize(my_text)\n",
    "\n",
    "#for i, t in enumerate(tokens[:25]):\n",
    "#    print('%2d| %r' % (i+1, t))"
   ]
  },
  {
   "cell_type": "code",
   "execution_count": 95,
   "metadata": {},
   "outputs": [
    {
     "data": {
      "image/png": "[encoded data removed]",
      "text/plain": [
       "<Figure size 1152x432 with 1 Axes>"
      ]
     },
     "metadata": {
      "needs_background": "light"
     },
     "output_type": "display_data"
    }
   ],
   "source": [
    "plot_words(tokens)"
   ]
  },
  {
   "cell_type": "markdown",
   "metadata": {},
   "source": [
    "# Stop Words"
   ]
  },
  {
   "cell_type": "markdown",
   "metadata": {},
   "source": [
    "## spaCy\n",
    "print('i | with stop words without')\n",
    "print('--| --------------- ------------')\n",
    "\n",
    "# for all the tokens\n",
    "for i, t in enumerate(doc):\n",
    "    print('%2d| %-15r %r' % (i+1, t.text, ('' if t.is_stop else t.text)))\n",
    "\n",
    "    # break after the first sentence\n",
    " #   if t.text == '.':\n",
    " #       break"
   ]
  },
  {
   "cell_type": "code",
   "execution_count": 96,
   "metadata": {},
   "outputs": [
    {
     "data": {
      "image/png": "[encoded data removed]",
      "text/plain": [
       "<Figure size 1152x432 with 1 Axes>"
      ]
     },
     "metadata": {
      "needs_background": "light"
     },
     "output_type": "display_data"
    }
   ],
   "source": [
    "\n",
    "plot_words(['%r' % t.text for t in doc if not (t.is_stop | t.is_punct)])"
   ]
  },
  {
   "cell_type": "code",
   "execution_count": 97,
   "metadata": {},
   "outputs": [
    {
     "name": "stdout",
     "output_type": "stream",
     "text": [
      "a, about, above, after, again, against, ain, all, am, an, and, any, are, aren, aren't, as, at, be, because, been, before, being, below, between, both, but, by, can, couldn, couldn't, d, did, didn, didn't, do, does, doesn, doesn't, doing, don, don't, down, during, each, few, for, from, further, had, hadn, hadn't, has, hasn, hasn't, have, haven, haven't, having, he, her, here, hers, herself, him, himself, his, how, i, if, in, into, is, isn, isn't, it, it's, its, itself, just, ll, m, ma, me, mightn, mightn't, more, most, mustn, mustn't, my, myself, needn, needn't, no, nor, not, now, o, of, off, on, once, only, or, other, our, ours, ourselves, out, over, own, re, s, same, shan, shan't, she, she's, should, should've, shouldn, shouldn't, so, some, such, t, than, that, that'll, the, their, theirs, them, themselves, then, there, these, they, this, those, through, to, too, under, until, up, ve, very, was, wasn, wasn't, we, were, weren, weren't, what, when, where, which, while, who, whom, why, will, with, won, won't, wouldn, wouldn't, y, you, you'd, you'll, you're, you've, your, yours, yourself, yourselves\n"
     ]
    }
   ],
   "source": [
    "stopWords = nltk.corpus.stopwords.words('english')\n",
    "\n",
    "stopWords.sort()\n",
    "print(', '.join(stopWords))"
   ]
  },
  {
   "cell_type": "code",
   "execution_count": 98,
   "metadata": {},
   "outputs": [],
   "source": [
    "tokens_no_stop = ('opportunity', 'temporarily', 'the', 'tree') # create a list of tokens withOUT the stop words "
   ]
  },
  {
   "cell_type": "markdown",
   "metadata": {},
   "source": [
    "## NLTK\n",
    "i = 0\n",
    "j = 0\n",
    "\n",
    "print('i | with stop words without')\n",
    "print('--| --------------- ------------')\n",
    "\n",
    "# for all the tokens\n",
    "while i < len(tokens):\n",
    "    # same word\n",
    "    if tokens[i] == tokens_no_stop[j]:\n",
    "        print('%2d| %-15r %r' % (i+1, tokens[i], tokens_no_stop[j]))\n",
    "        j += 1\n",
    "    # not the same word\n",
    "    else:\n",
    "        print('%2d| %-15r' % (i+1, tokens[i]))\n",
    "\n",
    "    # next word\n",
    "    i += 1\n",
    "    # break after the first sentence\n",
    "  #  if tokens[i-1] == '.':\n",
    "  #      break"
   ]
  },
  {
   "cell_type": "code",
   "execution_count": 99,
   "metadata": {},
   "outputs": [
    {
     "data": {
      "image/png": "[encoded data removed]",
      "text/plain": [
       "<Figure size 1152x432 with 1 Axes>"
      ]
     },
     "metadata": {
      "needs_background": "light"
     },
     "output_type": "display_data"
    }
   ],
   "source": [
    "plot_words(tokens_no_stop)"
   ]
  },
  {
   "cell_type": "markdown",
   "metadata": {},
   "source": [
    "# Check Parts of Speech"
   ]
  },
  {
   "cell_type": "markdown",
   "metadata": {},
   "source": [
    "## spaCy\n",
    "for i, t in enumerate(doc):\n",
    "    print('%2d|%-12r : %-5s %s' % (i+1, t.text, t.pos_, t.tag_))\n",
    "    #if t.text == '.':\n",
    "    #    break"
   ]
  },
  {
   "cell_type": "code",
   "execution_count": 100,
   "metadata": {},
   "outputs": [],
   "source": [
    "matrix_type=[]\n",
    "\n",
    "## spaCy\n",
    "for i, t in enumerate(doc):\n",
    "#print('%2d|%-12r : %-5s %s' % (i+1, t.text, t.pos_, t.tag_))\n",
    "    matrix_type.append(t.pos_)\n",
    "\n"
   ]
  },
  {
   "cell_type": "code",
   "execution_count": 101,
   "metadata": {},
   "outputs": [],
   "source": [
    "matrix_type2=[]"
   ]
  },
  {
   "cell_type": "code",
   "execution_count": 102,
   "metadata": {},
   "outputs": [],
   "source": [
    "## spaCy\n",
    "for i, t in enumerate(doc):\n",
    "#print('%2d|%-12r : %-5s %s' % (i+1, t.text, t.pos_, t.tag_))\n",
    "    matrix_type2.append(t.pos_)"
   ]
  },
  {
   "cell_type": "code",
   "execution_count": 103,
   "metadata": {},
   "outputs": [],
   "source": [
    "matrix_type_df = pd.DataFrame(matrix_type,columns=['TagType'])"
   ]
  },
  {
   "cell_type": "code",
   "execution_count": 104,
   "metadata": {},
   "outputs": [
    {
     "data": {
      "text/html": [
       "<div>\n",
       "<style scoped>\n",
       "    .dataframe tbody tr th:only-of-type {\n",
       "        vertical-align: middle;\n",
       "    }\n",
       "\n",
       "    .dataframe tbody tr th {\n",
       "        vertical-align: top;\n",
       "    }\n",
       "\n",
       "    .dataframe thead th {\n",
       "        text-align: right;\n",
       "    }\n",
       "</style>\n",
       "<table border=\"1\" class=\"dataframe\">\n",
       "  <thead>\n",
       "    <tr style=\"text-align: right;\">\n",
       "      <th></th>\n",
       "      <th>TagType</th>\n",
       "    </tr>\n",
       "  </thead>\n",
       "  <tbody>\n",
       "    <tr>\n",
       "      <th>0</th>\n",
       "      <td>DET</td>\n",
       "    </tr>\n",
       "    <tr>\n",
       "      <th>1</th>\n",
       "      <td>PROPN</td>\n",
       "    </tr>\n",
       "    <tr>\n",
       "      <th>2</th>\n",
       "      <td>ADP</td>\n",
       "    </tr>\n",
       "    <tr>\n",
       "      <th>3</th>\n",
       "      <td>PROPN</td>\n",
       "    </tr>\n",
       "    <tr>\n",
       "      <th>4</th>\n",
       "      <td>SPACE</td>\n",
       "    </tr>\n",
       "  </tbody>\n",
       "</table>\n",
       "</div>"
      ],
      "text/plain": [
       "  TagType\n",
       "0     DET\n",
       "1   PROPN\n",
       "2     ADP\n",
       "3   PROPN\n",
       "4   SPACE"
      ]
     },
     "execution_count": 104,
     "metadata": {},
     "output_type": "execute_result"
    }
   ],
   "source": [
    "matrix_type_df.head()"
   ]
  },
  {
   "cell_type": "code",
   "execution_count": 105,
   "metadata": {},
   "outputs": [],
   "source": [
    "TagType = matrix_type_df['TagType'].value_counts()  # Good"
   ]
  },
  {
   "cell_type": "code",
   "execution_count": 106,
   "metadata": {},
   "outputs": [
    {
     "data": {
      "text/plain": [
       "NOUN     130059\n",
       "PUNCT    127074\n",
       "PRON     112158\n",
       "ADP      108429\n",
       "VERB      95214\n",
       "DET       86378\n",
       "AUX       57964\n",
       "PROPN     57775\n",
       "CCONJ     55084\n",
       "SPACE     38014\n",
       "NUM       35795\n",
       "ADV       27972\n",
       "ADJ       22935\n",
       "SCONJ     18139\n",
       "PART      15660\n",
       "INTJ       1920\n",
       "X           161\n",
       "SYM          24\n",
       "Name: TagType, dtype: int64"
      ]
     },
     "execution_count": 106,
     "metadata": {},
     "output_type": "execute_result"
    }
   ],
   "source": [
    "TagType.head(20)"
   ]
  },
  {
   "cell_type": "code",
   "execution_count": 107,
   "metadata": {},
   "outputs": [],
   "source": [
    "TagType_df = pd.DataFrame(TagType)"
   ]
  },
  {
   "cell_type": "code",
   "execution_count": 108,
   "metadata": {},
   "outputs": [
    {
     "data": {
      "text/html": [
       "<div>\n",
       "<style scoped>\n",
       "    .dataframe tbody tr th:only-of-type {\n",
       "        vertical-align: middle;\n",
       "    }\n",
       "\n",
       "    .dataframe tbody tr th {\n",
       "        vertical-align: top;\n",
       "    }\n",
       "\n",
       "    .dataframe thead th {\n",
       "        text-align: right;\n",
       "    }\n",
       "</style>\n",
       "<table border=\"1\" class=\"dataframe\">\n",
       "  <thead>\n",
       "    <tr style=\"text-align: right;\">\n",
       "      <th></th>\n",
       "      <th>TagType</th>\n",
       "    </tr>\n",
       "  </thead>\n",
       "  <tbody>\n",
       "    <tr>\n",
       "      <th>NOUN</th>\n",
       "      <td>130059</td>\n",
       "    </tr>\n",
       "    <tr>\n",
       "      <th>PUNCT</th>\n",
       "      <td>127074</td>\n",
       "    </tr>\n",
       "    <tr>\n",
       "      <th>PRON</th>\n",
       "      <td>112158</td>\n",
       "    </tr>\n",
       "    <tr>\n",
       "      <th>ADP</th>\n",
       "      <td>108429</td>\n",
       "    </tr>\n",
       "    <tr>\n",
       "      <th>VERB</th>\n",
       "      <td>95214</td>\n",
       "    </tr>\n",
       "  </tbody>\n",
       "</table>\n",
       "</div>"
      ],
      "text/plain": [
       "       TagType\n",
       "NOUN    130059\n",
       "PUNCT   127074\n",
       "PRON    112158\n",
       "ADP     108429\n",
       "VERB     95214"
      ]
     },
     "execution_count": 108,
     "metadata": {},
     "output_type": "execute_result"
    }
   ],
   "source": [
    "TagType_df.head()"
   ]
  },
  {
   "cell_type": "code",
   "execution_count": 109,
   "metadata": {},
   "outputs": [],
   "source": [
    "TagType_df= TagType_df.reset_index() \n",
    "TagType_df = TagType_df.rename({'index' : 'Type'}, axis=1)"
   ]
  },
  {
   "cell_type": "code",
   "execution_count": 110,
   "metadata": {},
   "outputs": [
    {
     "data": {
      "text/html": [
       "<div>\n",
       "<style scoped>\n",
       "    .dataframe tbody tr th:only-of-type {\n",
       "        vertical-align: middle;\n",
       "    }\n",
       "\n",
       "    .dataframe tbody tr th {\n",
       "        vertical-align: top;\n",
       "    }\n",
       "\n",
       "    .dataframe thead th {\n",
       "        text-align: right;\n",
       "    }\n",
       "</style>\n",
       "<table border=\"1\" class=\"dataframe\">\n",
       "  <thead>\n",
       "    <tr style=\"text-align: right;\">\n",
       "      <th></th>\n",
       "      <th>Type</th>\n",
       "      <th>TagType</th>\n",
       "    </tr>\n",
       "  </thead>\n",
       "  <tbody>\n",
       "    <tr>\n",
       "      <th>0</th>\n",
       "      <td>NOUN</td>\n",
       "      <td>130059</td>\n",
       "    </tr>\n",
       "    <tr>\n",
       "      <th>1</th>\n",
       "      <td>PUNCT</td>\n",
       "      <td>127074</td>\n",
       "    </tr>\n",
       "    <tr>\n",
       "      <th>2</th>\n",
       "      <td>PRON</td>\n",
       "      <td>112158</td>\n",
       "    </tr>\n",
       "    <tr>\n",
       "      <th>3</th>\n",
       "      <td>ADP</td>\n",
       "      <td>108429</td>\n",
       "    </tr>\n",
       "    <tr>\n",
       "      <th>4</th>\n",
       "      <td>VERB</td>\n",
       "      <td>95214</td>\n",
       "    </tr>\n",
       "    <tr>\n",
       "      <th>5</th>\n",
       "      <td>DET</td>\n",
       "      <td>86378</td>\n",
       "    </tr>\n",
       "    <tr>\n",
       "      <th>6</th>\n",
       "      <td>AUX</td>\n",
       "      <td>57964</td>\n",
       "    </tr>\n",
       "    <tr>\n",
       "      <th>7</th>\n",
       "      <td>PROPN</td>\n",
       "      <td>57775</td>\n",
       "    </tr>\n",
       "    <tr>\n",
       "      <th>8</th>\n",
       "      <td>CCONJ</td>\n",
       "      <td>55084</td>\n",
       "    </tr>\n",
       "    <tr>\n",
       "      <th>9</th>\n",
       "      <td>SPACE</td>\n",
       "      <td>38014</td>\n",
       "    </tr>\n",
       "    <tr>\n",
       "      <th>10</th>\n",
       "      <td>NUM</td>\n",
       "      <td>35795</td>\n",
       "    </tr>\n",
       "    <tr>\n",
       "      <th>11</th>\n",
       "      <td>ADV</td>\n",
       "      <td>27972</td>\n",
       "    </tr>\n",
       "    <tr>\n",
       "      <th>12</th>\n",
       "      <td>ADJ</td>\n",
       "      <td>22935</td>\n",
       "    </tr>\n",
       "    <tr>\n",
       "      <th>13</th>\n",
       "      <td>SCONJ</td>\n",
       "      <td>18139</td>\n",
       "    </tr>\n",
       "    <tr>\n",
       "      <th>14</th>\n",
       "      <td>PART</td>\n",
       "      <td>15660</td>\n",
       "    </tr>\n",
       "    <tr>\n",
       "      <th>15</th>\n",
       "      <td>INTJ</td>\n",
       "      <td>1920</td>\n",
       "    </tr>\n",
       "    <tr>\n",
       "      <th>16</th>\n",
       "      <td>X</td>\n",
       "      <td>161</td>\n",
       "    </tr>\n",
       "    <tr>\n",
       "      <th>17</th>\n",
       "      <td>SYM</td>\n",
       "      <td>24</td>\n",
       "    </tr>\n",
       "  </tbody>\n",
       "</table>\n",
       "</div>"
      ],
      "text/plain": [
       "     Type  TagType\n",
       "0    NOUN   130059\n",
       "1   PUNCT   127074\n",
       "2    PRON   112158\n",
       "3     ADP   108429\n",
       "4    VERB    95214\n",
       "5     DET    86378\n",
       "6     AUX    57964\n",
       "7   PROPN    57775\n",
       "8   CCONJ    55084\n",
       "9   SPACE    38014\n",
       "10    NUM    35795\n",
       "11    ADV    27972\n",
       "12    ADJ    22935\n",
       "13  SCONJ    18139\n",
       "14   PART    15660\n",
       "15   INTJ     1920\n",
       "16      X      161\n",
       "17    SYM       24"
      ]
     },
     "execution_count": 110,
     "metadata": {},
     "output_type": "execute_result"
    }
   ],
   "source": [
    "TagType_df.head(20)"
   ]
  },
  {
   "cell_type": "code",
   "execution_count": 111,
   "metadata": {},
   "outputs": [],
   "source": [
    "verbs = TagType_df[TagType_df['Type'] =='VERB']"
   ]
  },
  {
   "cell_type": "code",
   "execution_count": 112,
   "metadata": {},
   "outputs": [
    {
     "data": {
      "text/html": [
       "<div>\n",
       "<style scoped>\n",
       "    .dataframe tbody tr th:only-of-type {\n",
       "        vertical-align: middle;\n",
       "    }\n",
       "\n",
       "    .dataframe tbody tr th {\n",
       "        vertical-align: top;\n",
       "    }\n",
       "\n",
       "    .dataframe thead th {\n",
       "        text-align: right;\n",
       "    }\n",
       "</style>\n",
       "<table border=\"1\" class=\"dataframe\">\n",
       "  <thead>\n",
       "    <tr style=\"text-align: right;\">\n",
       "      <th></th>\n",
       "      <th>Type</th>\n",
       "      <th>TagType</th>\n",
       "    </tr>\n",
       "  </thead>\n",
       "  <tbody>\n",
       "    <tr>\n",
       "      <th>4</th>\n",
       "      <td>VERB</td>\n",
       "      <td>95214</td>\n",
       "    </tr>\n",
       "  </tbody>\n",
       "</table>\n",
       "</div>"
      ],
      "text/plain": [
       "   Type  TagType\n",
       "4  VERB    95214"
      ]
     },
     "execution_count": 112,
     "metadata": {},
     "output_type": "execute_result"
    }
   ],
   "source": [
    "verbs.head()"
   ]
  },
  {
   "cell_type": "code",
   "execution_count": null,
   "metadata": {},
   "outputs": [],
   "source": []
  },
  {
   "cell_type": "markdown",
   "metadata": {},
   "source": [
    "# From https://www.dataquest.io/blog/natural-language-processing-with-python/"
   ]
  },
  {
   "cell_type": "code",
   "execution_count": 113,
   "metadata": {},
   "outputs": [],
   "source": [
    "transform_functions = [\n",
    "    lambda x: len(x),\n",
    "    lambda x: x.count(\" \"),\n",
    "    lambda x: x.count(\".\"),\n",
    "    lambda x: x.count(\"!\"),\n",
    "    lambda x: x.count(\"?\"),\n",
    "    lambda x: len(x) / (x.count(\" \") + 1),\n",
    "    lambda x: x.count(\" \") / (x.count(\".\") + 1),\n",
    "    lambda x: len(re.findall(\"d\", x)),\n",
    "    lambda x: len(re.findall(\"[A-Z]\", x)),\n",
    "]\n"
   ]
  },
  {
   "cell_type": "code",
   "execution_count": 114,
   "metadata": {},
   "outputs": [
    {
     "data": {
      "text/html": [
       "<div>\n",
       "<style scoped>\n",
       "    .dataframe tbody tr th:only-of-type {\n",
       "        vertical-align: middle;\n",
       "    }\n",
       "\n",
       "    .dataframe tbody tr th {\n",
       "        vertical-align: top;\n",
       "    }\n",
       "\n",
       "    .dataframe thead th {\n",
       "        text-align: right;\n",
       "    }\n",
       "</style>\n",
       "<table border=\"1\" class=\"dataframe\">\n",
       "  <thead>\n",
       "    <tr style=\"text-align: right;\">\n",
       "      <th></th>\n",
       "      <th>Sentence</th>\n",
       "    </tr>\n",
       "  </thead>\n",
       "  <tbody>\n",
       "    <tr>\n",
       "      <th>0</th>\n",
       "      <td>The Revelation of John\\n\\nThe General Epistle ...</td>\n",
       "    </tr>\n",
       "    <tr>\n",
       "      <th>1</th>\n",
       "      <td>http://bit.ly/PrintPostWS \\n\\n\\n\\nThe Old Test...</td>\n",
       "    </tr>\n",
       "    <tr>\n",
       "      <th>2</th>\n",
       "      <td>(Until the rest are completed by David Robert ...</td>\n",
       "    </tr>\n",
       "    <tr>\n",
       "      <th>3</th>\n",
       "      <td>Acts is in progress.)</td>\n",
       "    </tr>\n",
       "    <tr>\n",
       "      <th>4</th>\n",
       "      <td>To download an edition of just the fresh trans...</td>\n",
       "    </tr>\n",
       "  </tbody>\n",
       "</table>\n",
       "</div>"
      ],
      "text/plain": [
       "                                            Sentence\n",
       "0  The Revelation of John\\n\\nThe General Epistle ...\n",
       "1  http://bit.ly/PrintPostWS \\n\\n\\n\\nThe Old Test...\n",
       "2  (Until the rest are completed by David Robert ...\n",
       "3                              Acts is in progress.)\n",
       "4  To download an edition of just the fresh trans..."
      ]
     },
     "execution_count": 114,
     "metadata": {},
     "output_type": "execute_result"
    }
   ],
   "source": [
    "sentence_df.head()"
   ]
  },
  {
   "cell_type": "code",
   "execution_count": 115,
   "metadata": {},
   "outputs": [],
   "source": [
    "\n",
    "# Apply each function and put the results into a list.\n",
    "columns = []\n",
    "for func in transform_functions:\n",
    "    columns.append(sentence_df[\"Sentence\"].apply(func))\n",
    "    # Convert the meta features to a numpy array.\n",
    "meta = np.asarray(columns).T"
   ]
  },
  {
   "cell_type": "code",
   "execution_count": 116,
   "metadata": {},
   "outputs": [
    {
     "data": {
      "text/html": [
       "<div>\n",
       "<style scoped>\n",
       "    .dataframe tbody tr th:only-of-type {\n",
       "        vertical-align: middle;\n",
       "    }\n",
       "\n",
       "    .dataframe tbody tr th {\n",
       "        vertical-align: top;\n",
       "    }\n",
       "\n",
       "    .dataframe thead th {\n",
       "        text-align: right;\n",
       "    }\n",
       "</style>\n",
       "<table border=\"1\" class=\"dataframe\">\n",
       "  <thead>\n",
       "    <tr style=\"text-align: right;\">\n",
       "      <th></th>\n",
       "      <th>Sentence</th>\n",
       "    </tr>\n",
       "  </thead>\n",
       "  <tbody>\n",
       "    <tr>\n",
       "      <th>0</th>\n",
       "      <td>The Revelation of John\\n\\nThe General Epistle ...</td>\n",
       "    </tr>\n",
       "    <tr>\n",
       "      <th>1</th>\n",
       "      <td>http://bit.ly/PrintPostWS \\n\\n\\n\\nThe Old Test...</td>\n",
       "    </tr>\n",
       "    <tr>\n",
       "      <th>2</th>\n",
       "      <td>(Until the rest are completed by David Robert ...</td>\n",
       "    </tr>\n",
       "    <tr>\n",
       "      <th>3</th>\n",
       "      <td>Acts is in progress.)</td>\n",
       "    </tr>\n",
       "    <tr>\n",
       "      <th>4</th>\n",
       "      <td>To download an edition of just the fresh trans...</td>\n",
       "    </tr>\n",
       "  </tbody>\n",
       "</table>\n",
       "</div>"
      ],
      "text/plain": [
       "                                            Sentence\n",
       "0  The Revelation of John\\n\\nThe General Epistle ...\n",
       "1  http://bit.ly/PrintPostWS \\n\\n\\n\\nThe Old Test...\n",
       "2  (Until the rest are completed by David Robert ...\n",
       "3                              Acts is in progress.)\n",
       "4  To download an edition of just the fresh trans..."
      ]
     },
     "execution_count": 116,
     "metadata": {},
     "output_type": "execute_result"
    }
   ],
   "source": [
    "sentence_df.head()"
   ]
  },
  {
   "cell_type": "code",
   "execution_count": 117,
   "metadata": {},
   "outputs": [],
   "source": [
    "import matplotlib.pyplot as plt"
   ]
  },
  {
   "cell_type": "code",
   "execution_count": 118,
   "metadata": {},
   "outputs": [
    {
     "data": {
      "text/plain": [
       "([<matplotlib.patches.Wedge at 0x25454899f48>,\n",
       "  <matplotlib.patches.Wedge at 0x254548a6c08>,\n",
       "  <matplotlib.patches.Wedge at 0x254548af988>,\n",
       "  <matplotlib.patches.Wedge at 0x254548b7808>,\n",
       "  <matplotlib.patches.Wedge at 0x254548c0908>,\n",
       "  <matplotlib.patches.Wedge at 0x254548c9708>,\n",
       "  <matplotlib.patches.Wedge at 0x25454811188>,\n",
       "  <matplotlib.patches.Wedge at 0x25454811f08>,\n",
       "  <matplotlib.patches.Wedge at 0x254548c0588>,\n",
       "  <matplotlib.patches.Wedge at 0x254548c9388>,\n",
       "  <matplotlib.patches.Wedge at 0x254547fe5c8>,\n",
       "  <matplotlib.patches.Wedge at 0x254548344c8>,\n",
       "  <matplotlib.patches.Wedge at 0x2545483e288>,\n",
       "  <matplotlib.patches.Wedge at 0x25454845048>,\n",
       "  <matplotlib.patches.Wedge at 0x25454845dc8>,\n",
       "  <matplotlib.patches.Wedge at 0x2545484eb88>,\n",
       "  <matplotlib.patches.Wedge at 0x25454858948>,\n",
       "  <matplotlib.patches.Wedge at 0x25454861708>],\n",
       " [Text(-0.440895313907006, 1.0077754324128183, 'NOUN'),\n",
       "  Text(-1.0359078531763646, 0.36999313470324746, 'PUNCT'),\n",
       "  Text(-1.0063899288970106, -0.44404877098655515, 'PRON'),\n",
       "  Text(-0.4841978246719819, -0.9877005956173768, 'ADP'),\n",
       "  Text(0.20767371957243075, -1.0802183233952993, 'VERB'),\n",
       "  Text(0.7623822120346022, -0.792952308006747, 'DET'),\n",
       "  Text(1.034303854479368, -0.3744536508155887, 'AUX'),\n",
       "  Text(1.0997878076903078, 0.021605046997095655, 'PROPN'),\n",
       "  Text(1.022544821541615, 0.4054652734062769, 'CCONJ'),\n",
       "  Text(0.8603475567030849, 0.685421098066752, 'SPACE'),\n",
       "  Text(0.6779354352070813, 0.8662583596656286, 'NUM'),\n",
       "  Text(0.49015833530260833, 0.9847562167020708, 'ADV'),\n",
       "  Text(0.3255149043480508, 1.0507330998152098, 'ADJ'),\n",
       "  Text(0.18629508823644572, 1.0841098376543656, 'SCONJ'),\n",
       "  Text(0.06926064845148427, 1.0978173630327042, 'PART'),\n",
       "  Text(0.007987412049424339, 1.099971000185347, 'INTJ'),\n",
       "  Text(0.0007289573917920513, 1.0999997584641195, 'X'),\n",
       "  Text(8.367774486216722e-05, 1.0999999968172887, 'SYM')],\n",
       " [Text(-0.24048835304018507, 0.5496956904069917, '13.1%'),\n",
       "  Text(-0.5650406471871079, 0.20181443711086222, '12.8%'),\n",
       "  Text(-0.5489399612165512, -0.24220842053812097, '11.3%'),\n",
       "  Text(-0.26410790436653553, -0.53874577942766, '10.9%'),\n",
       "  Text(0.11327657431223494, -0.5892099945792542, '9.6%'),\n",
       "  Text(0.4158448429279648, -0.43251944073095283, '8.7%'),\n",
       "  Text(0.5641657388069279, -0.204247445899412, '5.9%'),\n",
       "  Text(0.5998842587401678, 0.0117845710893249, '5.8%'),\n",
       "  Text(0.5577517208408809, 0.22116287640342377, '5.6%'),\n",
       "  Text(0.4692804854744099, 0.37386605349095564, '3.8%'),\n",
       "  Text(0.36978296465840793, 0.4725045598176155, '3.6%'),\n",
       "  Text(0.26735909198324087, 0.5371397545647658, '2.8%'),\n",
       "  Text(0.17755358418984588, 0.5731271453537506, '2.3%'),\n",
       "  Text(0.10161550267442493, 0.5913326387205631, '1.8%'),\n",
       "  Text(0.037778535518991414, 0.5988094707451113, '1.6%'),\n",
       "  Text(0.004356770208776911, 0.5999841819192802, '0.2%'),\n",
       "  Text(0.0003976131227956643, 0.599999868253156, '0.0%'),\n",
       "  Text(4.5642406288454846e-05, 0.5999999982639755, '0.0%')])"
      ]
     },
     "execution_count": 118,
     "metadata": {},
     "output_type": "execute_result"
    },
    {
     "data": {
      "image/png": "[encoded data removed]",
      "text/plain": [
       "<Figure size 432x288 with 1 Axes>"
      ]
     },
     "metadata": {},
     "output_type": "display_data"
    }
   ],
   "source": [
    "fig1, ax1 = plt.subplots()\n",
    "ax1.pie(TagType_df['TagType'] ,  labels=TagType_df['Type'] , autopct='%1.1f%%',  shadow=True, startangle=90)"
   ]
  },
  {
   "cell_type": "code",
   "execution_count": 119,
   "metadata": {},
   "outputs": [
    {
     "data": {
      "text/html": [
       "<div>\n",
       "<style scoped>\n",
       "    .dataframe tbody tr th:only-of-type {\n",
       "        vertical-align: middle;\n",
       "    }\n",
       "\n",
       "    .dataframe tbody tr th {\n",
       "        vertical-align: top;\n",
       "    }\n",
       "\n",
       "    .dataframe thead th {\n",
       "        text-align: right;\n",
       "    }\n",
       "</style>\n",
       "<table border=\"1\" class=\"dataframe\">\n",
       "  <thead>\n",
       "    <tr style=\"text-align: right;\">\n",
       "      <th></th>\n",
       "      <th>Sentence</th>\n",
       "    </tr>\n",
       "  </thead>\n",
       "  <tbody>\n",
       "    <tr>\n",
       "      <th>count</th>\n",
       "      <td>31383</td>\n",
       "    </tr>\n",
       "    <tr>\n",
       "      <th>unique</th>\n",
       "      <td>31172</td>\n",
       "    </tr>\n",
       "    <tr>\n",
       "      <th>top</th>\n",
       "      <td>Amen.</td>\n",
       "    </tr>\n",
       "    <tr>\n",
       "      <th>freq</th>\n",
       "      <td>31</td>\n",
       "    </tr>\n",
       "  </tbody>\n",
       "</table>\n",
       "</div>"
      ],
      "text/plain": [
       "       Sentence\n",
       "count     31383\n",
       "unique    31172\n",
       "top       Amen.\n",
       "freq         31"
      ]
     },
     "execution_count": 119,
     "metadata": {},
     "output_type": "execute_result"
    }
   ],
   "source": [
    "sentence_df.describe()"
   ]
  },
  {
   "cell_type": "markdown",
   "metadata": {},
   "source": [
    "# Lemmatisation"
   ]
  },
  {
   "cell_type": "code",
   "execution_count": 120,
   "metadata": {},
   "outputs": [
    {
     "name": "stdout",
     "output_type": "stream",
     "text": [
      "i | Token        Lemma\n",
      "--| ------------ ------------\n",
      " 1| 'The'        'the'\n",
      " 2| 'Revelation' 'Revelation'\n",
      " 3| 'of'         'of'\n",
      " 4| 'John'       'John'\n",
      " 5| '\\n\\n'       '\\n\\n'\n",
      " 6| 'The'        'the'\n",
      " 7| 'General'    'General'\n",
      " 8| 'Epistle'    'Epistle'\n",
      " 9| 'of'         'of'\n",
      "10| 'Jude'       'Jude'\n",
      "11| '\\n\\n'       '\\n\\n'\n",
      "12| 'The'        'the'\n",
      "13| 'Second'     'Second'\n",
      "14| 'Epistle'    'Epistle'\n",
      "15| 'General'    'General'\n",
      "16| 'of'         'of'\n",
      "17| 'John'       'John'\n",
      "18| '\\n\\n'       '\\n\\n'\n",
      "19| 'The'        'the'\n",
      "20| 'Third'      'Third'\n",
      "21| 'Epistle'    'Epistle'\n",
      "22| 'General'    'General'\n",
      "23| 'of'         'of'\n",
      "24| 'John'       'John'\n",
      "25| '\\n\\n'       '\\n\\n'\n",
      "26| 'The'        'the'\n",
      "27| 'First'      'First'\n",
      "28| 'Epistle'    'Epistle'\n",
      "29| 'General'    'General'\n",
      "30| 'of'         'of'\n",
      "31| 'John'       'John'\n",
      "32| '\\n\\n'       '\\n\\n'\n",
      "33| 'The'        'the'\n",
      "34| 'Second'     'Second'\n",
      "35| 'Epistle'    'Epistle'\n",
      "36| 'General'    'General'\n",
      "37| 'of'         'of'\n",
      "38| 'Peter'      'Peter'\n",
      "39| '\\n\\n'       '\\n\\n'\n",
      "40| 'The'        'the'\n",
      "41| 'Second'     'Second'\n",
      "42| 'Epistle'    'Epistle'\n",
      "43| 'of'         'of'\n",
      "44| 'Paul'       'Paul'\n",
      "45| 'to'         'to'\n",
      "46| 'the'        'the'\n",
      "47| 'Thessalonians' 'thessalonian'\n",
      "48| '\\n\\n'       '\\n\\n'\n",
      "49| 'The'        'the'\n",
      "50| 'First'      'First'\n",
      "51| 'Epistle'    'Epistle'\n",
      "52| 'of'         'of'\n",
      "53| 'Paul'       'Paul'\n",
      "54| 'the'        'the'\n",
      "55| 'Apostle'    'Apostle'\n",
      "56| 'to'         'to'\n",
      "57| 'Timothy'    'Timothy'\n",
      "58| '\\n\\n'       '\\n\\n'\n",
      "59| 'The'        'the'\n",
      "60| 'First'      'First'\n",
      "61| 'Epistle'    'Epistle'\n",
      "62| 'of'         'of'\n",
      "63| 'Paul'       'Paul'\n",
      "64| 'the'        'the'\n",
      "65| 'Apostle'    'Apostle'\n",
      "66| 'to'         'to'\n",
      "67| 'the'        'the'\n",
      "68| 'Thessalonians' 'thessalonian'\n",
      "69| '\\n\\n'       '\\n\\n'\n",
      "70| 'The'        'the'\n",
      "71| 'Epistle'    'Epistle'\n",
      "72| 'of'         'of'\n",
      "73| 'Paul'       'Paul'\n",
      "74| 'the'        'the'\n",
      "75| 'Apostle'    'Apostle'\n",
      "76| 'to'         'to'\n",
      "77| 'the'        'the'\n",
      "78| 'Colossians' 'colossian'\n",
      "79| '\\n\\n'       '\\n\\n'\n",
      "80| 'The'        'the'\n",
      "81| 'Epistle'    'Epistle'\n",
      "82| 'of'         'of'\n",
      "83| 'Paul'       'Paul'\n",
      "84| 'the'        'the'\n",
      "85| 'Apostle'    'Apostle'\n",
      "86| 'to'         'to'\n",
      "87| 'the'        'the'\n",
      "88| 'Ephesians'  'Ephesians'\n",
      "89| '\\n\\n'       '\\n\\n'\n",
      "90| 'The'        'the'\n",
      "91| 'Second'     'Second'\n",
      "92| 'Epistle'    'Epistle'\n",
      "93| 'of'         'of'\n",
      "94| 'Paul'       'Paul'\n",
      "95| 'the'        'the'\n",
      "96| 'Apostle'    'Apostle'\n",
      "97| 'to'         'to'\n",
      "98| 'Timothy'    'Timothy'\n",
      "99| '\\n\\n'       '\\n\\n'\n",
      "100| 'The'        'the'\n",
      "101| 'General'    'General'\n",
      "102| 'Epistle'    'Epistle'\n",
      "103| 'of'         'of'\n",
      "104| 'James'      'James'\n",
      "105| '\\n\\n'       '\\n\\n'\n",
      "106| 'The'        'the'\n",
      "107| 'First'      'First'\n",
      "108| 'Epistle'    'Epistle'\n",
      "109| 'General'    'General'\n",
      "110| 'of'         'of'\n",
      "111| 'Peter'      'Peter'\n",
      "112| '\\n\\n'       '\\n\\n'\n",
      "113| 'The'        'the'\n",
      "114| 'Epistle'    'Epistle'\n",
      "115| 'to'         'to'\n",
      "116| 'the'        'the'\n",
      "117| 'Hebrews'    'Hebrews'\n",
      "118| '\\n\\n'       '\\n\\n'\n",
      "119| 'The'        'the'\n",
      "120| 'Epistle'    'Epistle'\n",
      "121| 'of'         'of'\n",
      "122| 'Paul'       'Paul'\n",
      "123| 'to'         'to'\n",
      "124| 'Philemon'   'Philemon'\n",
      "125| '\\n\\n'       '\\n\\n'\n",
      "126| 'The'        'the'\n",
      "127| 'Epistle'    'Epistle'\n",
      "128| 'of'         'of'\n",
      "129| 'Paul'       'Paul'\n",
      "130| 'the'        'the'\n",
      "131| 'Apostle'    'Apostle'\n",
      "132| 'to'         'to'\n",
      "133| 'Titus'      'Titus'\n",
      "134| '\\n\\n'       '\\n\\n'\n",
      "135| 'The'        'the'\n",
      "136| 'Epistle'    'Epistle'\n",
      "137| 'of'         'of'\n",
      "138| 'Paul'       'Paul'\n",
      "139| 'the'        'the'\n",
      "140| 'Apostle'    'Apostle'\n",
      "141| 'to'         'to'\n",
      "142| 'the'        'the'\n",
      "143| 'Philippians' 'Philippians'\n",
      "144| '\\n\\n'       '\\n\\n'\n",
      "145| 'The'        'the'\n",
      "146| 'Book'       'Book'\n",
      "147| 'of'         'of'\n",
      "148| 'Ezra'       'Ezra'\n",
      "149| '\\n\\n'       '\\n\\n'\n",
      "150| 'The'        'the'\n",
      "151| 'Book'       'Book'\n",
      "152| 'of'         'of'\n",
      "153| 'Nehemiah'   'Nehemiah'\n",
      "154| '\\n\\n'       '\\n\\n'\n",
      "155| 'The'        'the'\n",
      "156| 'Book'       'Book'\n",
      "157| 'of'         'of'\n",
      "158| 'Esther'     'Esther'\n",
      "159| '\\n\\n'       '\\n\\n'\n",
      "160| 'The'        'the'\n",
      "161| 'Second'     'Second'\n",
      "162| 'Book'       'Book'\n",
      "163| 'of'         'of'\n",
      "164| 'Chronicles' 'Chronicles'\n",
      "165| '\\n\\n'       '\\n\\n'\n",
      "166| 'The'        'the'\n",
      "167| 'Second'     'Second'\n",
      "168| 'Book'       'Book'\n",
      "169| 'of'         'of'\n",
      "170| 'Kings'      'king'\n",
      "171| '\\n\\n'       '\\n\\n'\n",
      "172| 'The'        'the'\n",
      "173| 'First'      'First'\n",
      "174| 'Book'       'Book'\n",
      "175| 'of'         'of'\n",
      "176| 'Chronicles' 'Chronicles'\n",
      "177| '\\n\\n'       '\\n\\n'\n",
      "178| 'The'        'the'\n",
      "179| 'Book'       'Book'\n",
      "180| 'of'         'of'\n",
      "181| 'Job'        'Job'\n",
      "182| '\\n\\n'       '\\n\\n'\n",
      "183| 'The'        'the'\n",
      "184| 'Book'       'Book'\n",
      "185| 'of'         'of'\n",
      "186| 'the'        'the'\n",
      "187| 'Prophet'    'Prophet'\n",
      "188| 'Isaiah'     'Isaiah'\n",
      "189| '\\n\\n'       '\\n\\n'\n",
      "190| 'The'        'the'\n",
      "191| 'Book'       'Book'\n",
      "192| 'of'         'of'\n",
      "193| 'the'        'the'\n",
      "194| 'Prophet'    'Prophet'\n",
      "195| 'Jeremiah'   'Jeremiah'\n",
      "196| '\\n\\n'       '\\n\\n'\n",
      "197| 'The'        'the'\n",
      "198| 'Song'       'Song'\n",
      "199| 'of'         'of'\n",
      "200| 'Songs'      'Songs'\n",
      "201| ','          ','\n",
      "202| 'which'      'which'\n",
      "203| 'is'         'be'\n",
      "204| 'Solomon'    'Solomon'\n",
      "205| \"'s\"         \"'s\"\n",
      "206| '\\n\\n'       '\\n\\n'\n",
      "207| 'Ecclesiastes' 'ecclesiaste'\n",
      "208| 'or'         'or'\n",
      "209| ','          ','\n",
      "210| 'the'        'the'\n",
      "211| 'Preacher'   'Preacher'\n",
      "212| '\\n\\n'       '\\n\\n'\n",
      "213| 'The'        'the'\n",
      "214| 'Book'       'Book'\n",
      "215| 'of'         'of'\n",
      "216| 'Psalms'     'Psalms'\n",
      "217| '\\n\\n'       '\\n\\n'\n",
      "218| 'The'        'the'\n",
      "219| 'Book'       'Book'\n",
      "220| 'of'         'of'\n",
      "221| 'Proverbs'   'Proverbs'\n",
      "222| '\\n\\n'       '\\n\\n'\n",
      "223| 'The'        'the'\n",
      "224| 'First'      'First'\n",
      "225| 'Book'       'Book'\n",
      "226| 'of'         'of'\n",
      "227| 'Kings'      'king'\n",
      "228| '\\n\\n'       '\\n\\n'\n",
      "229| 'The'        'the'\n",
      "230| 'Second'     'Second'\n",
      "231| 'Book'       'Book'\n",
      "232| 'of'         'of'\n",
      "233| 'Samuel'     'Samuel'\n",
      "234| '\\n\\n'       '\\n\\n'\n",
      "235| 'The'        'the'\n",
      "236| 'First'      'First'\n",
      "237| 'Book'       'Book'\n",
      "238| 'of'         'of'\n",
      "239| 'Moses'      'Moses'\n",
      "240| ','          ','\n",
      "241| 'Called'     'call'\n",
      "242| 'Genesis'    'Genesis'\n",
      "243| '\\n\\n'       '\\n\\n'\n",
      "244| 'The'        'the'\n",
      "245| 'Second'     'Second'\n",
      "246| 'Book'       'Book'\n",
      "247| 'of'         'of'\n",
      "248| 'Moses'      'Moses'\n",
      "249| ','          ','\n",
      "250| 'Called'     'call'\n",
      "251| 'Exodus'     'Exodus'\n",
      "252| '\\n\\n'       '\\n\\n'\n",
      "253| 'Table'      'Table'\n",
      "254| 'of'         'of'\n",
      "255| 'Contents'   'Contents'\n",
      "256| ','          ','\n",
      "257| 'Old'        'Old'\n",
      "258| 'Testament'  'Testament'\n",
      "259| '\\n\\n\\n\\n'   '\\n\\n\\n\\n'\n",
      "260| 'The'        'the'\n",
      "261| 'Third'      'Third'\n",
      "262| 'Book'       'Book'\n",
      "263| 'of'         'of'\n",
      "264| 'Moses'      'Moses'\n",
      "265| ','          ','\n",
      "266| 'Called'     'call'\n",
      "267| 'Leviticus'  'Leviticus'\n",
      "268| '\\n\\n'       '\\n\\n'\n",
      "269| 'The'        'the'\n",
      "270| 'Fourth'     'Fourth'\n",
      "271| 'Book'       'Book'\n",
      "272| 'of'         'of'\n",
      "273| 'Moses'      'Moses'\n",
      "274| ','          ','\n",
      "275| 'Called'     'call'\n",
      "276| 'Numbers'    'Numbers'\n",
      "277| '\\n\\n'       '\\n\\n'\n",
      "278| 'The'        'the'\n",
      "279| 'Book'       'Book'\n",
      "280| 'of'         'of'\n",
      "281| 'Ruth'       'Ruth'\n",
      "282| '\\n\\n'       '\\n\\n'\n",
      "283| 'The'        'the'\n",
      "284| 'First'      'First'\n",
      "285| 'Book'       'Book'\n",
      "286| 'of'         'of'\n",
      "287| 'Samuel'     'Samuel'\n",
      "288| '\\n\\n'       '\\n\\n'\n",
      "289| 'The'        'the'\n",
      "290| 'Book'       'Book'\n",
      "291| 'of'         'of'\n",
      "292| 'Judges'     'Judges'\n",
      "293| '\\n\\n'       '\\n\\n'\n",
      "294| 'The'        'the'\n",
      "295| 'Fifth'      'Fifth'\n",
      "296| 'Book'       'Book'\n",
      "297| 'of'         'of'\n",
      "298| 'Moses'      'Moses'\n",
      "299| ','          ','\n",
      "300| 'called'     'call'\n",
      "301| 'Deuteronomy' 'Deuteronomy'\n",
      "302| '\\n\\n'       '\\n\\n'\n",
      "303| 'The'        'the'\n",
      "304| 'Book'       'Book'\n",
      "305| 'of'         'of'\n",
      "306| 'Joshua'     'Joshua'\n",
      "307| '\\n\\n'       '\\n\\n'\n",
      "308| 'The'        'the'\n",
      "309| 'Epistle'    'Epistle'\n",
      "310| 'of'         'of'\n",
      "311| 'Paul'       'Paul'\n",
      "312| 'the'        'the'\n",
      "313| 'Apostle'    'Apostle'\n",
      "314| 'to'         'to'\n",
      "315| 'the'        'the'\n",
      "316| 'Galatians'  'Galatians'\n",
      "317| '\\n\\n'       '\\n\\n'\n",
      "318| 'The'        'the'\n",
      "319| 'New'        'New'\n",
      "320| 'Testament'  'Testament'\n",
      "321| '\\n\\n'       '\\n\\n'\n",
      "322| 'The'        'the'\n",
      "323| 'Gospel'     'Gospel'\n",
      "324| 'According'  'accord'\n",
      "325| 'To'         'to'\n",
      "326| 'Matthew'    'Matthew'\n",
      "327| '\\n\\n'       '\\n\\n'\n",
      "328| 'The'        'the'\n",
      "329| 'Gospel'     'Gospel'\n",
      "330| 'According'  'accord'\n",
      "331| 'To'         'to'\n",
      "332| 'Mark'       'Mark'\n",
      "333| '\\n\\n'       '\\n\\n'\n",
      "334| 'The'        'the'\n",
      "335| 'Book'       'Book'\n",
      "336| 'of'         'of'\n",
      "337| 'the'        'the'\n",
      "338| 'Prophet'    'Prophet'\n",
      "339| 'Malachi'    'Malachi'\n",
      "340| '\\n\\n'       '\\n\\n'\n",
      "341| 'The'        'the'\n",
      "342| 'Lamentations' 'Lamentations'\n",
      "343| 'of'         'of'\n",
      "344| 'Jeremiah'   'Jeremiah'\n",
      "345| '\\n\\n'       '\\n\\n'\n",
      "346| 'The'        'the'\n",
      "347| 'Book'       'Book'\n",
      "348| 'of'         'of'\n",
      "349| 'the'        'the'\n",
      "350| 'Prophet'    'Prophet'\n",
      "351| 'Haggai'     'Haggai'\n",
      "352| '\\n\\n'       '\\n\\n'\n",
      "353| 'The'        'the'\n",
      "354| 'Book'       'Book'\n",
      "355| 'of'         'of'\n",
      "356| 'the'        'the'\n",
      "357| 'Prophet'    'Prophet'\n",
      "358| 'Zechariah'  'Zechariah'\n",
      "359| '\\n\\n'       '\\n\\n'\n",
      "360| 'The'        'the'\n",
      "361| 'Gospel'     'Gospel'\n",
      "362| 'According'  'accord'\n",
      "363| 'To'         'to'\n",
      "364| 'Mark'       'Mark'\n",
      "365| '\\n\\n'       '\\n\\n'\n",
      "366| 'The'        'the'\n",
      "367| 'First'      'First'\n",
      "368| 'Epistle'    'Epistle'\n",
      "369| 'of'         'of'\n",
      "370| 'Paul'       'Paul'\n",
      "371| 'the'        'the'\n",
      "372| 'Apostle'    'Apostle'\n",
      "373| 'to'         'to'\n",
      "374| 'the'        'the'\n",
      "375| 'Corinthians' 'Corinthians'\n",
      "376| '\\n\\n'       '\\n\\n'\n",
      "377| 'The'        'the'\n",
      "378| 'Second'     'Second'\n",
      "379| 'Epistle'    'Epistle'\n",
      "380| 'Of'         'of'\n",
      "381| 'Paul'       'Paul'\n",
      "382| 'The'        'the'\n",
      "383| 'Apostle'    'Apostle'\n",
      "384| 'To'         'to'\n",
      "385| 'The'        'the'\n",
      "386| 'Corinthians' 'corinthian'\n",
      "387| '\\n\\n'       '\\n\\n'\n",
      "388| 'The'        'the'\n",
      "389| 'Epistle'    'Epistle'\n",
      "390| 'of'         'of'\n",
      "391| 'Paul'       'Paul'\n",
      "392| 'to'         'to'\n",
      "393| 'the'        'the'\n",
      "394| 'Romans'     'Romans'\n",
      "395| '\\n\\n'       '\\n\\n'\n",
      "396| 'The'        'the'\n",
      "397| 'Acts'       'act'\n",
      "398| 'of'         'of'\n",
      "399| 'the'        'the'\n",
      "400| 'Apostles'   'apostle'\n",
      "401| '\\n\\n'       '\\n\\n'\n",
      "402| 'The'        'the'\n",
      "403| 'Gospel'     'Gospel'\n",
      "404| 'According'  'accord'\n",
      "405| 'To'         'to'\n",
      "406| 'Luke'       'Luke'\n",
      "407| '\\n\\n'       '\\n\\n'\n",
      "408| 'The'        'the'\n",
      "409| 'Gospel'     'Gospel'\n",
      "410| 'According'  'accord'\n",
      "411| 'To'         'to'\n",
      "412| 'John'       'John'\n",
      "413| '\\n\\n'       '\\n\\n'\n",
      "414| 'The'        'the'\n",
      "415| 'Book'       'Book'\n",
      "416| 'of'         'of'\n",
      "417| 'the'        'the'\n",
      "418| 'Prophet'    'Prophet'\n",
      "419| 'Zephaniah'  'Zephaniah'\n",
      "420| '\\n\\n'       '\\n\\n'\n",
      "421| 'The'        'the'\n",
      "422| 'Book'       'Book'\n",
      "423| 'of'         'of'\n",
      "424| 'the'        'the'\n",
      "425| 'Prophet'    'Prophet'\n",
      "426| 'Habakkuk'   'Habakkuk'\n",
      "427| '\\n\\n'       '\\n\\n'\n",
      "428| 'The'        'the'\n",
      "429| 'Book'       'Book'\n",
      "430| 'of'         'of'\n",
      "431| 'the'        'the'\n",
      "432| 'Prophet'    'Prophet'\n",
      "433| 'Amos'       'Amos'\n",
      "434| '\\n\\n'       '\\n\\n'\n",
      "435| 'The'        'the'\n",
      "436| 'Book'       'Book'\n",
      "437| 'of'         'of'\n",
      "438| 'the'        'the'\n",
      "439| 'Prophet'    'Prophet'\n",
      "440| 'Joel'       'Joel'\n",
      "441| '\\n\\n'       '\\n\\n'\n",
      "442| 'The'        'the'\n",
      "443| 'Book'       'Book'\n",
      "444| 'of'         'of'\n",
      "445| 'the'        'the'\n",
      "446| 'Prophet'    'Prophet'\n",
      "447| 'Hosea'      'Hosea'\n",
      "448| '\\n\\n'       '\\n\\n'\n",
      "449| 'The'        'the'\n",
      "450| 'Book'       'Book'\n",
      "451| 'of'         'of'\n",
      "452| 'the'        'the'\n",
      "453| 'Prophet'    'Prophet'\n",
      "454| 'Daniel'     'Daniel'\n",
      "455| '\\n\\n'       '\\n\\n'\n",
      "456| 'TheBook'    'TheBook'\n",
      "457| 'of'         'of'\n",
      "458| 'the'        'the'\n",
      "459| 'Prophet'    'Prophet'\n",
      "460| 'Ezekiel'    'Ezekiel'\n",
      "461| '\\n\\n'       '\\n\\n'\n",
      "462| 'The'        'the'\n",
      "463| 'Book'       'Book'\n",
      "464| 'of'         'of'\n",
      "465| 'the'        'the'\n",
      "466| 'Prophet'    'Prophet'\n",
      "467| 'Obadiah'    'Obadiah'\n",
      "468| '\\n\\n'       '\\n\\n'\n",
      "469| 'The'        'the'\n",
      "470| 'Book'       'Book'\n",
      "471| 'of'         'of'\n",
      "472| 'the'        'the'\n",
      "473| 'Prophet'    'Prophet'\n",
      "474| 'Jonah'      'Jonah'\n",
      "475| '\\n\\n'       '\\n\\n'\n",
      "476| 'The'        'the'\n",
      "477| 'Book'       'Book'\n",
      "478| 'of'         'of'\n",
      "479| 'the'        'the'\n",
      "480| 'Prophet'    'Prophet'\n",
      "481| 'Micah'      'Micah'\n",
      "482| '\\n\\n'       '\\n\\n'\n",
      "483| 'The'        'the'\n",
      "484| 'Book'       'Book'\n",
      "485| 'of'         'of'\n",
      "486| 'the'        'the'\n",
      "487| 'Prophet'    'Prophet'\n",
      "488| 'Nahum'      'Nahum'\n",
      "489| '\\n\\n'       '\\n\\n'\n",
      "490| 'The'        'the'\n",
      "491| '\\n\\n\\n\\n'   '\\n\\n\\n\\n'\n",
      "492| 'HOLY'       'HOLY'\n",
      "493| 'BIBLE'      'BIBLE'\n",
      "494| '\\n\\n\\n\\n'   '\\n\\n\\n\\n'\n",
      "495| 'Containing' 'contain'\n",
      "496| '\\n\\n\\n\\n'   '\\n\\n\\n\\n'\n",
      "497| 'the'        'the'\n",
      "498| 'Old'        'old'\n",
      "499| 'and'        'and'\n",
      "500| 'New'        'New'\n",
      "501| 'Testaments' 'Testaments'\n",
      "502| '\\n\\n\\n\\n\\n\\n' '\\n\\n\\n\\n\\n\\n'\n",
      "503| 'August'     'August'\n",
      "504| '2'          '2'\n",
      "505| ','          ','\n",
      "506| '2020'       '2020'\n",
      "507| 'Edition'    'edition'\n",
      "508| '\\n\\n\\n\\n'   '\\n\\n\\n\\n'\n",
      "509| 'Not'        'not'\n",
      "510| 'copyrighted' 'copyright'\n",
      "511| ','          ','\n",
      "512| 'and'        'and'\n",
      "513| 'freely'     'freely'\n",
      "514| 'available'  'available'\n",
      "515| 'from'       'from'\n",
      "516| ':'          ':'\n",
      "517| '\\n\\n'       '\\n\\n'\n",
      "518| 'http://bibletranslation.ws/palmer-translation/' 'http://bibletranslation.ws/palmer-translation/'\n",
      "519| '\\n\\n\\t\\t\\t\\t\\t\\t\\t' '\\n\\n\\t\\t\\t\\t\\t\\t\\t'\n",
      "520| 'ipfs://bibletranslation.crypto' 'ipfs://bibletranslation.crypto'\n",
      "521| '\\n\\n\\t\\t\\t\\t\\t\\t\\t' '\\n\\n\\t\\t\\t\\t\\t\\t\\t'\n",
      "522| 'ipfs://bibletranslation.zil' 'ipfs://bibletranslation.zil'\n",
      "523| '\\n\\n'       '\\n\\n'\n",
      "524| 'ipfs://ebibles.crypto' 'ipfs://ebibles.crypto'\n",
      "525| '\\n\\n'       '\\n\\n'\n",
      "526| 'ipfs://ebibles.zil' 'ipfs://ebibles.zil'\n",
      "527| '\\n\\n'       '\\n\\n'\n",
      "528| 'Check'      'check'\n",
      "529| 'for'        'for'\n",
      "530| 'updates'    'update'\n",
      "531| ';'          ';'\n",
      "532| 'this'       'this'\n",
      "533| 'file'       'file'\n",
      "534| 'is'         'be'\n",
      "535| 'located'    'locate'\n",
      "536| 'at'         'at'\n",
      "537| ':'          ':'\n",
      "538| '\\n'         '\\n'\n",
      "539| 'http://bibletranslation.ws/trans/holybible.pdf' 'http://bibletranslation.ws/trans/holybible.pdf'\n",
      "540| ' \\n\\n\\n\\n\\t' ' \\n\\n\\n\\n\\t'\n",
      "541| 'Individual' 'individual'\n",
      "542| 'books'      'book'\n",
      "543| 'of'         'of'\n",
      "544| 'this'       'this'\n",
      "545| 'translation' 'translation'\n",
      "546| 'now'        'now'\n",
      "547| 'being'      'be'\n",
      "548| 'made'       'make'\n",
      "549| 'available'  'available'\n",
      "550| 'on'         'on'\n",
      "551| 'Amazon'     'Amazon'\n",
      "552| '.'          '.'\n"
     ]
    }
   ],
   "source": [
    "## spaCy\n",
    "print('i | Token        Lemma')\n",
    "print('--| ------------ ------------')\n",
    "for i, t in enumerate(doc):\n",
    "    print('%2d| %-12r %r' % (i+1, t.text, t.lemma_))\n",
    "    if t.text == '.':\n",
    "        break"
   ]
  },
  {
   "cell_type": "code",
   "execution_count": 121,
   "metadata": {},
   "outputs": [
    {
     "data": {
      "image/png": "[encoded data removed]",
      "text/plain": [
       "<Figure size 1152x432 with 1 Axes>"
      ]
     },
     "metadata": {
      "needs_background": "light"
     },
     "output_type": "display_data"
    }
   ],
   "source": [
    "plot_words(['%r' % t.lemma_ for t in doc if not (t.is_stop | t.is_punct)])"
   ]
  },
  {
   "cell_type": "markdown",
   "metadata": {},
   "source": [
    "# Identify Entities"
   ]
  },
  {
   "cell_type": "markdown",
   "metadata": {},
   "source": [
    "## spaCy\n",
    "for i, s in enumerate(doc.sents):\n",
    "    print('%2d: %s' % (i, re.sub(r'\\n+', '', s.text)))\n",
    "    if s.as_doc().ents:\n",
    "        print('-'*80)\n",
    "        for e in s.as_doc().ents:\n",
    "            print('%-11s: %s' % (e.label_, re.sub(r'\\n+', '', e.text)))\n",
    "    print('='*80)"
   ]
  },
  {
   "cell_type": "code",
   "execution_count": null,
   "metadata": {},
   "outputs": [],
   "source": []
  },
  {
   "cell_type": "markdown",
   "metadata": {},
   "source": [
    "# Tokenise"
   ]
  },
  {
   "cell_type": "code",
   "execution_count": 122,
   "metadata": {},
   "outputs": [],
   "source": [
    "# use nltk to find tokens\n",
    "tokens = nltk.word_tokenize(my_text)\n",
    "\n",
    "#for i, t in enumerate(tokens[:25]):\n",
    "#    print('%2d| %r' % (i+1, t))"
   ]
  },
  {
   "cell_type": "code",
   "execution_count": 123,
   "metadata": {},
   "outputs": [
    {
     "data": {
      "image/png": "[encoded data removed]",
      "text/plain": [
       "<Figure size 1152x432 with 1 Axes>"
      ]
     },
     "metadata": {
      "needs_background": "light"
     },
     "output_type": "display_data"
    }
   ],
   "source": [
    "plot_words(tokens)"
   ]
  },
  {
   "cell_type": "code",
   "execution_count": null,
   "metadata": {},
   "outputs": [],
   "source": []
  },
  {
   "cell_type": "code",
   "execution_count": 124,
   "metadata": {},
   "outputs": [],
   "source": [
    "pos_list = {\n",
    "    'CC':   'coordinating conjunction',\n",
    "    'CD':   'cardinal digit',\n",
    "    'DT':   'determiner',\n",
    "    'EX':   'existential there (like: \"there is\" ... think of it like \"there exists\")',\n",
    "    'FW':   'foreign word',\n",
    "    'IN':   'preposition/subordinating conjunction',\n",
    "    'JJ':   'adjective \"big\"',\n",
    "    'JJR':  'adjective, comparative \"bigger\"',\n",
    "    'JJS':  'adjective, superlative \"biggest\"',\n",
    "    'LS':   'list marker 1)',\n",
    "    'MD':   'modal could, will',\n",
    "    'NN':   'noun, singular \"desk\"',\n",
    "    'NNS':  'noun plural \"desks\"',\n",
    "    'NNP':  'proper noun, singular \"Harrison\"',\n",
    "    'NNPS': 'proper noun, plural \"Americans\"',\n",
    "    'PDT':  'predeterminer \"all the kids\"',\n",
    "    'POS':  'possessive ending parent\"s',\n",
    "    'PRP':  'personal pronoun I, he, she',\n",
    "    'PRP$': 'possessive pronoun my, his, hers',\n",
    "    'RB':   'adverb very, silently,',\n",
    "    'RBR':  'adverb, comparative better',\n",
    "    'RBS':  'adverb, superlative best',\n",
    "    'RP':   'particle give up',\n",
    "    'TO':   'to go \"to\" the store.',\n",
    "    'UH':   'interjection errrrrrrrm',\n",
    "    'VB':   'verb, base form take',\n",
    "    'VBD':  'verb, past tense took',\n",
    "    'VBG':  'verb, gerund/present participle taking',\n",
    "    'VBN':  'verb, past participle taken',\n",
    "    'VBP':  'verb, sing. present, non-3d take',\n",
    "    'VBZ':  'verb, 3rd person sing. present takes',\n",
    "    'WDT':  'wh-determiner which',\n",
    "    'WP':   'wh-pronoun who, what',\n",
    "    'WP$':  'possessive wh-pronoun whose',\n",
    "    'WRB':  'wh-abverb where, when',\n",
    "}"
   ]
  },
  {
   "cell_type": "code",
   "execution_count": 125,
   "metadata": {
    "scrolled": false
   },
   "outputs": [],
   "source": [
    "## nltk\n",
    "tagged = nltk.pos_tag(tokens)\n",
    "\n",
    "#for i, t in enumerate(tagged[:50]):\n",
    "#    print('%2d|%-12r : %-4s %s' % (i+1, t[0], t[1], (pos_list[t[1]] if t[1] in pos_list else '-')))"
   ]
  },
  {
   "cell_type": "markdown",
   "metadata": {},
   "source": [
    "# stemming"
   ]
  },
  {
   "cell_type": "code",
   "execution_count": 126,
   "metadata": {},
   "outputs": [],
   "source": [
    "## nltk\n",
    "ps = nltk.porter.PorterStemmer()\n",
    "stemmed = ' '.join([ps.stem(word) for word in my_text.split()])"
   ]
  },
  {
   "cell_type": "markdown",
   "metadata": {},
   "source": [
    "### Lemmatization"
   ]
  },
  {
   "cell_type": "code",
   "execution_count": 127,
   "metadata": {},
   "outputs": [],
   "source": [
    "## nltk\n",
    "wl = nltk.stem.WordNetLemmatizer()\n",
    "lemma = ' '.join([wl.lemmatize(word) for word in my_text.split()])"
   ]
  },
  {
   "cell_type": "code",
   "execution_count": 128,
   "metadata": {},
   "outputs": [],
   "source": [
    "## nltk\n",
    "dot = stemmed.find('.') + 1\n",
    "sl = stemmed[:dot].split()\n",
    "dot = lemma.find('.') + 1\n",
    "ll = lemma[:dot].split()\n",
    "\n"
   ]
  },
  {
   "cell_type": "markdown",
   "metadata": {},
   "source": [
    "print('i | Stem           Lemma')\n",
    "print('--| -------------- ------------')\n",
    "for i, p in enumerate(zip(sl, ll)):\n",
    "    print('%2d| %-12r   %-12r' % (i+1, p[0], p[1]))"
   ]
  },
  {
   "cell_type": "code",
   "execution_count": 129,
   "metadata": {
    "scrolled": true
   },
   "outputs": [
    {
     "data": {
      "image/png": "[encoded data removed]",
      "text/plain": [
       "<Figure size 1152x432 with 1 Axes>"
      ]
     },
     "metadata": {
      "needs_background": "light"
     },
     "output_type": "display_data"
    }
   ],
   "source": [
    "plot_words(stemmed.split())"
   ]
  },
  {
   "cell_type": "code",
   "execution_count": 130,
   "metadata": {},
   "outputs": [
    {
     "data": {
      "image/png": "[encoded data removed]",
      "text/plain": [
       "<Figure size 1152x432 with 1 Axes>"
      ]
     },
     "metadata": {
      "needs_background": "light"
     },
     "output_type": "display_data"
    }
   ],
   "source": [
    "plot_words(lemma.split())"
   ]
  },
  {
   "cell_type": "markdown",
   "metadata": {},
   "source": [
    "# Identities"
   ]
  },
  {
   "cell_type": "code",
   "execution_count": 131,
   "metadata": {},
   "outputs": [],
   "source": [
    "## nltk\n",
    "entities = nltk.chunk.ne_chunk(tagged)\n",
    "\n",
    "for e in entities:\n",
    "    s = re.sub(r'[\\(\\)]', '', str(e))\n",
    "    if s.find('/NNP') > 0:\n",
    "        t = s.split()[0]\n",
    "        n = ' '.join([re.sub(r'/NNP', '', x) for x in s.split()[1:]])\n",
    "        #print('%-12s: %s' % (t, n))"
   ]
  },
  {
   "cell_type": "code",
   "execution_count": 132,
   "metadata": {},
   "outputs": [
    {
     "data": {
      "text/plain": [
       "nltk.tree.Tree"
      ]
     },
     "execution_count": 132,
     "metadata": {},
     "output_type": "execute_result"
    }
   ],
   "source": [
    "type(entities)"
   ]
  },
  {
   "cell_type": "code",
   "execution_count": 133,
   "metadata": {},
   "outputs": [],
   "source": [
    "#Combo['Catc'] =[]"
   ]
  },
  {
   "cell_type": "code",
   "execution_count": null,
   "metadata": {},
   "outputs": [],
   "source": []
  },
  {
   "cell_type": "code",
   "execution_count": 134,
   "metadata": {},
   "outputs": [],
   "source": [
    "typea=[]\n",
    "Type_Detail=[]\n",
    "for e in entities:\n",
    "    s = re.sub(r'[\\(\\)]', '', str(e))\n",
    "    if s.find('/NNP') > 0:\n",
    "        t = s.split()[0]\n",
    "        n = ' '.join([re.sub(r'/NNP', '', x) for x in s.split()[1:]])\n",
    "        #print('%-12s: %s' % (t, n))\n",
    "        typea.append(t)\n",
    "        Type_Detail.append(n)"
   ]
  },
  {
   "cell_type": "code",
   "execution_count": 135,
   "metadata": {},
   "outputs": [],
   "source": [
    "#print(typea)"
   ]
  },
  {
   "cell_type": "code",
   "execution_count": 136,
   "metadata": {},
   "outputs": [],
   "source": [
    "#print(typea)"
   ]
  },
  {
   "cell_type": "code",
   "execution_count": 137,
   "metadata": {},
   "outputs": [],
   "source": [
    "typea2=pd.DataFrame( list(reader(typea)))\n",
    "Type_Detail=pd.DataFrame( list(reader(Type_Detail)))\n"
   ]
  },
  {
   "cell_type": "code",
   "execution_count": 138,
   "metadata": {},
   "outputs": [
    {
     "name": "stdout",
     "output_type": "stream",
     "text": [
      "<class 'pandas.core.frame.DataFrame'>\n"
     ]
    }
   ],
   "source": [
    "print(type(Type_Detail))"
   ]
  },
  {
   "cell_type": "code",
   "execution_count": 139,
   "metadata": {},
   "outputs": [],
   "source": [
    "#typea2"
   ]
  },
  {
   "cell_type": "code",
   "execution_count": 140,
   "metadata": {},
   "outputs": [
    {
     "data": {
      "text/html": [
       "<div>\n",
       "<style scoped>\n",
       "    .dataframe tbody tr th:only-of-type {\n",
       "        vertical-align: middle;\n",
       "    }\n",
       "\n",
       "    .dataframe tbody tr th {\n",
       "        vertical-align: top;\n",
       "    }\n",
       "\n",
       "    .dataframe thead th {\n",
       "        text-align: right;\n",
       "    }\n",
       "</style>\n",
       "<table border=\"1\" class=\"dataframe\">\n",
       "  <thead>\n",
       "    <tr style=\"text-align: right;\">\n",
       "      <th></th>\n",
       "      <th>0</th>\n",
       "    </tr>\n",
       "  </thead>\n",
       "  <tbody>\n",
       "    <tr>\n",
       "      <th>0</th>\n",
       "      <td>Revelation</td>\n",
       "    </tr>\n",
       "    <tr>\n",
       "      <th>1</th>\n",
       "      <td>John</td>\n",
       "    </tr>\n",
       "    <tr>\n",
       "      <th>2</th>\n",
       "      <td>General Epistle</td>\n",
       "    </tr>\n",
       "    <tr>\n",
       "      <th>3</th>\n",
       "      <td>Second Epistle</td>\n",
       "    </tr>\n",
       "    <tr>\n",
       "      <th>4</th>\n",
       "      <td>John</td>\n",
       "    </tr>\n",
       "    <tr>\n",
       "      <th>...</th>\n",
       "      <td>...</td>\n",
       "    </tr>\n",
       "    <tr>\n",
       "      <th>40174</th>\n",
       "      <td>Come</td>\n",
       "    </tr>\n",
       "    <tr>\n",
       "      <th>40175</th>\n",
       "      <td>God</td>\n",
       "    </tr>\n",
       "    <tr>\n",
       "      <th>40176</th>\n",
       "      <td>God</td>\n",
       "    </tr>\n",
       "    <tr>\n",
       "      <th>40177</th>\n",
       "      <td>Lord Jesus</td>\n",
       "    </tr>\n",
       "    <tr>\n",
       "      <th>40178</th>\n",
       "      <td>Lord Jesus</td>\n",
       "    </tr>\n",
       "  </tbody>\n",
       "</table>\n",
       "<p>40179 rows × 1 columns</p>\n",
       "</div>"
      ],
      "text/plain": [
       "                     0\n",
       "0           Revelation\n",
       "1                 John\n",
       "2      General Epistle\n",
       "3       Second Epistle\n",
       "4                 John\n",
       "...                ...\n",
       "40174             Come\n",
       "40175              God\n",
       "40176              God\n",
       "40177       Lord Jesus\n",
       "40178       Lord Jesus\n",
       "\n",
       "[40179 rows x 1 columns]"
      ]
     },
     "execution_count": 140,
     "metadata": {},
     "output_type": "execute_result"
    }
   ],
   "source": [
    "Type_Detail"
   ]
  },
  {
   "cell_type": "code",
   "execution_count": 141,
   "metadata": {},
   "outputs": [],
   "source": [
    "Type_Detail['Detail'] = Type_Detail"
   ]
  },
  {
   "cell_type": "code",
   "execution_count": 142,
   "metadata": {},
   "outputs": [],
   "source": [
    "Type_Detail['Category'] = typea2"
   ]
  },
  {
   "cell_type": "code",
   "execution_count": 143,
   "metadata": {},
   "outputs": [],
   "source": [
    "#typea2"
   ]
  },
  {
   "cell_type": "code",
   "execution_count": 144,
   "metadata": {},
   "outputs": [
    {
     "data": {
      "text/html": [
       "<div>\n",
       "<style scoped>\n",
       "    .dataframe tbody tr th:only-of-type {\n",
       "        vertical-align: middle;\n",
       "    }\n",
       "\n",
       "    .dataframe tbody tr th {\n",
       "        vertical-align: top;\n",
       "    }\n",
       "\n",
       "    .dataframe thead th {\n",
       "        text-align: right;\n",
       "    }\n",
       "</style>\n",
       "<table border=\"1\" class=\"dataframe\">\n",
       "  <thead>\n",
       "    <tr style=\"text-align: right;\">\n",
       "      <th></th>\n",
       "      <th>0</th>\n",
       "      <th>Detail</th>\n",
       "      <th>Category</th>\n",
       "    </tr>\n",
       "  </thead>\n",
       "  <tbody>\n",
       "    <tr>\n",
       "      <th>0</th>\n",
       "      <td>Revelation</td>\n",
       "      <td>Revelation</td>\n",
       "      <td>ORGANIZATION</td>\n",
       "    </tr>\n",
       "    <tr>\n",
       "      <th>1</th>\n",
       "      <td>John</td>\n",
       "      <td>John</td>\n",
       "      <td>PERSON</td>\n",
       "    </tr>\n",
       "    <tr>\n",
       "      <th>2</th>\n",
       "      <td>General Epistle</td>\n",
       "      <td>General Epistle</td>\n",
       "      <td>ORGANIZATION</td>\n",
       "    </tr>\n",
       "    <tr>\n",
       "      <th>3</th>\n",
       "      <td>Second Epistle</td>\n",
       "      <td>Second Epistle</td>\n",
       "      <td>ORGANIZATION</td>\n",
       "    </tr>\n",
       "    <tr>\n",
       "      <th>4</th>\n",
       "      <td>John</td>\n",
       "      <td>John</td>\n",
       "      <td>PERSON</td>\n",
       "    </tr>\n",
       "    <tr>\n",
       "      <th>...</th>\n",
       "      <td>...</td>\n",
       "      <td>...</td>\n",
       "      <td>...</td>\n",
       "    </tr>\n",
       "    <tr>\n",
       "      <th>40174</th>\n",
       "      <td>Come</td>\n",
       "      <td>Come</td>\n",
       "      <td>ORGANIZATION</td>\n",
       "    </tr>\n",
       "    <tr>\n",
       "      <th>40175</th>\n",
       "      <td>God</td>\n",
       "      <td>God</td>\n",
       "      <td>PERSON</td>\n",
       "    </tr>\n",
       "    <tr>\n",
       "      <th>40176</th>\n",
       "      <td>God</td>\n",
       "      <td>God</td>\n",
       "      <td>PERSON</td>\n",
       "    </tr>\n",
       "    <tr>\n",
       "      <th>40177</th>\n",
       "      <td>Lord Jesus</td>\n",
       "      <td>Lord Jesus</td>\n",
       "      <td>PERSON</td>\n",
       "    </tr>\n",
       "    <tr>\n",
       "      <th>40178</th>\n",
       "      <td>Lord Jesus</td>\n",
       "      <td>Lord Jesus</td>\n",
       "      <td>ORGANIZATION</td>\n",
       "    </tr>\n",
       "  </tbody>\n",
       "</table>\n",
       "<p>40179 rows × 3 columns</p>\n",
       "</div>"
      ],
      "text/plain": [
       "                     0           Detail      Category\n",
       "0           Revelation       Revelation  ORGANIZATION\n",
       "1                 John             John        PERSON\n",
       "2      General Epistle  General Epistle  ORGANIZATION\n",
       "3       Second Epistle   Second Epistle  ORGANIZATION\n",
       "4                 John             John        PERSON\n",
       "...                ...              ...           ...\n",
       "40174             Come             Come  ORGANIZATION\n",
       "40175              God              God        PERSON\n",
       "40176              God              God        PERSON\n",
       "40177       Lord Jesus       Lord Jesus        PERSON\n",
       "40178       Lord Jesus       Lord Jesus  ORGANIZATION\n",
       "\n",
       "[40179 rows x 3 columns]"
      ]
     },
     "execution_count": 144,
     "metadata": {},
     "output_type": "execute_result"
    }
   ],
   "source": [
    "Type_Detail"
   ]
  },
  {
   "cell_type": "code",
   "execution_count": 145,
   "metadata": {},
   "outputs": [],
   "source": [
    "#Type_Detail['Category'] = typea2['Category'] "
   ]
  },
  {
   "cell_type": "code",
   "execution_count": 146,
   "metadata": {},
   "outputs": [
    {
     "data": {
      "text/plain": [
       "GPE             18545\n",
       "PERSON          16793\n",
       "ORGANIZATION     4349\n",
       "FACILITY          243\n",
       "GSP               206\n",
       "LOCATION           43\n",
       "Name: Category, dtype: int64"
      ]
     },
     "execution_count": 146,
     "metadata": {},
     "output_type": "execute_result"
    }
   ],
   "source": [
    "Type_Detail['Category'].value_counts()"
   ]
  },
  {
   "cell_type": "code",
   "execution_count": 147,
   "metadata": {},
   "outputs": [
    {
     "data": {
      "text/html": [
       "<div>\n",
       "<style scoped>\n",
       "    .dataframe tbody tr th:only-of-type {\n",
       "        vertical-align: middle;\n",
       "    }\n",
       "\n",
       "    .dataframe tbody tr th {\n",
       "        vertical-align: top;\n",
       "    }\n",
       "\n",
       "    .dataframe thead th {\n",
       "        text-align: right;\n",
       "    }\n",
       "</style>\n",
       "<table border=\"1\" class=\"dataframe\">\n",
       "  <thead>\n",
       "    <tr style=\"text-align: right;\">\n",
       "      <th></th>\n",
       "      <th>0</th>\n",
       "      <th>Detail</th>\n",
       "      <th>Category</th>\n",
       "    </tr>\n",
       "  </thead>\n",
       "  <tbody>\n",
       "    <tr>\n",
       "      <th>0</th>\n",
       "      <td>Revelation</td>\n",
       "      <td>Revelation</td>\n",
       "      <td>ORGANIZATION</td>\n",
       "    </tr>\n",
       "    <tr>\n",
       "      <th>1</th>\n",
       "      <td>John</td>\n",
       "      <td>John</td>\n",
       "      <td>PERSON</td>\n",
       "    </tr>\n",
       "    <tr>\n",
       "      <th>2</th>\n",
       "      <td>General Epistle</td>\n",
       "      <td>General Epistle</td>\n",
       "      <td>ORGANIZATION</td>\n",
       "    </tr>\n",
       "    <tr>\n",
       "      <th>3</th>\n",
       "      <td>Second Epistle</td>\n",
       "      <td>Second Epistle</td>\n",
       "      <td>ORGANIZATION</td>\n",
       "    </tr>\n",
       "    <tr>\n",
       "      <th>4</th>\n",
       "      <td>John</td>\n",
       "      <td>John</td>\n",
       "      <td>PERSON</td>\n",
       "    </tr>\n",
       "  </tbody>\n",
       "</table>\n",
       "</div>"
      ],
      "text/plain": [
       "                 0           Detail      Category\n",
       "0       Revelation       Revelation  ORGANIZATION\n",
       "1             John             John        PERSON\n",
       "2  General Epistle  General Epistle  ORGANIZATION\n",
       "3   Second Epistle   Second Epistle  ORGANIZATION\n",
       "4             John             John        PERSON"
      ]
     },
     "execution_count": 147,
     "metadata": {},
     "output_type": "execute_result"
    }
   ],
   "source": [
    "Type_Detail.head()"
   ]
  },
  {
   "cell_type": "code",
   "execution_count": 148,
   "metadata": {},
   "outputs": [],
   "source": [
    "Type_Detail['Concat'] = (Type_Detail['Detail'] + Type_Detail['Category'])"
   ]
  },
  {
   "cell_type": "code",
   "execution_count": 149,
   "metadata": {},
   "outputs": [
    {
     "data": {
      "text/plain": [
       "(40179, 4)"
      ]
     },
     "execution_count": 149,
     "metadata": {},
     "output_type": "execute_result"
    }
   ],
   "source": [
    "Type_Detail.shape"
   ]
  },
  {
   "cell_type": "code",
   "execution_count": 150,
   "metadata": {},
   "outputs": [],
   "source": [
    "Type_Detail_Full = Type_Detail.copy()"
   ]
  },
  {
   "cell_type": "code",
   "execution_count": 151,
   "metadata": {},
   "outputs": [
    {
     "data": {
      "text/html": [
       "<div>\n",
       "<style scoped>\n",
       "    .dataframe tbody tr th:only-of-type {\n",
       "        vertical-align: middle;\n",
       "    }\n",
       "\n",
       "    .dataframe tbody tr th {\n",
       "        vertical-align: top;\n",
       "    }\n",
       "\n",
       "    .dataframe thead th {\n",
       "        text-align: right;\n",
       "    }\n",
       "</style>\n",
       "<table border=\"1\" class=\"dataframe\">\n",
       "  <thead>\n",
       "    <tr style=\"text-align: right;\">\n",
       "      <th></th>\n",
       "      <th>Detail</th>\n",
       "    </tr>\n",
       "  </thead>\n",
       "  <tbody>\n",
       "    <tr>\n",
       "      <th>Yahweh</th>\n",
       "      <td>2593</td>\n",
       "    </tr>\n",
       "    <tr>\n",
       "      <th>David</th>\n",
       "      <td>1110</td>\n",
       "    </tr>\n",
       "    <tr>\n",
       "      <th>God</th>\n",
       "      <td>571</td>\n",
       "    </tr>\n",
       "    <tr>\n",
       "      <th>Jesus</th>\n",
       "      <td>519</td>\n",
       "    </tr>\n",
       "    <tr>\n",
       "      <th>Aaron</th>\n",
       "      <td>276</td>\n",
       "    </tr>\n",
       "    <tr>\n",
       "      <th>Saul</th>\n",
       "      <td>268</td>\n",
       "    </tr>\n",
       "    <tr>\n",
       "      <th>Jacob</th>\n",
       "      <td>267</td>\n",
       "    </tr>\n",
       "    <tr>\n",
       "      <th>O Yahweh</th>\n",
       "      <td>250</td>\n",
       "    </tr>\n",
       "    <tr>\n",
       "      <th>Moses</th>\n",
       "      <td>223</td>\n",
       "    </tr>\n",
       "    <tr>\n",
       "      <th>Solomon</th>\n",
       "      <td>218</td>\n",
       "    </tr>\n",
       "    <tr>\n",
       "      <th>Judah</th>\n",
       "      <td>201</td>\n",
       "    </tr>\n",
       "    <tr>\n",
       "      <th>Paul</th>\n",
       "      <td>180</td>\n",
       "    </tr>\n",
       "    <tr>\n",
       "      <th>Thus</th>\n",
       "      <td>172</td>\n",
       "    </tr>\n",
       "    <tr>\n",
       "      <th>Joseph</th>\n",
       "      <td>167</td>\n",
       "    </tr>\n",
       "    <tr>\n",
       "      <th>Babylon</th>\n",
       "      <td>161</td>\n",
       "    </tr>\n",
       "    <tr>\n",
       "      <th>John</th>\n",
       "      <td>149</td>\n",
       "    </tr>\n",
       "    <tr>\n",
       "      <th>Joshua</th>\n",
       "      <td>145</td>\n",
       "    </tr>\n",
       "    <tr>\n",
       "      <th>Peter</th>\n",
       "      <td>135</td>\n",
       "    </tr>\n",
       "    <tr>\n",
       "      <th>Pharaoh</th>\n",
       "      <td>132</td>\n",
       "    </tr>\n",
       "    <tr>\n",
       "      <th>Abraham</th>\n",
       "      <td>132</td>\n",
       "    </tr>\n",
       "  </tbody>\n",
       "</table>\n",
       "</div>"
      ],
      "text/plain": [
       "          Detail\n",
       "Yahweh      2593\n",
       "David       1110\n",
       "God          571\n",
       "Jesus        519\n",
       "Aaron        276\n",
       "Saul         268\n",
       "Jacob        267\n",
       "O Yahweh     250\n",
       "Moses        223\n",
       "Solomon      218\n",
       "Judah        201\n",
       "Paul         180\n",
       "Thus         172\n",
       "Joseph       167\n",
       "Babylon      161\n",
       "John         149\n",
       "Joshua       145\n",
       "Peter        135\n",
       "Pharaoh      132\n",
       "Abraham      132"
      ]
     },
     "execution_count": 151,
     "metadata": {},
     "output_type": "execute_result"
    }
   ],
   "source": [
    "People_Full = Type_Detail_Full[Type_Detail_Full['Category'] =='PERSON']\n",
    "People_List = People_Full['Detail'].value_counts()\n",
    "People_List=pd.DataFrame(People_List) #, columns = 'çount')\n",
    "People_List.head(20)"
   ]
  },
  {
   "cell_type": "code",
   "execution_count": 152,
   "metadata": {},
   "outputs": [
    {
     "data": {
      "text/html": [
       "<div>\n",
       "<style scoped>\n",
       "    .dataframe tbody tr th:only-of-type {\n",
       "        vertical-align: middle;\n",
       "    }\n",
       "\n",
       "    .dataframe tbody tr th {\n",
       "        vertical-align: top;\n",
       "    }\n",
       "\n",
       "    .dataframe thead th {\n",
       "        text-align: right;\n",
       "    }\n",
       "</style>\n",
       "<table border=\"1\" class=\"dataframe\">\n",
       "  <thead>\n",
       "    <tr style=\"text-align: right;\">\n",
       "      <th></th>\n",
       "      <th>Detail</th>\n",
       "    </tr>\n",
       "  </thead>\n",
       "  <tbody>\n",
       "    <tr>\n",
       "      <th>Israel</th>\n",
       "      <td>2523</td>\n",
       "    </tr>\n",
       "    <tr>\n",
       "      <th>Yahweh</th>\n",
       "      <td>2323</td>\n",
       "    </tr>\n",
       "    <tr>\n",
       "      <th>Jerusalem</th>\n",
       "      <td>661</td>\n",
       "    </tr>\n",
       "    <tr>\n",
       "      <th>Egypt</th>\n",
       "      <td>608</td>\n",
       "    </tr>\n",
       "    <tr>\n",
       "      <th>Judah</th>\n",
       "      <td>519</td>\n",
       "    </tr>\n",
       "    <tr>\n",
       "      <th>God</th>\n",
       "      <td>459</td>\n",
       "    </tr>\n",
       "    <tr>\n",
       "      <th>Moses</th>\n",
       "      <td>415</td>\n",
       "    </tr>\n",
       "    <tr>\n",
       "      <th>Behold</th>\n",
       "      <td>211</td>\n",
       "    </tr>\n",
       "    <tr>\n",
       "      <th>Jordan</th>\n",
       "      <td>194</td>\n",
       "    </tr>\n",
       "    <tr>\n",
       "      <th>Christ</th>\n",
       "      <td>153</td>\n",
       "    </tr>\n",
       "    <tr>\n",
       "      <th>Saul</th>\n",
       "      <td>142</td>\n",
       "    </tr>\n",
       "    <tr>\n",
       "      <th>Babylon</th>\n",
       "      <td>123</td>\n",
       "    </tr>\n",
       "    <tr>\n",
       "      <th>Moab</th>\n",
       "      <td>121</td>\n",
       "    </tr>\n",
       "    <tr>\n",
       "      <th>Pharaoh</th>\n",
       "      <td>119</td>\n",
       "    </tr>\n",
       "    <tr>\n",
       "      <th>Assyria</th>\n",
       "      <td>113</td>\n",
       "    </tr>\n",
       "    <tr>\n",
       "      <th>Samaria</th>\n",
       "      <td>110</td>\n",
       "    </tr>\n",
       "    <tr>\n",
       "      <th>Abraham</th>\n",
       "      <td>103</td>\n",
       "    </tr>\n",
       "    <tr>\n",
       "      <th>Ephraim</th>\n",
       "      <td>93</td>\n",
       "    </tr>\n",
       "    <tr>\n",
       "      <th>Jacob</th>\n",
       "      <td>91</td>\n",
       "    </tr>\n",
       "    <tr>\n",
       "      <th>Benjamin</th>\n",
       "      <td>91</td>\n",
       "    </tr>\n",
       "  </tbody>\n",
       "</table>\n",
       "</div>"
      ],
      "text/plain": [
       "           Detail\n",
       "Israel       2523\n",
       "Yahweh       2323\n",
       "Jerusalem     661\n",
       "Egypt         608\n",
       "Judah         519\n",
       "God           459\n",
       "Moses         415\n",
       "Behold        211\n",
       "Jordan        194\n",
       "Christ        153\n",
       "Saul          142\n",
       "Babylon       123\n",
       "Moab          121\n",
       "Pharaoh       119\n",
       "Assyria       113\n",
       "Samaria       110\n",
       "Abraham       103\n",
       "Ephraim        93\n",
       "Jacob          91\n",
       "Benjamin       91"
      ]
     },
     "execution_count": 152,
     "metadata": {},
     "output_type": "execute_result"
    }
   ],
   "source": [
    "Place_Full = Type_Detail_Full[Type_Detail_Full['Category'] =='GPE']\n",
    "Place_List = Place_Full['Detail'].value_counts()\n",
    "Place_List=pd.DataFrame(Place_List)\n",
    "Place_List.head(20)"
   ]
  },
  {
   "cell_type": "code",
   "execution_count": 153,
   "metadata": {},
   "outputs": [
    {
     "data": {
      "text/html": [
       "<div>\n",
       "<style scoped>\n",
       "    .dataframe tbody tr th:only-of-type {\n",
       "        vertical-align: middle;\n",
       "    }\n",
       "\n",
       "    .dataframe tbody tr th {\n",
       "        vertical-align: top;\n",
       "    }\n",
       "\n",
       "    .dataframe thead th {\n",
       "        text-align: right;\n",
       "    }\n",
       "</style>\n",
       "<table border=\"1\" class=\"dataframe\">\n",
       "  <thead>\n",
       "    <tr style=\"text-align: right;\">\n",
       "      <th></th>\n",
       "      <th>Detail</th>\n",
       "    </tr>\n",
       "  </thead>\n",
       "  <tbody>\n",
       "    <tr>\n",
       "      <th>Lord</th>\n",
       "      <td>547</td>\n",
       "    </tr>\n",
       "    <tr>\n",
       "      <th>Yahweh</th>\n",
       "      <td>320</td>\n",
       "    </tr>\n",
       "    <tr>\n",
       "      <th>Son</th>\n",
       "      <td>159</td>\n",
       "    </tr>\n",
       "    <tr>\n",
       "      <th>Lord Yahweh</th>\n",
       "      <td>145</td>\n",
       "    </tr>\n",
       "    <tr>\n",
       "      <th>Spirit</th>\n",
       "      <td>113</td>\n",
       "    </tr>\n",
       "    <tr>\n",
       "      <th>PhilistinesS</th>\n",
       "      <td>93</td>\n",
       "    </tr>\n",
       "    <tr>\n",
       "      <th>Holy Spirit</th>\n",
       "      <td>86</td>\n",
       "    </tr>\n",
       "    <tr>\n",
       "      <th>Levites</th>\n",
       "      <td>86</td>\n",
       "    </tr>\n",
       "    <tr>\n",
       "      <th>Come</th>\n",
       "      <td>79</td>\n",
       "    </tr>\n",
       "    <tr>\n",
       "      <th>God</th>\n",
       "      <td>72</td>\n",
       "    </tr>\n",
       "    <tr>\n",
       "      <th>Gentiles</th>\n",
       "      <td>65</td>\n",
       "    </tr>\n",
       "    <tr>\n",
       "      <th>Lord Jesus Christ</th>\n",
       "      <td>62</td>\n",
       "    </tr>\n",
       "    <tr>\n",
       "      <th>Pharisees</th>\n",
       "      <td>62</td>\n",
       "    </tr>\n",
       "    <tr>\n",
       "      <th>Father</th>\n",
       "      <td>50</td>\n",
       "    </tr>\n",
       "    <tr>\n",
       "      <th>Philistines</th>\n",
       "      <td>48</td>\n",
       "    </tr>\n",
       "    <tr>\n",
       "      <th>Lord Jesus</th>\n",
       "      <td>47</td>\n",
       "    </tr>\n",
       "    <tr>\n",
       "      <th>Jerusalem</th>\n",
       "      <td>46</td>\n",
       "    </tr>\n",
       "    <tr>\n",
       "      <th>Sabbath</th>\n",
       "      <td>43</td>\n",
       "    </tr>\n",
       "    <tr>\n",
       "      <th>Torah</th>\n",
       "      <td>43</td>\n",
       "    </tr>\n",
       "    <tr>\n",
       "      <th>Almighty</th>\n",
       "      <td>39</td>\n",
       "    </tr>\n",
       "  </tbody>\n",
       "</table>\n",
       "</div>"
      ],
      "text/plain": [
       "                   Detail\n",
       "Lord                  547\n",
       "Yahweh                320\n",
       "Son                   159\n",
       "Lord Yahweh           145\n",
       "Spirit                113\n",
       "PhilistinesS           93\n",
       "Holy Spirit            86\n",
       "Levites                86\n",
       "Come                   79\n",
       "God                    72\n",
       "Gentiles               65\n",
       "Lord Jesus Christ      62\n",
       "Pharisees              62\n",
       "Father                 50\n",
       "Philistines            48\n",
       "Lord Jesus             47\n",
       "Jerusalem              46\n",
       "Sabbath                43\n",
       "Torah                  43\n",
       "Almighty               39"
      ]
     },
     "execution_count": 153,
     "metadata": {},
     "output_type": "execute_result"
    }
   ],
   "source": [
    "Org_Full = Type_Detail_Full[Type_Detail_Full['Category'] =='ORGANIZATION']\n",
    "Org_List = Org_Full['Detail'].value_counts()\n",
    "Org_List=pd.DataFrame(Org_List)\n",
    "Org_List.head(20)"
   ]
  },
  {
   "cell_type": "code",
   "execution_count": 154,
   "metadata": {},
   "outputs": [
    {
     "data": {
      "text/html": [
       "<div>\n",
       "<style scoped>\n",
       "    .dataframe tbody tr th:only-of-type {\n",
       "        vertical-align: middle;\n",
       "    }\n",
       "\n",
       "    .dataframe tbody tr th {\n",
       "        vertical-align: top;\n",
       "    }\n",
       "\n",
       "    .dataframe thead th {\n",
       "        text-align: right;\n",
       "    }\n",
       "</style>\n",
       "<table border=\"1\" class=\"dataframe\">\n",
       "  <thead>\n",
       "    <tr style=\"text-align: right;\">\n",
       "      <th></th>\n",
       "      <th>Detail</th>\n",
       "    </tr>\n",
       "  </thead>\n",
       "  <tbody>\n",
       "    <tr>\n",
       "      <th>Hittite</th>\n",
       "      <td>30</td>\n",
       "    </tr>\n",
       "    <tr>\n",
       "      <th>Amorite</th>\n",
       "      <td>23</td>\n",
       "    </tr>\n",
       "    <tr>\n",
       "      <th>Canaanite</th>\n",
       "      <td>22</td>\n",
       "    </tr>\n",
       "    <tr>\n",
       "      <th>Perizzite</th>\n",
       "      <td>15</td>\n",
       "    </tr>\n",
       "    <tr>\n",
       "      <th>Netophathite</th>\n",
       "      <td>8</td>\n",
       "    </tr>\n",
       "    <tr>\n",
       "      <th>Girgashite</th>\n",
       "      <td>7</td>\n",
       "    </tr>\n",
       "    <tr>\n",
       "      <th>Gittite</th>\n",
       "      <td>6</td>\n",
       "    </tr>\n",
       "    <tr>\n",
       "      <th>Shunammite</th>\n",
       "      <td>5</td>\n",
       "    </tr>\n",
       "    <tr>\n",
       "      <th>Ahohite</th>\n",
       "      <td>5</td>\n",
       "    </tr>\n",
       "    <tr>\n",
       "      <th>Carmelite</th>\n",
       "      <td>5</td>\n",
       "    </tr>\n",
       "    <tr>\n",
       "      <th>Agagite</th>\n",
       "      <td>5</td>\n",
       "    </tr>\n",
       "    <tr>\n",
       "      <th>Cushite</th>\n",
       "      <td>5</td>\n",
       "    </tr>\n",
       "    <tr>\n",
       "      <th>Hushathite</th>\n",
       "      <td>5</td>\n",
       "    </tr>\n",
       "    <tr>\n",
       "      <th>Jezreelite</th>\n",
       "      <td>5</td>\n",
       "    </tr>\n",
       "    <tr>\n",
       "      <th>Kenite</th>\n",
       "      <td>4</td>\n",
       "    </tr>\n",
       "    <tr>\n",
       "      <th>Gileadite</th>\n",
       "      <td>4</td>\n",
       "    </tr>\n",
       "    <tr>\n",
       "      <th>Five Thousand</th>\n",
       "      <td>4</td>\n",
       "    </tr>\n",
       "    <tr>\n",
       "      <th>Ithrite</th>\n",
       "      <td>4</td>\n",
       "    </tr>\n",
       "    <tr>\n",
       "      <th>Anathothite</th>\n",
       "      <td>4</td>\n",
       "    </tr>\n",
       "    <tr>\n",
       "      <th>Beerothite</th>\n",
       "      <td>4</td>\n",
       "    </tr>\n",
       "  </tbody>\n",
       "</table>\n",
       "</div>"
      ],
      "text/plain": [
       "               Detail\n",
       "Hittite            30\n",
       "Amorite            23\n",
       "Canaanite          22\n",
       "Perizzite          15\n",
       "Netophathite        8\n",
       "Girgashite          7\n",
       "Gittite             6\n",
       "Shunammite          5\n",
       "Ahohite             5\n",
       "Carmelite           5\n",
       "Agagite             5\n",
       "Cushite             5\n",
       "Hushathite          5\n",
       "Jezreelite          5\n",
       "Kenite              4\n",
       "Gileadite           4\n",
       "Five Thousand       4\n",
       "Ithrite             4\n",
       "Anathothite         4\n",
       "Beerothite          4"
      ]
     },
     "execution_count": 154,
     "metadata": {},
     "output_type": "execute_result"
    }
   ],
   "source": [
    "FACILITY_Full = Type_Detail_Full[Type_Detail_Full['Category'] =='FACILITY']\n",
    "Facility_List = FACILITY_Full['Detail'].value_counts()\n",
    "Facility_List=pd.DataFrame(Facility_List)\n",
    "Facility_List.head(20)"
   ]
  },
  {
   "cell_type": "code",
   "execution_count": 155,
   "metadata": {},
   "outputs": [
    {
     "data": {
      "text/html": [
       "<div>\n",
       "<style scoped>\n",
       "    .dataframe tbody tr th:only-of-type {\n",
       "        vertical-align: middle;\n",
       "    }\n",
       "\n",
       "    .dataframe tbody tr th {\n",
       "        vertical-align: top;\n",
       "    }\n",
       "\n",
       "    .dataframe thead th {\n",
       "        text-align: right;\n",
       "    }\n",
       "</style>\n",
       "<table border=\"1\" class=\"dataframe\">\n",
       "  <thead>\n",
       "    <tr style=\"text-align: right;\">\n",
       "      <th></th>\n",
       "      <th>Detail</th>\n",
       "    </tr>\n",
       "  </thead>\n",
       "  <tbody>\n",
       "    <tr>\n",
       "      <th>Syria</th>\n",
       "      <td>72</td>\n",
       "    </tr>\n",
       "    <tr>\n",
       "      <th>Philistines</th>\n",
       "      <td>65</td>\n",
       "    </tr>\n",
       "    <tr>\n",
       "      <th>Israel</th>\n",
       "      <td>27</td>\n",
       "    </tr>\n",
       "    <tr>\n",
       "      <th>Damascus</th>\n",
       "      <td>21</td>\n",
       "    </tr>\n",
       "    <tr>\n",
       "      <th>Assyria</th>\n",
       "      <td>8</td>\n",
       "    </tr>\n",
       "    <tr>\n",
       "      <th>Haran</th>\n",
       "      <td>5</td>\n",
       "    </tr>\n",
       "    <tr>\n",
       "      <th>Philadelphia</th>\n",
       "      <td>3</td>\n",
       "    </tr>\n",
       "    <tr>\n",
       "      <th>Samaria</th>\n",
       "      <td>3</td>\n",
       "    </tr>\n",
       "    <tr>\n",
       "      <th>Sidon</th>\n",
       "      <td>1</td>\n",
       "    </tr>\n",
       "    <tr>\n",
       "      <th>Gehenna</th>\n",
       "      <td>1</td>\n",
       "    </tr>\n",
       "  </tbody>\n",
       "</table>\n",
       "</div>"
      ],
      "text/plain": [
       "              Detail\n",
       "Syria             72\n",
       "Philistines       65\n",
       "Israel            27\n",
       "Damascus          21\n",
       "Assyria            8\n",
       "Haran              5\n",
       "Philadelphia       3\n",
       "Samaria            3\n",
       "Sidon              1\n",
       "Gehenna            1"
      ]
     },
     "execution_count": 155,
     "metadata": {},
     "output_type": "execute_result"
    }
   ],
   "source": [
    "GSP_Full = Type_Detail_Full[Type_Detail_Full['Category'] =='GSP']\n",
    "GSP_List = GSP_Full['Detail'].value_counts()\n",
    "GSP_List=pd.DataFrame(GSP_List)\n",
    "GSP_List.head(20)"
   ]
  },
  {
   "cell_type": "code",
   "execution_count": 156,
   "metadata": {},
   "outputs": [
    {
     "data": {
      "text/html": [
       "<div>\n",
       "<style scoped>\n",
       "    .dataframe tbody tr th:only-of-type {\n",
       "        vertical-align: middle;\n",
       "    }\n",
       "\n",
       "    .dataframe tbody tr th {\n",
       "        vertical-align: top;\n",
       "    }\n",
       "\n",
       "    .dataframe thead th {\n",
       "        text-align: right;\n",
       "    }\n",
       "</style>\n",
       "<table border=\"1\" class=\"dataframe\">\n",
       "  <thead>\n",
       "    <tr style=\"text-align: right;\">\n",
       "      <th></th>\n",
       "      <th>Detail</th>\n",
       "    </tr>\n",
       "  </thead>\n",
       "  <tbody>\n",
       "    <tr>\n",
       "      <th>Syria</th>\n",
       "      <td>72</td>\n",
       "    </tr>\n",
       "    <tr>\n",
       "      <th>Philistines</th>\n",
       "      <td>65</td>\n",
       "    </tr>\n",
       "    <tr>\n",
       "      <th>Israel</th>\n",
       "      <td>27</td>\n",
       "    </tr>\n",
       "    <tr>\n",
       "      <th>Damascus</th>\n",
       "      <td>21</td>\n",
       "    </tr>\n",
       "    <tr>\n",
       "      <th>Assyria</th>\n",
       "      <td>8</td>\n",
       "    </tr>\n",
       "    <tr>\n",
       "      <th>Haran</th>\n",
       "      <td>5</td>\n",
       "    </tr>\n",
       "    <tr>\n",
       "      <th>Philadelphia</th>\n",
       "      <td>3</td>\n",
       "    </tr>\n",
       "    <tr>\n",
       "      <th>Samaria</th>\n",
       "      <td>3</td>\n",
       "    </tr>\n",
       "    <tr>\n",
       "      <th>Sidon</th>\n",
       "      <td>1</td>\n",
       "    </tr>\n",
       "    <tr>\n",
       "      <th>Gehenna</th>\n",
       "      <td>1</td>\n",
       "    </tr>\n",
       "  </tbody>\n",
       "</table>\n",
       "</div>"
      ],
      "text/plain": [
       "              Detail\n",
       "Syria             72\n",
       "Philistines       65\n",
       "Israel            27\n",
       "Damascus          21\n",
       "Assyria            8\n",
       "Haran              5\n",
       "Philadelphia       3\n",
       "Samaria            3\n",
       "Sidon              1\n",
       "Gehenna            1"
      ]
     },
     "execution_count": 156,
     "metadata": {},
     "output_type": "execute_result"
    }
   ],
   "source": [
    "LOCATION_Full = Type_Detail_Full[Type_Detail_Full['Category'] =='LOCATION']\n",
    "Location_List = LOCATION_Full['Detail'].value_counts()\n",
    "Location_List=pd.DataFrame(GSP_List)\n",
    "Location_List.head(20)"
   ]
  },
  {
   "cell_type": "code",
   "execution_count": 157,
   "metadata": {},
   "outputs": [],
   "source": [
    "Type_Detail.drop_duplicates(subset =\"Concat\",  keep = False, inplace = True) "
   ]
  },
  {
   "cell_type": "code",
   "execution_count": 158,
   "metadata": {},
   "outputs": [
    {
     "data": {
      "text/plain": [
       "(2621, 4)"
      ]
     },
     "execution_count": 158,
     "metadata": {},
     "output_type": "execute_result"
    }
   ],
   "source": [
    "Type_Detail.shape"
   ]
  },
  {
   "cell_type": "code",
   "execution_count": 159,
   "metadata": {},
   "outputs": [
    {
     "data": {
      "text/html": [
       "<div>\n",
       "<style scoped>\n",
       "    .dataframe tbody tr th:only-of-type {\n",
       "        vertical-align: middle;\n",
       "    }\n",
       "\n",
       "    .dataframe tbody tr th {\n",
       "        vertical-align: top;\n",
       "    }\n",
       "\n",
       "    .dataframe thead th {\n",
       "        text-align: right;\n",
       "    }\n",
       "</style>\n",
       "<table border=\"1\" class=\"dataframe\">\n",
       "  <thead>\n",
       "    <tr style=\"text-align: right;\">\n",
       "      <th></th>\n",
       "      <th>0</th>\n",
       "      <th>Detail</th>\n",
       "      <th>Category</th>\n",
       "      <th>Concat</th>\n",
       "    </tr>\n",
       "  </thead>\n",
       "  <tbody>\n",
       "    <tr>\n",
       "      <th>47</th>\n",
       "      <td>Prophet Jeremiah The/DT Song</td>\n",
       "      <td>Prophet Jeremiah The/DT Song</td>\n",
       "      <td>ORGANIZATION</td>\n",
       "      <td>Prophet Jeremiah The/DT SongORGANIZATION</td>\n",
       "    </tr>\n",
       "    <tr>\n",
       "      <th>48</th>\n",
       "      <td>Songs</td>\n",
       "      <td>Songs</td>\n",
       "      <td>GPE</td>\n",
       "      <td>SongsGPE</td>\n",
       "    </tr>\n",
       "    <tr>\n",
       "      <th>56</th>\n",
       "      <td>Called/VBD Genesis</td>\n",
       "      <td>Called/VBD Genesis</td>\n",
       "      <td>PERSON</td>\n",
       "      <td>Called/VBD GenesisPERSON</td>\n",
       "    </tr>\n",
       "    <tr>\n",
       "      <th>59</th>\n",
       "      <td>Called/VBD Exodus Table</td>\n",
       "      <td>Called/VBD Exodus Table</td>\n",
       "      <td>PERSON</td>\n",
       "      <td>Called/VBD Exodus TablePERSON</td>\n",
       "    </tr>\n",
       "    <tr>\n",
       "      <th>61</th>\n",
       "      <td>Old Testament</td>\n",
       "      <td>Old Testament</td>\n",
       "      <td>PERSON</td>\n",
       "      <td>Old TestamentPERSON</td>\n",
       "    </tr>\n",
       "  </tbody>\n",
       "</table>\n",
       "</div>"
      ],
      "text/plain": [
       "                               0                        Detail      Category  \\\n",
       "47  Prophet Jeremiah The/DT Song  Prophet Jeremiah The/DT Song  ORGANIZATION   \n",
       "48                         Songs                         Songs           GPE   \n",
       "56            Called/VBD Genesis            Called/VBD Genesis        PERSON   \n",
       "59       Called/VBD Exodus Table       Called/VBD Exodus Table        PERSON   \n",
       "61                 Old Testament                 Old Testament        PERSON   \n",
       "\n",
       "                                      Concat  \n",
       "47  Prophet Jeremiah The/DT SongORGANIZATION  \n",
       "48                                  SongsGPE  \n",
       "56                  Called/VBD GenesisPERSON  \n",
       "59             Called/VBD Exodus TablePERSON  \n",
       "61                       Old TestamentPERSON  "
      ]
     },
     "execution_count": 159,
     "metadata": {},
     "output_type": "execute_result"
    }
   ],
   "source": [
    "Type_Detail.head()"
   ]
  },
  {
   "cell_type": "code",
   "execution_count": 160,
   "metadata": {},
   "outputs": [
    {
     "data": {
      "text/plain": [
       "PERSON          1079\n",
       "GPE             1040\n",
       "ORGANIZATION     463\n",
       "FACILITY          32\n",
       "LOCATION           5\n",
       "GSP                2\n",
       "Name: Category, dtype: int64"
      ]
     },
     "execution_count": 160,
     "metadata": {},
     "output_type": "execute_result"
    }
   ],
   "source": [
    "Type_Detail['Category'].value_counts()"
   ]
  },
  {
   "cell_type": "code",
   "execution_count": 161,
   "metadata": {},
   "outputs": [],
   "source": [
    "People= Type_Detail[Type_Detail['Category'] =='PERSON']\n",
    "Places= Type_Detail[Type_Detail['Category'] =='GPE']\n",
    "Orgs= Type_Detail[Type_Detail['Category'] =='ORGANIZATION']"
   ]
  },
  {
   "cell_type": "code",
   "execution_count": 162,
   "metadata": {},
   "outputs": [
    {
     "data": {
      "text/plain": [
       "47                  Prophet Jeremiah The/DT Song\n",
       "64                                   Fourth Book\n",
       "66               Called/VBD NumbersS The/DT Book\n",
       "80           Prophet Malachi The/DT Lamentations\n",
       "90      Second Epistle Of/IN Paul The/DT Apostle\n",
       "106                               Prophet Daniel\n",
       "113                    Prophet Micah The/DT Book\n",
       "121                                      ASV Old\n",
       "129                                          KJV\n",
       "132                              Textus Receptus\n",
       "207                                   EuphratesS\n",
       "409                                          Ham\n",
       "1168                                   Machpelah\n",
       "1604                                   Fortunate\n",
       "1710                                        Fear\n",
       "1764                                      Jabbok\n",
       "1832                               Shechem Hamor\n",
       "1890                                      Pillar\n",
       "1951                                        Esau\n",
       "2008                                      Horite\n",
       "2131                                 Ishmaelites\n",
       "2145                                  Adullamite\n",
       "2181                                       Enaim\n",
       "2672                                         Luz\n",
       "2735                                   Blessings\n",
       "2807                              Genesis Exodus\n",
       "2829                                     Pharaoh\n",
       "3730                                   Testimony\n",
       "4136                                  Consecrate\n",
       "4420                               Command Aaron\n",
       "Name: Detail, dtype: object"
      ]
     },
     "execution_count": 162,
     "metadata": {},
     "output_type": "execute_result"
    }
   ],
   "source": [
    "Orgs['Detail'].head(30)"
   ]
  },
  {
   "cell_type": "code",
   "execution_count": 163,
   "metadata": {},
   "outputs": [
    {
     "data": {
      "text/plain": [
       "48            Songs\n",
       "117             New\n",
       "118          Amazon\n",
       "160           Night\n",
       "167            Seas\n",
       "231        Cherubim\n",
       "259             Nod\n",
       "268        Mehujael\n",
       "274          Zillah\n",
       "455          Sabtah\n",
       "457         Sabteca\n",
       "464           Erech\n",
       "481     Philistines\n",
       "502           Lasha\n",
       "515            Mash\n",
       "536           Mesha\n",
       "537          Sephar\n",
       "591           Iscah\n",
       "698          Shinab\n",
       "711         Elparan\n",
       "742            Aner\n",
       "746           Hobah\n",
       "751          Shaveh\n",
       "752          Valley\n",
       "954          Escape\n",
       "1086         Moriah\n",
       "1130          Gaham\n",
       "1131         Tahash\n",
       "1146          Zohar\n",
       "1255         Zimran\n",
       "Name: Detail, dtype: object"
      ]
     },
     "execution_count": 163,
     "metadata": {},
     "output_type": "execute_result"
    }
   ],
   "source": [
    "Places['Detail'].head(30)"
   ]
  },
  {
   "cell_type": "code",
   "execution_count": 164,
   "metadata": {},
   "outputs": [
    {
     "data": {
      "text/plain": [
       "56                                     Called/VBD Genesis\n",
       "59                                Called/VBD Exodus Table\n",
       "61                                          Old Testament\n",
       "63                                   Called/VBD Leviticus\n",
       "140     Exodus Leviticus Numbers Deuteronomy Joshua Ju...\n",
       "141     Chronicles Ezra Nehemiah Esther Job Psalms Pro...\n",
       "142          Solomon Isaiah Jeremiah Lamentations Ezekiel\n",
       "143     Daniel Hosea Joel Amos Obadiah Jonah Micah Nah...\n",
       "149                                     Matthew Mark Luke\n",
       "150                                            John Error\n",
       "151                        Timothy Titus Philemon Hebrews\n",
       "152                                             John Jude\n",
       "201                                                Pishon\n",
       "267                                              Mehujael\n",
       "276                                                 Jabal\n",
       "278                                                Naamah\n",
       "284                                          Truly Lamech\n",
       "440                                               Riphath\n",
       "446                                               Dodanim\n",
       "461                                                Nimrod\n",
       "465                                                 Accad\n",
       "529                                                  Obal\n",
       "550                                                  Shem\n",
       "694                                                  Bera\n",
       "696                                                Birsha\n",
       "730                                                Siddim\n",
       "754                                                 Salem\n",
       "764                                                  Aner\n",
       "836                                                 Bered\n",
       "926                                               Suppose\n",
       "958                                                  Zoar\n",
       "1119                                                 Hazo\n",
       "1120                                              Pildash\n",
       "1121                                              Jidlaph\n",
       "1128                                               Reumah\n",
       "1129                                                Tebah\n",
       "1254                                              Keturah\n",
       "1265                                             Asshurim\n",
       "1267                                              Leummim\n",
       "1347                                                 Sell\n",
       "1355                                            Thus Esau\n",
       "1396                                                 Esek\n",
       "1501                                      Ishmael Abraham\n",
       "1525                                                Water\n",
       "1594                                        Bilhah Rachel\n",
       "1721                                               Galeed\n",
       "1776                                               Peniel\n",
       "1866                                      Deborah Rebekah\n",
       "1935                                     Basemath Ishmael\n",
       "1938                                         Esau Eliphaz\n",
       "1964                                         Eliphaz Esau\n",
       "1965                                       Eliphaz Amalek\n",
       "1971                                               Mizzah\n",
       "1977                                           Esau Jeush\n",
       "1992                                               Nahath\n",
       "2025                                                Alvan\n",
       "2026                                             Manahath\n",
       "2028                                               Shepho\n",
       "2037                                               Hemdan\n",
       "2038                                               Eshban\n",
       "Name: Detail, dtype: object"
      ]
     },
     "execution_count": 164,
     "metadata": {},
     "output_type": "execute_result"
    }
   ],
   "source": [
    "People['Detail'].head(60)"
   ]
  },
  {
   "cell_type": "code",
   "execution_count": 165,
   "metadata": {},
   "outputs": [],
   "source": [
    "#typea2 = typea2.rename({'0' : 'Categ'}, axis=1)"
   ]
  },
  {
   "cell_type": "markdown",
   "metadata": {},
   "source": [
    "# Look at Data"
   ]
  },
  {
   "cell_type": "code",
   "execution_count": 166,
   "metadata": {},
   "outputs": [],
   "source": [
    "dfs = my_text"
   ]
  },
  {
   "cell_type": "code",
   "execution_count": 167,
   "metadata": {},
   "outputs": [
    {
     "data": {
      "text/plain": [
       "8709676"
      ]
     },
     "execution_count": 167,
     "metadata": {},
     "output_type": "execute_result"
    }
   ],
   "source": [
    "import sys\n",
    "sys.getsizeof(my_text)"
   ]
  },
  {
   "cell_type": "code",
   "execution_count": 168,
   "metadata": {},
   "outputs": [],
   "source": [
    "#print(entities)"
   ]
  },
  {
   "cell_type": "code",
   "execution_count": 169,
   "metadata": {},
   "outputs": [],
   "source": [
    "#print(sentences)"
   ]
  },
  {
   "cell_type": "markdown",
   "metadata": {},
   "source": [
    "# Get into a datafram\n"
   ]
  },
  {
   "cell_type": "code",
   "execution_count": 170,
   "metadata": {},
   "outputs": [],
   "source": [
    "#Total1 =pd.DataFrame( list(reader(my_original_text)))\n",
    "#Total1.head()"
   ]
  },
  {
   "cell_type": "code",
   "execution_count": 171,
   "metadata": {},
   "outputs": [],
   "source": [
    "#Total2 =pd.DataFrame( list(reader(sentences)))"
   ]
  },
  {
   "cell_type": "code",
   "execution_count": null,
   "metadata": {},
   "outputs": [],
   "source": []
  },
  {
   "cell_type": "markdown",
   "metadata": {},
   "source": [
    "# Add counts"
   ]
  },
  {
   "cell_type": "code",
   "execution_count": null,
   "metadata": {},
   "outputs": [],
   "source": []
  },
  {
   "cell_type": "code",
   "execution_count": 172,
   "metadata": {},
   "outputs": [],
   "source": [
    "sentence_df['sentence_length'] = sentence_df['Sentence'].apply(len)\n",
    "sentence_df['word_count'] = sentence_df['Sentence'].apply(lambda x: len(x.split()))\n",
    "sentence_df['word_density'] = sentence_df['sentence_length'] / (sentence_df['word_count'] + 1)\n",
    "sentence_df['punctuation_count'] = sentence_df['Sentence'].apply(lambda x: len(''.join(_ for _ in x if _ in string.punctuation))) \n",
    "sentence_df['title_word_count'] = sentence_df['Sentence'].apply(lambda x: len([w for w in x.split() if w.istitle()]))\n",
    "sentence_df['uppercase_word_count'] = sentence_df['Sentence'].apply(lambda x: len([w for w in x.split() if w.isupper()]))"
   ]
  },
  {
   "cell_type": "code",
   "execution_count": null,
   "metadata": {},
   "outputs": [],
   "source": []
  },
  {
   "cell_type": "code",
   "execution_count": 173,
   "metadata": {},
   "outputs": [
    {
     "data": {
      "text/html": [
       "<div>\n",
       "<style scoped>\n",
       "    .dataframe tbody tr th:only-of-type {\n",
       "        vertical-align: middle;\n",
       "    }\n",
       "\n",
       "    .dataframe tbody tr th {\n",
       "        vertical-align: top;\n",
       "    }\n",
       "\n",
       "    .dataframe thead th {\n",
       "        text-align: right;\n",
       "    }\n",
       "</style>\n",
       "<table border=\"1\" class=\"dataframe\">\n",
       "  <thead>\n",
       "    <tr style=\"text-align: right;\">\n",
       "      <th></th>\n",
       "      <th>Sentence</th>\n",
       "      <th>sentence_length</th>\n",
       "      <th>word_count</th>\n",
       "      <th>word_density</th>\n",
       "      <th>punctuation_count</th>\n",
       "      <th>title_word_count</th>\n",
       "      <th>uppercase_word_count</th>\n",
       "    </tr>\n",
       "  </thead>\n",
       "  <tbody>\n",
       "    <tr>\n",
       "      <th>0</th>\n",
       "      <td>The Revelation of John\\n\\nThe General Epistle ...</td>\n",
       "      <td>2807</td>\n",
       "      <td>455</td>\n",
       "      <td>6.155702</td>\n",
       "      <td>45</td>\n",
       "      <td>307</td>\n",
       "      <td>2</td>\n",
       "    </tr>\n",
       "    <tr>\n",
       "      <th>1</th>\n",
       "      <td>http://bit.ly/PrintPostWS \\n\\n\\n\\nThe Old Test...</td>\n",
       "      <td>354</td>\n",
       "      <td>55</td>\n",
       "      <td>6.321429</td>\n",
       "      <td>20</td>\n",
       "      <td>20</td>\n",
       "      <td>3</td>\n",
       "    </tr>\n",
       "    <tr>\n",
       "      <th>2</th>\n",
       "      <td>(Until the rest are completed by David Robert ...</td>\n",
       "      <td>76</td>\n",
       "      <td>13</td>\n",
       "      <td>5.428571</td>\n",
       "      <td>2</td>\n",
       "      <td>4</td>\n",
       "      <td>0</td>\n",
       "    </tr>\n",
       "    <tr>\n",
       "      <th>3</th>\n",
       "      <td>Acts is in progress.)</td>\n",
       "      <td>21</td>\n",
       "      <td>4</td>\n",
       "      <td>4.200000</td>\n",
       "      <td>2</td>\n",
       "      <td>1</td>\n",
       "      <td>0</td>\n",
       "    </tr>\n",
       "    <tr>\n",
       "      <th>4</th>\n",
       "      <td>To download an edition of just the fresh trans...</td>\n",
       "      <td>525</td>\n",
       "      <td>62</td>\n",
       "      <td>8.333333</td>\n",
       "      <td>36</td>\n",
       "      <td>14</td>\n",
       "      <td>1</td>\n",
       "    </tr>\n",
       "    <tr>\n",
       "      <th>5</th>\n",
       "      <td>You can also use the Document Map feature by o...</td>\n",
       "      <td>77</td>\n",
       "      <td>15</td>\n",
       "      <td>4.812500</td>\n",
       "      <td>1</td>\n",
       "      <td>5</td>\n",
       "      <td>0</td>\n",
       "    </tr>\n",
       "    <tr>\n",
       "      <th>6</th>\n",
       "      <td>In Adobe Acrobat Reader, you can navigate to t...</td>\n",
       "      <td>315</td>\n",
       "      <td>52</td>\n",
       "      <td>5.943396</td>\n",
       "      <td>7</td>\n",
       "      <td>9</td>\n",
       "      <td>0</td>\n",
       "    </tr>\n",
       "    <tr>\n",
       "      <th>7</th>\n",
       "      <td>The Old Testament\\n\\n\\n\\n\\n\\n\\n\\n Genesis\\n\\n ...</td>\n",
       "      <td>540</td>\n",
       "      <td>69</td>\n",
       "      <td>7.714286</td>\n",
       "      <td>3</td>\n",
       "      <td>49</td>\n",
       "      <td>1</td>\n",
       "    </tr>\n",
       "    <tr>\n",
       "      <th>8</th>\n",
       "      <td>You can also use the Document Map feature by o...</td>\n",
       "      <td>77</td>\n",
       "      <td>15</td>\n",
       "      <td>4.812500</td>\n",
       "      <td>1</td>\n",
       "      <td>5</td>\n",
       "      <td>0</td>\n",
       "    </tr>\n",
       "    <tr>\n",
       "      <th>9</th>\n",
       "      <td>In Adobe Acrobat Reader, you can navigate to t...</td>\n",
       "      <td>315</td>\n",
       "      <td>52</td>\n",
       "      <td>5.943396</td>\n",
       "      <td>7</td>\n",
       "      <td>9</td>\n",
       "      <td>0</td>\n",
       "    </tr>\n",
       "  </tbody>\n",
       "</table>\n",
       "</div>"
      ],
      "text/plain": [
       "                                            Sentence  sentence_length  \\\n",
       "0  The Revelation of John\\n\\nThe General Epistle ...             2807   \n",
       "1  http://bit.ly/PrintPostWS \\n\\n\\n\\nThe Old Test...              354   \n",
       "2  (Until the rest are completed by David Robert ...               76   \n",
       "3                              Acts is in progress.)               21   \n",
       "4  To download an edition of just the fresh trans...              525   \n",
       "5  You can also use the Document Map feature by o...               77   \n",
       "6  In Adobe Acrobat Reader, you can navigate to t...              315   \n",
       "7  The Old Testament\\n\\n\\n\\n\\n\\n\\n\\n Genesis\\n\\n ...              540   \n",
       "8  You can also use the Document Map feature by o...               77   \n",
       "9  In Adobe Acrobat Reader, you can navigate to t...              315   \n",
       "\n",
       "   word_count  word_density  punctuation_count  title_word_count  \\\n",
       "0         455      6.155702                 45               307   \n",
       "1          55      6.321429                 20                20   \n",
       "2          13      5.428571                  2                 4   \n",
       "3           4      4.200000                  2                 1   \n",
       "4          62      8.333333                 36                14   \n",
       "5          15      4.812500                  1                 5   \n",
       "6          52      5.943396                  7                 9   \n",
       "7          69      7.714286                  3                49   \n",
       "8          15      4.812500                  1                 5   \n",
       "9          52      5.943396                  7                 9   \n",
       "\n",
       "   uppercase_word_count  \n",
       "0                     2  \n",
       "1                     3  \n",
       "2                     0  \n",
       "3                     0  \n",
       "4                     1  \n",
       "5                     0  \n",
       "6                     0  \n",
       "7                     1  \n",
       "8                     0  \n",
       "9                     0  "
      ]
     },
     "execution_count": 173,
     "metadata": {},
     "output_type": "execute_result"
    }
   ],
   "source": [
    "sentence_df.head(10)"
   ]
  },
  {
   "cell_type": "code",
   "execution_count": 174,
   "metadata": {},
   "outputs": [
    {
     "data": {
      "image/png": "[encoded data removed]",
      "text/plain": [
       "<Figure size 432x288 with 1 Axes>"
      ]
     },
     "metadata": {
      "needs_background": "light"
     },
     "output_type": "display_data"
    }
   ],
   "source": [
    "import matplotlib.pyplot as plt\n",
    "num_bins = 20\n",
    "plt.title('Number of words in sentence')\n",
    "plt.hist(sentence_df['word_count'], bins =num_bins)\n",
    "plt.show()\n"
   ]
  },
  {
   "cell_type": "code",
   "execution_count": 175,
   "metadata": {},
   "outputs": [
    {
     "data": {
      "text/plain": [
       "Sentence                The Revelation of John\\n\\nThe General Epistle ...\n",
       "sentence_length                                                   4291038\n",
       "word_count                                                         821188\n",
       "word_density                                                       154854\n",
       "punctuation_count                                                  158760\n",
       "title_word_count                                                    99579\n",
       "uppercase_word_count                                                10423\n",
       "dtype: object"
      ]
     },
     "execution_count": 175,
     "metadata": {},
     "output_type": "execute_result"
    }
   ],
   "source": [
    "sentence_df.sum()"
   ]
  },
  {
   "cell_type": "code",
   "execution_count": 176,
   "metadata": {},
   "outputs": [
    {
     "data": {
      "text/html": [
       "<div>\n",
       "<style scoped>\n",
       "    .dataframe tbody tr th:only-of-type {\n",
       "        vertical-align: middle;\n",
       "    }\n",
       "\n",
       "    .dataframe tbody tr th {\n",
       "        vertical-align: top;\n",
       "    }\n",
       "\n",
       "    .dataframe thead th {\n",
       "        text-align: right;\n",
       "    }\n",
       "</style>\n",
       "<table border=\"1\" class=\"dataframe\">\n",
       "  <thead>\n",
       "    <tr style=\"text-align: right;\">\n",
       "      <th></th>\n",
       "      <th>sentence_length</th>\n",
       "      <th>word_count</th>\n",
       "      <th>word_density</th>\n",
       "      <th>punctuation_count</th>\n",
       "      <th>title_word_count</th>\n",
       "      <th>uppercase_word_count</th>\n",
       "    </tr>\n",
       "  </thead>\n",
       "  <tbody>\n",
       "    <tr>\n",
       "      <th>count</th>\n",
       "      <td>31383.000000</td>\n",
       "      <td>31383.000000</td>\n",
       "      <td>31383.000000</td>\n",
       "      <td>31383.00000</td>\n",
       "      <td>31383.000000</td>\n",
       "      <td>31383.000000</td>\n",
       "    </tr>\n",
       "    <tr>\n",
       "      <th>mean</th>\n",
       "      <td>136.731288</td>\n",
       "      <td>26.166651</td>\n",
       "      <td>4.934312</td>\n",
       "      <td>5.05879</td>\n",
       "      <td>3.173024</td>\n",
       "      <td>0.332122</td>\n",
       "    </tr>\n",
       "    <tr>\n",
       "      <th>std</th>\n",
       "      <td>103.256286</td>\n",
       "      <td>19.040236</td>\n",
       "      <td>0.547576</td>\n",
       "      <td>4.81070</td>\n",
       "      <td>3.279108</td>\n",
       "      <td>0.749297</td>\n",
       "    </tr>\n",
       "    <tr>\n",
       "      <th>min</th>\n",
       "      <td>4.000000</td>\n",
       "      <td>1.000000</td>\n",
       "      <td>2.000000</td>\n",
       "      <td>1.00000</td>\n",
       "      <td>0.000000</td>\n",
       "      <td>0.000000</td>\n",
       "    </tr>\n",
       "    <tr>\n",
       "      <th>25%</th>\n",
       "      <td>76.000000</td>\n",
       "      <td>14.000000</td>\n",
       "      <td>4.650000</td>\n",
       "      <td>3.00000</td>\n",
       "      <td>1.000000</td>\n",
       "      <td>0.000000</td>\n",
       "    </tr>\n",
       "    <tr>\n",
       "      <th>50%</th>\n",
       "      <td>113.000000</td>\n",
       "      <td>22.000000</td>\n",
       "      <td>4.945455</td>\n",
       "      <td>4.00000</td>\n",
       "      <td>2.000000</td>\n",
       "      <td>0.000000</td>\n",
       "    </tr>\n",
       "    <tr>\n",
       "      <th>75%</th>\n",
       "      <td>170.000000</td>\n",
       "      <td>33.000000</td>\n",
       "      <td>5.236842</td>\n",
       "      <td>6.00000</td>\n",
       "      <td>4.000000</td>\n",
       "      <td>0.000000</td>\n",
       "    </tr>\n",
       "    <tr>\n",
       "      <th>max</th>\n",
       "      <td>3438.000000</td>\n",
       "      <td>455.000000</td>\n",
       "      <td>47.095890</td>\n",
       "      <td>505.00000</td>\n",
       "      <td>307.000000</td>\n",
       "      <td>12.000000</td>\n",
       "    </tr>\n",
       "  </tbody>\n",
       "</table>\n",
       "</div>"
      ],
      "text/plain": [
       "       sentence_length    word_count  word_density  punctuation_count  \\\n",
       "count     31383.000000  31383.000000  31383.000000        31383.00000   \n",
       "mean        136.731288     26.166651      4.934312            5.05879   \n",
       "std         103.256286     19.040236      0.547576            4.81070   \n",
       "min           4.000000      1.000000      2.000000            1.00000   \n",
       "25%          76.000000     14.000000      4.650000            3.00000   \n",
       "50%         113.000000     22.000000      4.945455            4.00000   \n",
       "75%         170.000000     33.000000      5.236842            6.00000   \n",
       "max        3438.000000    455.000000     47.095890          505.00000   \n",
       "\n",
       "       title_word_count  uppercase_word_count  \n",
       "count      31383.000000          31383.000000  \n",
       "mean           3.173024              0.332122  \n",
       "std            3.279108              0.749297  \n",
       "min            0.000000              0.000000  \n",
       "25%            1.000000              0.000000  \n",
       "50%            2.000000              0.000000  \n",
       "75%            4.000000              0.000000  \n",
       "max          307.000000             12.000000  "
      ]
     },
     "execution_count": 176,
     "metadata": {},
     "output_type": "execute_result"
    }
   ],
   "source": [
    "sentence_df.describe()"
   ]
  },
  {
   "cell_type": "code",
   "execution_count": 177,
   "metadata": {},
   "outputs": [],
   "source": [
    "# From 9.6"
   ]
  },
  {
   "cell_type": "code",
   "execution_count": 178,
   "metadata": {},
   "outputs": [],
   "source": [
    "def convert_text(text):\n",
    "    '''\n",
    "    Use techniques learned in previous labs. Remove StopWords, Punctuation, Lemmatize etc.\n",
    "    '''\n",
    "    doc = nlp(text)\n",
    "    tokens = [t for t in doc if not (t.is_stop | t.is_punct)]\n",
    "    tokens = [t.lemma_ for t in tokens]\n",
    "    clean_text = ' '.join(tokens)\n",
    "\n",
    "    return clean_text"
   ]
  },
  {
   "cell_type": "code",
   "execution_count": 179,
   "metadata": {},
   "outputs": [],
   "source": [
    "sentence_df['short'] = sentence_df['Sentence'].apply(convert_text)"
   ]
  },
  {
   "cell_type": "code",
   "execution_count": 180,
   "metadata": {},
   "outputs": [
    {
     "data": {
      "text/html": [
       "<div>\n",
       "<style scoped>\n",
       "    .dataframe tbody tr th:only-of-type {\n",
       "        vertical-align: middle;\n",
       "    }\n",
       "\n",
       "    .dataframe tbody tr th {\n",
       "        vertical-align: top;\n",
       "    }\n",
       "\n",
       "    .dataframe thead th {\n",
       "        text-align: right;\n",
       "    }\n",
       "</style>\n",
       "<table border=\"1\" class=\"dataframe\">\n",
       "  <thead>\n",
       "    <tr style=\"text-align: right;\">\n",
       "      <th></th>\n",
       "      <th>Sentence</th>\n",
       "      <th>sentence_length</th>\n",
       "      <th>word_count</th>\n",
       "      <th>word_density</th>\n",
       "      <th>punctuation_count</th>\n",
       "      <th>title_word_count</th>\n",
       "      <th>uppercase_word_count</th>\n",
       "      <th>short</th>\n",
       "    </tr>\n",
       "  </thead>\n",
       "  <tbody>\n",
       "    <tr>\n",
       "      <th>0</th>\n",
       "      <td>The Revelation of John\\n\\nThe General Epistle ...</td>\n",
       "      <td>2807</td>\n",
       "      <td>455</td>\n",
       "      <td>6.155702</td>\n",
       "      <td>45</td>\n",
       "      <td>307</td>\n",
       "      <td>2</td>\n",
       "      <td>Revelation John \\n\\n General Epistle Jude \\n\\n...</td>\n",
       "    </tr>\n",
       "    <tr>\n",
       "      <th>1</th>\n",
       "      <td>http://bit.ly/PrintPostWS \\n\\n\\n\\nThe Old Test...</td>\n",
       "      <td>354</td>\n",
       "      <td>55</td>\n",
       "      <td>6.321429</td>\n",
       "      <td>20</td>\n",
       "      <td>20</td>\n",
       "      <td>3</td>\n",
       "      <td>http://bit.ly/PrintPostWS \\n\\n\\n\\n Old Testame...</td>\n",
       "    </tr>\n",
       "    <tr>\n",
       "      <th>2</th>\n",
       "      <td>(Until the rest are completed by David Robert ...</td>\n",
       "      <td>76</td>\n",
       "      <td>13</td>\n",
       "      <td>5.428571</td>\n",
       "      <td>2</td>\n",
       "      <td>4</td>\n",
       "      <td>0</td>\n",
       "      <td>rest complete David Robert Palmer translation</td>\n",
       "    </tr>\n",
       "    <tr>\n",
       "      <th>3</th>\n",
       "      <td>Acts is in progress.)</td>\n",
       "      <td>21</td>\n",
       "      <td>4</td>\n",
       "      <td>4.200000</td>\n",
       "      <td>2</td>\n",
       "      <td>1</td>\n",
       "      <td>0</td>\n",
       "      <td>act progress</td>\n",
       "    </tr>\n",
       "    <tr>\n",
       "      <th>4</th>\n",
       "      <td>To download an edition of just the fresh trans...</td>\n",
       "      <td>525</td>\n",
       "      <td>62</td>\n",
       "      <td>8.333333</td>\n",
       "      <td>36</td>\n",
       "      <td>14</td>\n",
       "      <td>1</td>\n",
       "      <td>download edition fresh translation part David ...</td>\n",
       "    </tr>\n",
       "  </tbody>\n",
       "</table>\n",
       "</div>"
      ],
      "text/plain": [
       "                                            Sentence  sentence_length  \\\n",
       "0  The Revelation of John\\n\\nThe General Epistle ...             2807   \n",
       "1  http://bit.ly/PrintPostWS \\n\\n\\n\\nThe Old Test...              354   \n",
       "2  (Until the rest are completed by David Robert ...               76   \n",
       "3                              Acts is in progress.)               21   \n",
       "4  To download an edition of just the fresh trans...              525   \n",
       "\n",
       "   word_count  word_density  punctuation_count  title_word_count  \\\n",
       "0         455      6.155702                 45               307   \n",
       "1          55      6.321429                 20                20   \n",
       "2          13      5.428571                  2                 4   \n",
       "3           4      4.200000                  2                 1   \n",
       "4          62      8.333333                 36                14   \n",
       "\n",
       "   uppercase_word_count                                              short  \n",
       "0                     2  Revelation John \\n\\n General Epistle Jude \\n\\n...  \n",
       "1                     3  http://bit.ly/PrintPostWS \\n\\n\\n\\n Old Testame...  \n",
       "2                     0      rest complete David Robert Palmer translation  \n",
       "3                     0                                       act progress  \n",
       "4                     1  download edition fresh translation part David ...  "
      ]
     },
     "execution_count": 180,
     "metadata": {},
     "output_type": "execute_result"
    }
   ],
   "source": [
    "sentence_df.head()"
   ]
  },
  {
   "cell_type": "markdown",
   "metadata": {},
   "source": [
    "# Add Sentiment\n",
    "* https://www.programcreek.com/python/example/100005/nltk.sentiment.vader.SentimentIntensityAnalyzer"
   ]
  },
  {
   "cell_type": "code",
   "execution_count": 181,
   "metadata": {},
   "outputs": [
    {
     "data": {
      "text/html": [
       "<div>\n",
       "<style scoped>\n",
       "    .dataframe tbody tr th:only-of-type {\n",
       "        vertical-align: middle;\n",
       "    }\n",
       "\n",
       "    .dataframe tbody tr th {\n",
       "        vertical-align: top;\n",
       "    }\n",
       "\n",
       "    .dataframe thead th {\n",
       "        text-align: right;\n",
       "    }\n",
       "</style>\n",
       "<table border=\"1\" class=\"dataframe\">\n",
       "  <thead>\n",
       "    <tr style=\"text-align: right;\">\n",
       "      <th></th>\n",
       "      <th>Sentence</th>\n",
       "      <th>sentence_length</th>\n",
       "      <th>word_count</th>\n",
       "      <th>word_density</th>\n",
       "      <th>punctuation_count</th>\n",
       "      <th>title_word_count</th>\n",
       "      <th>uppercase_word_count</th>\n",
       "      <th>short</th>\n",
       "    </tr>\n",
       "  </thead>\n",
       "  <tbody>\n",
       "    <tr>\n",
       "      <th>0</th>\n",
       "      <td>The Revelation of John\\n\\nThe General Epistle ...</td>\n",
       "      <td>2807</td>\n",
       "      <td>455</td>\n",
       "      <td>6.155702</td>\n",
       "      <td>45</td>\n",
       "      <td>307</td>\n",
       "      <td>2</td>\n",
       "      <td>Revelation John \\n\\n General Epistle Jude \\n\\n...</td>\n",
       "    </tr>\n",
       "    <tr>\n",
       "      <th>1</th>\n",
       "      <td>http://bit.ly/PrintPostWS \\n\\n\\n\\nThe Old Test...</td>\n",
       "      <td>354</td>\n",
       "      <td>55</td>\n",
       "      <td>6.321429</td>\n",
       "      <td>20</td>\n",
       "      <td>20</td>\n",
       "      <td>3</td>\n",
       "      <td>http://bit.ly/PrintPostWS \\n\\n\\n\\n Old Testame...</td>\n",
       "    </tr>\n",
       "    <tr>\n",
       "      <th>2</th>\n",
       "      <td>(Until the rest are completed by David Robert ...</td>\n",
       "      <td>76</td>\n",
       "      <td>13</td>\n",
       "      <td>5.428571</td>\n",
       "      <td>2</td>\n",
       "      <td>4</td>\n",
       "      <td>0</td>\n",
       "      <td>rest complete David Robert Palmer translation</td>\n",
       "    </tr>\n",
       "    <tr>\n",
       "      <th>3</th>\n",
       "      <td>Acts is in progress.)</td>\n",
       "      <td>21</td>\n",
       "      <td>4</td>\n",
       "      <td>4.200000</td>\n",
       "      <td>2</td>\n",
       "      <td>1</td>\n",
       "      <td>0</td>\n",
       "      <td>act progress</td>\n",
       "    </tr>\n",
       "    <tr>\n",
       "      <th>4</th>\n",
       "      <td>To download an edition of just the fresh trans...</td>\n",
       "      <td>525</td>\n",
       "      <td>62</td>\n",
       "      <td>8.333333</td>\n",
       "      <td>36</td>\n",
       "      <td>14</td>\n",
       "      <td>1</td>\n",
       "      <td>download edition fresh translation part David ...</td>\n",
       "    </tr>\n",
       "  </tbody>\n",
       "</table>\n",
       "</div>"
      ],
      "text/plain": [
       "                                            Sentence  sentence_length  \\\n",
       "0  The Revelation of John\\n\\nThe General Epistle ...             2807   \n",
       "1  http://bit.ly/PrintPostWS \\n\\n\\n\\nThe Old Test...              354   \n",
       "2  (Until the rest are completed by David Robert ...               76   \n",
       "3                              Acts is in progress.)               21   \n",
       "4  To download an edition of just the fresh trans...              525   \n",
       "\n",
       "   word_count  word_density  punctuation_count  title_word_count  \\\n",
       "0         455      6.155702                 45               307   \n",
       "1          55      6.321429                 20                20   \n",
       "2          13      5.428571                  2                 4   \n",
       "3           4      4.200000                  2                 1   \n",
       "4          62      8.333333                 36                14   \n",
       "\n",
       "   uppercase_word_count                                              short  \n",
       "0                     2  Revelation John \\n\\n General Epistle Jude \\n\\n...  \n",
       "1                     3  http://bit.ly/PrintPostWS \\n\\n\\n\\n Old Testame...  \n",
       "2                     0      rest complete David Robert Palmer translation  \n",
       "3                     0                                       act progress  \n",
       "4                     1  download edition fresh translation part David ...  "
      ]
     },
     "execution_count": 181,
     "metadata": {},
     "output_type": "execute_result"
    }
   ],
   "source": [
    "sentence_df.head()"
   ]
  },
  {
   "cell_type": "code",
   "execution_count": 182,
   "metadata": {},
   "outputs": [
    {
     "data": {
      "text/plain": [
       "(31383, 8)"
      ]
     },
     "execution_count": 182,
     "metadata": {},
     "output_type": "execute_result"
    }
   ],
   "source": [
    "sentence_df.shape"
   ]
  },
  {
   "cell_type": "code",
   "execution_count": 183,
   "metadata": {},
   "outputs": [],
   "source": [
    "from nltk.sentiment.vader import SentimentIntensityAnalyzer as SIA\n"
   ]
  },
  {
   "cell_type": "code",
   "execution_count": 184,
   "metadata": {},
   "outputs": [],
   "source": [
    "from nltk.sentiment.vader import SentimentIntensityAnalyzer"
   ]
  },
  {
   "cell_type": "code",
   "execution_count": 185,
   "metadata": {},
   "outputs": [
    {
     "data": {
      "text/html": [
       "<div>\n",
       "<style scoped>\n",
       "    .dataframe tbody tr th:only-of-type {\n",
       "        vertical-align: middle;\n",
       "    }\n",
       "\n",
       "    .dataframe tbody tr th {\n",
       "        vertical-align: top;\n",
       "    }\n",
       "\n",
       "    .dataframe thead th {\n",
       "        text-align: right;\n",
       "    }\n",
       "</style>\n",
       "<table border=\"1\" class=\"dataframe\">\n",
       "  <thead>\n",
       "    <tr style=\"text-align: right;\">\n",
       "      <th></th>\n",
       "      <th>Words</th>\n",
       "    </tr>\n",
       "  </thead>\n",
       "  <tbody>\n",
       "    <tr>\n",
       "      <th>0</th>\n",
       "      <td>The</td>\n",
       "    </tr>\n",
       "    <tr>\n",
       "      <th>1</th>\n",
       "      <td>Revelation</td>\n",
       "    </tr>\n",
       "    <tr>\n",
       "      <th>2</th>\n",
       "      <td>of</td>\n",
       "    </tr>\n",
       "    <tr>\n",
       "      <th>3</th>\n",
       "      <td>John</td>\n",
       "    </tr>\n",
       "    <tr>\n",
       "      <th>4</th>\n",
       "      <td>The</td>\n",
       "    </tr>\n",
       "  </tbody>\n",
       "</table>\n",
       "</div>"
      ],
      "text/plain": [
       "        Words\n",
       "0         The\n",
       "1  Revelation\n",
       "2          of\n",
       "3        John\n",
       "4         The"
      ]
     },
     "execution_count": 185,
     "metadata": {},
     "output_type": "execute_result"
    }
   ],
   "source": [
    "stripped_df.head()"
   ]
  },
  {
   "cell_type": "code",
   "execution_count": null,
   "metadata": {},
   "outputs": [],
   "source": []
  },
  {
   "cell_type": "code",
   "execution_count": 186,
   "metadata": {},
   "outputs": [
    {
     "data": {
      "text/html": [
       "<div>\n",
       "<style scoped>\n",
       "    .dataframe tbody tr th:only-of-type {\n",
       "        vertical-align: middle;\n",
       "    }\n",
       "\n",
       "    .dataframe tbody tr th {\n",
       "        vertical-align: top;\n",
       "    }\n",
       "\n",
       "    .dataframe thead th {\n",
       "        text-align: right;\n",
       "    }\n",
       "</style>\n",
       "<table border=\"1\" class=\"dataframe\">\n",
       "  <thead>\n",
       "    <tr style=\"text-align: right;\">\n",
       "      <th></th>\n",
       "      <th>Sentence</th>\n",
       "      <th>sentence_length</th>\n",
       "      <th>word_count</th>\n",
       "      <th>word_density</th>\n",
       "      <th>punctuation_count</th>\n",
       "      <th>title_word_count</th>\n",
       "      <th>uppercase_word_count</th>\n",
       "      <th>short</th>\n",
       "    </tr>\n",
       "  </thead>\n",
       "  <tbody>\n",
       "    <tr>\n",
       "      <th>0</th>\n",
       "      <td>The Revelation of John\\n\\nThe General Epistle ...</td>\n",
       "      <td>2807</td>\n",
       "      <td>455</td>\n",
       "      <td>6.155702</td>\n",
       "      <td>45</td>\n",
       "      <td>307</td>\n",
       "      <td>2</td>\n",
       "      <td>Revelation John \\n\\n General Epistle Jude \\n\\n...</td>\n",
       "    </tr>\n",
       "    <tr>\n",
       "      <th>1</th>\n",
       "      <td>http://bit.ly/PrintPostWS \\n\\n\\n\\nThe Old Test...</td>\n",
       "      <td>354</td>\n",
       "      <td>55</td>\n",
       "      <td>6.321429</td>\n",
       "      <td>20</td>\n",
       "      <td>20</td>\n",
       "      <td>3</td>\n",
       "      <td>http://bit.ly/PrintPostWS \\n\\n\\n\\n Old Testame...</td>\n",
       "    </tr>\n",
       "    <tr>\n",
       "      <th>2</th>\n",
       "      <td>(Until the rest are completed by David Robert ...</td>\n",
       "      <td>76</td>\n",
       "      <td>13</td>\n",
       "      <td>5.428571</td>\n",
       "      <td>2</td>\n",
       "      <td>4</td>\n",
       "      <td>0</td>\n",
       "      <td>rest complete David Robert Palmer translation</td>\n",
       "    </tr>\n",
       "    <tr>\n",
       "      <th>3</th>\n",
       "      <td>Acts is in progress.)</td>\n",
       "      <td>21</td>\n",
       "      <td>4</td>\n",
       "      <td>4.200000</td>\n",
       "      <td>2</td>\n",
       "      <td>1</td>\n",
       "      <td>0</td>\n",
       "      <td>act progress</td>\n",
       "    </tr>\n",
       "    <tr>\n",
       "      <th>4</th>\n",
       "      <td>To download an edition of just the fresh trans...</td>\n",
       "      <td>525</td>\n",
       "      <td>62</td>\n",
       "      <td>8.333333</td>\n",
       "      <td>36</td>\n",
       "      <td>14</td>\n",
       "      <td>1</td>\n",
       "      <td>download edition fresh translation part David ...</td>\n",
       "    </tr>\n",
       "  </tbody>\n",
       "</table>\n",
       "</div>"
      ],
      "text/plain": [
       "                                            Sentence  sentence_length  \\\n",
       "0  The Revelation of John\\n\\nThe General Epistle ...             2807   \n",
       "1  http://bit.ly/PrintPostWS \\n\\n\\n\\nThe Old Test...              354   \n",
       "2  (Until the rest are completed by David Robert ...               76   \n",
       "3                              Acts is in progress.)               21   \n",
       "4  To download an edition of just the fresh trans...              525   \n",
       "\n",
       "   word_count  word_density  punctuation_count  title_word_count  \\\n",
       "0         455      6.155702                 45               307   \n",
       "1          55      6.321429                 20                20   \n",
       "2          13      5.428571                  2                 4   \n",
       "3           4      4.200000                  2                 1   \n",
       "4          62      8.333333                 36                14   \n",
       "\n",
       "   uppercase_word_count                                              short  \n",
       "0                     2  Revelation John \\n\\n General Epistle Jude \\n\\n...  \n",
       "1                     3  http://bit.ly/PrintPostWS \\n\\n\\n\\n Old Testame...  \n",
       "2                     0      rest complete David Robert Palmer translation  \n",
       "3                     0                                       act progress  \n",
       "4                     1  download edition fresh translation part David ...  "
      ]
     },
     "execution_count": 186,
     "metadata": {},
     "output_type": "execute_result"
    }
   ],
   "source": [
    "sentence_df.head()"
   ]
  },
  {
   "cell_type": "code",
   "execution_count": 188,
   "metadata": {},
   "outputs": [],
   "source": [
    "sia = SIA()\n",
    "results = []\n",
    "\n",
    "for i in range (len(sentence_df)):\n",
    "    pol_score = sia.polarity_scores(sentence_df['Sentence'][i])\n",
    "    results.append(pol_score)\n",
    "    #print(i)\n",
    "    #print(results)"
   ]
  },
  {
   "cell_type": "code",
   "execution_count": 189,
   "metadata": {},
   "outputs": [
    {
     "name": "stdout",
     "output_type": "stream",
     "text": [
      "<class 'list'>\n"
     ]
    }
   ],
   "source": [
    " print(type(results))"
   ]
  },
  {
   "cell_type": "code",
   "execution_count": 190,
   "metadata": {},
   "outputs": [],
   "source": [
    " #print(results)"
   ]
  },
  {
   "cell_type": "code",
   "execution_count": 191,
   "metadata": {},
   "outputs": [],
   "source": [
    "results_df = pd.DataFrame(results) #.reset_index()"
   ]
  },
  {
   "cell_type": "code",
   "execution_count": 192,
   "metadata": {},
   "outputs": [
    {
     "data": {
      "text/html": [
       "<div>\n",
       "<style scoped>\n",
       "    .dataframe tbody tr th:only-of-type {\n",
       "        vertical-align: middle;\n",
       "    }\n",
       "\n",
       "    .dataframe tbody tr th {\n",
       "        vertical-align: top;\n",
       "    }\n",
       "\n",
       "    .dataframe thead th {\n",
       "        text-align: right;\n",
       "    }\n",
       "</style>\n",
       "<table border=\"1\" class=\"dataframe\">\n",
       "  <thead>\n",
       "    <tr style=\"text-align: right;\">\n",
       "      <th></th>\n",
       "      <th>neg</th>\n",
       "      <th>neu</th>\n",
       "      <th>pos</th>\n",
       "      <th>compound</th>\n",
       "    </tr>\n",
       "  </thead>\n",
       "  <tbody>\n",
       "    <tr>\n",
       "      <th>0</th>\n",
       "      <td>0.012</td>\n",
       "      <td>0.985</td>\n",
       "      <td>0.004</td>\n",
       "      <td>-0.5583</td>\n",
       "    </tr>\n",
       "    <tr>\n",
       "      <th>1</th>\n",
       "      <td>0.000</td>\n",
       "      <td>0.957</td>\n",
       "      <td>0.043</td>\n",
       "      <td>0.3182</td>\n",
       "    </tr>\n",
       "    <tr>\n",
       "      <th>2</th>\n",
       "      <td>0.000</td>\n",
       "      <td>1.000</td>\n",
       "      <td>0.000</td>\n",
       "      <td>0.0000</td>\n",
       "    </tr>\n",
       "    <tr>\n",
       "      <th>3</th>\n",
       "      <td>0.000</td>\n",
       "      <td>1.000</td>\n",
       "      <td>0.000</td>\n",
       "      <td>0.0000</td>\n",
       "    </tr>\n",
       "    <tr>\n",
       "      <th>4</th>\n",
       "      <td>0.000</td>\n",
       "      <td>0.964</td>\n",
       "      <td>0.036</td>\n",
       "      <td>0.3182</td>\n",
       "    </tr>\n",
       "  </tbody>\n",
       "</table>\n",
       "</div>"
      ],
      "text/plain": [
       "     neg    neu    pos  compound\n",
       "0  0.012  0.985  0.004   -0.5583\n",
       "1  0.000  0.957  0.043    0.3182\n",
       "2  0.000  1.000  0.000    0.0000\n",
       "3  0.000  1.000  0.000    0.0000\n",
       "4  0.000  0.964  0.036    0.3182"
      ]
     },
     "execution_count": 192,
     "metadata": {},
     "output_type": "execute_result"
    }
   ],
   "source": [
    "results_df.head()"
   ]
  },
  {
   "cell_type": "code",
   "execution_count": 193,
   "metadata": {},
   "outputs": [
    {
     "data": {
      "text/plain": [
       "(31383, 4)"
      ]
     },
     "execution_count": 193,
     "metadata": {},
     "output_type": "execute_result"
    }
   ],
   "source": [
    "results_df.shape"
   ]
  },
  {
   "cell_type": "code",
   "execution_count": 194,
   "metadata": {},
   "outputs": [
    {
     "data": {
      "text/plain": [
       "(31383, 8)"
      ]
     },
     "execution_count": 194,
     "metadata": {},
     "output_type": "execute_result"
    }
   ],
   "source": [
    "sentence_df.shape"
   ]
  },
  {
   "cell_type": "code",
   "execution_count": 195,
   "metadata": {},
   "outputs": [],
   "source": [
    "results_df['AlexMarker'] = \"TBD\"\n",
    "results_df['AlexMarkerPrevalent'] = \"TBD\""
   ]
  },
  {
   "cell_type": "code",
   "execution_count": 196,
   "metadata": {},
   "outputs": [
    {
     "data": {
      "text/html": [
       "<div>\n",
       "<style scoped>\n",
       "    .dataframe tbody tr th:only-of-type {\n",
       "        vertical-align: middle;\n",
       "    }\n",
       "\n",
       "    .dataframe tbody tr th {\n",
       "        vertical-align: top;\n",
       "    }\n",
       "\n",
       "    .dataframe thead th {\n",
       "        text-align: right;\n",
       "    }\n",
       "</style>\n",
       "<table border=\"1\" class=\"dataframe\">\n",
       "  <thead>\n",
       "    <tr style=\"text-align: right;\">\n",
       "      <th></th>\n",
       "      <th>neg</th>\n",
       "      <th>neu</th>\n",
       "      <th>pos</th>\n",
       "      <th>compound</th>\n",
       "      <th>AlexMarker</th>\n",
       "      <th>AlexMarkerPrevalent</th>\n",
       "    </tr>\n",
       "  </thead>\n",
       "  <tbody>\n",
       "    <tr>\n",
       "      <th>0</th>\n",
       "      <td>0.012</td>\n",
       "      <td>0.985</td>\n",
       "      <td>0.004</td>\n",
       "      <td>-0.5583</td>\n",
       "      <td>TBD</td>\n",
       "      <td>TBD</td>\n",
       "    </tr>\n",
       "    <tr>\n",
       "      <th>1</th>\n",
       "      <td>0.000</td>\n",
       "      <td>0.957</td>\n",
       "      <td>0.043</td>\n",
       "      <td>0.3182</td>\n",
       "      <td>TBD</td>\n",
       "      <td>TBD</td>\n",
       "    </tr>\n",
       "    <tr>\n",
       "      <th>2</th>\n",
       "      <td>0.000</td>\n",
       "      <td>1.000</td>\n",
       "      <td>0.000</td>\n",
       "      <td>0.0000</td>\n",
       "      <td>TBD</td>\n",
       "      <td>TBD</td>\n",
       "    </tr>\n",
       "    <tr>\n",
       "      <th>3</th>\n",
       "      <td>0.000</td>\n",
       "      <td>1.000</td>\n",
       "      <td>0.000</td>\n",
       "      <td>0.0000</td>\n",
       "      <td>TBD</td>\n",
       "      <td>TBD</td>\n",
       "    </tr>\n",
       "    <tr>\n",
       "      <th>4</th>\n",
       "      <td>0.000</td>\n",
       "      <td>0.964</td>\n",
       "      <td>0.036</td>\n",
       "      <td>0.3182</td>\n",
       "      <td>TBD</td>\n",
       "      <td>TBD</td>\n",
       "    </tr>\n",
       "  </tbody>\n",
       "</table>\n",
       "</div>"
      ],
      "text/plain": [
       "     neg    neu    pos  compound AlexMarker AlexMarkerPrevalent\n",
       "0  0.012  0.985  0.004   -0.5583        TBD                 TBD\n",
       "1  0.000  0.957  0.043    0.3182        TBD                 TBD\n",
       "2  0.000  1.000  0.000    0.0000        TBD                 TBD\n",
       "3  0.000  1.000  0.000    0.0000        TBD                 TBD\n",
       "4  0.000  0.964  0.036    0.3182        TBD                 TBD"
      ]
     },
     "execution_count": 196,
     "metadata": {},
     "output_type": "execute_result"
    }
   ],
   "source": [
    "results_df.head()"
   ]
  },
  {
   "cell_type": "code",
   "execution_count": 197,
   "metadata": {},
   "outputs": [
    {
     "name": "stderr",
     "output_type": "stream",
     "text": [
      "C:\\Users\\alexd\\anaconda3\\lib\\site-packages\\ipykernel_launcher.py:7: SettingWithCopyWarning: \n",
      "A value is trying to be set on a copy of a slice from a DataFrame\n",
      "\n",
      "See the caveats in the documentation: https://pandas.pydata.org/pandas-docs/stable/user_guide/indexing.html#returning-a-view-versus-a-copy\n",
      "  import sys\n",
      "C:\\Users\\alexd\\anaconda3\\lib\\site-packages\\ipykernel_launcher.py:12: SettingWithCopyWarning: \n",
      "A value is trying to be set on a copy of a slice from a DataFrame\n",
      "\n",
      "See the caveats in the documentation: https://pandas.pydata.org/pandas-docs/stable/user_guide/indexing.html#returning-a-view-versus-a-copy\n",
      "  if sys.path[0] == '':\n",
      "C:\\Users\\alexd\\anaconda3\\lib\\site-packages\\ipykernel_launcher.py:10: SettingWithCopyWarning: \n",
      "A value is trying to be set on a copy of a slice from a DataFrame\n",
      "\n",
      "See the caveats in the documentation: https://pandas.pydata.org/pandas-docs/stable/user_guide/indexing.html#returning-a-view-versus-a-copy\n",
      "  # Remove the CWD from sys.path while we load stuff.\n",
      "C:\\Users\\alexd\\anaconda3\\lib\\site-packages\\ipykernel_launcher.py:5: SettingWithCopyWarning: \n",
      "A value is trying to be set on a copy of a slice from a DataFrame\n",
      "\n",
      "See the caveats in the documentation: https://pandas.pydata.org/pandas-docs/stable/user_guide/indexing.html#returning-a-view-versus-a-copy\n",
      "  \"\"\"\n"
     ]
    }
   ],
   "source": [
    "for i in range (len(results_df)):\n",
    "   # print(results_df['neg'][i] )\n",
    "    if results_df['neg'][i] >  results_df['pos'][i]:\n",
    "        if results_df['neg'][i] >  results_df['neu'][i]:\n",
    "            results_df['AlexMarker'][i] =\"Negative\"\n",
    "        else:\n",
    "            results_df['AlexMarker'][i] =\"Neutral\"\n",
    "    else:\n",
    "        if results_df['pos'][i] >  results_df['neu'][i]:\n",
    "            results_df['AlexMarker'][i] =\"Positive\"\n",
    "        else:\n",
    "            results_df['AlexMarker'][i] =\"Neutral\"\n"
   ]
  },
  {
   "cell_type": "code",
   "execution_count": 198,
   "metadata": {},
   "outputs": [
    {
     "data": {
      "text/html": [
       "<div>\n",
       "<style scoped>\n",
       "    .dataframe tbody tr th:only-of-type {\n",
       "        vertical-align: middle;\n",
       "    }\n",
       "\n",
       "    .dataframe tbody tr th {\n",
       "        vertical-align: top;\n",
       "    }\n",
       "\n",
       "    .dataframe thead th {\n",
       "        text-align: right;\n",
       "    }\n",
       "</style>\n",
       "<table border=\"1\" class=\"dataframe\">\n",
       "  <thead>\n",
       "    <tr style=\"text-align: right;\">\n",
       "      <th></th>\n",
       "      <th>neg</th>\n",
       "      <th>neu</th>\n",
       "      <th>pos</th>\n",
       "      <th>compound</th>\n",
       "      <th>AlexMarker</th>\n",
       "      <th>AlexMarkerPrevalent</th>\n",
       "    </tr>\n",
       "  </thead>\n",
       "  <tbody>\n",
       "    <tr>\n",
       "      <th>0</th>\n",
       "      <td>0.012</td>\n",
       "      <td>0.985</td>\n",
       "      <td>0.004</td>\n",
       "      <td>-0.5583</td>\n",
       "      <td>Neutral</td>\n",
       "      <td>TBD</td>\n",
       "    </tr>\n",
       "    <tr>\n",
       "      <th>1</th>\n",
       "      <td>0.000</td>\n",
       "      <td>0.957</td>\n",
       "      <td>0.043</td>\n",
       "      <td>0.3182</td>\n",
       "      <td>Neutral</td>\n",
       "      <td>TBD</td>\n",
       "    </tr>\n",
       "    <tr>\n",
       "      <th>2</th>\n",
       "      <td>0.000</td>\n",
       "      <td>1.000</td>\n",
       "      <td>0.000</td>\n",
       "      <td>0.0000</td>\n",
       "      <td>Neutral</td>\n",
       "      <td>TBD</td>\n",
       "    </tr>\n",
       "    <tr>\n",
       "      <th>3</th>\n",
       "      <td>0.000</td>\n",
       "      <td>1.000</td>\n",
       "      <td>0.000</td>\n",
       "      <td>0.0000</td>\n",
       "      <td>Neutral</td>\n",
       "      <td>TBD</td>\n",
       "    </tr>\n",
       "    <tr>\n",
       "      <th>4</th>\n",
       "      <td>0.000</td>\n",
       "      <td>0.964</td>\n",
       "      <td>0.036</td>\n",
       "      <td>0.3182</td>\n",
       "      <td>Neutral</td>\n",
       "      <td>TBD</td>\n",
       "    </tr>\n",
       "  </tbody>\n",
       "</table>\n",
       "</div>"
      ],
      "text/plain": [
       "     neg    neu    pos  compound AlexMarker AlexMarkerPrevalent\n",
       "0  0.012  0.985  0.004   -0.5583    Neutral                 TBD\n",
       "1  0.000  0.957  0.043    0.3182    Neutral                 TBD\n",
       "2  0.000  1.000  0.000    0.0000    Neutral                 TBD\n",
       "3  0.000  1.000  0.000    0.0000    Neutral                 TBD\n",
       "4  0.000  0.964  0.036    0.3182    Neutral                 TBD"
      ]
     },
     "execution_count": 198,
     "metadata": {},
     "output_type": "execute_result"
    }
   ],
   "source": [
    "results_df.head()"
   ]
  },
  {
   "cell_type": "code",
   "execution_count": 199,
   "metadata": {},
   "outputs": [],
   "source": [
    "sentence_df['neg'] = results_df['neg']\n",
    "sentence_df['neu'] = results_df['neu']\n",
    "sentence_df['pos'] = results_df['pos']\n",
    "sentence_df['compound'] = results_df['compound']\n",
    "sentence_df['AlexMarker'] = results_df['AlexMarker']"
   ]
  },
  {
   "cell_type": "code",
   "execution_count": 200,
   "metadata": {},
   "outputs": [
    {
     "data": {
      "text/plain": [
       "Neutral     31082\n",
       "Positive      185\n",
       "Negative      116\n",
       "Name: AlexMarker, dtype: int64"
      ]
     },
     "execution_count": 200,
     "metadata": {},
     "output_type": "execute_result"
    }
   ],
   "source": [
    "sentence_df['AlexMarker'].value_counts()"
   ]
  },
  {
   "cell_type": "code",
   "execution_count": 201,
   "metadata": {},
   "outputs": [
    {
     "data": {
      "text/html": [
       "<div>\n",
       "<style scoped>\n",
       "    .dataframe tbody tr th:only-of-type {\n",
       "        vertical-align: middle;\n",
       "    }\n",
       "\n",
       "    .dataframe tbody tr th {\n",
       "        vertical-align: top;\n",
       "    }\n",
       "\n",
       "    .dataframe thead th {\n",
       "        text-align: right;\n",
       "    }\n",
       "</style>\n",
       "<table border=\"1\" class=\"dataframe\">\n",
       "  <thead>\n",
       "    <tr style=\"text-align: right;\">\n",
       "      <th></th>\n",
       "      <th>Sentence</th>\n",
       "      <th>sentence_length</th>\n",
       "      <th>word_count</th>\n",
       "      <th>word_density</th>\n",
       "      <th>punctuation_count</th>\n",
       "      <th>title_word_count</th>\n",
       "      <th>uppercase_word_count</th>\n",
       "      <th>short</th>\n",
       "      <th>neg</th>\n",
       "      <th>neu</th>\n",
       "      <th>pos</th>\n",
       "      <th>compound</th>\n",
       "      <th>AlexMarker</th>\n",
       "    </tr>\n",
       "  </thead>\n",
       "  <tbody>\n",
       "    <tr>\n",
       "      <th>0</th>\n",
       "      <td>The Revelation of John\\n\\nThe General Epistle ...</td>\n",
       "      <td>2807</td>\n",
       "      <td>455</td>\n",
       "      <td>6.155702</td>\n",
       "      <td>45</td>\n",
       "      <td>307</td>\n",
       "      <td>2</td>\n",
       "      <td>Revelation John \\n\\n General Epistle Jude \\n\\n...</td>\n",
       "      <td>0.012</td>\n",
       "      <td>0.985</td>\n",
       "      <td>0.004</td>\n",
       "      <td>-0.5583</td>\n",
       "      <td>Neutral</td>\n",
       "    </tr>\n",
       "    <tr>\n",
       "      <th>1</th>\n",
       "      <td>http://bit.ly/PrintPostWS \\n\\n\\n\\nThe Old Test...</td>\n",
       "      <td>354</td>\n",
       "      <td>55</td>\n",
       "      <td>6.321429</td>\n",
       "      <td>20</td>\n",
       "      <td>20</td>\n",
       "      <td>3</td>\n",
       "      <td>http://bit.ly/PrintPostWS \\n\\n\\n\\n Old Testame...</td>\n",
       "      <td>0.000</td>\n",
       "      <td>0.957</td>\n",
       "      <td>0.043</td>\n",
       "      <td>0.3182</td>\n",
       "      <td>Neutral</td>\n",
       "    </tr>\n",
       "    <tr>\n",
       "      <th>2</th>\n",
       "      <td>(Until the rest are completed by David Robert ...</td>\n",
       "      <td>76</td>\n",
       "      <td>13</td>\n",
       "      <td>5.428571</td>\n",
       "      <td>2</td>\n",
       "      <td>4</td>\n",
       "      <td>0</td>\n",
       "      <td>rest complete David Robert Palmer translation</td>\n",
       "      <td>0.000</td>\n",
       "      <td>1.000</td>\n",
       "      <td>0.000</td>\n",
       "      <td>0.0000</td>\n",
       "      <td>Neutral</td>\n",
       "    </tr>\n",
       "    <tr>\n",
       "      <th>3</th>\n",
       "      <td>Acts is in progress.)</td>\n",
       "      <td>21</td>\n",
       "      <td>4</td>\n",
       "      <td>4.200000</td>\n",
       "      <td>2</td>\n",
       "      <td>1</td>\n",
       "      <td>0</td>\n",
       "      <td>act progress</td>\n",
       "      <td>0.000</td>\n",
       "      <td>1.000</td>\n",
       "      <td>0.000</td>\n",
       "      <td>0.0000</td>\n",
       "      <td>Neutral</td>\n",
       "    </tr>\n",
       "    <tr>\n",
       "      <th>4</th>\n",
       "      <td>To download an edition of just the fresh trans...</td>\n",
       "      <td>525</td>\n",
       "      <td>62</td>\n",
       "      <td>8.333333</td>\n",
       "      <td>36</td>\n",
       "      <td>14</td>\n",
       "      <td>1</td>\n",
       "      <td>download edition fresh translation part David ...</td>\n",
       "      <td>0.000</td>\n",
       "      <td>0.964</td>\n",
       "      <td>0.036</td>\n",
       "      <td>0.3182</td>\n",
       "      <td>Neutral</td>\n",
       "    </tr>\n",
       "    <tr>\n",
       "      <th>5</th>\n",
       "      <td>You can also use the Document Map feature by o...</td>\n",
       "      <td>77</td>\n",
       "      <td>15</td>\n",
       "      <td>4.812500</td>\n",
       "      <td>1</td>\n",
       "      <td>5</td>\n",
       "      <td>0</td>\n",
       "      <td>use Document Map feature open View Menu</td>\n",
       "      <td>0.000</td>\n",
       "      <td>1.000</td>\n",
       "      <td>0.000</td>\n",
       "      <td>0.0000</td>\n",
       "      <td>Neutral</td>\n",
       "    </tr>\n",
       "    <tr>\n",
       "      <th>6</th>\n",
       "      <td>In Adobe Acrobat Reader, you can navigate to t...</td>\n",
       "      <td>315</td>\n",
       "      <td>52</td>\n",
       "      <td>5.943396</td>\n",
       "      <td>7</td>\n",
       "      <td>9</td>\n",
       "      <td>0</td>\n",
       "      <td>Adobe Acrobat Reader navigate topic heading   ...</td>\n",
       "      <td>0.000</td>\n",
       "      <td>0.953</td>\n",
       "      <td>0.047</td>\n",
       "      <td>0.3612</td>\n",
       "      <td>Neutral</td>\n",
       "    </tr>\n",
       "    <tr>\n",
       "      <th>7</th>\n",
       "      <td>The Old Testament\\n\\n\\n\\n\\n\\n\\n\\n Genesis\\n\\n ...</td>\n",
       "      <td>540</td>\n",
       "      <td>69</td>\n",
       "      <td>7.714286</td>\n",
       "      <td>3</td>\n",
       "      <td>49</td>\n",
       "      <td>1</td>\n",
       "      <td>Old Testament \\n\\n\\n\\n\\n\\n\\n\\n  Genesis \\n\\n  ...</td>\n",
       "      <td>0.045</td>\n",
       "      <td>0.955</td>\n",
       "      <td>0.000</td>\n",
       "      <td>-0.4404</td>\n",
       "      <td>Neutral</td>\n",
       "    </tr>\n",
       "    <tr>\n",
       "      <th>8</th>\n",
       "      <td>You can also use the Document Map feature by o...</td>\n",
       "      <td>77</td>\n",
       "      <td>15</td>\n",
       "      <td>4.812500</td>\n",
       "      <td>1</td>\n",
       "      <td>5</td>\n",
       "      <td>0</td>\n",
       "      <td>use Document Map feature open View Menu</td>\n",
       "      <td>0.000</td>\n",
       "      <td>1.000</td>\n",
       "      <td>0.000</td>\n",
       "      <td>0.0000</td>\n",
       "      <td>Neutral</td>\n",
       "    </tr>\n",
       "    <tr>\n",
       "      <th>9</th>\n",
       "      <td>In Adobe Acrobat Reader, you can navigate to t...</td>\n",
       "      <td>315</td>\n",
       "      <td>52</td>\n",
       "      <td>5.943396</td>\n",
       "      <td>7</td>\n",
       "      <td>9</td>\n",
       "      <td>0</td>\n",
       "      <td>Adobe Acrobat Reader navigate topic heading   ...</td>\n",
       "      <td>0.000</td>\n",
       "      <td>0.953</td>\n",
       "      <td>0.047</td>\n",
       "      <td>0.3612</td>\n",
       "      <td>Neutral</td>\n",
       "    </tr>\n",
       "    <tr>\n",
       "      <th>10</th>\n",
       "      <td>Matthew\\n\\nMark\\n\\nLuke\\n\\nJohn\\n\\nError!</td>\n",
       "      <td>33</td>\n",
       "      <td>5</td>\n",
       "      <td>5.500000</td>\n",
       "      <td>1</td>\n",
       "      <td>5</td>\n",
       "      <td>0</td>\n",
       "      <td>Matthew \\n\\n Mark \\n\\n Luke \\n\\n John \\n\\n Error</td>\n",
       "      <td>0.428</td>\n",
       "      <td>0.572</td>\n",
       "      <td>0.000</td>\n",
       "      <td>-0.4574</td>\n",
       "      <td>Neutral</td>\n",
       "    </tr>\n",
       "    <tr>\n",
       "      <th>11</th>\n",
       "      <td>Reference source not found.</td>\n",
       "      <td>27</td>\n",
       "      <td>4</td>\n",
       "      <td>5.400000</td>\n",
       "      <td>1</td>\n",
       "      <td>1</td>\n",
       "      <td>0</td>\n",
       "      <td>reference source find</td>\n",
       "      <td>0.000</td>\n",
       "      <td>1.000</td>\n",
       "      <td>0.000</td>\n",
       "      <td>0.0000</td>\n",
       "      <td>Neutral</td>\n",
       "    </tr>\n",
       "    <tr>\n",
       "      <th>12</th>\n",
       "      <td>Romans \\n\\n1 Corinthians\\n\\n2 Corinthians\\n\\nG...</td>\n",
       "      <td>319</td>\n",
       "      <td>47</td>\n",
       "      <td>6.645833</td>\n",
       "      <td>2</td>\n",
       "      <td>26</td>\n",
       "      <td>0</td>\n",
       "      <td>Romans \\n\\n 1 corinthian \\n\\n 2 corinthian \\n\\...</td>\n",
       "      <td>0.000</td>\n",
       "      <td>0.812</td>\n",
       "      <td>0.188</td>\n",
       "      <td>0.7506</td>\n",
       "      <td>Neutral</td>\n",
       "    </tr>\n",
       "    <tr>\n",
       "      <th>13</th>\n",
       "      <td>1:2 And the earth was without form and void; a...</td>\n",
       "      <td>88</td>\n",
       "      <td>18</td>\n",
       "      <td>4.631579</td>\n",
       "      <td>3</td>\n",
       "      <td>1</td>\n",
       "      <td>0</td>\n",
       "      <td>1:2 earth form void darkness face deep</td>\n",
       "      <td>0.105</td>\n",
       "      <td>0.895</td>\n",
       "      <td>0.000</td>\n",
       "      <td>-0.2500</td>\n",
       "      <td>Neutral</td>\n",
       "    </tr>\n",
       "    <tr>\n",
       "      <th>14</th>\n",
       "      <td>And the Spirit of God moved upon the face of t...</td>\n",
       "      <td>56</td>\n",
       "      <td>12</td>\n",
       "      <td>4.307692</td>\n",
       "      <td>1</td>\n",
       "      <td>3</td>\n",
       "      <td>0</td>\n",
       "      <td>Spirit God move face water</td>\n",
       "      <td>0.000</td>\n",
       "      <td>0.725</td>\n",
       "      <td>0.275</td>\n",
       "      <td>0.4215</td>\n",
       "      <td>Neutral</td>\n",
       "    </tr>\n",
       "    <tr>\n",
       "      <th>15</th>\n",
       "      <td>1:3 And God said, Let there be light.</td>\n",
       "      <td>37</td>\n",
       "      <td>8</td>\n",
       "      <td>4.111111</td>\n",
       "      <td>3</td>\n",
       "      <td>3</td>\n",
       "      <td>0</td>\n",
       "      <td>1:3 God say let light</td>\n",
       "      <td>0.000</td>\n",
       "      <td>0.769</td>\n",
       "      <td>0.231</td>\n",
       "      <td>0.2732</td>\n",
       "      <td>Neutral</td>\n",
       "    </tr>\n",
       "    <tr>\n",
       "      <th>16</th>\n",
       "      <td>And there was light.</td>\n",
       "      <td>20</td>\n",
       "      <td>4</td>\n",
       "      <td>4.000000</td>\n",
       "      <td>1</td>\n",
       "      <td>1</td>\n",
       "      <td>0</td>\n",
       "      <td>light</td>\n",
       "      <td>0.000</td>\n",
       "      <td>1.000</td>\n",
       "      <td>0.000</td>\n",
       "      <td>0.0000</td>\n",
       "      <td>Neutral</td>\n",
       "    </tr>\n",
       "    <tr>\n",
       "      <th>17</th>\n",
       "      <td>1:4 And God saw the light, that it was good.</td>\n",
       "      <td>44</td>\n",
       "      <td>10</td>\n",
       "      <td>4.000000</td>\n",
       "      <td>3</td>\n",
       "      <td>2</td>\n",
       "      <td>0</td>\n",
       "      <td>1:4 God see light good</td>\n",
       "      <td>0.000</td>\n",
       "      <td>0.615</td>\n",
       "      <td>0.385</td>\n",
       "      <td>0.6124</td>\n",
       "      <td>Neutral</td>\n",
       "    </tr>\n",
       "    <tr>\n",
       "      <th>18</th>\n",
       "      <td>And God divided the light from the darkness.</td>\n",
       "      <td>44</td>\n",
       "      <td>8</td>\n",
       "      <td>4.888889</td>\n",
       "      <td>1</td>\n",
       "      <td>2</td>\n",
       "      <td>0</td>\n",
       "      <td>God divide light darkness</td>\n",
       "      <td>0.198</td>\n",
       "      <td>0.594</td>\n",
       "      <td>0.208</td>\n",
       "      <td>0.0258</td>\n",
       "      <td>Neutral</td>\n",
       "    </tr>\n",
       "    <tr>\n",
       "      <th>19</th>\n",
       "      <td>1:5 And God called the light Day, and the dark...</td>\n",
       "      <td>67</td>\n",
       "      <td>13</td>\n",
       "      <td>4.785714</td>\n",
       "      <td>3</td>\n",
       "      <td>4</td>\n",
       "      <td>0</td>\n",
       "      <td>1:5 God call light day darkness call Night</td>\n",
       "      <td>0.132</td>\n",
       "      <td>0.728</td>\n",
       "      <td>0.139</td>\n",
       "      <td>0.0258</td>\n",
       "      <td>Neutral</td>\n",
       "    </tr>\n",
       "  </tbody>\n",
       "</table>\n",
       "</div>"
      ],
      "text/plain": [
       "                                             Sentence  sentence_length  \\\n",
       "0   The Revelation of John\\n\\nThe General Epistle ...             2807   \n",
       "1   http://bit.ly/PrintPostWS \\n\\n\\n\\nThe Old Test...              354   \n",
       "2   (Until the rest are completed by David Robert ...               76   \n",
       "3                               Acts is in progress.)               21   \n",
       "4   To download an edition of just the fresh trans...              525   \n",
       "5   You can also use the Document Map feature by o...               77   \n",
       "6   In Adobe Acrobat Reader, you can navigate to t...              315   \n",
       "7   The Old Testament\\n\\n\\n\\n\\n\\n\\n\\n Genesis\\n\\n ...              540   \n",
       "8   You can also use the Document Map feature by o...               77   \n",
       "9   In Adobe Acrobat Reader, you can navigate to t...              315   \n",
       "10          Matthew\\n\\nMark\\n\\nLuke\\n\\nJohn\\n\\nError!               33   \n",
       "11                        Reference source not found.               27   \n",
       "12  Romans \\n\\n1 Corinthians\\n\\n2 Corinthians\\n\\nG...              319   \n",
       "13  1:2 And the earth was without form and void; a...               88   \n",
       "14  And the Spirit of God moved upon the face of t...               56   \n",
       "15              1:3 And God said, Let there be light.               37   \n",
       "16                               And there was light.               20   \n",
       "17       1:4 And God saw the light, that it was good.               44   \n",
       "18       And God divided the light from the darkness.               44   \n",
       "19  1:5 And God called the light Day, and the dark...               67   \n",
       "\n",
       "    word_count  word_density  punctuation_count  title_word_count  \\\n",
       "0          455      6.155702                 45               307   \n",
       "1           55      6.321429                 20                20   \n",
       "2           13      5.428571                  2                 4   \n",
       "3            4      4.200000                  2                 1   \n",
       "4           62      8.333333                 36                14   \n",
       "5           15      4.812500                  1                 5   \n",
       "6           52      5.943396                  7                 9   \n",
       "7           69      7.714286                  3                49   \n",
       "8           15      4.812500                  1                 5   \n",
       "9           52      5.943396                  7                 9   \n",
       "10           5      5.500000                  1                 5   \n",
       "11           4      5.400000                  1                 1   \n",
       "12          47      6.645833                  2                26   \n",
       "13          18      4.631579                  3                 1   \n",
       "14          12      4.307692                  1                 3   \n",
       "15           8      4.111111                  3                 3   \n",
       "16           4      4.000000                  1                 1   \n",
       "17          10      4.000000                  3                 2   \n",
       "18           8      4.888889                  1                 2   \n",
       "19          13      4.785714                  3                 4   \n",
       "\n",
       "    uppercase_word_count                                              short  \\\n",
       "0                      2  Revelation John \\n\\n General Epistle Jude \\n\\n...   \n",
       "1                      3  http://bit.ly/PrintPostWS \\n\\n\\n\\n Old Testame...   \n",
       "2                      0      rest complete David Robert Palmer translation   \n",
       "3                      0                                       act progress   \n",
       "4                      1  download edition fresh translation part David ...   \n",
       "5                      0            use Document Map feature open View Menu   \n",
       "6                      0  Adobe Acrobat Reader navigate topic heading   ...   \n",
       "7                      1  Old Testament \\n\\n\\n\\n\\n\\n\\n\\n  Genesis \\n\\n  ...   \n",
       "8                      0            use Document Map feature open View Menu   \n",
       "9                      0  Adobe Acrobat Reader navigate topic heading   ...   \n",
       "10                     0   Matthew \\n\\n Mark \\n\\n Luke \\n\\n John \\n\\n Error   \n",
       "11                     0                              reference source find   \n",
       "12                     0  Romans \\n\\n 1 corinthian \\n\\n 2 corinthian \\n\\...   \n",
       "13                     0             1:2 earth form void darkness face deep   \n",
       "14                     0                         Spirit God move face water   \n",
       "15                     0                              1:3 God say let light   \n",
       "16                     0                                              light   \n",
       "17                     0                             1:4 God see light good   \n",
       "18                     0                          God divide light darkness   \n",
       "19                     0         1:5 God call light day darkness call Night   \n",
       "\n",
       "      neg    neu    pos  compound AlexMarker  \n",
       "0   0.012  0.985  0.004   -0.5583    Neutral  \n",
       "1   0.000  0.957  0.043    0.3182    Neutral  \n",
       "2   0.000  1.000  0.000    0.0000    Neutral  \n",
       "3   0.000  1.000  0.000    0.0000    Neutral  \n",
       "4   0.000  0.964  0.036    0.3182    Neutral  \n",
       "5   0.000  1.000  0.000    0.0000    Neutral  \n",
       "6   0.000  0.953  0.047    0.3612    Neutral  \n",
       "7   0.045  0.955  0.000   -0.4404    Neutral  \n",
       "8   0.000  1.000  0.000    0.0000    Neutral  \n",
       "9   0.000  0.953  0.047    0.3612    Neutral  \n",
       "10  0.428  0.572  0.000   -0.4574    Neutral  \n",
       "11  0.000  1.000  0.000    0.0000    Neutral  \n",
       "12  0.000  0.812  0.188    0.7506    Neutral  \n",
       "13  0.105  0.895  0.000   -0.2500    Neutral  \n",
       "14  0.000  0.725  0.275    0.4215    Neutral  \n",
       "15  0.000  0.769  0.231    0.2732    Neutral  \n",
       "16  0.000  1.000  0.000    0.0000    Neutral  \n",
       "17  0.000  0.615  0.385    0.6124    Neutral  \n",
       "18  0.198  0.594  0.208    0.0258    Neutral  \n",
       "19  0.132  0.728  0.139    0.0258    Neutral  "
      ]
     },
     "execution_count": 201,
     "metadata": {},
     "output_type": "execute_result"
    }
   ],
   "source": [
    "sentence_df.head(20)"
   ]
  },
  {
   "cell_type": "code",
   "execution_count": null,
   "metadata": {},
   "outputs": [],
   "source": []
  },
  {
   "cell_type": "code",
   "execution_count": 202,
   "metadata": {},
   "outputs": [
    {
     "data": {
      "text/html": [
       "<div>\n",
       "<style scoped>\n",
       "    .dataframe tbody tr th:only-of-type {\n",
       "        vertical-align: middle;\n",
       "    }\n",
       "\n",
       "    .dataframe tbody tr th {\n",
       "        vertical-align: top;\n",
       "    }\n",
       "\n",
       "    .dataframe thead th {\n",
       "        text-align: right;\n",
       "    }\n",
       "</style>\n",
       "<table border=\"1\" class=\"dataframe\">\n",
       "  <thead>\n",
       "    <tr style=\"text-align: right;\">\n",
       "      <th></th>\n",
       "      <th>Sentence</th>\n",
       "      <th>sentence_length</th>\n",
       "      <th>word_count</th>\n",
       "      <th>word_density</th>\n",
       "      <th>punctuation_count</th>\n",
       "      <th>title_word_count</th>\n",
       "      <th>uppercase_word_count</th>\n",
       "      <th>short</th>\n",
       "      <th>neg</th>\n",
       "      <th>neu</th>\n",
       "      <th>pos</th>\n",
       "      <th>compound</th>\n",
       "      <th>AlexMarker</th>\n",
       "    </tr>\n",
       "  </thead>\n",
       "  <tbody>\n",
       "    <tr>\n",
       "      <th>11450</th>\n",
       "      <td>treason!</td>\n",
       "      <td>8</td>\n",
       "      <td>1</td>\n",
       "      <td>4.000000</td>\n",
       "      <td>1</td>\n",
       "      <td>0</td>\n",
       "      <td>0</td>\n",
       "      <td>treason</td>\n",
       "      <td>1.000</td>\n",
       "      <td>0.000</td>\n",
       "      <td>0.000</td>\n",
       "      <td>-0.4926</td>\n",
       "      <td>Negative</td>\n",
       "    </tr>\n",
       "    <tr>\n",
       "      <th>21953</th>\n",
       "      <td>Alas!</td>\n",
       "      <td>5</td>\n",
       "      <td>1</td>\n",
       "      <td>2.500000</td>\n",
       "      <td>1</td>\n",
       "      <td>1</td>\n",
       "      <td>0</td>\n",
       "      <td>alas</td>\n",
       "      <td>1.000</td>\n",
       "      <td>0.000</td>\n",
       "      <td>0.000</td>\n",
       "      <td>-0.3382</td>\n",
       "      <td>Negative</td>\n",
       "    </tr>\n",
       "    <tr>\n",
       "      <th>9822</th>\n",
       "      <td>Treason!</td>\n",
       "      <td>8</td>\n",
       "      <td>1</td>\n",
       "      <td>4.000000</td>\n",
       "      <td>1</td>\n",
       "      <td>1</td>\n",
       "      <td>0</td>\n",
       "      <td>Treason</td>\n",
       "      <td>1.000</td>\n",
       "      <td>0.000</td>\n",
       "      <td>0.000</td>\n",
       "      <td>-0.4926</td>\n",
       "      <td>Negative</td>\n",
       "    </tr>\n",
       "    <tr>\n",
       "      <th>570</th>\n",
       "      <td>Fear not.</td>\n",
       "      <td>9</td>\n",
       "      <td>2</td>\n",
       "      <td>3.000000</td>\n",
       "      <td>1</td>\n",
       "      <td>1</td>\n",
       "      <td>0</td>\n",
       "      <td>fear</td>\n",
       "      <td>0.762</td>\n",
       "      <td>0.238</td>\n",
       "      <td>0.000</td>\n",
       "      <td>-0.4939</td>\n",
       "      <td>Negative</td>\n",
       "    </tr>\n",
       "    <tr>\n",
       "      <th>23668</th>\n",
       "      <td>17O you blind fools!</td>\n",
       "      <td>20</td>\n",
       "      <td>4</td>\n",
       "      <td>4.000000</td>\n",
       "      <td>1</td>\n",
       "      <td>1</td>\n",
       "      <td>1</td>\n",
       "      <td>17o blind fool</td>\n",
       "      <td>0.756</td>\n",
       "      <td>0.244</td>\n",
       "      <td>0.000</td>\n",
       "      <td>-0.7345</td>\n",
       "      <td>Negative</td>\n",
       "    </tr>\n",
       "    <tr>\n",
       "      <th>...</th>\n",
       "      <td>...</td>\n",
       "      <td>...</td>\n",
       "      <td>...</td>\n",
       "      <td>...</td>\n",
       "      <td>...</td>\n",
       "      <td>...</td>\n",
       "      <td>...</td>\n",
       "      <td>...</td>\n",
       "      <td>...</td>\n",
       "      <td>...</td>\n",
       "      <td>...</td>\n",
       "      <td>...</td>\n",
       "      <td>...</td>\n",
       "    </tr>\n",
       "    <tr>\n",
       "      <th>18087</th>\n",
       "      <td>41:4 Who has wrought and done it, calling the ...</td>\n",
       "      <td>77</td>\n",
       "      <td>13</td>\n",
       "      <td>5.500000</td>\n",
       "      <td>3</td>\n",
       "      <td>1</td>\n",
       "      <td>0</td>\n",
       "      <td>41:4 work call generation beginning</td>\n",
       "      <td>0.000</td>\n",
       "      <td>1.000</td>\n",
       "      <td>0.000</td>\n",
       "      <td>0.0000</td>\n",
       "      <td>Neutral</td>\n",
       "    </tr>\n",
       "    <tr>\n",
       "      <th>18086</th>\n",
       "      <td>41:3 He pursues them, and passes on safely, ev...</td>\n",
       "      <td>93</td>\n",
       "      <td>20</td>\n",
       "      <td>4.428571</td>\n",
       "      <td>4</td>\n",
       "      <td>1</td>\n",
       "      <td>0</td>\n",
       "      <td>41:3 pursue pass safely way go foot</td>\n",
       "      <td>0.000</td>\n",
       "      <td>0.849</td>\n",
       "      <td>0.151</td>\n",
       "      <td>0.4939</td>\n",
       "      <td>Neutral</td>\n",
       "    </tr>\n",
       "    <tr>\n",
       "      <th>18085</th>\n",
       "      <td>he gives nations before him, and makes him rul...</td>\n",
       "      <td>133</td>\n",
       "      <td>27</td>\n",
       "      <td>4.750000</td>\n",
       "      <td>4</td>\n",
       "      <td>0</td>\n",
       "      <td>0</td>\n",
       "      <td>give nation make rule king give dust sword dri...</td>\n",
       "      <td>0.000</td>\n",
       "      <td>1.000</td>\n",
       "      <td>0.000</td>\n",
       "      <td>0.0000</td>\n",
       "      <td>Neutral</td>\n",
       "    </tr>\n",
       "    <tr>\n",
       "      <th>18084</th>\n",
       "      <td>41:2 Who has raised up one from the east, whom...</td>\n",
       "      <td>85</td>\n",
       "      <td>17</td>\n",
       "      <td>4.722222</td>\n",
       "      <td>3</td>\n",
       "      <td>1</td>\n",
       "      <td>0</td>\n",
       "      <td>41:2 raise east call righteousness foot</td>\n",
       "      <td>0.000</td>\n",
       "      <td>1.000</td>\n",
       "      <td>0.000</td>\n",
       "      <td>0.0000</td>\n",
       "      <td>Neutral</td>\n",
       "    </tr>\n",
       "    <tr>\n",
       "      <th>31382</th>\n",
       "      <td>http://bibletranslation.ws/palmer-translation/...</td>\n",
       "      <td>3438</td>\n",
       "      <td>72</td>\n",
       "      <td>47.095890</td>\n",
       "      <td>505</td>\n",
       "      <td>0</td>\n",
       "      <td>0</td>\n",
       "      <td>http://bibletranslation.ws/palmer-translation/...</td>\n",
       "      <td>0.000</td>\n",
       "      <td>1.000</td>\n",
       "      <td>0.000</td>\n",
       "      <td>0.0000</td>\n",
       "      <td>Neutral</td>\n",
       "    </tr>\n",
       "  </tbody>\n",
       "</table>\n",
       "<p>31383 rows × 13 columns</p>\n",
       "</div>"
      ],
      "text/plain": [
       "                                                Sentence  sentence_length  \\\n",
       "11450                                           treason!                8   \n",
       "21953                                              Alas!                5   \n",
       "9822                                            Treason!                8   \n",
       "570                                            Fear not.                9   \n",
       "23668                               17O you blind fools!               20   \n",
       "...                                                  ...              ...   \n",
       "18087  41:4 Who has wrought and done it, calling the ...               77   \n",
       "18086  41:3 He pursues them, and passes on safely, ev...               93   \n",
       "18085  he gives nations before him, and makes him rul...              133   \n",
       "18084  41:2 Who has raised up one from the east, whom...               85   \n",
       "31382  http://bibletranslation.ws/palmer-translation/...             3438   \n",
       "\n",
       "       word_count  word_density  punctuation_count  title_word_count  \\\n",
       "11450           1      4.000000                  1                 0   \n",
       "21953           1      2.500000                  1                 1   \n",
       "9822            1      4.000000                  1                 1   \n",
       "570             2      3.000000                  1                 1   \n",
       "23668           4      4.000000                  1                 1   \n",
       "...           ...           ...                ...               ...   \n",
       "18087          13      5.500000                  3                 1   \n",
       "18086          20      4.428571                  4                 1   \n",
       "18085          27      4.750000                  4                 0   \n",
       "18084          17      4.722222                  3                 1   \n",
       "31382          72     47.095890                505                 0   \n",
       "\n",
       "       uppercase_word_count  \\\n",
       "11450                     0   \n",
       "21953                     0   \n",
       "9822                      0   \n",
       "570                       0   \n",
       "23668                     1   \n",
       "...                     ...   \n",
       "18087                     0   \n",
       "18086                     0   \n",
       "18085                     0   \n",
       "18084                     0   \n",
       "31382                     0   \n",
       "\n",
       "                                                   short    neg    neu    pos  \\\n",
       "11450                                            treason  1.000  0.000  0.000   \n",
       "21953                                               alas  1.000  0.000  0.000   \n",
       "9822                                             Treason  1.000  0.000  0.000   \n",
       "570                                                 fear  0.762  0.238  0.000   \n",
       "23668                                     17o blind fool  0.756  0.244  0.000   \n",
       "...                                                  ...    ...    ...    ...   \n",
       "18087                41:4 work call generation beginning  0.000  1.000  0.000   \n",
       "18086                41:3 pursue pass safely way go foot  0.000  0.849  0.151   \n",
       "18085  give nation make rule king give dust sword dri...  0.000  1.000  0.000   \n",
       "18084            41:2 raise east call righteousness foot  0.000  1.000  0.000   \n",
       "31382  http://bibletranslation.ws/palmer-translation/...  0.000  1.000  0.000   \n",
       "\n",
       "       compound AlexMarker  \n",
       "11450   -0.4926   Negative  \n",
       "21953   -0.3382   Negative  \n",
       "9822    -0.4926   Negative  \n",
       "570     -0.4939   Negative  \n",
       "23668   -0.7345   Negative  \n",
       "...         ...        ...  \n",
       "18087    0.0000    Neutral  \n",
       "18086    0.4939    Neutral  \n",
       "18085    0.0000    Neutral  \n",
       "18084    0.0000    Neutral  \n",
       "31382    0.0000    Neutral  \n",
       "\n",
       "[31383 rows x 13 columns]"
      ]
     },
     "execution_count": 202,
     "metadata": {},
     "output_type": "execute_result"
    }
   ],
   "source": [
    "sentence_df.sort_values(by=['neg'],ascending=False)"
   ]
  },
  {
   "cell_type": "code",
   "execution_count": 203,
   "metadata": {},
   "outputs": [],
   "source": [
    "tempneg = sentence_df.sort_values(by=['neg'],ascending=False)"
   ]
  },
  {
   "cell_type": "code",
   "execution_count": 204,
   "metadata": {
    "scrolled": true
   },
   "outputs": [
    {
     "data": {
      "text/html": [
       "<div>\n",
       "<style scoped>\n",
       "    .dataframe tbody tr th:only-of-type {\n",
       "        vertical-align: middle;\n",
       "    }\n",
       "\n",
       "    .dataframe tbody tr th {\n",
       "        vertical-align: top;\n",
       "    }\n",
       "\n",
       "    .dataframe thead th {\n",
       "        text-align: right;\n",
       "    }\n",
       "</style>\n",
       "<table border=\"1\" class=\"dataframe\">\n",
       "  <thead>\n",
       "    <tr style=\"text-align: right;\">\n",
       "      <th></th>\n",
       "      <th>Sentence</th>\n",
       "      <th>sentence_length</th>\n",
       "      <th>word_count</th>\n",
       "      <th>word_density</th>\n",
       "      <th>punctuation_count</th>\n",
       "      <th>title_word_count</th>\n",
       "      <th>uppercase_word_count</th>\n",
       "      <th>short</th>\n",
       "      <th>neg</th>\n",
       "      <th>neu</th>\n",
       "      <th>pos</th>\n",
       "      <th>compound</th>\n",
       "      <th>AlexMarker</th>\n",
       "    </tr>\n",
       "  </thead>\n",
       "  <tbody>\n",
       "    <tr>\n",
       "      <th>11450</th>\n",
       "      <td>treason!</td>\n",
       "      <td>8</td>\n",
       "      <td>1</td>\n",
       "      <td>4.000000</td>\n",
       "      <td>1</td>\n",
       "      <td>0</td>\n",
       "      <td>0</td>\n",
       "      <td>treason</td>\n",
       "      <td>1.000</td>\n",
       "      <td>0.000</td>\n",
       "      <td>0.0</td>\n",
       "      <td>-0.4926</td>\n",
       "      <td>Negative</td>\n",
       "    </tr>\n",
       "    <tr>\n",
       "      <th>21953</th>\n",
       "      <td>Alas!</td>\n",
       "      <td>5</td>\n",
       "      <td>1</td>\n",
       "      <td>2.500000</td>\n",
       "      <td>1</td>\n",
       "      <td>1</td>\n",
       "      <td>0</td>\n",
       "      <td>alas</td>\n",
       "      <td>1.000</td>\n",
       "      <td>0.000</td>\n",
       "      <td>0.0</td>\n",
       "      <td>-0.3382</td>\n",
       "      <td>Negative</td>\n",
       "    </tr>\n",
       "    <tr>\n",
       "      <th>9822</th>\n",
       "      <td>Treason!</td>\n",
       "      <td>8</td>\n",
       "      <td>1</td>\n",
       "      <td>4.000000</td>\n",
       "      <td>1</td>\n",
       "      <td>1</td>\n",
       "      <td>0</td>\n",
       "      <td>Treason</td>\n",
       "      <td>1.000</td>\n",
       "      <td>0.000</td>\n",
       "      <td>0.0</td>\n",
       "      <td>-0.4926</td>\n",
       "      <td>Negative</td>\n",
       "    </tr>\n",
       "    <tr>\n",
       "      <th>570</th>\n",
       "      <td>Fear not.</td>\n",
       "      <td>9</td>\n",
       "      <td>2</td>\n",
       "      <td>3.000000</td>\n",
       "      <td>1</td>\n",
       "      <td>1</td>\n",
       "      <td>0</td>\n",
       "      <td>fear</td>\n",
       "      <td>0.762</td>\n",
       "      <td>0.238</td>\n",
       "      <td>0.0</td>\n",
       "      <td>-0.4939</td>\n",
       "      <td>Negative</td>\n",
       "    </tr>\n",
       "    <tr>\n",
       "      <th>23668</th>\n",
       "      <td>17O you blind fools!</td>\n",
       "      <td>20</td>\n",
       "      <td>4</td>\n",
       "      <td>4.000000</td>\n",
       "      <td>1</td>\n",
       "      <td>1</td>\n",
       "      <td>1</td>\n",
       "      <td>17o blind fool</td>\n",
       "      <td>0.756</td>\n",
       "      <td>0.244</td>\n",
       "      <td>0.0</td>\n",
       "      <td>-0.7345</td>\n",
       "      <td>Negative</td>\n",
       "    </tr>\n",
       "    <tr>\n",
       "      <th>10091</th>\n",
       "      <td>And Hezekiah wept sore.</td>\n",
       "      <td>23</td>\n",
       "      <td>4</td>\n",
       "      <td>4.600000</td>\n",
       "      <td>1</td>\n",
       "      <td>2</td>\n",
       "      <td>0</td>\n",
       "      <td>Hezekiah weep sore</td>\n",
       "      <td>0.733</td>\n",
       "      <td>0.267</td>\n",
       "      <td>0.0</td>\n",
       "      <td>-0.6705</td>\n",
       "      <td>Negative</td>\n",
       "    </tr>\n",
       "    <tr>\n",
       "      <th>18731</th>\n",
       "      <td>4:19 My anguish, my anguish!</td>\n",
       "      <td>28</td>\n",
       "      <td>5</td>\n",
       "      <td>4.666667</td>\n",
       "      <td>3</td>\n",
       "      <td>1</td>\n",
       "      <td>0</td>\n",
       "      <td>4:19 anguish anguish</td>\n",
       "      <td>0.730</td>\n",
       "      <td>0.270</td>\n",
       "      <td>0.0</td>\n",
       "      <td>-0.8439</td>\n",
       "      <td>Negative</td>\n",
       "    </tr>\n",
       "    <tr>\n",
       "      <th>19358</th>\n",
       "      <td>30:7 Alas!</td>\n",
       "      <td>10</td>\n",
       "      <td>2</td>\n",
       "      <td>3.333333</td>\n",
       "      <td>2</td>\n",
       "      <td>1</td>\n",
       "      <td>0</td>\n",
       "      <td>30:7 alas</td>\n",
       "      <td>0.705</td>\n",
       "      <td>0.295</td>\n",
       "      <td>0.0</td>\n",
       "      <td>-0.3382</td>\n",
       "      <td>Negative</td>\n",
       "    </tr>\n",
       "    <tr>\n",
       "      <th>28785</th>\n",
       "      <td>12:17 Return to no man evil for evil.</td>\n",
       "      <td>37</td>\n",
       "      <td>8</td>\n",
       "      <td>4.111111</td>\n",
       "      <td>2</td>\n",
       "      <td>1</td>\n",
       "      <td>0</td>\n",
       "      <td>12:17 return man evil evil</td>\n",
       "      <td>0.688</td>\n",
       "      <td>0.312</td>\n",
       "      <td>0.0</td>\n",
       "      <td>-0.9001</td>\n",
       "      <td>Negative</td>\n",
       "    </tr>\n",
       "    <tr>\n",
       "      <th>17338</th>\n",
       "      <td>3:11 Woe to the wicked!</td>\n",
       "      <td>23</td>\n",
       "      <td>5</td>\n",
       "      <td>3.833333</td>\n",
       "      <td>2</td>\n",
       "      <td>1</td>\n",
       "      <td>0</td>\n",
       "      <td>3:11 Woe wicked</td>\n",
       "      <td>0.684</td>\n",
       "      <td>0.316</td>\n",
       "      <td>0.0</td>\n",
       "      <td>-0.7574</td>\n",
       "      <td>Negative</td>\n",
       "    </tr>\n",
       "  </tbody>\n",
       "</table>\n",
       "</div>"
      ],
      "text/plain": [
       "                                    Sentence  sentence_length  word_count  \\\n",
       "11450                               treason!                8           1   \n",
       "21953                                  Alas!                5           1   \n",
       "9822                                Treason!                8           1   \n",
       "570                                Fear not.                9           2   \n",
       "23668                   17O you blind fools!               20           4   \n",
       "10091                And Hezekiah wept sore.               23           4   \n",
       "18731           4:19 My anguish, my anguish!               28           5   \n",
       "19358                             30:7 Alas!               10           2   \n",
       "28785  12:17 Return to no man evil for evil.               37           8   \n",
       "17338                3:11 Woe to the wicked!               23           5   \n",
       "\n",
       "       word_density  punctuation_count  title_word_count  \\\n",
       "11450      4.000000                  1                 0   \n",
       "21953      2.500000                  1                 1   \n",
       "9822       4.000000                  1                 1   \n",
       "570        3.000000                  1                 1   \n",
       "23668      4.000000                  1                 1   \n",
       "10091      4.600000                  1                 2   \n",
       "18731      4.666667                  3                 1   \n",
       "19358      3.333333                  2                 1   \n",
       "28785      4.111111                  2                 1   \n",
       "17338      3.833333                  2                 1   \n",
       "\n",
       "       uppercase_word_count                       short    neg    neu  pos  \\\n",
       "11450                     0                     treason  1.000  0.000  0.0   \n",
       "21953                     0                        alas  1.000  0.000  0.0   \n",
       "9822                      0                     Treason  1.000  0.000  0.0   \n",
       "570                       0                        fear  0.762  0.238  0.0   \n",
       "23668                     1              17o blind fool  0.756  0.244  0.0   \n",
       "10091                     0          Hezekiah weep sore  0.733  0.267  0.0   \n",
       "18731                     0        4:19 anguish anguish  0.730  0.270  0.0   \n",
       "19358                     0                   30:7 alas  0.705  0.295  0.0   \n",
       "28785                     0  12:17 return man evil evil  0.688  0.312  0.0   \n",
       "17338                     0             3:11 Woe wicked  0.684  0.316  0.0   \n",
       "\n",
       "       compound AlexMarker  \n",
       "11450   -0.4926   Negative  \n",
       "21953   -0.3382   Negative  \n",
       "9822    -0.4926   Negative  \n",
       "570     -0.4939   Negative  \n",
       "23668   -0.7345   Negative  \n",
       "10091   -0.6705   Negative  \n",
       "18731   -0.8439   Negative  \n",
       "19358   -0.3382   Negative  \n",
       "28785   -0.9001   Negative  \n",
       "17338   -0.7574   Negative  "
      ]
     },
     "execution_count": 204,
     "metadata": {},
     "output_type": "execute_result"
    }
   ],
   "source": [
    "tempneg.head(10)"
   ]
  },
  {
   "cell_type": "code",
   "execution_count": 205,
   "metadata": {},
   "outputs": [],
   "source": [
    "temppos = sentence_df.sort_values(by=['pos'],ascending=False)"
   ]
  },
  {
   "cell_type": "code",
   "execution_count": 206,
   "metadata": {},
   "outputs": [
    {
     "data": {
      "text/html": [
       "<div>\n",
       "<style scoped>\n",
       "    .dataframe tbody tr th:only-of-type {\n",
       "        vertical-align: middle;\n",
       "    }\n",
       "\n",
       "    .dataframe tbody tr th {\n",
       "        vertical-align: top;\n",
       "    }\n",
       "\n",
       "    .dataframe thead th {\n",
       "        text-align: right;\n",
       "    }\n",
       "</style>\n",
       "<table border=\"1\" class=\"dataframe\">\n",
       "  <thead>\n",
       "    <tr style=\"text-align: right;\">\n",
       "      <th></th>\n",
       "      <th>Sentence</th>\n",
       "      <th>sentence_length</th>\n",
       "      <th>word_count</th>\n",
       "      <th>word_density</th>\n",
       "      <th>punctuation_count</th>\n",
       "      <th>title_word_count</th>\n",
       "      <th>uppercase_word_count</th>\n",
       "      <th>short</th>\n",
       "      <th>neg</th>\n",
       "      <th>neu</th>\n",
       "      <th>pos</th>\n",
       "      <th>compound</th>\n",
       "      <th>AlexMarker</th>\n",
       "    </tr>\n",
       "  </thead>\n",
       "  <tbody>\n",
       "    <tr>\n",
       "      <th>31291</th>\n",
       "      <td>Worship God.</td>\n",
       "      <td>12</td>\n",
       "      <td>2</td>\n",
       "      <td>4.000000</td>\n",
       "      <td>1</td>\n",
       "      <td>2</td>\n",
       "      <td>0</td>\n",
       "      <td>worship God</td>\n",
       "      <td>0.0</td>\n",
       "      <td>0.000</td>\n",
       "      <td>1.000</td>\n",
       "      <td>0.5106</td>\n",
       "      <td>Positive</td>\n",
       "    </tr>\n",
       "    <tr>\n",
       "      <th>14686</th>\n",
       "      <td>Blessed be God.</td>\n",
       "      <td>15</td>\n",
       "      <td>3</td>\n",
       "      <td>3.750000</td>\n",
       "      <td>1</td>\n",
       "      <td>2</td>\n",
       "      <td>0</td>\n",
       "      <td>bless God</td>\n",
       "      <td>0.0</td>\n",
       "      <td>0.143</td>\n",
       "      <td>0.857</td>\n",
       "      <td>0.7184</td>\n",
       "      <td>Positive</td>\n",
       "    </tr>\n",
       "    <tr>\n",
       "      <th>27139</th>\n",
       "      <td>Trust in God.</td>\n",
       "      <td>13</td>\n",
       "      <td>3</td>\n",
       "      <td>3.250000</td>\n",
       "      <td>1</td>\n",
       "      <td>2</td>\n",
       "      <td>0</td>\n",
       "      <td>trust God</td>\n",
       "      <td>0.0</td>\n",
       "      <td>0.156</td>\n",
       "      <td>0.844</td>\n",
       "      <td>0.6597</td>\n",
       "      <td>Positive</td>\n",
       "    </tr>\n",
       "    <tr>\n",
       "      <th>28095</th>\n",
       "      <td>I am clean.</td>\n",
       "      <td>11</td>\n",
       "      <td>3</td>\n",
       "      <td>2.750000</td>\n",
       "      <td>1</td>\n",
       "      <td>1</td>\n",
       "      <td>1</td>\n",
       "      <td>clean</td>\n",
       "      <td>0.0</td>\n",
       "      <td>0.270</td>\n",
       "      <td>0.730</td>\n",
       "      <td>0.4019</td>\n",
       "      <td>Positive</td>\n",
       "    </tr>\n",
       "    <tr>\n",
       "      <th>28041</th>\n",
       "      <td>Certainly not!</td>\n",
       "      <td>14</td>\n",
       "      <td>2</td>\n",
       "      <td>4.666667</td>\n",
       "      <td>1</td>\n",
       "      <td>1</td>\n",
       "      <td>0</td>\n",
       "      <td>certainly</td>\n",
       "      <td>0.0</td>\n",
       "      <td>0.271</td>\n",
       "      <td>0.729</td>\n",
       "      <td>0.4003</td>\n",
       "      <td>Positive</td>\n",
       "    </tr>\n",
       "    <tr>\n",
       "      <th>...</th>\n",
       "      <td>...</td>\n",
       "      <td>...</td>\n",
       "      <td>...</td>\n",
       "      <td>...</td>\n",
       "      <td>...</td>\n",
       "      <td>...</td>\n",
       "      <td>...</td>\n",
       "      <td>...</td>\n",
       "      <td>...</td>\n",
       "      <td>...</td>\n",
       "      <td>...</td>\n",
       "      <td>...</td>\n",
       "      <td>...</td>\n",
       "    </tr>\n",
       "    <tr>\n",
       "      <th>30074</th>\n",
       "      <td>4:9 This is a faithful saying and worthy of al...</td>\n",
       "      <td>60</td>\n",
       "      <td>11</td>\n",
       "      <td>5.000000</td>\n",
       "      <td>2</td>\n",
       "      <td>1</td>\n",
       "      <td>0</td>\n",
       "      <td>4:9 faithful saying worthy acceptation</td>\n",
       "      <td>0.0</td>\n",
       "      <td>0.464</td>\n",
       "      <td>0.536</td>\n",
       "      <td>0.7964</td>\n",
       "      <td>Positive</td>\n",
       "    </tr>\n",
       "    <tr>\n",
       "      <th>25266</th>\n",
       "      <td>For the sinners also love the ones loving them.</td>\n",
       "      <td>47</td>\n",
       "      <td>9</td>\n",
       "      <td>4.700000</td>\n",
       "      <td>1</td>\n",
       "      <td>1</td>\n",
       "      <td>0</td>\n",
       "      <td>sinner love one love</td>\n",
       "      <td>0.0</td>\n",
       "      <td>0.464</td>\n",
       "      <td>0.536</td>\n",
       "      <td>0.8442</td>\n",
       "      <td>Positive</td>\n",
       "    </tr>\n",
       "    <tr>\n",
       "      <th>30813</th>\n",
       "      <td>⁷Beloved, let us love one another; for love is...</td>\n",
       "      <td>108</td>\n",
       "      <td>22</td>\n",
       "      <td>4.695652</td>\n",
       "      <td>5</td>\n",
       "      <td>4</td>\n",
       "      <td>0</td>\n",
       "      <td>⁷beloved let love love God love bear God know God</td>\n",
       "      <td>0.0</td>\n",
       "      <td>0.465</td>\n",
       "      <td>0.535</td>\n",
       "      <td>0.9545</td>\n",
       "      <td>Positive</td>\n",
       "    </tr>\n",
       "    <tr>\n",
       "      <th>30595</th>\n",
       "      <td>He should pray.</td>\n",
       "      <td>15</td>\n",
       "      <td>3</td>\n",
       "      <td>3.750000</td>\n",
       "      <td>1</td>\n",
       "      <td>1</td>\n",
       "      <td>0</td>\n",
       "      <td>pray</td>\n",
       "      <td>0.0</td>\n",
       "      <td>0.465</td>\n",
       "      <td>0.535</td>\n",
       "      <td>0.3182</td>\n",
       "      <td>Positive</td>\n",
       "    </tr>\n",
       "    <tr>\n",
       "      <th>15223</th>\n",
       "      <td>95:3 For Yahweh is a great God, and a great Ki...</td>\n",
       "      <td>64</td>\n",
       "      <td>14</td>\n",
       "      <td>4.266667</td>\n",
       "      <td>3</td>\n",
       "      <td>4</td>\n",
       "      <td>0</td>\n",
       "      <td>95:3 Yahweh great God great king god</td>\n",
       "      <td>0.0</td>\n",
       "      <td>0.466</td>\n",
       "      <td>0.534</td>\n",
       "      <td>0.8834</td>\n",
       "      <td>Positive</td>\n",
       "    </tr>\n",
       "  </tbody>\n",
       "</table>\n",
       "<p>100 rows × 13 columns</p>\n",
       "</div>"
      ],
      "text/plain": [
       "                                                Sentence  sentence_length  \\\n",
       "31291                                       Worship God.               12   \n",
       "14686                                    Blessed be God.               15   \n",
       "27139                                      Trust in God.               13   \n",
       "28095                                        I am clean.               11   \n",
       "28041                                     Certainly not!               14   \n",
       "...                                                  ...              ...   \n",
       "30074  4:9 This is a faithful saying and worthy of al...               60   \n",
       "25266    For the sinners also love the ones loving them.               47   \n",
       "30813  ⁷Beloved, let us love one another; for love is...              108   \n",
       "30595                                    He should pray.               15   \n",
       "15223  95:3 For Yahweh is a great God, and a great Ki...               64   \n",
       "\n",
       "       word_count  word_density  punctuation_count  title_word_count  \\\n",
       "31291           2      4.000000                  1                 2   \n",
       "14686           3      3.750000                  1                 2   \n",
       "27139           3      3.250000                  1                 2   \n",
       "28095           3      2.750000                  1                 1   \n",
       "28041           2      4.666667                  1                 1   \n",
       "...           ...           ...                ...               ...   \n",
       "30074          11      5.000000                  2                 1   \n",
       "25266           9      4.700000                  1                 1   \n",
       "30813          22      4.695652                  5                 4   \n",
       "30595           3      3.750000                  1                 1   \n",
       "15223          14      4.266667                  3                 4   \n",
       "\n",
       "       uppercase_word_count  \\\n",
       "31291                     0   \n",
       "14686                     0   \n",
       "27139                     0   \n",
       "28095                     1   \n",
       "28041                     0   \n",
       "...                     ...   \n",
       "30074                     0   \n",
       "25266                     0   \n",
       "30813                     0   \n",
       "30595                     0   \n",
       "15223                     0   \n",
       "\n",
       "                                                   short  neg    neu    pos  \\\n",
       "31291                                        worship God  0.0  0.000  1.000   \n",
       "14686                                          bless God  0.0  0.143  0.857   \n",
       "27139                                          trust God  0.0  0.156  0.844   \n",
       "28095                                              clean  0.0  0.270  0.730   \n",
       "28041                                          certainly  0.0  0.271  0.729   \n",
       "...                                                  ...  ...    ...    ...   \n",
       "30074             4:9 faithful saying worthy acceptation  0.0  0.464  0.536   \n",
       "25266                               sinner love one love  0.0  0.464  0.536   \n",
       "30813  ⁷beloved let love love God love bear God know God  0.0  0.465  0.535   \n",
       "30595                                               pray  0.0  0.465  0.535   \n",
       "15223               95:3 Yahweh great God great king god  0.0  0.466  0.534   \n",
       "\n",
       "       compound AlexMarker  \n",
       "31291    0.5106   Positive  \n",
       "14686    0.7184   Positive  \n",
       "27139    0.6597   Positive  \n",
       "28095    0.4019   Positive  \n",
       "28041    0.4003   Positive  \n",
       "...         ...        ...  \n",
       "30074    0.7964   Positive  \n",
       "25266    0.8442   Positive  \n",
       "30813    0.9545   Positive  \n",
       "30595    0.3182   Positive  \n",
       "15223    0.8834   Positive  \n",
       "\n",
       "[100 rows x 13 columns]"
      ]
     },
     "execution_count": 206,
     "metadata": {},
     "output_type": "execute_result"
    }
   ],
   "source": [
    "temppos.head(100)"
   ]
  },
  {
   "cell_type": "code",
   "execution_count": 207,
   "metadata": {},
   "outputs": [],
   "source": [
    "sentence_df_sentiment_only = sentence_df.copy()"
   ]
  },
  {
   "cell_type": "code",
   "execution_count": 208,
   "metadata": {},
   "outputs": [],
   "source": [
    "sentence_df_sentiment_only = sentence_df_sentiment_only.drop([\"sentence_length\",\"word_count\",\"word_density\",\"punctuation_count\",\"title_word_count\",\"uppercase_word_count\" ],axis=1,inplace=True)\n",
    "\n"
   ]
  },
  {
   "cell_type": "code",
   "execution_count": 209,
   "metadata": {},
   "outputs": [
    {
     "name": "stdout",
     "output_type": "stream",
     "text": [
      "None\n"
     ]
    }
   ],
   "source": [
    "print(sentence_df_sentiment_only)"
   ]
  },
  {
   "cell_type": "code",
   "execution_count": 210,
   "metadata": {},
   "outputs": [],
   "source": [
    "sentence_df['compound_cut'] = pd.cut(sentence_df['compound'],10)\n",
    "sentence_df['pos_cut'] = pd.cut(sentence_df['pos'],10)\n",
    "sentence_df['neg_cut'] = pd.cut(sentence_df['neg'],10)\n",
    "sentence_df['neu_cut'] = pd.cut(sentence_df['neu'],10)"
   ]
  },
  {
   "cell_type": "code",
   "execution_count": 211,
   "metadata": {},
   "outputs": [
    {
     "data": {
      "text/plain": [
       "0        (-0.001, 0.1]\n",
       "1        (-0.001, 0.1]\n",
       "2        (-0.001, 0.1]\n",
       "3        (-0.001, 0.1]\n",
       "4        (-0.001, 0.1]\n",
       "             ...      \n",
       "31378    (-0.001, 0.1]\n",
       "31379    (-0.001, 0.1]\n",
       "31380    (-0.001, 0.1]\n",
       "31381    (-0.001, 0.1]\n",
       "31382    (-0.001, 0.1]\n",
       "Name: neg, Length: 31383, dtype: category\n",
       "Categories (10, interval[float64]): [(-0.001, 0.1] < (0.1, 0.2] < (0.2, 0.3] < (0.3, 0.4] ... (0.6, 0.7] < (0.7, 0.8] < (0.8, 0.9] < (0.9, 1.0]]"
      ]
     },
     "execution_count": 211,
     "metadata": {},
     "output_type": "execute_result"
    }
   ],
   "source": [
    "pd.cut(sentence_df['neg'],10)"
   ]
  },
  {
   "cell_type": "code",
   "execution_count": 212,
   "metadata": {},
   "outputs": [],
   "source": [
    "sentence_df['compound_qcut'] = pd.qcut(sentence_df['compound'],10,duplicates='drop') # duplicates='drop')\n",
    "sentence_df['pos_qcut'] = pd.qcut(sentence_df['pos'],10,duplicates='drop') # duplicates='drop')\n",
    "sentence_df['neg_qcut'] = pd.qcut(sentence_df['neg'],10,duplicates='drop') # duplicates='drop')\n",
    "sentence_df['neu_qcut'] = pd.qcut(sentence_df['neu'],10,duplicates='drop') # duplicates='drop')"
   ]
  },
  {
   "cell_type": "code",
   "execution_count": 213,
   "metadata": {
    "scrolled": true
   },
   "outputs": [
    {
     "data": {
      "text/html": [
       "<div>\n",
       "<style scoped>\n",
       "    .dataframe tbody tr th:only-of-type {\n",
       "        vertical-align: middle;\n",
       "    }\n",
       "\n",
       "    .dataframe tbody tr th {\n",
       "        vertical-align: top;\n",
       "    }\n",
       "\n",
       "    .dataframe thead th {\n",
       "        text-align: right;\n",
       "    }\n",
       "</style>\n",
       "<table border=\"1\" class=\"dataframe\">\n",
       "  <thead>\n",
       "    <tr style=\"text-align: right;\">\n",
       "      <th></th>\n",
       "      <th>Sentence</th>\n",
       "      <th>sentence_length</th>\n",
       "      <th>word_count</th>\n",
       "      <th>word_density</th>\n",
       "      <th>punctuation_count</th>\n",
       "      <th>title_word_count</th>\n",
       "      <th>uppercase_word_count</th>\n",
       "      <th>short</th>\n",
       "      <th>neg</th>\n",
       "      <th>neu</th>\n",
       "      <th>...</th>\n",
       "      <th>compound</th>\n",
       "      <th>AlexMarker</th>\n",
       "      <th>compound_cut</th>\n",
       "      <th>pos_cut</th>\n",
       "      <th>neg_cut</th>\n",
       "      <th>neu_cut</th>\n",
       "      <th>compound_qcut</th>\n",
       "      <th>pos_qcut</th>\n",
       "      <th>neg_qcut</th>\n",
       "      <th>neu_qcut</th>\n",
       "    </tr>\n",
       "  </thead>\n",
       "  <tbody>\n",
       "    <tr>\n",
       "      <th>0</th>\n",
       "      <td>The Revelation of John\\n\\nThe General Epistle ...</td>\n",
       "      <td>2807</td>\n",
       "      <td>455</td>\n",
       "      <td>6.155702</td>\n",
       "      <td>45</td>\n",
       "      <td>307</td>\n",
       "      <td>2</td>\n",
       "      <td>Revelation John \\n\\n General Epistle Jude \\n\\n...</td>\n",
       "      <td>0.012</td>\n",
       "      <td>0.985</td>\n",
       "      <td>...</td>\n",
       "      <td>-0.5583</td>\n",
       "      <td>Neutral</td>\n",
       "      <td>(-0.591, -0.393]</td>\n",
       "      <td>(-0.001, 0.1]</td>\n",
       "      <td>(-0.001, 0.1]</td>\n",
       "      <td>(0.9, 1.0]</td>\n",
       "      <td>(-0.988, -0.557]</td>\n",
       "      <td>(-0.001, 0.061]</td>\n",
       "      <td>(-0.001, 0.069]</td>\n",
       "      <td>(0.942, 1.0]</td>\n",
       "    </tr>\n",
       "    <tr>\n",
       "      <th>1</th>\n",
       "      <td>http://bit.ly/PrintPostWS \\n\\n\\n\\nThe Old Test...</td>\n",
       "      <td>354</td>\n",
       "      <td>55</td>\n",
       "      <td>6.321429</td>\n",
       "      <td>20</td>\n",
       "      <td>20</td>\n",
       "      <td>3</td>\n",
       "      <td>http://bit.ly/PrintPostWS \\n\\n\\n\\n Old Testame...</td>\n",
       "      <td>0.000</td>\n",
       "      <td>0.957</td>\n",
       "      <td>...</td>\n",
       "      <td>0.3182</td>\n",
       "      <td>Neutral</td>\n",
       "      <td>(0.201, 0.399]</td>\n",
       "      <td>(-0.001, 0.1]</td>\n",
       "      <td>(-0.001, 0.1]</td>\n",
       "      <td>(0.9, 1.0]</td>\n",
       "      <td>(0.273, 0.452]</td>\n",
       "      <td>(-0.001, 0.061]</td>\n",
       "      <td>(-0.001, 0.069]</td>\n",
       "      <td>(0.942, 1.0]</td>\n",
       "    </tr>\n",
       "    <tr>\n",
       "      <th>2</th>\n",
       "      <td>(Until the rest are completed by David Robert ...</td>\n",
       "      <td>76</td>\n",
       "      <td>13</td>\n",
       "      <td>5.428571</td>\n",
       "      <td>2</td>\n",
       "      <td>4</td>\n",
       "      <td>0</td>\n",
       "      <td>rest complete David Robert Palmer translation</td>\n",
       "      <td>0.000</td>\n",
       "      <td>1.000</td>\n",
       "      <td>...</td>\n",
       "      <td>0.0000</td>\n",
       "      <td>Neutral</td>\n",
       "      <td>(-0.195, 0.0027]</td>\n",
       "      <td>(-0.001, 0.1]</td>\n",
       "      <td>(-0.001, 0.1]</td>\n",
       "      <td>(0.9, 1.0]</td>\n",
       "      <td>(-0.296, 0.0]</td>\n",
       "      <td>(-0.001, 0.061]</td>\n",
       "      <td>(-0.001, 0.069]</td>\n",
       "      <td>(0.942, 1.0]</td>\n",
       "    </tr>\n",
       "    <tr>\n",
       "      <th>3</th>\n",
       "      <td>Acts is in progress.)</td>\n",
       "      <td>21</td>\n",
       "      <td>4</td>\n",
       "      <td>4.200000</td>\n",
       "      <td>2</td>\n",
       "      <td>1</td>\n",
       "      <td>0</td>\n",
       "      <td>act progress</td>\n",
       "      <td>0.000</td>\n",
       "      <td>1.000</td>\n",
       "      <td>...</td>\n",
       "      <td>0.0000</td>\n",
       "      <td>Neutral</td>\n",
       "      <td>(-0.195, 0.0027]</td>\n",
       "      <td>(-0.001, 0.1]</td>\n",
       "      <td>(-0.001, 0.1]</td>\n",
       "      <td>(0.9, 1.0]</td>\n",
       "      <td>(-0.296, 0.0]</td>\n",
       "      <td>(-0.001, 0.061]</td>\n",
       "      <td>(-0.001, 0.069]</td>\n",
       "      <td>(0.942, 1.0]</td>\n",
       "    </tr>\n",
       "    <tr>\n",
       "      <th>4</th>\n",
       "      <td>To download an edition of just the fresh trans...</td>\n",
       "      <td>525</td>\n",
       "      <td>62</td>\n",
       "      <td>8.333333</td>\n",
       "      <td>36</td>\n",
       "      <td>14</td>\n",
       "      <td>1</td>\n",
       "      <td>download edition fresh translation part David ...</td>\n",
       "      <td>0.000</td>\n",
       "      <td>0.964</td>\n",
       "      <td>...</td>\n",
       "      <td>0.3182</td>\n",
       "      <td>Neutral</td>\n",
       "      <td>(0.201, 0.399]</td>\n",
       "      <td>(-0.001, 0.1]</td>\n",
       "      <td>(-0.001, 0.1]</td>\n",
       "      <td>(0.9, 1.0]</td>\n",
       "      <td>(0.273, 0.452]</td>\n",
       "      <td>(-0.001, 0.061]</td>\n",
       "      <td>(-0.001, 0.069]</td>\n",
       "      <td>(0.942, 1.0]</td>\n",
       "    </tr>\n",
       "    <tr>\n",
       "      <th>5</th>\n",
       "      <td>You can also use the Document Map feature by o...</td>\n",
       "      <td>77</td>\n",
       "      <td>15</td>\n",
       "      <td>4.812500</td>\n",
       "      <td>1</td>\n",
       "      <td>5</td>\n",
       "      <td>0</td>\n",
       "      <td>use Document Map feature open View Menu</td>\n",
       "      <td>0.000</td>\n",
       "      <td>1.000</td>\n",
       "      <td>...</td>\n",
       "      <td>0.0000</td>\n",
       "      <td>Neutral</td>\n",
       "      <td>(-0.195, 0.0027]</td>\n",
       "      <td>(-0.001, 0.1]</td>\n",
       "      <td>(-0.001, 0.1]</td>\n",
       "      <td>(0.9, 1.0]</td>\n",
       "      <td>(-0.296, 0.0]</td>\n",
       "      <td>(-0.001, 0.061]</td>\n",
       "      <td>(-0.001, 0.069]</td>\n",
       "      <td>(0.942, 1.0]</td>\n",
       "    </tr>\n",
       "    <tr>\n",
       "      <th>6</th>\n",
       "      <td>In Adobe Acrobat Reader, you can navigate to t...</td>\n",
       "      <td>315</td>\n",
       "      <td>52</td>\n",
       "      <td>5.943396</td>\n",
       "      <td>7</td>\n",
       "      <td>9</td>\n",
       "      <td>0</td>\n",
       "      <td>Adobe Acrobat Reader navigate topic heading   ...</td>\n",
       "      <td>0.000</td>\n",
       "      <td>0.953</td>\n",
       "      <td>...</td>\n",
       "      <td>0.3612</td>\n",
       "      <td>Neutral</td>\n",
       "      <td>(0.201, 0.399]</td>\n",
       "      <td>(-0.001, 0.1]</td>\n",
       "      <td>(-0.001, 0.1]</td>\n",
       "      <td>(0.9, 1.0]</td>\n",
       "      <td>(0.273, 0.452]</td>\n",
       "      <td>(-0.001, 0.061]</td>\n",
       "      <td>(-0.001, 0.069]</td>\n",
       "      <td>(0.942, 1.0]</td>\n",
       "    </tr>\n",
       "    <tr>\n",
       "      <th>7</th>\n",
       "      <td>The Old Testament\\n\\n\\n\\n\\n\\n\\n\\n Genesis\\n\\n ...</td>\n",
       "      <td>540</td>\n",
       "      <td>69</td>\n",
       "      <td>7.714286</td>\n",
       "      <td>3</td>\n",
       "      <td>49</td>\n",
       "      <td>1</td>\n",
       "      <td>Old Testament \\n\\n\\n\\n\\n\\n\\n\\n  Genesis \\n\\n  ...</td>\n",
       "      <td>0.045</td>\n",
       "      <td>0.955</td>\n",
       "      <td>...</td>\n",
       "      <td>-0.4404</td>\n",
       "      <td>Neutral</td>\n",
       "      <td>(-0.591, -0.393]</td>\n",
       "      <td>(-0.001, 0.1]</td>\n",
       "      <td>(-0.001, 0.1]</td>\n",
       "      <td>(0.9, 1.0]</td>\n",
       "      <td>(-0.557, -0.296]</td>\n",
       "      <td>(-0.001, 0.061]</td>\n",
       "      <td>(-0.001, 0.069]</td>\n",
       "      <td>(0.942, 1.0]</td>\n",
       "    </tr>\n",
       "    <tr>\n",
       "      <th>8</th>\n",
       "      <td>You can also use the Document Map feature by o...</td>\n",
       "      <td>77</td>\n",
       "      <td>15</td>\n",
       "      <td>4.812500</td>\n",
       "      <td>1</td>\n",
       "      <td>5</td>\n",
       "      <td>0</td>\n",
       "      <td>use Document Map feature open View Menu</td>\n",
       "      <td>0.000</td>\n",
       "      <td>1.000</td>\n",
       "      <td>...</td>\n",
       "      <td>0.0000</td>\n",
       "      <td>Neutral</td>\n",
       "      <td>(-0.195, 0.0027]</td>\n",
       "      <td>(-0.001, 0.1]</td>\n",
       "      <td>(-0.001, 0.1]</td>\n",
       "      <td>(0.9, 1.0]</td>\n",
       "      <td>(-0.296, 0.0]</td>\n",
       "      <td>(-0.001, 0.061]</td>\n",
       "      <td>(-0.001, 0.069]</td>\n",
       "      <td>(0.942, 1.0]</td>\n",
       "    </tr>\n",
       "    <tr>\n",
       "      <th>9</th>\n",
       "      <td>In Adobe Acrobat Reader, you can navigate to t...</td>\n",
       "      <td>315</td>\n",
       "      <td>52</td>\n",
       "      <td>5.943396</td>\n",
       "      <td>7</td>\n",
       "      <td>9</td>\n",
       "      <td>0</td>\n",
       "      <td>Adobe Acrobat Reader navigate topic heading   ...</td>\n",
       "      <td>0.000</td>\n",
       "      <td>0.953</td>\n",
       "      <td>...</td>\n",
       "      <td>0.3612</td>\n",
       "      <td>Neutral</td>\n",
       "      <td>(0.201, 0.399]</td>\n",
       "      <td>(-0.001, 0.1]</td>\n",
       "      <td>(-0.001, 0.1]</td>\n",
       "      <td>(0.9, 1.0]</td>\n",
       "      <td>(0.273, 0.452]</td>\n",
       "      <td>(-0.001, 0.061]</td>\n",
       "      <td>(-0.001, 0.069]</td>\n",
       "      <td>(0.942, 1.0]</td>\n",
       "    </tr>\n",
       "    <tr>\n",
       "      <th>10</th>\n",
       "      <td>Matthew\\n\\nMark\\n\\nLuke\\n\\nJohn\\n\\nError!</td>\n",
       "      <td>33</td>\n",
       "      <td>5</td>\n",
       "      <td>5.500000</td>\n",
       "      <td>1</td>\n",
       "      <td>5</td>\n",
       "      <td>0</td>\n",
       "      <td>Matthew \\n\\n Mark \\n\\n Luke \\n\\n John \\n\\n Error</td>\n",
       "      <td>0.428</td>\n",
       "      <td>0.572</td>\n",
       "      <td>...</td>\n",
       "      <td>-0.4574</td>\n",
       "      <td>Neutral</td>\n",
       "      <td>(-0.591, -0.393]</td>\n",
       "      <td>(-0.001, 0.1]</td>\n",
       "      <td>(0.4, 0.5]</td>\n",
       "      <td>(0.5, 0.6]</td>\n",
       "      <td>(-0.557, -0.296]</td>\n",
       "      <td>(-0.001, 0.061]</td>\n",
       "      <td>(0.193, 1.0]</td>\n",
       "      <td>(-0.001, 0.676]</td>\n",
       "    </tr>\n",
       "    <tr>\n",
       "      <th>11</th>\n",
       "      <td>Reference source not found.</td>\n",
       "      <td>27</td>\n",
       "      <td>4</td>\n",
       "      <td>5.400000</td>\n",
       "      <td>1</td>\n",
       "      <td>1</td>\n",
       "      <td>0</td>\n",
       "      <td>reference source find</td>\n",
       "      <td>0.000</td>\n",
       "      <td>1.000</td>\n",
       "      <td>...</td>\n",
       "      <td>0.0000</td>\n",
       "      <td>Neutral</td>\n",
       "      <td>(-0.195, 0.0027]</td>\n",
       "      <td>(-0.001, 0.1]</td>\n",
       "      <td>(-0.001, 0.1]</td>\n",
       "      <td>(0.9, 1.0]</td>\n",
       "      <td>(-0.296, 0.0]</td>\n",
       "      <td>(-0.001, 0.061]</td>\n",
       "      <td>(-0.001, 0.069]</td>\n",
       "      <td>(0.942, 1.0]</td>\n",
       "    </tr>\n",
       "    <tr>\n",
       "      <th>12</th>\n",
       "      <td>Romans \\n\\n1 Corinthians\\n\\n2 Corinthians\\n\\nG...</td>\n",
       "      <td>319</td>\n",
       "      <td>47</td>\n",
       "      <td>6.645833</td>\n",
       "      <td>2</td>\n",
       "      <td>26</td>\n",
       "      <td>0</td>\n",
       "      <td>Romans \\n\\n 1 corinthian \\n\\n 2 corinthian \\n\\...</td>\n",
       "      <td>0.000</td>\n",
       "      <td>0.812</td>\n",
       "      <td>...</td>\n",
       "      <td>0.7506</td>\n",
       "      <td>Neutral</td>\n",
       "      <td>(0.597, 0.795]</td>\n",
       "      <td>(0.1, 0.2]</td>\n",
       "      <td>(-0.001, 0.1]</td>\n",
       "      <td>(0.8, 0.9]</td>\n",
       "      <td>(0.649, 0.992]</td>\n",
       "      <td>(0.15, 0.225]</td>\n",
       "      <td>(-0.001, 0.069]</td>\n",
       "      <td>(0.811, 0.856]</td>\n",
       "    </tr>\n",
       "    <tr>\n",
       "      <th>13</th>\n",
       "      <td>1:2 And the earth was without form and void; a...</td>\n",
       "      <td>88</td>\n",
       "      <td>18</td>\n",
       "      <td>4.631579</td>\n",
       "      <td>3</td>\n",
       "      <td>1</td>\n",
       "      <td>0</td>\n",
       "      <td>1:2 earth form void darkness face deep</td>\n",
       "      <td>0.105</td>\n",
       "      <td>0.895</td>\n",
       "      <td>...</td>\n",
       "      <td>-0.2500</td>\n",
       "      <td>Neutral</td>\n",
       "      <td>(-0.393, -0.195]</td>\n",
       "      <td>(-0.001, 0.1]</td>\n",
       "      <td>(0.1, 0.2]</td>\n",
       "      <td>(0.8, 0.9]</td>\n",
       "      <td>(-0.296, 0.0]</td>\n",
       "      <td>(-0.001, 0.061]</td>\n",
       "      <td>(0.069, 0.121]</td>\n",
       "      <td>(0.856, 0.896]</td>\n",
       "    </tr>\n",
       "    <tr>\n",
       "      <th>14</th>\n",
       "      <td>And the Spirit of God moved upon the face of t...</td>\n",
       "      <td>56</td>\n",
       "      <td>12</td>\n",
       "      <td>4.307692</td>\n",
       "      <td>1</td>\n",
       "      <td>3</td>\n",
       "      <td>0</td>\n",
       "      <td>Spirit God move face water</td>\n",
       "      <td>0.000</td>\n",
       "      <td>0.725</td>\n",
       "      <td>...</td>\n",
       "      <td>0.4215</td>\n",
       "      <td>Neutral</td>\n",
       "      <td>(0.399, 0.597]</td>\n",
       "      <td>(0.2, 0.3]</td>\n",
       "      <td>(-0.001, 0.1]</td>\n",
       "      <td>(0.7, 0.8]</td>\n",
       "      <td>(0.273, 0.452]</td>\n",
       "      <td>(0.225, 1.0]</td>\n",
       "      <td>(-0.001, 0.069]</td>\n",
       "      <td>(0.676, 0.756]</td>\n",
       "    </tr>\n",
       "    <tr>\n",
       "      <th>15</th>\n",
       "      <td>1:3 And God said, Let there be light.</td>\n",
       "      <td>37</td>\n",
       "      <td>8</td>\n",
       "      <td>4.111111</td>\n",
       "      <td>3</td>\n",
       "      <td>3</td>\n",
       "      <td>0</td>\n",
       "      <td>1:3 God say let light</td>\n",
       "      <td>0.000</td>\n",
       "      <td>0.769</td>\n",
       "      <td>...</td>\n",
       "      <td>0.2732</td>\n",
       "      <td>Neutral</td>\n",
       "      <td>(0.201, 0.399]</td>\n",
       "      <td>(0.2, 0.3]</td>\n",
       "      <td>(-0.001, 0.1]</td>\n",
       "      <td>(0.7, 0.8]</td>\n",
       "      <td>(0.0, 0.273]</td>\n",
       "      <td>(0.225, 1.0]</td>\n",
       "      <td>(-0.001, 0.069]</td>\n",
       "      <td>(0.756, 0.811]</td>\n",
       "    </tr>\n",
       "    <tr>\n",
       "      <th>16</th>\n",
       "      <td>And there was light.</td>\n",
       "      <td>20</td>\n",
       "      <td>4</td>\n",
       "      <td>4.000000</td>\n",
       "      <td>1</td>\n",
       "      <td>1</td>\n",
       "      <td>0</td>\n",
       "      <td>light</td>\n",
       "      <td>0.000</td>\n",
       "      <td>1.000</td>\n",
       "      <td>...</td>\n",
       "      <td>0.0000</td>\n",
       "      <td>Neutral</td>\n",
       "      <td>(-0.195, 0.0027]</td>\n",
       "      <td>(-0.001, 0.1]</td>\n",
       "      <td>(-0.001, 0.1]</td>\n",
       "      <td>(0.9, 1.0]</td>\n",
       "      <td>(-0.296, 0.0]</td>\n",
       "      <td>(-0.001, 0.061]</td>\n",
       "      <td>(-0.001, 0.069]</td>\n",
       "      <td>(0.942, 1.0]</td>\n",
       "    </tr>\n",
       "    <tr>\n",
       "      <th>17</th>\n",
       "      <td>1:4 And God saw the light, that it was good.</td>\n",
       "      <td>44</td>\n",
       "      <td>10</td>\n",
       "      <td>4.000000</td>\n",
       "      <td>3</td>\n",
       "      <td>2</td>\n",
       "      <td>0</td>\n",
       "      <td>1:4 God see light good</td>\n",
       "      <td>0.000</td>\n",
       "      <td>0.615</td>\n",
       "      <td>...</td>\n",
       "      <td>0.6124</td>\n",
       "      <td>Neutral</td>\n",
       "      <td>(0.597, 0.795]</td>\n",
       "      <td>(0.3, 0.4]</td>\n",
       "      <td>(-0.001, 0.1]</td>\n",
       "      <td>(0.6, 0.7]</td>\n",
       "      <td>(0.452, 0.649]</td>\n",
       "      <td>(0.225, 1.0]</td>\n",
       "      <td>(-0.001, 0.069]</td>\n",
       "      <td>(-0.001, 0.676]</td>\n",
       "    </tr>\n",
       "    <tr>\n",
       "      <th>18</th>\n",
       "      <td>And God divided the light from the darkness.</td>\n",
       "      <td>44</td>\n",
       "      <td>8</td>\n",
       "      <td>4.888889</td>\n",
       "      <td>1</td>\n",
       "      <td>2</td>\n",
       "      <td>0</td>\n",
       "      <td>God divide light darkness</td>\n",
       "      <td>0.198</td>\n",
       "      <td>0.594</td>\n",
       "      <td>...</td>\n",
       "      <td>0.0258</td>\n",
       "      <td>Neutral</td>\n",
       "      <td>(0.0027, 0.201]</td>\n",
       "      <td>(0.2, 0.3]</td>\n",
       "      <td>(0.1, 0.2]</td>\n",
       "      <td>(0.5, 0.6]</td>\n",
       "      <td>(0.0, 0.273]</td>\n",
       "      <td>(0.15, 0.225]</td>\n",
       "      <td>(0.193, 1.0]</td>\n",
       "      <td>(-0.001, 0.676]</td>\n",
       "    </tr>\n",
       "    <tr>\n",
       "      <th>19</th>\n",
       "      <td>1:5 And God called the light Day, and the dark...</td>\n",
       "      <td>67</td>\n",
       "      <td>13</td>\n",
       "      <td>4.785714</td>\n",
       "      <td>3</td>\n",
       "      <td>4</td>\n",
       "      <td>0</td>\n",
       "      <td>1:5 God call light day darkness call Night</td>\n",
       "      <td>0.132</td>\n",
       "      <td>0.728</td>\n",
       "      <td>...</td>\n",
       "      <td>0.0258</td>\n",
       "      <td>Neutral</td>\n",
       "      <td>(0.0027, 0.201]</td>\n",
       "      <td>(0.1, 0.2]</td>\n",
       "      <td>(0.1, 0.2]</td>\n",
       "      <td>(0.7, 0.8]</td>\n",
       "      <td>(0.0, 0.273]</td>\n",
       "      <td>(0.103, 0.15]</td>\n",
       "      <td>(0.121, 0.193]</td>\n",
       "      <td>(0.676, 0.756]</td>\n",
       "    </tr>\n",
       "  </tbody>\n",
       "</table>\n",
       "<p>20 rows × 21 columns</p>\n",
       "</div>"
      ],
      "text/plain": [
       "                                             Sentence  sentence_length  \\\n",
       "0   The Revelation of John\\n\\nThe General Epistle ...             2807   \n",
       "1   http://bit.ly/PrintPostWS \\n\\n\\n\\nThe Old Test...              354   \n",
       "2   (Until the rest are completed by David Robert ...               76   \n",
       "3                               Acts is in progress.)               21   \n",
       "4   To download an edition of just the fresh trans...              525   \n",
       "5   You can also use the Document Map feature by o...               77   \n",
       "6   In Adobe Acrobat Reader, you can navigate to t...              315   \n",
       "7   The Old Testament\\n\\n\\n\\n\\n\\n\\n\\n Genesis\\n\\n ...              540   \n",
       "8   You can also use the Document Map feature by o...               77   \n",
       "9   In Adobe Acrobat Reader, you can navigate to t...              315   \n",
       "10          Matthew\\n\\nMark\\n\\nLuke\\n\\nJohn\\n\\nError!               33   \n",
       "11                        Reference source not found.               27   \n",
       "12  Romans \\n\\n1 Corinthians\\n\\n2 Corinthians\\n\\nG...              319   \n",
       "13  1:2 And the earth was without form and void; a...               88   \n",
       "14  And the Spirit of God moved upon the face of t...               56   \n",
       "15              1:3 And God said, Let there be light.               37   \n",
       "16                               And there was light.               20   \n",
       "17       1:4 And God saw the light, that it was good.               44   \n",
       "18       And God divided the light from the darkness.               44   \n",
       "19  1:5 And God called the light Day, and the dark...               67   \n",
       "\n",
       "    word_count  word_density  punctuation_count  title_word_count  \\\n",
       "0          455      6.155702                 45               307   \n",
       "1           55      6.321429                 20                20   \n",
       "2           13      5.428571                  2                 4   \n",
       "3            4      4.200000                  2                 1   \n",
       "4           62      8.333333                 36                14   \n",
       "5           15      4.812500                  1                 5   \n",
       "6           52      5.943396                  7                 9   \n",
       "7           69      7.714286                  3                49   \n",
       "8           15      4.812500                  1                 5   \n",
       "9           52      5.943396                  7                 9   \n",
       "10           5      5.500000                  1                 5   \n",
       "11           4      5.400000                  1                 1   \n",
       "12          47      6.645833                  2                26   \n",
       "13          18      4.631579                  3                 1   \n",
       "14          12      4.307692                  1                 3   \n",
       "15           8      4.111111                  3                 3   \n",
       "16           4      4.000000                  1                 1   \n",
       "17          10      4.000000                  3                 2   \n",
       "18           8      4.888889                  1                 2   \n",
       "19          13      4.785714                  3                 4   \n",
       "\n",
       "    uppercase_word_count                                              short  \\\n",
       "0                      2  Revelation John \\n\\n General Epistle Jude \\n\\n...   \n",
       "1                      3  http://bit.ly/PrintPostWS \\n\\n\\n\\n Old Testame...   \n",
       "2                      0      rest complete David Robert Palmer translation   \n",
       "3                      0                                       act progress   \n",
       "4                      1  download edition fresh translation part David ...   \n",
       "5                      0            use Document Map feature open View Menu   \n",
       "6                      0  Adobe Acrobat Reader navigate topic heading   ...   \n",
       "7                      1  Old Testament \\n\\n\\n\\n\\n\\n\\n\\n  Genesis \\n\\n  ...   \n",
       "8                      0            use Document Map feature open View Menu   \n",
       "9                      0  Adobe Acrobat Reader navigate topic heading   ...   \n",
       "10                     0   Matthew \\n\\n Mark \\n\\n Luke \\n\\n John \\n\\n Error   \n",
       "11                     0                              reference source find   \n",
       "12                     0  Romans \\n\\n 1 corinthian \\n\\n 2 corinthian \\n\\...   \n",
       "13                     0             1:2 earth form void darkness face deep   \n",
       "14                     0                         Spirit God move face water   \n",
       "15                     0                              1:3 God say let light   \n",
       "16                     0                                              light   \n",
       "17                     0                             1:4 God see light good   \n",
       "18                     0                          God divide light darkness   \n",
       "19                     0         1:5 God call light day darkness call Night   \n",
       "\n",
       "      neg    neu  ...  compound  AlexMarker      compound_cut        pos_cut  \\\n",
       "0   0.012  0.985  ...   -0.5583     Neutral  (-0.591, -0.393]  (-0.001, 0.1]   \n",
       "1   0.000  0.957  ...    0.3182     Neutral    (0.201, 0.399]  (-0.001, 0.1]   \n",
       "2   0.000  1.000  ...    0.0000     Neutral  (-0.195, 0.0027]  (-0.001, 0.1]   \n",
       "3   0.000  1.000  ...    0.0000     Neutral  (-0.195, 0.0027]  (-0.001, 0.1]   \n",
       "4   0.000  0.964  ...    0.3182     Neutral    (0.201, 0.399]  (-0.001, 0.1]   \n",
       "5   0.000  1.000  ...    0.0000     Neutral  (-0.195, 0.0027]  (-0.001, 0.1]   \n",
       "6   0.000  0.953  ...    0.3612     Neutral    (0.201, 0.399]  (-0.001, 0.1]   \n",
       "7   0.045  0.955  ...   -0.4404     Neutral  (-0.591, -0.393]  (-0.001, 0.1]   \n",
       "8   0.000  1.000  ...    0.0000     Neutral  (-0.195, 0.0027]  (-0.001, 0.1]   \n",
       "9   0.000  0.953  ...    0.3612     Neutral    (0.201, 0.399]  (-0.001, 0.1]   \n",
       "10  0.428  0.572  ...   -0.4574     Neutral  (-0.591, -0.393]  (-0.001, 0.1]   \n",
       "11  0.000  1.000  ...    0.0000     Neutral  (-0.195, 0.0027]  (-0.001, 0.1]   \n",
       "12  0.000  0.812  ...    0.7506     Neutral    (0.597, 0.795]     (0.1, 0.2]   \n",
       "13  0.105  0.895  ...   -0.2500     Neutral  (-0.393, -0.195]  (-0.001, 0.1]   \n",
       "14  0.000  0.725  ...    0.4215     Neutral    (0.399, 0.597]     (0.2, 0.3]   \n",
       "15  0.000  0.769  ...    0.2732     Neutral    (0.201, 0.399]     (0.2, 0.3]   \n",
       "16  0.000  1.000  ...    0.0000     Neutral  (-0.195, 0.0027]  (-0.001, 0.1]   \n",
       "17  0.000  0.615  ...    0.6124     Neutral    (0.597, 0.795]     (0.3, 0.4]   \n",
       "18  0.198  0.594  ...    0.0258     Neutral   (0.0027, 0.201]     (0.2, 0.3]   \n",
       "19  0.132  0.728  ...    0.0258     Neutral   (0.0027, 0.201]     (0.1, 0.2]   \n",
       "\n",
       "          neg_cut     neu_cut     compound_qcut         pos_qcut  \\\n",
       "0   (-0.001, 0.1]  (0.9, 1.0]  (-0.988, -0.557]  (-0.001, 0.061]   \n",
       "1   (-0.001, 0.1]  (0.9, 1.0]    (0.273, 0.452]  (-0.001, 0.061]   \n",
       "2   (-0.001, 0.1]  (0.9, 1.0]     (-0.296, 0.0]  (-0.001, 0.061]   \n",
       "3   (-0.001, 0.1]  (0.9, 1.0]     (-0.296, 0.0]  (-0.001, 0.061]   \n",
       "4   (-0.001, 0.1]  (0.9, 1.0]    (0.273, 0.452]  (-0.001, 0.061]   \n",
       "5   (-0.001, 0.1]  (0.9, 1.0]     (-0.296, 0.0]  (-0.001, 0.061]   \n",
       "6   (-0.001, 0.1]  (0.9, 1.0]    (0.273, 0.452]  (-0.001, 0.061]   \n",
       "7   (-0.001, 0.1]  (0.9, 1.0]  (-0.557, -0.296]  (-0.001, 0.061]   \n",
       "8   (-0.001, 0.1]  (0.9, 1.0]     (-0.296, 0.0]  (-0.001, 0.061]   \n",
       "9   (-0.001, 0.1]  (0.9, 1.0]    (0.273, 0.452]  (-0.001, 0.061]   \n",
       "10     (0.4, 0.5]  (0.5, 0.6]  (-0.557, -0.296]  (-0.001, 0.061]   \n",
       "11  (-0.001, 0.1]  (0.9, 1.0]     (-0.296, 0.0]  (-0.001, 0.061]   \n",
       "12  (-0.001, 0.1]  (0.8, 0.9]    (0.649, 0.992]    (0.15, 0.225]   \n",
       "13     (0.1, 0.2]  (0.8, 0.9]     (-0.296, 0.0]  (-0.001, 0.061]   \n",
       "14  (-0.001, 0.1]  (0.7, 0.8]    (0.273, 0.452]     (0.225, 1.0]   \n",
       "15  (-0.001, 0.1]  (0.7, 0.8]      (0.0, 0.273]     (0.225, 1.0]   \n",
       "16  (-0.001, 0.1]  (0.9, 1.0]     (-0.296, 0.0]  (-0.001, 0.061]   \n",
       "17  (-0.001, 0.1]  (0.6, 0.7]    (0.452, 0.649]     (0.225, 1.0]   \n",
       "18     (0.1, 0.2]  (0.5, 0.6]      (0.0, 0.273]    (0.15, 0.225]   \n",
       "19     (0.1, 0.2]  (0.7, 0.8]      (0.0, 0.273]    (0.103, 0.15]   \n",
       "\n",
       "           neg_qcut         neu_qcut  \n",
       "0   (-0.001, 0.069]     (0.942, 1.0]  \n",
       "1   (-0.001, 0.069]     (0.942, 1.0]  \n",
       "2   (-0.001, 0.069]     (0.942, 1.0]  \n",
       "3   (-0.001, 0.069]     (0.942, 1.0]  \n",
       "4   (-0.001, 0.069]     (0.942, 1.0]  \n",
       "5   (-0.001, 0.069]     (0.942, 1.0]  \n",
       "6   (-0.001, 0.069]     (0.942, 1.0]  \n",
       "7   (-0.001, 0.069]     (0.942, 1.0]  \n",
       "8   (-0.001, 0.069]     (0.942, 1.0]  \n",
       "9   (-0.001, 0.069]     (0.942, 1.0]  \n",
       "10     (0.193, 1.0]  (-0.001, 0.676]  \n",
       "11  (-0.001, 0.069]     (0.942, 1.0]  \n",
       "12  (-0.001, 0.069]   (0.811, 0.856]  \n",
       "13   (0.069, 0.121]   (0.856, 0.896]  \n",
       "14  (-0.001, 0.069]   (0.676, 0.756]  \n",
       "15  (-0.001, 0.069]   (0.756, 0.811]  \n",
       "16  (-0.001, 0.069]     (0.942, 1.0]  \n",
       "17  (-0.001, 0.069]  (-0.001, 0.676]  \n",
       "18     (0.193, 1.0]  (-0.001, 0.676]  \n",
       "19   (0.121, 0.193]   (0.676, 0.756]  \n",
       "\n",
       "[20 rows x 21 columns]"
      ]
     },
     "execution_count": 213,
     "metadata": {},
     "output_type": "execute_result"
    }
   ],
   "source": [
    "sentence_df.head(20)"
   ]
  },
  {
   "cell_type": "code",
   "execution_count": 214,
   "metadata": {},
   "outputs": [
    {
     "data": {
      "text/plain": [
       "(-0.001, 0.1]    21815\n",
       "(0.1, 0.2]        5680\n",
       "(0.2, 0.3]        2373\n",
       "(0.3, 0.4]         986\n",
       "(0.4, 0.5]         365\n",
       "(0.5, 0.6]         116\n",
       "(0.6, 0.7]          42\n",
       "(0.7, 0.8]           3\n",
       "(0.8, 0.9]           2\n",
       "(0.9, 1.0]           1\n",
       "Name: pos_cut, dtype: int64"
      ]
     },
     "execution_count": 214,
     "metadata": {},
     "output_type": "execute_result"
    }
   ],
   "source": [
    "sentence_df['pos_cut'].value_counts()"
   ]
  },
  {
   "cell_type": "code",
   "execution_count": 215,
   "metadata": {},
   "outputs": [
    {
     "data": {
      "text/plain": [
       "(-0.001, 0.061]    18866\n",
       "(0.061, 0.103]      3185\n",
       "(0.15, 0.225]       3160\n",
       "(0.225, 1.0]        3097\n",
       "(0.103, 0.15]       3075\n",
       "Name: pos_qcut, dtype: int64"
      ]
     },
     "execution_count": 215,
     "metadata": {},
     "output_type": "execute_result"
    }
   ],
   "source": [
    "sentence_df['pos_qcut'].value_counts()"
   ]
  },
  {
   "cell_type": "code",
   "execution_count": 216,
   "metadata": {},
   "outputs": [
    {
     "data": {
      "text/plain": [
       "(-0.001, 0.069]    22009\n",
       "(0.121, 0.193]      3130\n",
       "(0.193, 1.0]        3125\n",
       "(0.069, 0.121]      3119\n",
       "Name: neg_qcut, dtype: int64"
      ]
     },
     "execution_count": 216,
     "metadata": {},
     "output_type": "execute_result"
    }
   ],
   "source": [
    "sentence_df['neg_qcut'].value_counts()"
   ]
  },
  {
   "cell_type": "code",
   "execution_count": 217,
   "metadata": {},
   "outputs": [
    {
     "data": {
      "text/plain": [
       "(0.942, 1.0]       12516\n",
       "(0.811, 0.856]      3210\n",
       "(-0.001, 0.676]     3163\n",
       "(0.896, 0.942]      3151\n",
       "(0.676, 0.756]      3137\n",
       "(0.756, 0.811]      3128\n",
       "(0.856, 0.896]      3078\n",
       "Name: neu_qcut, dtype: int64"
      ]
     },
     "execution_count": 217,
     "metadata": {},
     "output_type": "execute_result"
    }
   ],
   "source": [
    "sentence_df['neu_qcut'].value_counts()"
   ]
  },
  {
   "cell_type": "code",
   "execution_count": 218,
   "metadata": {},
   "outputs": [
    {
     "data": {
      "text/plain": [
       "(-0.296, 0.0]       13563\n",
       "(-0.988, -0.557]     3312\n",
       "(-0.557, -0.296]     3217\n",
       "(0.452, 0.649]       3152\n",
       "(0.649, 0.992]       3125\n",
       "(0.0, 0.273]         2773\n",
       "(0.273, 0.452]       2241\n",
       "Name: compound_qcut, dtype: int64"
      ]
     },
     "execution_count": 218,
     "metadata": {},
     "output_type": "execute_result"
    }
   ],
   "source": [
    "sentence_df['compound_qcut'].value_counts()"
   ]
  },
  {
   "cell_type": "code",
   "execution_count": 219,
   "metadata": {},
   "outputs": [],
   "source": [
    "positive_df = sentence_df[sentence_df['AlexMarker']==\"Positive\"]"
   ]
  },
  {
   "cell_type": "code",
   "execution_count": 220,
   "metadata": {},
   "outputs": [],
   "source": [
    "negative_df = sentence_df[sentence_df['AlexMarker']==\"Negative\"]"
   ]
  },
  {
   "cell_type": "code",
   "execution_count": 221,
   "metadata": {},
   "outputs": [],
   "source": [
    "#positive_df.sample(10)"
   ]
  },
  {
   "cell_type": "code",
   "execution_count": 222,
   "metadata": {},
   "outputs": [
    {
     "data": {
      "text/plain": [
       "(185, 21)"
      ]
     },
     "execution_count": 222,
     "metadata": {},
     "output_type": "execute_result"
    }
   ],
   "source": [
    "positive_df.shape"
   ]
  },
  {
   "cell_type": "code",
   "execution_count": 223,
   "metadata": {},
   "outputs": [
    {
     "data": {
      "image/png": "[encoded data removed]",
      "text/plain": [
       "<Figure size 1280x800 with 1 Axes>"
      ]
     },
     "metadata": {
      "needs_background": "light"
     },
     "output_type": "display_data"
    }
   ],
   "source": [
    "plt.figure(figsize=(16,10), dpi= 80)\n",
    "sns.kdeplot(positive_df['compound'], shade=True, color=\"g\", label=\"Compound\", alpha=.9)\n",
    "sns.kdeplot(positive_df['pos'], shade=True, color=\"deeppink\", label=\"Positive\", alpha=.7)\n",
    "#sns.kdeplot(positive_df['neg'], shade=True, color=\"dodgerblue\", label=\"Negative\", alpha=.7)\n",
    "#sns.kdeplot(positive_df['neg'], shade=True, color=\"blue\", label=\"Negative\", alpha=.7)\n",
    "sns.kdeplot(positive_df['neu'], shade=True, color=\"orange\", label=\"Neutral\", alpha=.7)\n",
    "plt.title('Combined Sentiment - Positive is positive', fontsize=22)\n",
    "plt.legend()\n",
    "plt.show()"
   ]
  },
  {
   "cell_type": "code",
   "execution_count": 224,
   "metadata": {},
   "outputs": [
    {
     "data": {
      "text/plain": [
       "0        False\n",
       "1        False\n",
       "2        False\n",
       "3        False\n",
       "4        False\n",
       "         ...  \n",
       "31378    False\n",
       "31379    False\n",
       "31380    False\n",
       "31381    False\n",
       "31382    False\n",
       "Name: neg, Length: 31383, dtype: bool"
      ]
     },
     "execution_count": 224,
     "metadata": {},
     "output_type": "execute_result"
    }
   ],
   "source": [
    "sentence_df['neg'] > 5"
   ]
  },
  {
   "cell_type": "code",
   "execution_count": 225,
   "metadata": {},
   "outputs": [
    {
     "data": {
      "image/png": "[encoded data removed]",
      "text/plain": [
       "<Figure size 1280x800 with 1 Axes>"
      ]
     },
     "metadata": {
      "needs_background": "light"
     },
     "output_type": "display_data"
    }
   ],
   "source": [
    "plt.figure(figsize=(16,10), dpi= 80)\n",
    "sns.kdeplot(sentence_df['compound'], shade=True, color=\"g\", label=\"Compound\", alpha=.7)\n",
    "plt.title('Combined Sentiment - Positive is positive', fontsize=22)\n",
    "plt.legend()\n",
    "plt.show()"
   ]
  },
  {
   "cell_type": "code",
   "execution_count": 226,
   "metadata": {},
   "outputs": [
    {
     "data": {
      "text/html": [
       "<div>\n",
       "<style scoped>\n",
       "    .dataframe tbody tr th:only-of-type {\n",
       "        vertical-align: middle;\n",
       "    }\n",
       "\n",
       "    .dataframe tbody tr th {\n",
       "        vertical-align: top;\n",
       "    }\n",
       "\n",
       "    .dataframe thead th {\n",
       "        text-align: right;\n",
       "    }\n",
       "</style>\n",
       "<table border=\"1\" class=\"dataframe\">\n",
       "  <thead>\n",
       "    <tr style=\"text-align: right;\">\n",
       "      <th></th>\n",
       "      <th>Sentence</th>\n",
       "      <th>sentence_length</th>\n",
       "      <th>word_count</th>\n",
       "      <th>word_density</th>\n",
       "      <th>punctuation_count</th>\n",
       "      <th>title_word_count</th>\n",
       "      <th>uppercase_word_count</th>\n",
       "      <th>short</th>\n",
       "      <th>neg</th>\n",
       "      <th>neu</th>\n",
       "      <th>...</th>\n",
       "      <th>compound</th>\n",
       "      <th>AlexMarker</th>\n",
       "      <th>compound_cut</th>\n",
       "      <th>pos_cut</th>\n",
       "      <th>neg_cut</th>\n",
       "      <th>neu_cut</th>\n",
       "      <th>compound_qcut</th>\n",
       "      <th>pos_qcut</th>\n",
       "      <th>neg_qcut</th>\n",
       "      <th>neu_qcut</th>\n",
       "    </tr>\n",
       "  </thead>\n",
       "  <tbody>\n",
       "    <tr>\n",
       "      <th>570</th>\n",
       "      <td>Fear not.</td>\n",
       "      <td>9</td>\n",
       "      <td>2</td>\n",
       "      <td>3.000000</td>\n",
       "      <td>1</td>\n",
       "      <td>1</td>\n",
       "      <td>0</td>\n",
       "      <td>fear</td>\n",
       "      <td>0.762</td>\n",
       "      <td>0.238</td>\n",
       "      <td>...</td>\n",
       "      <td>-0.4939</td>\n",
       "      <td>Negative</td>\n",
       "      <td>(-0.591, -0.393]</td>\n",
       "      <td>(-0.001, 0.1]</td>\n",
       "      <td>(0.7, 0.8]</td>\n",
       "      <td>(0.2, 0.3]</td>\n",
       "      <td>(-0.557, -0.296]</td>\n",
       "      <td>(-0.001, 0.061]</td>\n",
       "      <td>(0.193, 1.0]</td>\n",
       "      <td>(-0.001, 0.676]</td>\n",
       "    </tr>\n",
       "    <tr>\n",
       "      <th>655</th>\n",
       "      <td>Bury your dead.</td>\n",
       "      <td>15</td>\n",
       "      <td>3</td>\n",
       "      <td>3.750000</td>\n",
       "      <td>1</td>\n",
       "      <td>1</td>\n",
       "      <td>0</td>\n",
       "      <td>bury dead</td>\n",
       "      <td>0.683</td>\n",
       "      <td>0.317</td>\n",
       "      <td>...</td>\n",
       "      <td>-0.6486</td>\n",
       "      <td>Negative</td>\n",
       "      <td>(-0.789, -0.591]</td>\n",
       "      <td>(-0.001, 0.1]</td>\n",
       "      <td>(0.6, 0.7]</td>\n",
       "      <td>(0.3, 0.4]</td>\n",
       "      <td>(-0.988, -0.557]</td>\n",
       "      <td>(-0.001, 0.061]</td>\n",
       "      <td>(0.193, 1.0]</td>\n",
       "      <td>(-0.001, 0.676]</td>\n",
       "    </tr>\n",
       "    <tr>\n",
       "      <th>662</th>\n",
       "      <td>Bury therefore your dead.</td>\n",
       "      <td>25</td>\n",
       "      <td>4</td>\n",
       "      <td>5.000000</td>\n",
       "      <td>1</td>\n",
       "      <td>1</td>\n",
       "      <td>0</td>\n",
       "      <td>bury dead</td>\n",
       "      <td>0.589</td>\n",
       "      <td>0.411</td>\n",
       "      <td>...</td>\n",
       "      <td>-0.6486</td>\n",
       "      <td>Negative</td>\n",
       "      <td>(-0.789, -0.591]</td>\n",
       "      <td>(-0.001, 0.1]</td>\n",
       "      <td>(0.5, 0.6]</td>\n",
       "      <td>(0.4, 0.5]</td>\n",
       "      <td>(-0.988, -0.557]</td>\n",
       "      <td>(-0.001, 0.061]</td>\n",
       "      <td>(0.193, 1.0]</td>\n",
       "      <td>(-0.001, 0.676]</td>\n",
       "    </tr>\n",
       "    <tr>\n",
       "      <th>1839</th>\n",
       "      <td>Do you intend to kill me, as you killed the Eg...</td>\n",
       "      <td>53</td>\n",
       "      <td>11</td>\n",
       "      <td>4.416667</td>\n",
       "      <td>2</td>\n",
       "      <td>2</td>\n",
       "      <td>0</td>\n",
       "      <td>intend kill kill Egyptian</td>\n",
       "      <td>0.505</td>\n",
       "      <td>0.495</td>\n",
       "      <td>...</td>\n",
       "      <td>-0.8807</td>\n",
       "      <td>Negative</td>\n",
       "      <td>(-0.989, -0.789]</td>\n",
       "      <td>(-0.001, 0.1]</td>\n",
       "      <td>(0.5, 0.6]</td>\n",
       "      <td>(0.4, 0.5]</td>\n",
       "      <td>(-0.988, -0.557]</td>\n",
       "      <td>(-0.001, 0.061]</td>\n",
       "      <td>(0.193, 1.0]</td>\n",
       "      <td>(-0.001, 0.676]</td>\n",
       "    </tr>\n",
       "    <tr>\n",
       "      <th>6311</th>\n",
       "      <td>You don't love me.</td>\n",
       "      <td>18</td>\n",
       "      <td>4</td>\n",
       "      <td>3.600000</td>\n",
       "      <td>2</td>\n",
       "      <td>1</td>\n",
       "      <td>0</td>\n",
       "      <td>love</td>\n",
       "      <td>0.529</td>\n",
       "      <td>0.471</td>\n",
       "      <td>...</td>\n",
       "      <td>-0.5216</td>\n",
       "      <td>Negative</td>\n",
       "      <td>(-0.591, -0.393]</td>\n",
       "      <td>(-0.001, 0.1]</td>\n",
       "      <td>(0.5, 0.6]</td>\n",
       "      <td>(0.4, 0.5]</td>\n",
       "      <td>(-0.557, -0.296]</td>\n",
       "      <td>(-0.001, 0.061]</td>\n",
       "      <td>(0.193, 1.0]</td>\n",
       "      <td>(-0.001, 0.676]</td>\n",
       "    </tr>\n",
       "    <tr>\n",
       "      <th>6790</th>\n",
       "      <td>4:8 Woe to us!</td>\n",
       "      <td>14</td>\n",
       "      <td>4</td>\n",
       "      <td>2.800000</td>\n",
       "      <td>2</td>\n",
       "      <td>1</td>\n",
       "      <td>0</td>\n",
       "      <td>4:8 woe</td>\n",
       "      <td>0.508</td>\n",
       "      <td>0.492</td>\n",
       "      <td>...</td>\n",
       "      <td>-0.4753</td>\n",
       "      <td>Negative</td>\n",
       "      <td>(-0.591, -0.393]</td>\n",
       "      <td>(-0.001, 0.1]</td>\n",
       "      <td>(0.5, 0.6]</td>\n",
       "      <td>(0.4, 0.5]</td>\n",
       "      <td>(-0.557, -0.296]</td>\n",
       "      <td>(-0.001, 0.061]</td>\n",
       "      <td>(0.193, 1.0]</td>\n",
       "      <td>(-0.001, 0.676]</td>\n",
       "    </tr>\n",
       "    <tr>\n",
       "      <th>6987</th>\n",
       "      <td>whom have I oppressed?</td>\n",
       "      <td>22</td>\n",
       "      <td>4</td>\n",
       "      <td>4.400000</td>\n",
       "      <td>1</td>\n",
       "      <td>1</td>\n",
       "      <td>1</td>\n",
       "      <td>oppress</td>\n",
       "      <td>0.608</td>\n",
       "      <td>0.392</td>\n",
       "      <td>...</td>\n",
       "      <td>-0.4767</td>\n",
       "      <td>Negative</td>\n",
       "      <td>(-0.591, -0.393]</td>\n",
       "      <td>(-0.001, 0.1]</td>\n",
       "      <td>(0.6, 0.7]</td>\n",
       "      <td>(0.3, 0.4]</td>\n",
       "      <td>(-0.557, -0.296]</td>\n",
       "      <td>(-0.001, 0.061]</td>\n",
       "      <td>(0.193, 1.0]</td>\n",
       "      <td>(-0.001, 0.676]</td>\n",
       "    </tr>\n",
       "    <tr>\n",
       "      <th>7480</th>\n",
       "      <td>after a dead dog, after a flea.</td>\n",
       "      <td>31</td>\n",
       "      <td>7</td>\n",
       "      <td>3.875000</td>\n",
       "      <td>2</td>\n",
       "      <td>0</td>\n",
       "      <td>0</td>\n",
       "      <td>dead dog flea</td>\n",
       "      <td>0.518</td>\n",
       "      <td>0.482</td>\n",
       "      <td>...</td>\n",
       "      <td>-0.6486</td>\n",
       "      <td>Negative</td>\n",
       "      <td>(-0.789, -0.591]</td>\n",
       "      <td>(-0.001, 0.1]</td>\n",
       "      <td>(0.5, 0.6]</td>\n",
       "      <td>(0.4, 0.5]</td>\n",
       "      <td>(-0.988, -0.557]</td>\n",
       "      <td>(-0.001, 0.061]</td>\n",
       "      <td>(0.193, 1.0]</td>\n",
       "      <td>(-0.001, 0.676]</td>\n",
       "    </tr>\n",
       "    <tr>\n",
       "      <th>7719</th>\n",
       "      <td>1:27 How are the mighty fallen, and the weapon...</td>\n",
       "      <td>64</td>\n",
       "      <td>12</td>\n",
       "      <td>4.923077</td>\n",
       "      <td>3</td>\n",
       "      <td>1</td>\n",
       "      <td>0</td>\n",
       "      <td>1:27 mighty fall weapon war perish</td>\n",
       "      <td>0.516</td>\n",
       "      <td>0.484</td>\n",
       "      <td>...</td>\n",
       "      <td>-0.8622</td>\n",
       "      <td>Negative</td>\n",
       "      <td>(-0.989, -0.789]</td>\n",
       "      <td>(-0.001, 0.1]</td>\n",
       "      <td>(0.5, 0.6]</td>\n",
       "      <td>(0.4, 0.5]</td>\n",
       "      <td>(-0.988, -0.557]</td>\n",
       "      <td>(-0.001, 0.061]</td>\n",
       "      <td>(0.193, 1.0]</td>\n",
       "      <td>(-0.001, 0.676]</td>\n",
       "    </tr>\n",
       "    <tr>\n",
       "      <th>9822</th>\n",
       "      <td>Treason!</td>\n",
       "      <td>8</td>\n",
       "      <td>1</td>\n",
       "      <td>4.000000</td>\n",
       "      <td>1</td>\n",
       "      <td>1</td>\n",
       "      <td>0</td>\n",
       "      <td>Treason</td>\n",
       "      <td>1.000</td>\n",
       "      <td>0.000</td>\n",
       "      <td>...</td>\n",
       "      <td>-0.4926</td>\n",
       "      <td>Negative</td>\n",
       "      <td>(-0.591, -0.393]</td>\n",
       "      <td>(-0.001, 0.1]</td>\n",
       "      <td>(0.9, 1.0]</td>\n",
       "      <td>(-0.001, 0.1]</td>\n",
       "      <td>(-0.557, -0.296]</td>\n",
       "      <td>(-0.001, 0.061]</td>\n",
       "      <td>(0.193, 1.0]</td>\n",
       "      <td>(-0.001, 0.676]</td>\n",
       "    </tr>\n",
       "    <tr>\n",
       "      <th>10088</th>\n",
       "      <td>20:1 In those days was Hezekiah sick to death.</td>\n",
       "      <td>46</td>\n",
       "      <td>9</td>\n",
       "      <td>4.600000</td>\n",
       "      <td>2</td>\n",
       "      <td>2</td>\n",
       "      <td>0</td>\n",
       "      <td>20:1 day Hezekiah sick death</td>\n",
       "      <td>0.507</td>\n",
       "      <td>0.493</td>\n",
       "      <td>...</td>\n",
       "      <td>-0.8020</td>\n",
       "      <td>Negative</td>\n",
       "      <td>(-0.989, -0.789]</td>\n",
       "      <td>(-0.001, 0.1]</td>\n",
       "      <td>(0.5, 0.6]</td>\n",
       "      <td>(0.4, 0.5]</td>\n",
       "      <td>(-0.988, -0.557]</td>\n",
       "      <td>(-0.001, 0.061]</td>\n",
       "      <td>(0.193, 1.0]</td>\n",
       "      <td>(-0.001, 0.676]</td>\n",
       "    </tr>\n",
       "    <tr>\n",
       "      <th>10091</th>\n",
       "      <td>And Hezekiah wept sore.</td>\n",
       "      <td>23</td>\n",
       "      <td>4</td>\n",
       "      <td>4.600000</td>\n",
       "      <td>1</td>\n",
       "      <td>2</td>\n",
       "      <td>0</td>\n",
       "      <td>Hezekiah weep sore</td>\n",
       "      <td>0.733</td>\n",
       "      <td>0.267</td>\n",
       "      <td>...</td>\n",
       "      <td>-0.6705</td>\n",
       "      <td>Negative</td>\n",
       "      <td>(-0.789, -0.591]</td>\n",
       "      <td>(-0.001, 0.1]</td>\n",
       "      <td>(0.7, 0.8]</td>\n",
       "      <td>(0.2, 0.3]</td>\n",
       "      <td>(-0.988, -0.557]</td>\n",
       "      <td>(-0.001, 0.061]</td>\n",
       "      <td>(0.193, 1.0]</td>\n",
       "      <td>(-0.001, 0.676]</td>\n",
       "    </tr>\n",
       "    <tr>\n",
       "      <th>10282</th>\n",
       "      <td>1:51 And Hadad died.</td>\n",
       "      <td>20</td>\n",
       "      <td>4</td>\n",
       "      <td>4.000000</td>\n",
       "      <td>2</td>\n",
       "      <td>2</td>\n",
       "      <td>0</td>\n",
       "      <td>1:51 Hadad die</td>\n",
       "      <td>0.545</td>\n",
       "      <td>0.455</td>\n",
       "      <td>...</td>\n",
       "      <td>-0.5574</td>\n",
       "      <td>Negative</td>\n",
       "      <td>(-0.591, -0.393]</td>\n",
       "      <td>(-0.001, 0.1]</td>\n",
       "      <td>(0.5, 0.6]</td>\n",
       "      <td>(0.4, 0.5]</td>\n",
       "      <td>(-0.988, -0.557]</td>\n",
       "      <td>(-0.001, 0.061]</td>\n",
       "      <td>(0.193, 1.0]</td>\n",
       "      <td>(-0.001, 0.676]</td>\n",
       "    </tr>\n",
       "    <tr>\n",
       "      <th>11450</th>\n",
       "      <td>treason!</td>\n",
       "      <td>8</td>\n",
       "      <td>1</td>\n",
       "      <td>4.000000</td>\n",
       "      <td>1</td>\n",
       "      <td>0</td>\n",
       "      <td>0</td>\n",
       "      <td>treason</td>\n",
       "      <td>1.000</td>\n",
       "      <td>0.000</td>\n",
       "      <td>...</td>\n",
       "      <td>-0.4926</td>\n",
       "      <td>Negative</td>\n",
       "      <td>(-0.591, -0.393]</td>\n",
       "      <td>(-0.001, 0.1]</td>\n",
       "      <td>(0.9, 1.0]</td>\n",
       "      <td>(-0.001, 0.1]</td>\n",
       "      <td>(-0.557, -0.296]</td>\n",
       "      <td>(-0.001, 0.061]</td>\n",
       "      <td>(0.193, 1.0]</td>\n",
       "      <td>(-0.001, 0.676]</td>\n",
       "    </tr>\n",
       "    <tr>\n",
       "      <th>12599</th>\n",
       "      <td>renounce God, and die.</td>\n",
       "      <td>22</td>\n",
       "      <td>4</td>\n",
       "      <td>4.400000</td>\n",
       "      <td>2</td>\n",
       "      <td>1</td>\n",
       "      <td>0</td>\n",
       "      <td>renounce God die</td>\n",
       "      <td>0.487</td>\n",
       "      <td>0.250</td>\n",
       "      <td>...</td>\n",
       "      <td>-0.4215</td>\n",
       "      <td>Negative</td>\n",
       "      <td>(-0.591, -0.393]</td>\n",
       "      <td>(0.2, 0.3]</td>\n",
       "      <td>(0.4, 0.5]</td>\n",
       "      <td>(0.2, 0.3]</td>\n",
       "      <td>(-0.557, -0.296]</td>\n",
       "      <td>(0.225, 1.0]</td>\n",
       "      <td>(0.193, 1.0]</td>\n",
       "      <td>(-0.001, 0.676]</td>\n",
       "    </tr>\n",
       "  </tbody>\n",
       "</table>\n",
       "<p>15 rows × 21 columns</p>\n",
       "</div>"
      ],
      "text/plain": [
       "                                                Sentence  sentence_length  \\\n",
       "570                                            Fear not.                9   \n",
       "655                                      Bury your dead.               15   \n",
       "662                            Bury therefore your dead.               25   \n",
       "1839   Do you intend to kill me, as you killed the Eg...               53   \n",
       "6311                                  You don't love me.               18   \n",
       "6790                                      4:8 Woe to us!               14   \n",
       "6987                              whom have I oppressed?               22   \n",
       "7480                     after a dead dog, after a flea.               31   \n",
       "7719   1:27 How are the mighty fallen, and the weapon...               64   \n",
       "9822                                            Treason!                8   \n",
       "10088     20:1 In those days was Hezekiah sick to death.               46   \n",
       "10091                            And Hezekiah wept sore.               23   \n",
       "10282                               1:51 And Hadad died.               20   \n",
       "11450                                           treason!                8   \n",
       "12599                             renounce God, and die.               22   \n",
       "\n",
       "       word_count  word_density  punctuation_count  title_word_count  \\\n",
       "570             2      3.000000                  1                 1   \n",
       "655             3      3.750000                  1                 1   \n",
       "662             4      5.000000                  1                 1   \n",
       "1839           11      4.416667                  2                 2   \n",
       "6311            4      3.600000                  2                 1   \n",
       "6790            4      2.800000                  2                 1   \n",
       "6987            4      4.400000                  1                 1   \n",
       "7480            7      3.875000                  2                 0   \n",
       "7719           12      4.923077                  3                 1   \n",
       "9822            1      4.000000                  1                 1   \n",
       "10088           9      4.600000                  2                 2   \n",
       "10091           4      4.600000                  1                 2   \n",
       "10282           4      4.000000                  2                 2   \n",
       "11450           1      4.000000                  1                 0   \n",
       "12599           4      4.400000                  2                 1   \n",
       "\n",
       "       uppercase_word_count                               short    neg    neu  \\\n",
       "570                       0                                fear  0.762  0.238   \n",
       "655                       0                           bury dead  0.683  0.317   \n",
       "662                       0                           bury dead  0.589  0.411   \n",
       "1839                      0           intend kill kill Egyptian  0.505  0.495   \n",
       "6311                      0                                love  0.529  0.471   \n",
       "6790                      0                             4:8 woe  0.508  0.492   \n",
       "6987                      1                             oppress  0.608  0.392   \n",
       "7480                      0                       dead dog flea  0.518  0.482   \n",
       "7719                      0  1:27 mighty fall weapon war perish  0.516  0.484   \n",
       "9822                      0                             Treason  1.000  0.000   \n",
       "10088                     0        20:1 day Hezekiah sick death  0.507  0.493   \n",
       "10091                     0                  Hezekiah weep sore  0.733  0.267   \n",
       "10282                     0                      1:51 Hadad die  0.545  0.455   \n",
       "11450                     0                             treason  1.000  0.000   \n",
       "12599                     0                    renounce God die  0.487  0.250   \n",
       "\n",
       "       ...  compound  AlexMarker      compound_cut        pos_cut     neg_cut  \\\n",
       "570    ...   -0.4939    Negative  (-0.591, -0.393]  (-0.001, 0.1]  (0.7, 0.8]   \n",
       "655    ...   -0.6486    Negative  (-0.789, -0.591]  (-0.001, 0.1]  (0.6, 0.7]   \n",
       "662    ...   -0.6486    Negative  (-0.789, -0.591]  (-0.001, 0.1]  (0.5, 0.6]   \n",
       "1839   ...   -0.8807    Negative  (-0.989, -0.789]  (-0.001, 0.1]  (0.5, 0.6]   \n",
       "6311   ...   -0.5216    Negative  (-0.591, -0.393]  (-0.001, 0.1]  (0.5, 0.6]   \n",
       "6790   ...   -0.4753    Negative  (-0.591, -0.393]  (-0.001, 0.1]  (0.5, 0.6]   \n",
       "6987   ...   -0.4767    Negative  (-0.591, -0.393]  (-0.001, 0.1]  (0.6, 0.7]   \n",
       "7480   ...   -0.6486    Negative  (-0.789, -0.591]  (-0.001, 0.1]  (0.5, 0.6]   \n",
       "7719   ...   -0.8622    Negative  (-0.989, -0.789]  (-0.001, 0.1]  (0.5, 0.6]   \n",
       "9822   ...   -0.4926    Negative  (-0.591, -0.393]  (-0.001, 0.1]  (0.9, 1.0]   \n",
       "10088  ...   -0.8020    Negative  (-0.989, -0.789]  (-0.001, 0.1]  (0.5, 0.6]   \n",
       "10091  ...   -0.6705    Negative  (-0.789, -0.591]  (-0.001, 0.1]  (0.7, 0.8]   \n",
       "10282  ...   -0.5574    Negative  (-0.591, -0.393]  (-0.001, 0.1]  (0.5, 0.6]   \n",
       "11450  ...   -0.4926    Negative  (-0.591, -0.393]  (-0.001, 0.1]  (0.9, 1.0]   \n",
       "12599  ...   -0.4215    Negative  (-0.591, -0.393]     (0.2, 0.3]  (0.4, 0.5]   \n",
       "\n",
       "             neu_cut     compound_qcut         pos_qcut      neg_qcut  \\\n",
       "570       (0.2, 0.3]  (-0.557, -0.296]  (-0.001, 0.061]  (0.193, 1.0]   \n",
       "655       (0.3, 0.4]  (-0.988, -0.557]  (-0.001, 0.061]  (0.193, 1.0]   \n",
       "662       (0.4, 0.5]  (-0.988, -0.557]  (-0.001, 0.061]  (0.193, 1.0]   \n",
       "1839      (0.4, 0.5]  (-0.988, -0.557]  (-0.001, 0.061]  (0.193, 1.0]   \n",
       "6311      (0.4, 0.5]  (-0.557, -0.296]  (-0.001, 0.061]  (0.193, 1.0]   \n",
       "6790      (0.4, 0.5]  (-0.557, -0.296]  (-0.001, 0.061]  (0.193, 1.0]   \n",
       "6987      (0.3, 0.4]  (-0.557, -0.296]  (-0.001, 0.061]  (0.193, 1.0]   \n",
       "7480      (0.4, 0.5]  (-0.988, -0.557]  (-0.001, 0.061]  (0.193, 1.0]   \n",
       "7719      (0.4, 0.5]  (-0.988, -0.557]  (-0.001, 0.061]  (0.193, 1.0]   \n",
       "9822   (-0.001, 0.1]  (-0.557, -0.296]  (-0.001, 0.061]  (0.193, 1.0]   \n",
       "10088     (0.4, 0.5]  (-0.988, -0.557]  (-0.001, 0.061]  (0.193, 1.0]   \n",
       "10091     (0.2, 0.3]  (-0.988, -0.557]  (-0.001, 0.061]  (0.193, 1.0]   \n",
       "10282     (0.4, 0.5]  (-0.988, -0.557]  (-0.001, 0.061]  (0.193, 1.0]   \n",
       "11450  (-0.001, 0.1]  (-0.557, -0.296]  (-0.001, 0.061]  (0.193, 1.0]   \n",
       "12599     (0.2, 0.3]  (-0.557, -0.296]     (0.225, 1.0]  (0.193, 1.0]   \n",
       "\n",
       "              neu_qcut  \n",
       "570    (-0.001, 0.676]  \n",
       "655    (-0.001, 0.676]  \n",
       "662    (-0.001, 0.676]  \n",
       "1839   (-0.001, 0.676]  \n",
       "6311   (-0.001, 0.676]  \n",
       "6790   (-0.001, 0.676]  \n",
       "6987   (-0.001, 0.676]  \n",
       "7480   (-0.001, 0.676]  \n",
       "7719   (-0.001, 0.676]  \n",
       "9822   (-0.001, 0.676]  \n",
       "10088  (-0.001, 0.676]  \n",
       "10091  (-0.001, 0.676]  \n",
       "10282  (-0.001, 0.676]  \n",
       "11450  (-0.001, 0.676]  \n",
       "12599  (-0.001, 0.676]  \n",
       "\n",
       "[15 rows x 21 columns]"
      ]
     },
     "execution_count": 226,
     "metadata": {},
     "output_type": "execute_result"
    }
   ],
   "source": [
    "negative_df.head(15)"
   ]
  },
  {
   "cell_type": "code",
   "execution_count": 227,
   "metadata": {},
   "outputs": [],
   "source": [
    "#positive_df.sample(5)"
   ]
  },
  {
   "cell_type": "markdown",
   "metadata": {},
   "source": [
    "plt.figure(figsize=(16,10), dpi= 80)\n",
    "sns.kdeplot(negative_df['compound'], shade=True, color=\"g\", label=\"Compound\", alpha=.9)\n",
    "sns.kdeplot(negative_df['pos'], shade=True, color=\"deeppink\", label=\"Positive\", alpha=.7)\n",
    "sns.kdeplot(negative_df['neg'], shade=True, color=\"dodgerblue\", label=\"Negative\", alpha=.7)\n",
    "sns.kdeplot(negative_df['neu'], shade=True, color=\"orange\", label=\"Neutral\", alpha=.7)\n",
    "plt.title('Negative only Sentiment - Positive is positive', fontsize=22)\n",
    "plt.legend()\n",
    "plt.show()"
   ]
  },
  {
   "cell_type": "code",
   "execution_count": 235,
   "metadata": {},
   "outputs": [
    {
     "data": {
      "image/png": "[encoded data removed]",
      "text/plain": [
       "<Figure size 1280x800 with 1 Axes>"
      ]
     },
     "metadata": {
      "needs_background": "light"
     },
     "output_type": "display_data"
    }
   ],
   "source": [
    "plt.figure(figsize=(16,10), dpi= 80)\n",
    "sns.kdeplot(sentence_df['compound'], shade=True, color=\"g\", label=\"Compound\", alpha=.7)\n",
    "sns.kdeplot(sentence_df['pos'], shade=True, color=\"deeppink\", label=\"Positive\", alpha=.7)\n",
    "sns.kdeplot(sentence_df['neg'], shade=True, color=\"dodgerblue\", label=\"Negative\", alpha=.7)\n",
    "sns.kdeplot(sentence_df['neu'], shade=True, color=\"orange\", label=\"Neutral\", alpha=.7)\n",
    "\n",
    "# Decoration\n",
    "plt.title('Sentiment', fontsize=22)\n",
    "plt.legend()\n",
    "plt.show()"
   ]
  },
  {
   "cell_type": "markdown",
   "metadata": {},
   "source": [
    "plt.figure(figsize=(16,10), dpi= 80)\n",
    "sns.kdeplot(sentence_df['compound'].sentence_df['AlexMarker'] ==\"neu\", shade=True, color=\"g\", label=\"Compound\", alpha=.7)\n",
    "#sns.kdeplot(sentence_df['pos'], shade=True, color=\"deeppink\", label=\"Positive\", alpha=.7)\n",
    "#sns.kdeplot(sentence_df['neg'], shade=True, color=\"dodgerblue\", label=\"Negative\", alpha=.7)\n",
    "#sns.kdeplot(sentence_df['neu'], shade=True, color=\"orange\", label=\"Neutral\", alpha=.7)\n"
   ]
  },
  {
   "cell_type": "code",
   "execution_count": 236,
   "metadata": {},
   "outputs": [
    {
     "data": {
      "text/plain": [
       "Neutral     31082\n",
       "Positive      185\n",
       "Negative      116\n",
       "Name: AlexMarker, dtype: int64"
      ]
     },
     "execution_count": 236,
     "metadata": {},
     "output_type": "execute_result"
    }
   ],
   "source": [
    "results_df['AlexMarker'].value_counts()"
   ]
  },
  {
   "cell_type": "code",
   "execution_count": 237,
   "metadata": {},
   "outputs": [
    {
     "data": {
      "image/png": "[encoded data removed]",
      "text/plain": [
       "<Figure size 432x288 with 1 Axes>"
      ]
     },
     "metadata": {
      "needs_background": "light"
     },
     "output_type": "display_data"
    }
   ],
   "source": [
    "import matplotlib.pyplot as plt\n",
    "num_bins = 10\n",
    "plt.title('Title - bins = 10')\n",
    "plt.hist(results_df['compound'], bins =num_bins)\n",
    "plt.show()\n",
    "\n"
   ]
  },
  {
   "cell_type": "code",
   "execution_count": 238,
   "metadata": {},
   "outputs": [
    {
     "data": {
      "image/png": "[encoded data removed]",
      "text/plain": [
       "<Figure size 432x288 with 1 Axes>"
      ]
     },
     "metadata": {
      "needs_background": "light"
     },
     "output_type": "display_data"
    }
   ],
   "source": [
    "import matplotlib.pyplot as plt\n",
    "num_bins = 10\n",
    "plt.title('Negative Sentiment')\n",
    "plt.hist(results_df['neg'], bins =num_bins)\n",
    "plt.show()"
   ]
  },
  {
   "cell_type": "code",
   "execution_count": 239,
   "metadata": {},
   "outputs": [
    {
     "data": {
      "image/png": "[encoded data removed]",
      "text/plain": [
       "<Figure size 432x288 with 1 Axes>"
      ]
     },
     "metadata": {
      "needs_background": "light"
     },
     "output_type": "display_data"
    }
   ],
   "source": [
    "import matplotlib.pyplot as plt\n",
    "num_bins = 10\n",
    "plt.title('Positive Sentiment')\n",
    "plt.hist(results_df['pos'], bins =num_bins)\n",
    "plt.show()"
   ]
  },
  {
   "cell_type": "code",
   "execution_count": 240,
   "metadata": {},
   "outputs": [
    {
     "data": {
      "image/png": "[encoded data removed]",
      "text/plain": [
       "<Figure size 432x288 with 1 Axes>"
      ]
     },
     "metadata": {
      "needs_background": "light"
     },
     "output_type": "display_data"
    }
   ],
   "source": [
    "import matplotlib.pyplot as plt\n",
    "num_bins = 10\n",
    "plt.title('Neutral Sentiment')\n",
    "plt.hist(results_df['neu'], bins =num_bins)\n",
    "plt.show()"
   ]
  },
  {
   "cell_type": "code",
   "execution_count": 241,
   "metadata": {},
   "outputs": [],
   "source": [
    "import seaborn as sns"
   ]
  },
  {
   "cell_type": "code",
   "execution_count": 242,
   "metadata": {},
   "outputs": [
    {
     "name": "stderr",
     "output_type": "stream",
     "text": [
      "C:\\Users\\alexd\\anaconda3\\lib\\site-packages\\seaborn\\distributions.py:288: UserWarning: Data must have variance to compute a kernel density estimate.\n",
      "  warnings.warn(msg, UserWarning)\n",
      "C:\\Users\\alexd\\anaconda3\\lib\\site-packages\\seaborn\\distributions.py:288: UserWarning: Data must have variance to compute a kernel density estimate.\n",
      "  warnings.warn(msg, UserWarning)\n",
      "C:\\Users\\alexd\\anaconda3\\lib\\site-packages\\seaborn\\distributions.py:288: UserWarning: Data must have variance to compute a kernel density estimate.\n",
      "  warnings.warn(msg, UserWarning)\n",
      "C:\\Users\\alexd\\anaconda3\\lib\\site-packages\\seaborn\\distributions.py:288: UserWarning: Data must have variance to compute a kernel density estimate.\n",
      "  warnings.warn(msg, UserWarning)\n",
      "C:\\Users\\alexd\\anaconda3\\lib\\site-packages\\seaborn\\distributions.py:288: UserWarning: Data must have variance to compute a kernel density estimate.\n",
      "  warnings.warn(msg, UserWarning)\n",
      "C:\\Users\\alexd\\anaconda3\\lib\\site-packages\\seaborn\\distributions.py:288: UserWarning: Data must have variance to compute a kernel density estimate.\n",
      "  warnings.warn(msg, UserWarning)\n",
      "C:\\Users\\alexd\\anaconda3\\lib\\site-packages\\seaborn\\distributions.py:288: UserWarning: Data must have variance to compute a kernel density estimate.\n",
      "  warnings.warn(msg, UserWarning)\n",
      "C:\\Users\\alexd\\anaconda3\\lib\\site-packages\\seaborn\\distributions.py:288: UserWarning: Data must have variance to compute a kernel density estimate.\n",
      "  warnings.warn(msg, UserWarning)\n",
      "C:\\Users\\alexd\\anaconda3\\lib\\site-packages\\seaborn\\distributions.py:288: UserWarning: Data must have variance to compute a kernel density estimate.\n",
      "  warnings.warn(msg, UserWarning)\n",
      "C:\\Users\\alexd\\anaconda3\\lib\\site-packages\\seaborn\\distributions.py:288: UserWarning: Data must have variance to compute a kernel density estimate.\n",
      "  warnings.warn(msg, UserWarning)\n",
      "C:\\Users\\alexd\\anaconda3\\lib\\site-packages\\seaborn\\distributions.py:288: UserWarning: Data must have variance to compute a kernel density estimate.\n",
      "  warnings.warn(msg, UserWarning)\n",
      "C:\\Users\\alexd\\anaconda3\\lib\\site-packages\\seaborn\\distributions.py:288: UserWarning: Data must have variance to compute a kernel density estimate.\n",
      "  warnings.warn(msg, UserWarning)\n",
      "C:\\Users\\alexd\\anaconda3\\lib\\site-packages\\seaborn\\distributions.py:288: UserWarning: Data must have variance to compute a kernel density estimate.\n",
      "  warnings.warn(msg, UserWarning)\n",
      "C:\\Users\\alexd\\anaconda3\\lib\\site-packages\\seaborn\\distributions.py:288: UserWarning: Data must have variance to compute a kernel density estimate.\n",
      "  warnings.warn(msg, UserWarning)\n",
      "C:\\Users\\alexd\\anaconda3\\lib\\site-packages\\seaborn\\distributions.py:288: UserWarning: Data must have variance to compute a kernel density estimate.\n",
      "  warnings.warn(msg, UserWarning)\n",
      "C:\\Users\\alexd\\anaconda3\\lib\\site-packages\\seaborn\\distributions.py:288: UserWarning: Data must have variance to compute a kernel density estimate.\n",
      "  warnings.warn(msg, UserWarning)\n",
      "C:\\Users\\alexd\\anaconda3\\lib\\site-packages\\seaborn\\distributions.py:288: UserWarning: Data must have variance to compute a kernel density estimate.\n",
      "  warnings.warn(msg, UserWarning)\n",
      "C:\\Users\\alexd\\anaconda3\\lib\\site-packages\\seaborn\\distributions.py:288: UserWarning: Data must have variance to compute a kernel density estimate.\n",
      "  warnings.warn(msg, UserWarning)\n",
      "C:\\Users\\alexd\\anaconda3\\lib\\site-packages\\seaborn\\distributions.py:288: UserWarning: Data must have variance to compute a kernel density estimate.\n",
      "  warnings.warn(msg, UserWarning)\n",
      "C:\\Users\\alexd\\anaconda3\\lib\\site-packages\\seaborn\\distributions.py:288: UserWarning: Data must have variance to compute a kernel density estimate.\n",
      "  warnings.warn(msg, UserWarning)\n",
      "C:\\Users\\alexd\\anaconda3\\lib\\site-packages\\seaborn\\distributions.py:288: UserWarning: Data must have variance to compute a kernel density estimate.\n",
      "  warnings.warn(msg, UserWarning)\n",
      "C:\\Users\\alexd\\anaconda3\\lib\\site-packages\\seaborn\\distributions.py:288: UserWarning: Data must have variance to compute a kernel density estimate.\n",
      "  warnings.warn(msg, UserWarning)\n",
      "C:\\Users\\alexd\\anaconda3\\lib\\site-packages\\seaborn\\distributions.py:288: UserWarning: Data must have variance to compute a kernel density estimate.\n",
      "  warnings.warn(msg, UserWarning)\n",
      "C:\\Users\\alexd\\anaconda3\\lib\\site-packages\\seaborn\\distributions.py:288: UserWarning: Data must have variance to compute a kernel density estimate.\n",
      "  warnings.warn(msg, UserWarning)\n",
      "C:\\Users\\alexd\\anaconda3\\lib\\site-packages\\seaborn\\distributions.py:288: UserWarning: Data must have variance to compute a kernel density estimate.\n",
      "  warnings.warn(msg, UserWarning)\n",
      "C:\\Users\\alexd\\anaconda3\\lib\\site-packages\\seaborn\\distributions.py:288: UserWarning: Data must have variance to compute a kernel density estimate.\n",
      "  warnings.warn(msg, UserWarning)\n",
      "C:\\Users\\alexd\\anaconda3\\lib\\site-packages\\seaborn\\distributions.py:288: UserWarning: Data must have variance to compute a kernel density estimate.\n",
      "  warnings.warn(msg, UserWarning)\n",
      "C:\\Users\\alexd\\anaconda3\\lib\\site-packages\\seaborn\\distributions.py:288: UserWarning: Data must have variance to compute a kernel density estimate.\n",
      "  warnings.warn(msg, UserWarning)\n",
      "C:\\Users\\alexd\\anaconda3\\lib\\site-packages\\seaborn\\distributions.py:288: UserWarning: Data must have variance to compute a kernel density estimate.\n",
      "  warnings.warn(msg, UserWarning)\n"
     ]
    },
    {
     "ename": "RuntimeError",
     "evalue": "Selected KDE bandwidth is 0. Cannot estiamte density.",
     "output_type": "error",
     "traceback": [
      "\u001b[1;31m---------------------------------------------------------------------------\u001b[0m",
      "\u001b[1;31mValueError\u001b[0m                                Traceback (most recent call last)",
      "\u001b[1;32m~\\anaconda3\\lib\\site-packages\\statsmodels\\nonparametric\\kde.py\u001b[0m in \u001b[0;36mkdensityfft\u001b[1;34m(X, kernel, bw, weights, gridsize, adjust, clip, cut, retgrid)\u001b[0m\n\u001b[0;32m    450\u001b[0m     \u001b[1;32mtry\u001b[0m\u001b[1;33m:\u001b[0m\u001b[1;33m\u001b[0m\u001b[1;33m\u001b[0m\u001b[0m\n\u001b[1;32m--> 451\u001b[1;33m         \u001b[0mbw\u001b[0m \u001b[1;33m=\u001b[0m \u001b[0mfloat\u001b[0m\u001b[1;33m(\u001b[0m\u001b[0mbw\u001b[0m\u001b[1;33m)\u001b[0m\u001b[1;33m\u001b[0m\u001b[1;33m\u001b[0m\u001b[0m\n\u001b[0m\u001b[0;32m    452\u001b[0m     \u001b[1;32mexcept\u001b[0m\u001b[1;33m:\u001b[0m\u001b[1;33m\u001b[0m\u001b[1;33m\u001b[0m\u001b[0m\n",
      "\u001b[1;31mValueError\u001b[0m: could not convert string to float: 'scott'",
      "\nDuring handling of the above exception, another exception occurred:\n",
      "\u001b[1;31mRuntimeError\u001b[0m                              Traceback (most recent call last)",
      "\u001b[1;32m<ipython-input-242-2fe7a15214fd>\u001b[0m in \u001b[0;36m<module>\u001b[1;34m\u001b[0m\n\u001b[1;32m----> 1\u001b[1;33m \u001b[0mg\u001b[0m \u001b[1;33m=\u001b[0m \u001b[0msns\u001b[0m\u001b[1;33m.\u001b[0m\u001b[0mpairplot\u001b[0m\u001b[1;33m(\u001b[0m\u001b[0mresults_df\u001b[0m\u001b[1;33m,\u001b[0m \u001b[0mhue\u001b[0m\u001b[1;33m=\u001b[0m\u001b[1;34m\"neu\"\u001b[0m\u001b[1;33m)\u001b[0m\u001b[1;33m\u001b[0m\u001b[1;33m\u001b[0m\u001b[0m\n\u001b[0m",
      "\u001b[1;32m~\\anaconda3\\lib\\site-packages\\seaborn\\axisgrid.py\u001b[0m in \u001b[0;36mpairplot\u001b[1;34m(data, hue, hue_order, palette, vars, x_vars, y_vars, kind, diag_kind, markers, height, aspect, corner, dropna, plot_kws, diag_kws, grid_kws, size)\u001b[0m\n\u001b[0;32m   2119\u001b[0m             \u001b[0mdiag_kws\u001b[0m\u001b[1;33m.\u001b[0m\u001b[0msetdefault\u001b[0m\u001b[1;33m(\u001b[0m\u001b[1;34m\"shade\"\u001b[0m\u001b[1;33m,\u001b[0m \u001b[1;32mTrue\u001b[0m\u001b[1;33m)\u001b[0m\u001b[1;33m\u001b[0m\u001b[1;33m\u001b[0m\u001b[0m\n\u001b[0;32m   2120\u001b[0m             \u001b[0mdiag_kws\u001b[0m\u001b[1;33m[\u001b[0m\u001b[1;34m\"legend\"\u001b[0m\u001b[1;33m]\u001b[0m \u001b[1;33m=\u001b[0m \u001b[1;32mFalse\u001b[0m\u001b[1;33m\u001b[0m\u001b[1;33m\u001b[0m\u001b[0m\n\u001b[1;32m-> 2121\u001b[1;33m             \u001b[0mgrid\u001b[0m\u001b[1;33m.\u001b[0m\u001b[0mmap_diag\u001b[0m\u001b[1;33m(\u001b[0m\u001b[0mkdeplot\u001b[0m\u001b[1;33m,\u001b[0m \u001b[1;33m**\u001b[0m\u001b[0mdiag_kws\u001b[0m\u001b[1;33m)\u001b[0m\u001b[1;33m\u001b[0m\u001b[1;33m\u001b[0m\u001b[0m\n\u001b[0m\u001b[0;32m   2122\u001b[0m \u001b[1;33m\u001b[0m\u001b[0m\n\u001b[0;32m   2123\u001b[0m     \u001b[1;31m# Maybe plot on the off-diagonals\u001b[0m\u001b[1;33m\u001b[0m\u001b[1;33m\u001b[0m\u001b[1;33m\u001b[0m\u001b[0m\n",
      "\u001b[1;32m~\\anaconda3\\lib\\site-packages\\seaborn\\axisgrid.py\u001b[0m in \u001b[0;36mmap_diag\u001b[1;34m(self, func, **kwargs)\u001b[0m\n\u001b[0;32m   1488\u001b[0m                     \u001b[0mdata_k\u001b[0m \u001b[1;33m=\u001b[0m \u001b[0mutils\u001b[0m\u001b[1;33m.\u001b[0m\u001b[0mremove_na\u001b[0m\u001b[1;33m(\u001b[0m\u001b[0mdata_k\u001b[0m\u001b[1;33m)\u001b[0m\u001b[1;33m\u001b[0m\u001b[1;33m\u001b[0m\u001b[0m\n\u001b[0;32m   1489\u001b[0m \u001b[1;33m\u001b[0m\u001b[0m\n\u001b[1;32m-> 1490\u001b[1;33m                 \u001b[0mfunc\u001b[0m\u001b[1;33m(\u001b[0m\u001b[0mdata_k\u001b[0m\u001b[1;33m,\u001b[0m \u001b[0mlabel\u001b[0m\u001b[1;33m=\u001b[0m\u001b[0mlabel_k\u001b[0m\u001b[1;33m,\u001b[0m \u001b[0mcolor\u001b[0m\u001b[1;33m=\u001b[0m\u001b[0mcolor\u001b[0m\u001b[1;33m,\u001b[0m \u001b[1;33m**\u001b[0m\u001b[0mkwargs\u001b[0m\u001b[1;33m)\u001b[0m\u001b[1;33m\u001b[0m\u001b[1;33m\u001b[0m\u001b[0m\n\u001b[0m\u001b[0;32m   1491\u001b[0m \u001b[1;33m\u001b[0m\u001b[0m\n\u001b[0;32m   1492\u001b[0m             \u001b[0mself\u001b[0m\u001b[1;33m.\u001b[0m\u001b[0m_clean_axis\u001b[0m\u001b[1;33m(\u001b[0m\u001b[0max\u001b[0m\u001b[1;33m)\u001b[0m\u001b[1;33m\u001b[0m\u001b[1;33m\u001b[0m\u001b[0m\n",
      "\u001b[1;32m~\\anaconda3\\lib\\site-packages\\seaborn\\distributions.py\u001b[0m in \u001b[0;36mkdeplot\u001b[1;34m(data, data2, shade, vertical, kernel, bw, gridsize, cut, clip, legend, cumulative, shade_lowest, cbar, cbar_ax, cbar_kws, ax, **kwargs)\u001b[0m\n\u001b[0;32m    703\u001b[0m         ax = _univariate_kdeplot(data, shade, vertical, kernel, bw,\n\u001b[0;32m    704\u001b[0m                                  \u001b[0mgridsize\u001b[0m\u001b[1;33m,\u001b[0m \u001b[0mcut\u001b[0m\u001b[1;33m,\u001b[0m \u001b[0mclip\u001b[0m\u001b[1;33m,\u001b[0m \u001b[0mlegend\u001b[0m\u001b[1;33m,\u001b[0m \u001b[0max\u001b[0m\u001b[1;33m,\u001b[0m\u001b[1;33m\u001b[0m\u001b[1;33m\u001b[0m\u001b[0m\n\u001b[1;32m--> 705\u001b[1;33m                                  cumulative=cumulative, **kwargs)\n\u001b[0m\u001b[0;32m    706\u001b[0m \u001b[1;33m\u001b[0m\u001b[0m\n\u001b[0;32m    707\u001b[0m     \u001b[1;32mreturn\u001b[0m \u001b[0max\u001b[0m\u001b[1;33m\u001b[0m\u001b[1;33m\u001b[0m\u001b[0m\n",
      "\u001b[1;32m~\\anaconda3\\lib\\site-packages\\seaborn\\distributions.py\u001b[0m in \u001b[0;36m_univariate_kdeplot\u001b[1;34m(data, shade, vertical, kernel, bw, gridsize, cut, clip, legend, ax, cumulative, **kwargs)\u001b[0m\n\u001b[0;32m    293\u001b[0m         x, y = _statsmodels_univariate_kde(data, kernel, bw,\n\u001b[0;32m    294\u001b[0m                                            \u001b[0mgridsize\u001b[0m\u001b[1;33m,\u001b[0m \u001b[0mcut\u001b[0m\u001b[1;33m,\u001b[0m \u001b[0mclip\u001b[0m\u001b[1;33m,\u001b[0m\u001b[1;33m\u001b[0m\u001b[1;33m\u001b[0m\u001b[0m\n\u001b[1;32m--> 295\u001b[1;33m                                            cumulative=cumulative)\n\u001b[0m\u001b[0;32m    296\u001b[0m     \u001b[1;32melse\u001b[0m\u001b[1;33m:\u001b[0m\u001b[1;33m\u001b[0m\u001b[1;33m\u001b[0m\u001b[0m\n\u001b[0;32m    297\u001b[0m         \u001b[1;31m# Fall back to scipy if missing statsmodels\u001b[0m\u001b[1;33m\u001b[0m\u001b[1;33m\u001b[0m\u001b[1;33m\u001b[0m\u001b[0m\n",
      "\u001b[1;32m~\\anaconda3\\lib\\site-packages\\seaborn\\distributions.py\u001b[0m in \u001b[0;36m_statsmodels_univariate_kde\u001b[1;34m(data, kernel, bw, gridsize, cut, clip, cumulative)\u001b[0m\n\u001b[0;32m    365\u001b[0m     \u001b[0mfft\u001b[0m \u001b[1;33m=\u001b[0m \u001b[0mkernel\u001b[0m \u001b[1;33m==\u001b[0m \u001b[1;34m\"gau\"\u001b[0m\u001b[1;33m\u001b[0m\u001b[1;33m\u001b[0m\u001b[0m\n\u001b[0;32m    366\u001b[0m     \u001b[0mkde\u001b[0m \u001b[1;33m=\u001b[0m \u001b[0msmnp\u001b[0m\u001b[1;33m.\u001b[0m\u001b[0mKDEUnivariate\u001b[0m\u001b[1;33m(\u001b[0m\u001b[0mdata\u001b[0m\u001b[1;33m)\u001b[0m\u001b[1;33m\u001b[0m\u001b[1;33m\u001b[0m\u001b[0m\n\u001b[1;32m--> 367\u001b[1;33m     \u001b[0mkde\u001b[0m\u001b[1;33m.\u001b[0m\u001b[0mfit\u001b[0m\u001b[1;33m(\u001b[0m\u001b[0mkernel\u001b[0m\u001b[1;33m,\u001b[0m \u001b[0mbw\u001b[0m\u001b[1;33m,\u001b[0m \u001b[0mfft\u001b[0m\u001b[1;33m,\u001b[0m \u001b[0mgridsize\u001b[0m\u001b[1;33m=\u001b[0m\u001b[0mgridsize\u001b[0m\u001b[1;33m,\u001b[0m \u001b[0mcut\u001b[0m\u001b[1;33m=\u001b[0m\u001b[0mcut\u001b[0m\u001b[1;33m,\u001b[0m \u001b[0mclip\u001b[0m\u001b[1;33m=\u001b[0m\u001b[0mclip\u001b[0m\u001b[1;33m)\u001b[0m\u001b[1;33m\u001b[0m\u001b[1;33m\u001b[0m\u001b[0m\n\u001b[0m\u001b[0;32m    368\u001b[0m     \u001b[1;32mif\u001b[0m \u001b[0mcumulative\u001b[0m\u001b[1;33m:\u001b[0m\u001b[1;33m\u001b[0m\u001b[1;33m\u001b[0m\u001b[0m\n\u001b[0;32m    369\u001b[0m         \u001b[0mgrid\u001b[0m\u001b[1;33m,\u001b[0m \u001b[0my\u001b[0m \u001b[1;33m=\u001b[0m \u001b[0mkde\u001b[0m\u001b[1;33m.\u001b[0m\u001b[0msupport\u001b[0m\u001b[1;33m,\u001b[0m \u001b[0mkde\u001b[0m\u001b[1;33m.\u001b[0m\u001b[0mcdf\u001b[0m\u001b[1;33m\u001b[0m\u001b[1;33m\u001b[0m\u001b[0m\n",
      "\u001b[1;32m~\\anaconda3\\lib\\site-packages\\statsmodels\\nonparametric\\kde.py\u001b[0m in \u001b[0;36mfit\u001b[1;34m(self, kernel, bw, fft, weights, gridsize, adjust, cut, clip)\u001b[0m\n\u001b[0;32m    138\u001b[0m             density, grid, bw = kdensityfft(endog, kernel=kernel, bw=bw,\n\u001b[0;32m    139\u001b[0m                     \u001b[0madjust\u001b[0m\u001b[1;33m=\u001b[0m\u001b[0madjust\u001b[0m\u001b[1;33m,\u001b[0m \u001b[0mweights\u001b[0m\u001b[1;33m=\u001b[0m\u001b[0mweights\u001b[0m\u001b[1;33m,\u001b[0m \u001b[0mgridsize\u001b[0m\u001b[1;33m=\u001b[0m\u001b[0mgridsize\u001b[0m\u001b[1;33m,\u001b[0m\u001b[1;33m\u001b[0m\u001b[1;33m\u001b[0m\u001b[0m\n\u001b[1;32m--> 140\u001b[1;33m                     clip=clip, cut=cut)\n\u001b[0m\u001b[0;32m    141\u001b[0m         \u001b[1;32melse\u001b[0m\u001b[1;33m:\u001b[0m\u001b[1;33m\u001b[0m\u001b[1;33m\u001b[0m\u001b[0m\n\u001b[0;32m    142\u001b[0m             density, grid, bw = kdensity(endog, kernel=kernel, bw=bw,\n",
      "\u001b[1;32m~\\anaconda3\\lib\\site-packages\\statsmodels\\nonparametric\\kde.py\u001b[0m in \u001b[0;36mkdensityfft\u001b[1;34m(X, kernel, bw, weights, gridsize, adjust, clip, cut, retgrid)\u001b[0m\n\u001b[0;32m    451\u001b[0m         \u001b[0mbw\u001b[0m \u001b[1;33m=\u001b[0m \u001b[0mfloat\u001b[0m\u001b[1;33m(\u001b[0m\u001b[0mbw\u001b[0m\u001b[1;33m)\u001b[0m\u001b[1;33m\u001b[0m\u001b[1;33m\u001b[0m\u001b[0m\n\u001b[0;32m    452\u001b[0m     \u001b[1;32mexcept\u001b[0m\u001b[1;33m:\u001b[0m\u001b[1;33m\u001b[0m\u001b[1;33m\u001b[0m\u001b[0m\n\u001b[1;32m--> 453\u001b[1;33m         \u001b[0mbw\u001b[0m \u001b[1;33m=\u001b[0m \u001b[0mbandwidths\u001b[0m\u001b[1;33m.\u001b[0m\u001b[0mselect_bandwidth\u001b[0m\u001b[1;33m(\u001b[0m\u001b[0mX\u001b[0m\u001b[1;33m,\u001b[0m \u001b[0mbw\u001b[0m\u001b[1;33m,\u001b[0m \u001b[0mkern\u001b[0m\u001b[1;33m)\u001b[0m \u001b[1;31m# will cross-val fit this pattern?\u001b[0m\u001b[1;33m\u001b[0m\u001b[1;33m\u001b[0m\u001b[0m\n\u001b[0m\u001b[0;32m    454\u001b[0m     \u001b[0mbw\u001b[0m \u001b[1;33m*=\u001b[0m \u001b[0madjust\u001b[0m\u001b[1;33m\u001b[0m\u001b[1;33m\u001b[0m\u001b[0m\n\u001b[0;32m    455\u001b[0m \u001b[1;33m\u001b[0m\u001b[0m\n",
      "\u001b[1;32m~\\anaconda3\\lib\\site-packages\\statsmodels\\nonparametric\\bandwidths.py\u001b[0m in \u001b[0;36mselect_bandwidth\u001b[1;34m(x, bw, kernel)\u001b[0m\n\u001b[0;32m    172\u001b[0m         \u001b[1;31m# eventually this can fall back on another selection criterion.\u001b[0m\u001b[1;33m\u001b[0m\u001b[1;33m\u001b[0m\u001b[1;33m\u001b[0m\u001b[0m\n\u001b[0;32m    173\u001b[0m         \u001b[0merr\u001b[0m \u001b[1;33m=\u001b[0m \u001b[1;34m\"Selected KDE bandwidth is 0. Cannot estiamte density.\"\u001b[0m\u001b[1;33m\u001b[0m\u001b[1;33m\u001b[0m\u001b[0m\n\u001b[1;32m--> 174\u001b[1;33m         \u001b[1;32mraise\u001b[0m \u001b[0mRuntimeError\u001b[0m\u001b[1;33m(\u001b[0m\u001b[0merr\u001b[0m\u001b[1;33m)\u001b[0m\u001b[1;33m\u001b[0m\u001b[1;33m\u001b[0m\u001b[0m\n\u001b[0m\u001b[0;32m    175\u001b[0m     \u001b[1;32melse\u001b[0m\u001b[1;33m:\u001b[0m\u001b[1;33m\u001b[0m\u001b[1;33m\u001b[0m\u001b[0m\n\u001b[0;32m    176\u001b[0m         \u001b[1;32mreturn\u001b[0m \u001b[0mbandwidth\u001b[0m\u001b[1;33m\u001b[0m\u001b[1;33m\u001b[0m\u001b[0m\n",
      "\u001b[1;31mRuntimeError\u001b[0m: Selected KDE bandwidth is 0. Cannot estiamte density."
     ]
    },
    {
     "data": {
      "image/png": "[encoded data removed]",
      "text/plain": [
       "<Figure size 540x540 with 12 Axes>"
      ]
     },
     "metadata": {
      "needs_background": "light"
     },
     "output_type": "display_data"
    }
   ],
   "source": [
    "g = sns.pairplot(results_df, hue=\"neu\")"
   ]
  },
  {
   "cell_type": "markdown",
   "metadata": {},
   "source": [
    "# add Word Cloud\n",
    "* https://www.geeksforgeeks.org/generating-word-cloud-python/\n",
    "* https://amueller.github.io/word_cloud/auto_examples/simple.html"
   ]
  },
  {
   "cell_type": "code",
   "execution_count": null,
   "metadata": {},
   "outputs": [],
   "source": [
    "# https://www.geeksforgeeks.org/generating-word-cloud-python/"
   ]
  },
  {
   "cell_type": "code",
   "execution_count": null,
   "metadata": {},
   "outputs": [],
   "source": [
    "wordcloudb = WordCloud(background_color=\"white\").generate(my_text)"
   ]
  },
  {
   "cell_type": "code",
   "execution_count": null,
   "metadata": {},
   "outputs": [],
   "source": [
    "plt.imshow(wordcloudb, interpolation='bilinear')\n",
    "plt.axis(\"off\")"
   ]
  },
  {
   "cell_type": "code",
   "execution_count": null,
   "metadata": {},
   "outputs": [],
   "source": [
    "#mask = np.array(Image.open(path.join(d, \"alice_mask.png\")))"
   ]
  },
  {
   "cell_type": "code",
   "execution_count": null,
   "metadata": {},
   "outputs": [],
   "source": []
  },
  {
   "cell_type": "code",
   "execution_count": null,
   "metadata": {},
   "outputs": [],
   "source": []
  },
  {
   "cell_type": "code",
   "execution_count": null,
   "metadata": {},
   "outputs": [],
   "source": []
  },
  {
   "cell_type": "markdown",
   "metadata": {},
   "source": [
    "# Multiple Word counts\n",
    "* https://stackoverflow.com/questions/61218518/count-frequency-of-multi-word-terms-in-large-texts-with-python\n",
    "* https://www.daniweb.com/programming/software-development/threads/292323/counting-phrases"
   ]
  },
  {
   "cell_type": "code",
   "execution_count": 243,
   "metadata": {},
   "outputs": [],
   "source": [
    "def group_text2(text, group_size):\n",
    "    \"\"\"\n",
    "    groups a text into text groups set by group_size\n",
    "    returns a list of grouped strings\n",
    "    \"\"\"\n",
    "    word_list = text.split()\n",
    "    group_list = []\n",
    "    for k in range(len(word_list)):\n",
    "        start = k\n",
    "        end = k + group_size\n",
    "        group_slice = word_list[start: end]\n",
    "        # append only groups of proper length/size\n",
    "        if len(group_slice) == group_size:\n",
    "            group_list.append(\" \".join(group_slice))\n",
    "            #GS.append(\" \".join(group_slice))\n",
    "    return (group_list)"
   ]
  },
  {
   "cell_type": "code",
   "execution_count": 244,
   "metadata": {},
   "outputs": [
    {
     "data": {
      "text/plain": [
       "(31383, 21)"
      ]
     },
     "execution_count": 244,
     "metadata": {},
     "output_type": "execute_result"
    }
   ],
   "source": [
    "sentence_df.shape\n"
   ]
  },
  {
   "cell_type": "code",
   "execution_count": 245,
   "metadata": {},
   "outputs": [
    {
     "data": {
      "text/html": [
       "<div>\n",
       "<style scoped>\n",
       "    .dataframe tbody tr th:only-of-type {\n",
       "        vertical-align: middle;\n",
       "    }\n",
       "\n",
       "    .dataframe tbody tr th {\n",
       "        vertical-align: top;\n",
       "    }\n",
       "\n",
       "    .dataframe thead th {\n",
       "        text-align: right;\n",
       "    }\n",
       "</style>\n",
       "<table border=\"1\" class=\"dataframe\">\n",
       "  <thead>\n",
       "    <tr style=\"text-align: right;\">\n",
       "      <th></th>\n",
       "      <th>Sentence</th>\n",
       "      <th>sentence_length</th>\n",
       "      <th>word_count</th>\n",
       "      <th>word_density</th>\n",
       "      <th>punctuation_count</th>\n",
       "      <th>title_word_count</th>\n",
       "      <th>uppercase_word_count</th>\n",
       "      <th>short</th>\n",
       "      <th>neg</th>\n",
       "      <th>neu</th>\n",
       "      <th>...</th>\n",
       "      <th>compound</th>\n",
       "      <th>AlexMarker</th>\n",
       "      <th>compound_cut</th>\n",
       "      <th>pos_cut</th>\n",
       "      <th>neg_cut</th>\n",
       "      <th>neu_cut</th>\n",
       "      <th>compound_qcut</th>\n",
       "      <th>pos_qcut</th>\n",
       "      <th>neg_qcut</th>\n",
       "      <th>neu_qcut</th>\n",
       "    </tr>\n",
       "  </thead>\n",
       "  <tbody>\n",
       "    <tr>\n",
       "      <th>0</th>\n",
       "      <td>The Revelation of John\\n\\nThe General Epistle ...</td>\n",
       "      <td>2807</td>\n",
       "      <td>455</td>\n",
       "      <td>6.155702</td>\n",
       "      <td>45</td>\n",
       "      <td>307</td>\n",
       "      <td>2</td>\n",
       "      <td>Revelation John \\n\\n General Epistle Jude \\n\\n...</td>\n",
       "      <td>0.012</td>\n",
       "      <td>0.985</td>\n",
       "      <td>...</td>\n",
       "      <td>-0.5583</td>\n",
       "      <td>Neutral</td>\n",
       "      <td>(-0.591, -0.393]</td>\n",
       "      <td>(-0.001, 0.1]</td>\n",
       "      <td>(-0.001, 0.1]</td>\n",
       "      <td>(0.9, 1.0]</td>\n",
       "      <td>(-0.988, -0.557]</td>\n",
       "      <td>(-0.001, 0.061]</td>\n",
       "      <td>(-0.001, 0.069]</td>\n",
       "      <td>(0.942, 1.0]</td>\n",
       "    </tr>\n",
       "    <tr>\n",
       "      <th>1</th>\n",
       "      <td>http://bit.ly/PrintPostWS \\n\\n\\n\\nThe Old Test...</td>\n",
       "      <td>354</td>\n",
       "      <td>55</td>\n",
       "      <td>6.321429</td>\n",
       "      <td>20</td>\n",
       "      <td>20</td>\n",
       "      <td>3</td>\n",
       "      <td>http://bit.ly/PrintPostWS \\n\\n\\n\\n Old Testame...</td>\n",
       "      <td>0.000</td>\n",
       "      <td>0.957</td>\n",
       "      <td>...</td>\n",
       "      <td>0.3182</td>\n",
       "      <td>Neutral</td>\n",
       "      <td>(0.201, 0.399]</td>\n",
       "      <td>(-0.001, 0.1]</td>\n",
       "      <td>(-0.001, 0.1]</td>\n",
       "      <td>(0.9, 1.0]</td>\n",
       "      <td>(0.273, 0.452]</td>\n",
       "      <td>(-0.001, 0.061]</td>\n",
       "      <td>(-0.001, 0.069]</td>\n",
       "      <td>(0.942, 1.0]</td>\n",
       "    </tr>\n",
       "    <tr>\n",
       "      <th>2</th>\n",
       "      <td>(Until the rest are completed by David Robert ...</td>\n",
       "      <td>76</td>\n",
       "      <td>13</td>\n",
       "      <td>5.428571</td>\n",
       "      <td>2</td>\n",
       "      <td>4</td>\n",
       "      <td>0</td>\n",
       "      <td>rest complete David Robert Palmer translation</td>\n",
       "      <td>0.000</td>\n",
       "      <td>1.000</td>\n",
       "      <td>...</td>\n",
       "      <td>0.0000</td>\n",
       "      <td>Neutral</td>\n",
       "      <td>(-0.195, 0.0027]</td>\n",
       "      <td>(-0.001, 0.1]</td>\n",
       "      <td>(-0.001, 0.1]</td>\n",
       "      <td>(0.9, 1.0]</td>\n",
       "      <td>(-0.296, 0.0]</td>\n",
       "      <td>(-0.001, 0.061]</td>\n",
       "      <td>(-0.001, 0.069]</td>\n",
       "      <td>(0.942, 1.0]</td>\n",
       "    </tr>\n",
       "    <tr>\n",
       "      <th>3</th>\n",
       "      <td>Acts is in progress.)</td>\n",
       "      <td>21</td>\n",
       "      <td>4</td>\n",
       "      <td>4.200000</td>\n",
       "      <td>2</td>\n",
       "      <td>1</td>\n",
       "      <td>0</td>\n",
       "      <td>act progress</td>\n",
       "      <td>0.000</td>\n",
       "      <td>1.000</td>\n",
       "      <td>...</td>\n",
       "      <td>0.0000</td>\n",
       "      <td>Neutral</td>\n",
       "      <td>(-0.195, 0.0027]</td>\n",
       "      <td>(-0.001, 0.1]</td>\n",
       "      <td>(-0.001, 0.1]</td>\n",
       "      <td>(0.9, 1.0]</td>\n",
       "      <td>(-0.296, 0.0]</td>\n",
       "      <td>(-0.001, 0.061]</td>\n",
       "      <td>(-0.001, 0.069]</td>\n",
       "      <td>(0.942, 1.0]</td>\n",
       "    </tr>\n",
       "    <tr>\n",
       "      <th>4</th>\n",
       "      <td>To download an edition of just the fresh trans...</td>\n",
       "      <td>525</td>\n",
       "      <td>62</td>\n",
       "      <td>8.333333</td>\n",
       "      <td>36</td>\n",
       "      <td>14</td>\n",
       "      <td>1</td>\n",
       "      <td>download edition fresh translation part David ...</td>\n",
       "      <td>0.000</td>\n",
       "      <td>0.964</td>\n",
       "      <td>...</td>\n",
       "      <td>0.3182</td>\n",
       "      <td>Neutral</td>\n",
       "      <td>(0.201, 0.399]</td>\n",
       "      <td>(-0.001, 0.1]</td>\n",
       "      <td>(-0.001, 0.1]</td>\n",
       "      <td>(0.9, 1.0]</td>\n",
       "      <td>(0.273, 0.452]</td>\n",
       "      <td>(-0.001, 0.061]</td>\n",
       "      <td>(-0.001, 0.069]</td>\n",
       "      <td>(0.942, 1.0]</td>\n",
       "    </tr>\n",
       "  </tbody>\n",
       "</table>\n",
       "<p>5 rows × 21 columns</p>\n",
       "</div>"
      ],
      "text/plain": [
       "                                            Sentence  sentence_length  \\\n",
       "0  The Revelation of John\\n\\nThe General Epistle ...             2807   \n",
       "1  http://bit.ly/PrintPostWS \\n\\n\\n\\nThe Old Test...              354   \n",
       "2  (Until the rest are completed by David Robert ...               76   \n",
       "3                              Acts is in progress.)               21   \n",
       "4  To download an edition of just the fresh trans...              525   \n",
       "\n",
       "   word_count  word_density  punctuation_count  title_word_count  \\\n",
       "0         455      6.155702                 45               307   \n",
       "1          55      6.321429                 20                20   \n",
       "2          13      5.428571                  2                 4   \n",
       "3           4      4.200000                  2                 1   \n",
       "4          62      8.333333                 36                14   \n",
       "\n",
       "   uppercase_word_count                                              short  \\\n",
       "0                     2  Revelation John \\n\\n General Epistle Jude \\n\\n...   \n",
       "1                     3  http://bit.ly/PrintPostWS \\n\\n\\n\\n Old Testame...   \n",
       "2                     0      rest complete David Robert Palmer translation   \n",
       "3                     0                                       act progress   \n",
       "4                     1  download edition fresh translation part David ...   \n",
       "\n",
       "     neg    neu  ...  compound  AlexMarker      compound_cut        pos_cut  \\\n",
       "0  0.012  0.985  ...   -0.5583     Neutral  (-0.591, -0.393]  (-0.001, 0.1]   \n",
       "1  0.000  0.957  ...    0.3182     Neutral    (0.201, 0.399]  (-0.001, 0.1]   \n",
       "2  0.000  1.000  ...    0.0000     Neutral  (-0.195, 0.0027]  (-0.001, 0.1]   \n",
       "3  0.000  1.000  ...    0.0000     Neutral  (-0.195, 0.0027]  (-0.001, 0.1]   \n",
       "4  0.000  0.964  ...    0.3182     Neutral    (0.201, 0.399]  (-0.001, 0.1]   \n",
       "\n",
       "         neg_cut     neu_cut     compound_qcut         pos_qcut  \\\n",
       "0  (-0.001, 0.1]  (0.9, 1.0]  (-0.988, -0.557]  (-0.001, 0.061]   \n",
       "1  (-0.001, 0.1]  (0.9, 1.0]    (0.273, 0.452]  (-0.001, 0.061]   \n",
       "2  (-0.001, 0.1]  (0.9, 1.0]     (-0.296, 0.0]  (-0.001, 0.061]   \n",
       "3  (-0.001, 0.1]  (0.9, 1.0]     (-0.296, 0.0]  (-0.001, 0.061]   \n",
       "4  (-0.001, 0.1]  (0.9, 1.0]    (0.273, 0.452]  (-0.001, 0.061]   \n",
       "\n",
       "          neg_qcut      neu_qcut  \n",
       "0  (-0.001, 0.069]  (0.942, 1.0]  \n",
       "1  (-0.001, 0.069]  (0.942, 1.0]  \n",
       "2  (-0.001, 0.069]  (0.942, 1.0]  \n",
       "3  (-0.001, 0.069]  (0.942, 1.0]  \n",
       "4  (-0.001, 0.069]  (0.942, 1.0]  \n",
       "\n",
       "[5 rows x 21 columns]"
      ]
     },
     "execution_count": 245,
     "metadata": {},
     "output_type": "execute_result"
    }
   ],
   "source": [
    "sentence_df.head()"
   ]
  },
  {
   "cell_type": "code",
   "execution_count": 246,
   "metadata": {},
   "outputs": [],
   "source": [
    "#text = \"I love you very much so very much\"\n",
    "#text = sentence_df['Sentence'][1]\n",
    "text = my_text"
   ]
  },
  {
   "cell_type": "code",
   "execution_count": 247,
   "metadata": {},
   "outputs": [],
   "source": [
    "#print(text)"
   ]
  },
  {
   "cell_type": "code",
   "execution_count": null,
   "metadata": {},
   "outputs": [],
   "source": []
  },
  {
   "cell_type": "code",
   "execution_count": 248,
   "metadata": {},
   "outputs": [],
   "source": [
    "# Now this\n",
    "Grouped_Words8=[]\n",
    "for group_size in range(3,50,1):\n",
    "    #group_size = 4\n",
    "    #group_list = group_text2(text, group_size)\n",
    "    word_list = text.split()\n",
    "    group_list = []\n",
    "    for k in range(len(word_list)):\n",
    "        start = k\n",
    "        end = k + group_size\n",
    "        group_slice = word_list[start: end]\n",
    "    \n",
    "        group_slice_joined= (\" \".join(group_slice))\n",
    "  \n",
    "    \n",
    "        # append only groups of proper length/size\n",
    "        if len(group_slice) == group_size:\n",
    "\n",
    "            Grouped_Words8 += [group_slice_joined] #test_list += [test_str] \n",
    "# convert list to set to avoid duplicates\n",
    "#print(group_list)\n",
    "group_set = set(group_list)\n",
    "#Grouped_Words.append(group_set)\n",
    "#Grouped_Words.append(group_list)"
   ]
  },
  {
   "cell_type": "code",
   "execution_count": 249,
   "metadata": {},
   "outputs": [],
   "source": [
    "#print(Grouped_Words8)"
   ]
  },
  {
   "cell_type": "code",
   "execution_count": 250,
   "metadata": {},
   "outputs": [],
   "source": [
    "Grouped_Words_df = pd.DataFrame(Grouped_Words8, columns=['phrases'])"
   ]
  },
  {
   "cell_type": "code",
   "execution_count": null,
   "metadata": {},
   "outputs": [],
   "source": []
  },
  {
   "cell_type": "code",
   "execution_count": 251,
   "metadata": {},
   "outputs": [],
   "source": [
    "#Grouped_Words_df['word_count'] = Grouped_Words_df['phrases'].apply(lambda x: len(x.split()))"
   ]
  },
  {
   "cell_type": "code",
   "execution_count": 252,
   "metadata": {},
   "outputs": [
    {
     "data": {
      "text/html": [
       "<div>\n",
       "<style scoped>\n",
       "    .dataframe tbody tr th:only-of-type {\n",
       "        vertical-align: middle;\n",
       "    }\n",
       "\n",
       "    .dataframe tbody tr th {\n",
       "        vertical-align: top;\n",
       "    }\n",
       "\n",
       "    .dataframe thead th {\n",
       "        text-align: right;\n",
       "    }\n",
       "</style>\n",
       "<table border=\"1\" class=\"dataframe\">\n",
       "  <thead>\n",
       "    <tr style=\"text-align: right;\">\n",
       "      <th></th>\n",
       "      <th>phrases</th>\n",
       "    </tr>\n",
       "  </thead>\n",
       "  <tbody>\n",
       "    <tr>\n",
       "      <th>0</th>\n",
       "      <td>The Revelation of</td>\n",
       "    </tr>\n",
       "    <tr>\n",
       "      <th>1</th>\n",
       "      <td>Revelation of John</td>\n",
       "    </tr>\n",
       "    <tr>\n",
       "      <th>2</th>\n",
       "      <td>of John The</td>\n",
       "    </tr>\n",
       "    <tr>\n",
       "      <th>3</th>\n",
       "      <td>John The General</td>\n",
       "    </tr>\n",
       "    <tr>\n",
       "      <th>4</th>\n",
       "      <td>The General Epistle</td>\n",
       "    </tr>\n",
       "  </tbody>\n",
       "</table>\n",
       "</div>"
      ],
      "text/plain": [
       "               phrases\n",
       "0    The Revelation of\n",
       "1   Revelation of John\n",
       "2          of John The\n",
       "3     John The General\n",
       "4  The General Epistle"
      ]
     },
     "execution_count": 252,
     "metadata": {},
     "output_type": "execute_result"
    }
   ],
   "source": [
    "Grouped_Words_df.head()"
   ]
  },
  {
   "cell_type": "code",
   "execution_count": 253,
   "metadata": {},
   "outputs": [],
   "source": [
    "Grouped_Words_more_than_one = Grouped_Words_df['phrases'].value_counts()"
   ]
  },
  {
   "cell_type": "code",
   "execution_count": 254,
   "metadata": {},
   "outputs": [
    {
     "name": "stdout",
     "output_type": "stream",
     "text": [
      "the son of                                                                                                                                                                                                                                      1286\n",
      "the children of                                                                                                                                                                                                                                 1274\n",
      "the house of                                                                                                                                                                                                                                     816\n",
      "out of the                                                                                                                                                                                                                                       730\n",
      "the land of                                                                                                                                                                                                                                      611\n",
      "                                                                                                                                                                                                                                                ... \n",
      "warned in a dream, he withdrew to the district of Galilee, 23and went and lived in a town called Nazareth, so that what was spoken through the prophets would be fulfilled, that he would be called a                                              1\n",
      "fire that does not say, Enough. 30:17 The eye that mocks at his father, and despises to obey his mother, The ravens of the valley shall pick it out, and the young eagles shall eat it. 30:18 There are three things which are too wonderful       1\n",
      "falsely against his life (and there is no matter hid from the king),                                                                                                                                                                               1\n",
      "locust. 109:24 My knees are weak through fasting; And my flesh fails of fatness. 109:25 I am become also a                                                                                                                                         1\n",
      "Hour 32But as to that day or that hour, no one knows, not even the angels in heaven, not even the Son, but only the Father. 33Watch, be alert,                                                                                                     1\n",
      "Name: phrases, Length: 37899724, dtype: int64\n"
     ]
    }
   ],
   "source": [
    "print(Grouped_Words_more_than_one)"
   ]
  },
  {
   "cell_type": "code",
   "execution_count": 255,
   "metadata": {},
   "outputs": [
    {
     "data": {
      "text/plain": [
       "pandas.core.series.Series"
      ]
     },
     "execution_count": 255,
     "metadata": {},
     "output_type": "execute_result"
    }
   ],
   "source": [
    "type(Grouped_Words_more_than_one)"
   ]
  },
  {
   "cell_type": "code",
   "execution_count": 256,
   "metadata": {},
   "outputs": [],
   "source": [
    "Grouped_Words_more_than_one.columns = ['phrase', 'count']"
   ]
  },
  {
   "cell_type": "code",
   "execution_count": 257,
   "metadata": {},
   "outputs": [
    {
     "data": {
      "text/plain": [
       "the son of         1286\n",
       "the children of    1274\n",
       "the house of        816\n",
       "out of the          730\n",
       "the land of         611\n",
       "Name: phrases, dtype: int64"
      ]
     },
     "execution_count": 257,
     "metadata": {},
     "output_type": "execute_result"
    }
   ],
   "source": [
    "Grouped_Words_more_than_one.head()"
   ]
  },
  {
   "cell_type": "code",
   "execution_count": 258,
   "metadata": {},
   "outputs": [],
   "source": [
    "Grouped_Words_more_than_one_df = pd.DataFrame(Grouped_Words_more_than_one).reset_index()"
   ]
  },
  {
   "cell_type": "code",
   "execution_count": 259,
   "metadata": {},
   "outputs": [
    {
     "data": {
      "text/html": [
       "<div>\n",
       "<style scoped>\n",
       "    .dataframe tbody tr th:only-of-type {\n",
       "        vertical-align: middle;\n",
       "    }\n",
       "\n",
       "    .dataframe tbody tr th {\n",
       "        vertical-align: top;\n",
       "    }\n",
       "\n",
       "    .dataframe thead th {\n",
       "        text-align: right;\n",
       "    }\n",
       "</style>\n",
       "<table border=\"1\" class=\"dataframe\">\n",
       "  <thead>\n",
       "    <tr style=\"text-align: right;\">\n",
       "      <th></th>\n",
       "      <th>index</th>\n",
       "      <th>phrases</th>\n",
       "    </tr>\n",
       "  </thead>\n",
       "  <tbody>\n",
       "    <tr>\n",
       "      <th>0</th>\n",
       "      <td>the son of</td>\n",
       "      <td>1286</td>\n",
       "    </tr>\n",
       "    <tr>\n",
       "      <th>1</th>\n",
       "      <td>the children of</td>\n",
       "      <td>1274</td>\n",
       "    </tr>\n",
       "    <tr>\n",
       "      <th>2</th>\n",
       "      <td>the house of</td>\n",
       "      <td>816</td>\n",
       "    </tr>\n",
       "    <tr>\n",
       "      <th>3</th>\n",
       "      <td>out of the</td>\n",
       "      <td>730</td>\n",
       "    </tr>\n",
       "    <tr>\n",
       "      <th>4</th>\n",
       "      <td>the land of</td>\n",
       "      <td>611</td>\n",
       "    </tr>\n",
       "  </tbody>\n",
       "</table>\n",
       "</div>"
      ],
      "text/plain": [
       "             index  phrases\n",
       "0       the son of     1286\n",
       "1  the children of     1274\n",
       "2     the house of      816\n",
       "3       out of the      730\n",
       "4      the land of      611"
      ]
     },
     "execution_count": 259,
     "metadata": {},
     "output_type": "execute_result"
    }
   ],
   "source": [
    "Grouped_Words_more_than_one_df.head()"
   ]
  },
  {
   "cell_type": "code",
   "execution_count": 260,
   "metadata": {},
   "outputs": [],
   "source": [
    "Grouped_Words_more_than_one_df.columns = ['phrase', 'count']"
   ]
  },
  {
   "cell_type": "code",
   "execution_count": 261,
   "metadata": {},
   "outputs": [
    {
     "data": {
      "text/html": [
       "<div>\n",
       "<style scoped>\n",
       "    .dataframe tbody tr th:only-of-type {\n",
       "        vertical-align: middle;\n",
       "    }\n",
       "\n",
       "    .dataframe tbody tr th {\n",
       "        vertical-align: top;\n",
       "    }\n",
       "\n",
       "    .dataframe thead th {\n",
       "        text-align: right;\n",
       "    }\n",
       "</style>\n",
       "<table border=\"1\" class=\"dataframe\">\n",
       "  <thead>\n",
       "    <tr style=\"text-align: right;\">\n",
       "      <th></th>\n",
       "      <th>phrase</th>\n",
       "      <th>count</th>\n",
       "    </tr>\n",
       "  </thead>\n",
       "  <tbody>\n",
       "    <tr>\n",
       "      <th>0</th>\n",
       "      <td>the son of</td>\n",
       "      <td>1286</td>\n",
       "    </tr>\n",
       "    <tr>\n",
       "      <th>1</th>\n",
       "      <td>the children of</td>\n",
       "      <td>1274</td>\n",
       "    </tr>\n",
       "    <tr>\n",
       "      <th>2</th>\n",
       "      <td>the house of</td>\n",
       "      <td>816</td>\n",
       "    </tr>\n",
       "    <tr>\n",
       "      <th>3</th>\n",
       "      <td>out of the</td>\n",
       "      <td>730</td>\n",
       "    </tr>\n",
       "    <tr>\n",
       "      <th>4</th>\n",
       "      <td>the land of</td>\n",
       "      <td>611</td>\n",
       "    </tr>\n",
       "  </tbody>\n",
       "</table>\n",
       "</div>"
      ],
      "text/plain": [
       "            phrase  count\n",
       "0       the son of   1286\n",
       "1  the children of   1274\n",
       "2     the house of    816\n",
       "3       out of the    730\n",
       "4      the land of    611"
      ]
     },
     "execution_count": 261,
     "metadata": {},
     "output_type": "execute_result"
    }
   ],
   "source": [
    "Grouped_Words_more_than_one_df.head()"
   ]
  },
  {
   "cell_type": "code",
   "execution_count": 262,
   "metadata": {},
   "outputs": [
    {
     "name": "stdout",
     "output_type": "stream",
     "text": [
      "<class 'pandas.core.frame.DataFrame'>\n",
      "RangeIndex: 37899724 entries, 0 to 37899723\n",
      "Data columns (total 2 columns):\n",
      " #   Column  Dtype \n",
      "---  ------  ----- \n",
      " 0   phrase  object\n",
      " 1   count   int64 \n",
      "dtypes: int64(1), object(1)\n",
      "memory usage: 578.3+ MB\n"
     ]
    }
   ],
   "source": [
    "Grouped_Words_more_than_one_df.info()"
   ]
  },
  {
   "cell_type": "code",
   "execution_count": 263,
   "metadata": {},
   "outputs": [],
   "source": [
    "GW_short= Grouped_Words_more_than_one_df[Grouped_Words_more_than_one_df['count'] > 1 ]"
   ]
  },
  {
   "cell_type": "code",
   "execution_count": 264,
   "metadata": {},
   "outputs": [
    {
     "data": {
      "text/html": [
       "<div>\n",
       "<style scoped>\n",
       "    .dataframe tbody tr th:only-of-type {\n",
       "        vertical-align: middle;\n",
       "    }\n",
       "\n",
       "    .dataframe tbody tr th {\n",
       "        vertical-align: top;\n",
       "    }\n",
       "\n",
       "    .dataframe thead th {\n",
       "        text-align: right;\n",
       "    }\n",
       "</style>\n",
       "<table border=\"1\" class=\"dataframe\">\n",
       "  <thead>\n",
       "    <tr style=\"text-align: right;\">\n",
       "      <th></th>\n",
       "      <th>phrase</th>\n",
       "      <th>count</th>\n",
       "    </tr>\n",
       "  </thead>\n",
       "  <tbody>\n",
       "    <tr>\n",
       "      <th>0</th>\n",
       "      <td>the son of</td>\n",
       "      <td>1286</td>\n",
       "    </tr>\n",
       "    <tr>\n",
       "      <th>1</th>\n",
       "      <td>the children of</td>\n",
       "      <td>1274</td>\n",
       "    </tr>\n",
       "    <tr>\n",
       "      <th>2</th>\n",
       "      <td>the house of</td>\n",
       "      <td>816</td>\n",
       "    </tr>\n",
       "    <tr>\n",
       "      <th>3</th>\n",
       "      <td>out of the</td>\n",
       "      <td>730</td>\n",
       "    </tr>\n",
       "    <tr>\n",
       "      <th>4</th>\n",
       "      <td>the land of</td>\n",
       "      <td>611</td>\n",
       "    </tr>\n",
       "  </tbody>\n",
       "</table>\n",
       "</div>"
      ],
      "text/plain": [
       "            phrase  count\n",
       "0       the son of   1286\n",
       "1  the children of   1274\n",
       "2     the house of    816\n",
       "3       out of the    730\n",
       "4      the land of    611"
      ]
     },
     "execution_count": 264,
     "metadata": {},
     "output_type": "execute_result"
    }
   ],
   "source": [
    "GW_short.head()"
   ]
  },
  {
   "cell_type": "code",
   "execution_count": 265,
   "metadata": {},
   "outputs": [],
   "source": [
    "#GW_short.reset_index()"
   ]
  },
  {
   "cell_type": "code",
   "execution_count": 266,
   "metadata": {},
   "outputs": [],
   "source": [
    "#GW_short = GW_short.rename(columns={'index': 'phrase', 'phrases': 'count'})"
   ]
  },
  {
   "cell_type": "code",
   "execution_count": 267,
   "metadata": {},
   "outputs": [
    {
     "data": {
      "text/html": [
       "<div>\n",
       "<style scoped>\n",
       "    .dataframe tbody tr th:only-of-type {\n",
       "        vertical-align: middle;\n",
       "    }\n",
       "\n",
       "    .dataframe tbody tr th {\n",
       "        vertical-align: top;\n",
       "    }\n",
       "\n",
       "    .dataframe thead th {\n",
       "        text-align: right;\n",
       "    }\n",
       "</style>\n",
       "<table border=\"1\" class=\"dataframe\">\n",
       "  <thead>\n",
       "    <tr style=\"text-align: right;\">\n",
       "      <th></th>\n",
       "      <th>phrase</th>\n",
       "      <th>count</th>\n",
       "    </tr>\n",
       "  </thead>\n",
       "  <tbody>\n",
       "    <tr>\n",
       "      <th>0</th>\n",
       "      <td>the son of</td>\n",
       "      <td>1286</td>\n",
       "    </tr>\n",
       "    <tr>\n",
       "      <th>1</th>\n",
       "      <td>the children of</td>\n",
       "      <td>1274</td>\n",
       "    </tr>\n",
       "    <tr>\n",
       "      <th>2</th>\n",
       "      <td>the house of</td>\n",
       "      <td>816</td>\n",
       "    </tr>\n",
       "    <tr>\n",
       "      <th>3</th>\n",
       "      <td>out of the</td>\n",
       "      <td>730</td>\n",
       "    </tr>\n",
       "    <tr>\n",
       "      <th>4</th>\n",
       "      <td>the land of</td>\n",
       "      <td>611</td>\n",
       "    </tr>\n",
       "  </tbody>\n",
       "</table>\n",
       "</div>"
      ],
      "text/plain": [
       "            phrase  count\n",
       "0       the son of   1286\n",
       "1  the children of   1274\n",
       "2     the house of    816\n",
       "3       out of the    730\n",
       "4      the land of    611"
      ]
     },
     "execution_count": 267,
     "metadata": {},
     "output_type": "execute_result"
    }
   ],
   "source": [
    "GW_short.head()"
   ]
  },
  {
   "cell_type": "code",
   "execution_count": 268,
   "metadata": {},
   "outputs": [
    {
     "name": "stderr",
     "output_type": "stream",
     "text": [
      "C:\\Users\\alexd\\anaconda3\\lib\\site-packages\\ipykernel_launcher.py:1: SettingWithCopyWarning: \n",
      "A value is trying to be set on a copy of a slice from a DataFrame.\n",
      "Try using .loc[row_indexer,col_indexer] = value instead\n",
      "\n",
      "See the caveats in the documentation: https://pandas.pydata.org/pandas-docs/stable/user_guide/indexing.html#returning-a-view-versus-a-copy\n",
      "  \"\"\"Entry point for launching an IPython kernel.\n"
     ]
    }
   ],
   "source": [
    "GW_short['word_count'] = GW_short['phrase'].apply(lambda x: len(x.split()))"
   ]
  },
  {
   "cell_type": "code",
   "execution_count": 269,
   "metadata": {},
   "outputs": [
    {
     "data": {
      "text/plain": [
       "3     85728\n",
       "4     61092\n",
       "5     40734\n",
       "6     28433\n",
       "7     21105\n",
       "8     16352\n",
       "9     13051\n",
       "10    10595\n",
       "11     8738\n",
       "12     7277\n",
       "13     6100\n",
       "14     5155\n",
       "15     4378\n",
       "16     3724\n",
       "17     3167\n",
       "18     2698\n",
       "19     2310\n",
       "20     1981\n",
       "21     1709\n",
       "22     1480\n",
       "23     1280\n",
       "24     1112\n",
       "25      965\n",
       "26      833\n",
       "27      719\n",
       "28      619\n",
       "29      532\n",
       "30      460\n",
       "31      399\n",
       "32      347\n",
       "33      303\n",
       "34      266\n",
       "35      235\n",
       "36      210\n",
       "37      186\n",
       "38      165\n",
       "39      148\n",
       "40      131\n",
       "41      116\n",
       "42      103\n",
       "43       92\n",
       "44       82\n",
       "45       72\n",
       "46       63\n",
       "47       57\n",
       "48       51\n",
       "49       46\n",
       "Name: word_count, dtype: int64"
      ]
     },
     "execution_count": 269,
     "metadata": {},
     "output_type": "execute_result"
    }
   ],
   "source": [
    "GW_short['word_count'].value_counts()"
   ]
  },
  {
   "cell_type": "code",
   "execution_count": 270,
   "metadata": {},
   "outputs": [
    {
     "data": {
      "text/html": [
       "<div>\n",
       "<style scoped>\n",
       "    .dataframe tbody tr th:only-of-type {\n",
       "        vertical-align: middle;\n",
       "    }\n",
       "\n",
       "    .dataframe tbody tr th {\n",
       "        vertical-align: top;\n",
       "    }\n",
       "\n",
       "    .dataframe thead th {\n",
       "        text-align: right;\n",
       "    }\n",
       "</style>\n",
       "<table border=\"1\" class=\"dataframe\">\n",
       "  <thead>\n",
       "    <tr style=\"text-align: right;\">\n",
       "      <th></th>\n",
       "      <th>phrase</th>\n",
       "      <th>count</th>\n",
       "      <th>word_count</th>\n",
       "    </tr>\n",
       "  </thead>\n",
       "  <tbody>\n",
       "    <tr>\n",
       "      <th>0</th>\n",
       "      <td>the son of</td>\n",
       "      <td>1286</td>\n",
       "      <td>3</td>\n",
       "    </tr>\n",
       "    <tr>\n",
       "      <th>1</th>\n",
       "      <td>the children of</td>\n",
       "      <td>1274</td>\n",
       "      <td>3</td>\n",
       "    </tr>\n",
       "    <tr>\n",
       "      <th>2</th>\n",
       "      <td>the house of</td>\n",
       "      <td>816</td>\n",
       "      <td>3</td>\n",
       "    </tr>\n",
       "    <tr>\n",
       "      <th>3</th>\n",
       "      <td>out of the</td>\n",
       "      <td>730</td>\n",
       "      <td>3</td>\n",
       "    </tr>\n",
       "    <tr>\n",
       "      <th>4</th>\n",
       "      <td>the land of</td>\n",
       "      <td>611</td>\n",
       "      <td>3</td>\n",
       "    </tr>\n",
       "    <tr>\n",
       "      <th>5</th>\n",
       "      <td>the sons of</td>\n",
       "      <td>530</td>\n",
       "      <td>3</td>\n",
       "    </tr>\n",
       "    <tr>\n",
       "      <th>6</th>\n",
       "      <td>and I will</td>\n",
       "      <td>511</td>\n",
       "      <td>3</td>\n",
       "    </tr>\n",
       "    <tr>\n",
       "      <th>7</th>\n",
       "      <td>the king of</td>\n",
       "      <td>446</td>\n",
       "      <td>3</td>\n",
       "    </tr>\n",
       "    <tr>\n",
       "      <th>8</th>\n",
       "      <td>said to him,</td>\n",
       "      <td>423</td>\n",
       "      <td>3</td>\n",
       "    </tr>\n",
       "    <tr>\n",
       "      <th>9</th>\n",
       "      <td>and all the</td>\n",
       "      <td>422</td>\n",
       "      <td>3</td>\n",
       "    </tr>\n",
       "  </tbody>\n",
       "</table>\n",
       "</div>"
      ],
      "text/plain": [
       "            phrase  count  word_count\n",
       "0       the son of   1286           3\n",
       "1  the children of   1274           3\n",
       "2     the house of    816           3\n",
       "3       out of the    730           3\n",
       "4      the land of    611           3\n",
       "5      the sons of    530           3\n",
       "6       and I will    511           3\n",
       "7      the king of    446           3\n",
       "8     said to him,    423           3\n",
       "9      and all the    422           3"
      ]
     },
     "execution_count": 270,
     "metadata": {},
     "output_type": "execute_result"
    }
   ],
   "source": [
    "GW3 = GW_short[GW_short['word_count'] == 3 ]\n",
    "GW3.head(10)"
   ]
  },
  {
   "cell_type": "code",
   "execution_count": 271,
   "metadata": {},
   "outputs": [
    {
     "data": {
      "text/html": [
       "<div>\n",
       "<style scoped>\n",
       "    .dataframe tbody tr th:only-of-type {\n",
       "        vertical-align: middle;\n",
       "    }\n",
       "\n",
       "    .dataframe tbody tr th {\n",
       "        vertical-align: top;\n",
       "    }\n",
       "\n",
       "    .dataframe thead th {\n",
       "        text-align: right;\n",
       "    }\n",
       "</style>\n",
       "<table border=\"1\" class=\"dataframe\">\n",
       "  <thead>\n",
       "    <tr style=\"text-align: right;\">\n",
       "      <th></th>\n",
       "      <th>phrase</th>\n",
       "      <th>count</th>\n",
       "      <th>word_count</th>\n",
       "    </tr>\n",
       "  </thead>\n",
       "  <tbody>\n",
       "    <tr>\n",
       "      <th>14</th>\n",
       "      <td>of the children of</td>\n",
       "      <td>356</td>\n",
       "      <td>4</td>\n",
       "    </tr>\n",
       "    <tr>\n",
       "      <th>18</th>\n",
       "      <td>And it came to</td>\n",
       "      <td>327</td>\n",
       "      <td>4</td>\n",
       "    </tr>\n",
       "    <tr>\n",
       "      <th>20</th>\n",
       "      <td>the children of Israel</td>\n",
       "      <td>320</td>\n",
       "      <td>4</td>\n",
       "    </tr>\n",
       "    <tr>\n",
       "      <th>31</th>\n",
       "      <td>in the midst of</td>\n",
       "      <td>233</td>\n",
       "      <td>4</td>\n",
       "    </tr>\n",
       "    <tr>\n",
       "      <th>38</th>\n",
       "      <td>of the house of</td>\n",
       "      <td>211</td>\n",
       "      <td>4</td>\n",
       "    </tr>\n",
       "    <tr>\n",
       "      <th>41</th>\n",
       "      <td>in the land of</td>\n",
       "      <td>209</td>\n",
       "      <td>4</td>\n",
       "    </tr>\n",
       "    <tr>\n",
       "      <th>43</th>\n",
       "      <td>it came to pass,</td>\n",
       "      <td>208</td>\n",
       "      <td>4</td>\n",
       "    </tr>\n",
       "    <tr>\n",
       "      <th>49</th>\n",
       "      <td>Yahweh, the God of</td>\n",
       "      <td>199</td>\n",
       "      <td>4</td>\n",
       "    </tr>\n",
       "    <tr>\n",
       "      <th>54</th>\n",
       "      <td>it came to pass</td>\n",
       "      <td>181</td>\n",
       "      <td>4</td>\n",
       "    </tr>\n",
       "    <tr>\n",
       "      <th>57</th>\n",
       "      <td>the children of Israel,</td>\n",
       "      <td>175</td>\n",
       "      <td>4</td>\n",
       "    </tr>\n",
       "  </tbody>\n",
       "</table>\n",
       "</div>"
      ],
      "text/plain": [
       "                     phrase  count  word_count\n",
       "14       of the children of    356           4\n",
       "18           And it came to    327           4\n",
       "20   the children of Israel    320           4\n",
       "31          in the midst of    233           4\n",
       "38          of the house of    211           4\n",
       "41           in the land of    209           4\n",
       "43         it came to pass,    208           4\n",
       "49       Yahweh, the God of    199           4\n",
       "54          it came to pass    181           4\n",
       "57  the children of Israel,    175           4"
      ]
     },
     "execution_count": 271,
     "metadata": {},
     "output_type": "execute_result"
    }
   ],
   "source": [
    "GW4 = GW_short[GW_short['word_count'] == 4 ]\n",
    "GW4.head(10)"
   ]
  },
  {
   "cell_type": "code",
   "execution_count": 272,
   "metadata": {},
   "outputs": [
    {
     "data": {
      "text/html": [
       "<div>\n",
       "<style scoped>\n",
       "    .dataframe tbody tr th:only-of-type {\n",
       "        vertical-align: middle;\n",
       "    }\n",
       "\n",
       "    .dataframe tbody tr th {\n",
       "        vertical-align: top;\n",
       "    }\n",
       "\n",
       "    .dataframe thead th {\n",
       "        text-align: right;\n",
       "    }\n",
       "</style>\n",
       "<table border=\"1\" class=\"dataframe\">\n",
       "  <thead>\n",
       "    <tr style=\"text-align: right;\">\n",
       "      <th></th>\n",
       "      <th>phrase</th>\n",
       "      <th>count</th>\n",
       "      <th>word_count</th>\n",
       "    </tr>\n",
       "  </thead>\n",
       "  <tbody>\n",
       "    <tr>\n",
       "      <th>59</th>\n",
       "      <td>And it came to pass,</td>\n",
       "      <td>170</td>\n",
       "      <td>5</td>\n",
       "    </tr>\n",
       "    <tr>\n",
       "      <th>71</th>\n",
       "      <td>And it came to pass</td>\n",
       "      <td>157</td>\n",
       "      <td>5</td>\n",
       "    </tr>\n",
       "    <tr>\n",
       "      <th>98</th>\n",
       "      <td>it came to pass, when</td>\n",
       "      <td>135</td>\n",
       "      <td>5</td>\n",
       "    </tr>\n",
       "    <tr>\n",
       "      <th>178</th>\n",
       "      <td>out of the land of</td>\n",
       "      <td>100</td>\n",
       "      <td>5</td>\n",
       "    </tr>\n",
       "    <tr>\n",
       "      <th>211</th>\n",
       "      <td>And it shall come to</td>\n",
       "      <td>91</td>\n",
       "      <td>5</td>\n",
       "    </tr>\n",
       "    <tr>\n",
       "      <th>223</th>\n",
       "      <td>Yahweh, the God of Israel,</td>\n",
       "      <td>88</td>\n",
       "      <td>5</td>\n",
       "    </tr>\n",
       "    <tr>\n",
       "      <th>228</th>\n",
       "      <td>in the midst of the</td>\n",
       "      <td>86</td>\n",
       "      <td>5</td>\n",
       "    </tr>\n",
       "    <tr>\n",
       "      <th>238</th>\n",
       "      <td>word of Yahweh came to</td>\n",
       "      <td>83</td>\n",
       "      <td>5</td>\n",
       "    </tr>\n",
       "    <tr>\n",
       "      <th>248</th>\n",
       "      <td>the word of Yahweh came</td>\n",
       "      <td>82</td>\n",
       "      <td>5</td>\n",
       "    </tr>\n",
       "    <tr>\n",
       "      <th>280</th>\n",
       "      <td>And Yahweh spoke to Moses,</td>\n",
       "      <td>76</td>\n",
       "      <td>5</td>\n",
       "    </tr>\n",
       "  </tbody>\n",
       "</table>\n",
       "</div>"
      ],
      "text/plain": [
       "                         phrase  count  word_count\n",
       "59         And it came to pass,    170           5\n",
       "71          And it came to pass    157           5\n",
       "98        it came to pass, when    135           5\n",
       "178          out of the land of    100           5\n",
       "211        And it shall come to     91           5\n",
       "223  Yahweh, the God of Israel,     88           5\n",
       "228         in the midst of the     86           5\n",
       "238      word of Yahweh came to     83           5\n",
       "248     the word of Yahweh came     82           5\n",
       "280  And Yahweh spoke to Moses,     76           5"
      ]
     },
     "execution_count": 272,
     "metadata": {},
     "output_type": "execute_result"
    }
   ],
   "source": [
    "GW5 = GW_short[GW_short['word_count'] == 5 ]\n",
    "GW5.head(10)"
   ]
  },
  {
   "cell_type": "code",
   "execution_count": 273,
   "metadata": {},
   "outputs": [
    {
     "data": {
      "text/html": [
       "<div>\n",
       "<style scoped>\n",
       "    .dataframe tbody tr th:only-of-type {\n",
       "        vertical-align: middle;\n",
       "    }\n",
       "\n",
       "    .dataframe tbody tr th {\n",
       "        vertical-align: top;\n",
       "    }\n",
       "\n",
       "    .dataframe thead th {\n",
       "        text-align: right;\n",
       "    }\n",
       "</style>\n",
       "<table border=\"1\" class=\"dataframe\">\n",
       "  <thead>\n",
       "    <tr style=\"text-align: right;\">\n",
       "      <th></th>\n",
       "      <th>phrase</th>\n",
       "      <th>count</th>\n",
       "      <th>word_count</th>\n",
       "    </tr>\n",
       "  </thead>\n",
       "  <tbody>\n",
       "    <tr>\n",
       "      <th>140</th>\n",
       "      <td>And it came to pass, when</td>\n",
       "      <td>115</td>\n",
       "      <td>6</td>\n",
       "    </tr>\n",
       "    <tr>\n",
       "      <th>257</th>\n",
       "      <td>the word of Yahweh came to</td>\n",
       "      <td>79</td>\n",
       "      <td>6</td>\n",
       "    </tr>\n",
       "    <tr>\n",
       "      <th>307</th>\n",
       "      <td>And Yahweh spoke to Moses, saying,</td>\n",
       "      <td>72</td>\n",
       "      <td>6</td>\n",
       "    </tr>\n",
       "    <tr>\n",
       "      <th>590</th>\n",
       "      <td>of Yahweh came to me, saying,</td>\n",
       "      <td>50</td>\n",
       "      <td>6</td>\n",
       "    </tr>\n",
       "    <tr>\n",
       "      <th>602</th>\n",
       "      <td>word of Yahweh came to me,</td>\n",
       "      <td>50</td>\n",
       "      <td>6</td>\n",
       "    </tr>\n",
       "  </tbody>\n",
       "</table>\n",
       "</div>"
      ],
      "text/plain": [
       "                                 phrase  count  word_count\n",
       "140           And it came to pass, when    115           6\n",
       "257          the word of Yahweh came to     79           6\n",
       "307  And Yahweh spoke to Moses, saying,     72           6\n",
       "590       of Yahweh came to me, saying,     50           6\n",
       "602          word of Yahweh came to me,     50           6"
      ]
     },
     "execution_count": 273,
     "metadata": {},
     "output_type": "execute_result"
    }
   ],
   "source": [
    "GW6 = GW_short[GW_short['word_count'] == 6 ]\n",
    "GW6.head()"
   ]
  },
  {
   "cell_type": "code",
   "execution_count": 274,
   "metadata": {},
   "outputs": [],
   "source": [
    "GW9 = GW_short[GW_short['word_count'] == 9 ]"
   ]
  },
  {
   "cell_type": "code",
   "execution_count": 275,
   "metadata": {},
   "outputs": [
    {
     "data": {
      "text/plain": [
       "(13051, 3)"
      ]
     },
     "execution_count": 275,
     "metadata": {},
     "output_type": "execute_result"
    }
   ],
   "source": [
    "GW9.shape"
   ]
  },
  {
   "cell_type": "code",
   "execution_count": 276,
   "metadata": {},
   "outputs": [
    {
     "data": {
      "text/html": [
       "<div>\n",
       "<style scoped>\n",
       "    .dataframe tbody tr th:only-of-type {\n",
       "        vertical-align: middle;\n",
       "    }\n",
       "\n",
       "    .dataframe tbody tr th {\n",
       "        vertical-align: top;\n",
       "    }\n",
       "\n",
       "    .dataframe thead th {\n",
       "        text-align: right;\n",
       "    }\n",
       "</style>\n",
       "<table border=\"1\" class=\"dataframe\">\n",
       "  <thead>\n",
       "    <tr style=\"text-align: right;\">\n",
       "      <th></th>\n",
       "      <th>phrase</th>\n",
       "      <th>count</th>\n",
       "      <th>word_count</th>\n",
       "    </tr>\n",
       "  </thead>\n",
       "  <tbody>\n",
       "    <tr>\n",
       "      <th>909</th>\n",
       "      <td>did that which was evil in the sight of</td>\n",
       "      <td>40</td>\n",
       "      <td>9</td>\n",
       "    </tr>\n",
       "    <tr>\n",
       "      <th>1179</th>\n",
       "      <td>in the book of the chronicles of the kings</td>\n",
       "      <td>34</td>\n",
       "      <td>9</td>\n",
       "    </tr>\n",
       "    <tr>\n",
       "      <th>1180</th>\n",
       "      <td>written in the book of the chronicles of the</td>\n",
       "      <td>34</td>\n",
       "      <td>9</td>\n",
       "    </tr>\n",
       "    <tr>\n",
       "      <th>1208</th>\n",
       "      <td>the book of the chronicles of the kings of</td>\n",
       "      <td>34</td>\n",
       "      <td>9</td>\n",
       "    </tr>\n",
       "    <tr>\n",
       "      <th>1213</th>\n",
       "      <td>http://bibletranslation.ws/palmer-translation/...</td>\n",
       "      <td>34</td>\n",
       "      <td>9</td>\n",
       "    </tr>\n",
       "    <tr>\n",
       "      <th>...</th>\n",
       "      <td>...</td>\n",
       "      <td>...</td>\n",
       "      <td>...</td>\n",
       "    </tr>\n",
       "    <tr>\n",
       "      <th>335289</th>\n",
       "      <td>of Israel, or of the strangers that sojourn in</td>\n",
       "      <td>2</td>\n",
       "      <td>9</td>\n",
       "    </tr>\n",
       "    <tr>\n",
       "      <th>335304</th>\n",
       "      <td>not build the house; but your son that shall</td>\n",
       "      <td>2</td>\n",
       "      <td>9</td>\n",
       "    </tr>\n",
       "    <tr>\n",
       "      <th>335316</th>\n",
       "      <td>the midst of the countries that are desolate; and</td>\n",
       "      <td>2</td>\n",
       "      <td>9</td>\n",
       "    </tr>\n",
       "    <tr>\n",
       "      <th>335335</th>\n",
       "      <td>to the children of Gad, and to the half-tribe</td>\n",
       "      <td>2</td>\n",
       "      <td>9</td>\n",
       "    </tr>\n",
       "    <tr>\n",
       "      <th>335342</th>\n",
       "      <td>of Yahweh, thus shall ye say to him, Thus</td>\n",
       "      <td>2</td>\n",
       "      <td>9</td>\n",
       "    </tr>\n",
       "  </tbody>\n",
       "</table>\n",
       "<p>13051 rows × 3 columns</p>\n",
       "</div>"
      ],
      "text/plain": [
       "                                                   phrase  count  word_count\n",
       "909               did that which was evil in the sight of     40           9\n",
       "1179           in the book of the chronicles of the kings     34           9\n",
       "1180         written in the book of the chronicles of the     34           9\n",
       "1208           the book of the chronicles of the kings of     34           9\n",
       "1213    http://bibletranslation.ws/palmer-translation/...     34           9\n",
       "...                                                   ...    ...         ...\n",
       "335289     of Israel, or of the strangers that sojourn in      2           9\n",
       "335304       not build the house; but your son that shall      2           9\n",
       "335316  the midst of the countries that are desolate; and      2           9\n",
       "335335      to the children of Gad, and to the half-tribe      2           9\n",
       "335342          of Yahweh, thus shall ye say to him, Thus      2           9\n",
       "\n",
       "[13051 rows x 3 columns]"
      ]
     },
     "execution_count": 276,
     "metadata": {},
     "output_type": "execute_result"
    }
   ],
   "source": [
    "GW9"
   ]
  },
  {
   "cell_type": "code",
   "execution_count": 277,
   "metadata": {},
   "outputs": [
    {
     "data": {
      "text/html": [
       "<div>\n",
       "<style scoped>\n",
       "    .dataframe tbody tr th:only-of-type {\n",
       "        vertical-align: middle;\n",
       "    }\n",
       "\n",
       "    .dataframe tbody tr th {\n",
       "        vertical-align: top;\n",
       "    }\n",
       "\n",
       "    .dataframe thead th {\n",
       "        text-align: right;\n",
       "    }\n",
       "</style>\n",
       "<table border=\"1\" class=\"dataframe\">\n",
       "  <thead>\n",
       "    <tr style=\"text-align: right;\">\n",
       "      <th></th>\n",
       "      <th>phrase</th>\n",
       "      <th>count</th>\n",
       "      <th>word_count</th>\n",
       "    </tr>\n",
       "  </thead>\n",
       "  <tbody>\n",
       "    <tr>\n",
       "      <th>6004</th>\n",
       "      <td>shekels, one silver bowl of seventy shekels, a...</td>\n",
       "      <td>12</td>\n",
       "      <td>24</td>\n",
       "    </tr>\n",
       "    <tr>\n",
       "      <th>6492</th>\n",
       "      <td>bowl of seventy shekels, after the shekel of t...</td>\n",
       "      <td>12</td>\n",
       "      <td>24</td>\n",
       "    </tr>\n",
       "    <tr>\n",
       "      <th>6720</th>\n",
       "      <td>one silver bowl of seventy shekels, after the ...</td>\n",
       "      <td>12</td>\n",
       "      <td>24</td>\n",
       "    </tr>\n",
       "    <tr>\n",
       "      <th>6811</th>\n",
       "      <td>silver bowl of seventy shekels, after the shek...</td>\n",
       "      <td>12</td>\n",
       "      <td>24</td>\n",
       "    </tr>\n",
       "    <tr>\n",
       "      <th>7107</th>\n",
       "      <td>thirty shekels, one silver bowl of seventy she...</td>\n",
       "      <td>12</td>\n",
       "      <td>24</td>\n",
       "    </tr>\n",
       "    <tr>\n",
       "      <th>...</th>\n",
       "      <td>...</td>\n",
       "      <td>...</td>\n",
       "      <td>...</td>\n",
       "    </tr>\n",
       "    <tr>\n",
       "      <th>334871</th>\n",
       "      <td>Let not your God in whom you trust deceive you...</td>\n",
       "      <td>2</td>\n",
       "      <td>24</td>\n",
       "    </tr>\n",
       "    <tr>\n",
       "      <th>334906</th>\n",
       "      <td>Yahweh said to David my father, Whereas it was...</td>\n",
       "      <td>2</td>\n",
       "      <td>24</td>\n",
       "    </tr>\n",
       "    <tr>\n",
       "      <th>335072</th>\n",
       "      <td>had said this, he showed them his hands and hi...</td>\n",
       "      <td>2</td>\n",
       "      <td>24</td>\n",
       "    </tr>\n",
       "    <tr>\n",
       "      <th>335370</th>\n",
       "      <td>his armor, and all that was found in his treas...</td>\n",
       "      <td>2</td>\n",
       "      <td>24</td>\n",
       "    </tr>\n",
       "    <tr>\n",
       "      <th>335372</th>\n",
       "      <td>I will gather you to your fathers, and you sha...</td>\n",
       "      <td>2</td>\n",
       "      <td>24</td>\n",
       "    </tr>\n",
       "  </tbody>\n",
       "</table>\n",
       "<p>1112 rows × 3 columns</p>\n",
       "</div>"
      ],
      "text/plain": [
       "                                                   phrase  count  word_count\n",
       "6004    shekels, one silver bowl of seventy shekels, a...     12          24\n",
       "6492    bowl of seventy shekels, after the shekel of t...     12          24\n",
       "6720    one silver bowl of seventy shekels, after the ...     12          24\n",
       "6811    silver bowl of seventy shekels, after the shek...     12          24\n",
       "7107    thirty shekels, one silver bowl of seventy she...     12          24\n",
       "...                                                   ...    ...         ...\n",
       "334871  Let not your God in whom you trust deceive you...      2          24\n",
       "334906  Yahweh said to David my father, Whereas it was...      2          24\n",
       "335072  had said this, he showed them his hands and hi...      2          24\n",
       "335370  his armor, and all that was found in his treas...      2          24\n",
       "335372  I will gather you to your fathers, and you sha...      2          24\n",
       "\n",
       "[1112 rows x 3 columns]"
      ]
     },
     "execution_count": 277,
     "metadata": {},
     "output_type": "execute_result"
    }
   ],
   "source": [
    "GW24 = GW_short[GW_short['word_count'] == 24 ]\n",
    "GW24"
   ]
  },
  {
   "cell_type": "code",
   "execution_count": 278,
   "metadata": {},
   "outputs": [
    {
     "data": {
      "text/html": [
       "<div>\n",
       "<style scoped>\n",
       "    .dataframe tbody tr th:only-of-type {\n",
       "        vertical-align: middle;\n",
       "    }\n",
       "\n",
       "    .dataframe tbody tr th {\n",
       "        vertical-align: top;\n",
       "    }\n",
       "\n",
       "    .dataframe thead th {\n",
       "        text-align: right;\n",
       "    }\n",
       "</style>\n",
       "<table border=\"1\" class=\"dataframe\">\n",
       "  <thead>\n",
       "    <tr style=\"text-align: right;\">\n",
       "      <th></th>\n",
       "      <th>phrase</th>\n",
       "      <th>count</th>\n",
       "      <th>word_count</th>\n",
       "    </tr>\n",
       "  </thead>\n",
       "  <tbody>\n",
       "    <tr>\n",
       "      <th>6291</th>\n",
       "      <td>thirty shekels, one silver bowl of seventy she...</td>\n",
       "      <td>12</td>\n",
       "      <td>25</td>\n",
       "    </tr>\n",
       "    <tr>\n",
       "      <th>6329</th>\n",
       "      <td>shekels, one silver bowl of seventy shekels, a...</td>\n",
       "      <td>12</td>\n",
       "      <td>25</td>\n",
       "    </tr>\n",
       "    <tr>\n",
       "      <th>6577</th>\n",
       "      <td>silver bowl of seventy shekels, after the shek...</td>\n",
       "      <td>12</td>\n",
       "      <td>25</td>\n",
       "    </tr>\n",
       "    <tr>\n",
       "      <th>6791</th>\n",
       "      <td>one silver bowl of seventy shekels, after the ...</td>\n",
       "      <td>12</td>\n",
       "      <td>25</td>\n",
       "    </tr>\n",
       "    <tr>\n",
       "      <th>7418</th>\n",
       "      <td>platter, the weight whereof was a hundred and ...</td>\n",
       "      <td>11</td>\n",
       "      <td>25</td>\n",
       "    </tr>\n",
       "    <tr>\n",
       "      <th>...</th>\n",
       "      <td>...</td>\n",
       "      <td>...</td>\n",
       "      <td>...</td>\n",
       "    </tr>\n",
       "    <tr>\n",
       "      <th>333468</th>\n",
       "      <td>And king Rehoboam took counsel with the old me...</td>\n",
       "      <td>2</td>\n",
       "      <td>25</td>\n",
       "    </tr>\n",
       "    <tr>\n",
       "      <th>334094</th>\n",
       "      <td>now whereas my father did lade you with a heav...</td>\n",
       "      <td>2</td>\n",
       "      <td>25</td>\n",
       "    </tr>\n",
       "    <tr>\n",
       "      <th>334210</th>\n",
       "      <td>words of Rabshakeh, whom the king of Assyria h...</td>\n",
       "      <td>2</td>\n",
       "      <td>25</td>\n",
       "    </tr>\n",
       "    <tr>\n",
       "      <th>334710</th>\n",
       "      <td>In Adobe Acrobat Reader, you can navigate to t...</td>\n",
       "      <td>2</td>\n",
       "      <td>25</td>\n",
       "    </tr>\n",
       "    <tr>\n",
       "      <th>334892</th>\n",
       "      <td>you turn away the face of one captain of the l...</td>\n",
       "      <td>2</td>\n",
       "      <td>25</td>\n",
       "    </tr>\n",
       "  </tbody>\n",
       "</table>\n",
       "<p>965 rows × 3 columns</p>\n",
       "</div>"
      ],
      "text/plain": [
       "                                                   phrase  count  word_count\n",
       "6291    thirty shekels, one silver bowl of seventy she...     12          25\n",
       "6329    shekels, one silver bowl of seventy shekels, a...     12          25\n",
       "6577    silver bowl of seventy shekels, after the shek...     12          25\n",
       "6791    one silver bowl of seventy shekels, after the ...     12          25\n",
       "7418    platter, the weight whereof was a hundred and ...     11          25\n",
       "...                                                   ...    ...         ...\n",
       "333468  And king Rehoboam took counsel with the old me...      2          25\n",
       "334094  now whereas my father did lade you with a heav...      2          25\n",
       "334210  words of Rabshakeh, whom the king of Assyria h...      2          25\n",
       "334710  In Adobe Acrobat Reader, you can navigate to t...      2          25\n",
       "334892  you turn away the face of one captain of the l...      2          25\n",
       "\n",
       "[965 rows x 3 columns]"
      ]
     },
     "execution_count": 278,
     "metadata": {},
     "output_type": "execute_result"
    }
   ],
   "source": [
    "GW25 = GW_short[GW_short['word_count'] == 25 ]\n",
    "GW25"
   ]
  },
  {
   "cell_type": "code",
   "execution_count": null,
   "metadata": {},
   "outputs": [],
   "source": []
  },
  {
   "cell_type": "code",
   "execution_count": 279,
   "metadata": {},
   "outputs": [],
   "source": [
    "sentence_df.to_csv('C:/Users/alexd/Alex Folder 1/NLP Project1/sentence_df.csv')"
   ]
  },
  {
   "cell_type": "code",
   "execution_count": 280,
   "metadata": {},
   "outputs": [],
   "source": [
    "#!pip install pyspellchecker"
   ]
  },
  {
   "cell_type": "markdown",
   "metadata": {},
   "source": [
    "# Spelling"
   ]
  },
  {
   "cell_type": "code",
   "execution_count": 281,
   "metadata": {},
   "outputs": [],
   "source": [
    "from spellchecker import SpellChecker"
   ]
  },
  {
   "cell_type": "code",
   "execution_count": 282,
   "metadata": {},
   "outputs": [],
   "source": [
    "# from https://pypi.org/project/pyspellchecker/#:~:text=Utilities-,Project%20description,2%20from%20the%20original%20word.\n",
    "\n",
    "spell = SpellChecker()  # loads default word frequency list\n",
    "spell.word_frequency.load_text_file('my_text')\n"
   ]
  },
  {
   "cell_type": "code",
   "execution_count": 283,
   "metadata": {},
   "outputs": [
    {
     "name": "stdout",
     "output_type": "stream",
     "text": [
      "<spellchecker.spellchecker.WordFrequency object at 0x0000025479C61AC8>\n"
     ]
    }
   ],
   "source": [
    "print(spell.word_frequency)"
   ]
  },
  {
   "cell_type": "code",
   "execution_count": 284,
   "metadata": {},
   "outputs": [
    {
     "name": "stdout",
     "output_type": "stream",
     "text": [
      "['http', ':', '//bibletranslation.ws/palmer-translation/', 'http', ':', '//bibletranslation.ws/palmer-translation/', 'http', ':', '//bibletranslation.ws/palmer-translation/', 'http', ':', '//bibletranslation.ws/palmer-translation/', 'http', ':', '//bibletranslation.ws/palmer-translation/', 'http', ':', '//bibletranslation.ws/palmer-translation/', 'http', ':', '//bibletranslation.ws/palmer-translation/', 'http', ':', '//bibletranslation.ws/palmer-translation/', 'http', ':', '//bibletranslation.ws/palmer-translation/', 'http', ':', '//bibletranslation.ws/palmer-translation/', 'http', ':', '//bibletranslation.ws/palmer-translation/', 'http', ':', '//bibletranslation.ws/palmer-translation/', 'http', ':', '//bibletranslation.ws/palmer-translation/', 'http', ':', '//bibletranslation.ws/palmer-translation/', 'http', ':', '//bibletranslation.ws/palmer-translation/', 'http', ':', '//bibletranslation.ws/palmer-translation/', 'http', ':', '//bibletranslation.ws/palmer-translation/', 'http', ':', '//bibletranslation.ws/palmer-translation/', 'http', ':', '//www.bibletranslation.ws/tran.html', 'http', ':', '//www.bibletranslation.ws/tran.html', 'http', ':', '//bibletranslation.ws/palmer-translation/', 'http', ':', '//bibletranslation.ws/palmer-translation/', 'http', ':', '//bibletranslation.ws/palmer-translation/', 'http', ':', '//bibletranslation.ws/palmer-translation/', 'http', ':', '//bibletranslation.ws/palmer-translation/', 'http', ':', '//bibletranslation.ws/palmer-translation/', 'http', ':', '//bibletranslation.ws/palmer-translation/', 'http', ':', '//bibletranslation.ws/palmer-translation/', 'http', ':', '//bibletranslation.ws/palmer-translation/', 'http', ':', '//www.bibletranslation.ws/tran.html', 'http', ':', '//bibletranslation.ws/palmer-translation/', 'http', ':', '//www.bibletranslation.ws/palmer-translation/', 'http', ':', '//bibletranslation.ws/palmer-translation/', 'http', ':', '//bibletranslation.ws/palmer-translation/', 'http', ':', '//bibletranslation.ws/palmer-translation/', 'http', ':', '//bibletranslation.ws/palmer-translation/', 'http', ':', '//bibletranslation.ws/palmer-translation/', 'http', ':', '//bibletranslation.ws/palmer-translation/', 'http', ':', '//bibletranslation.ws/palmer-translation/', 'http', ':', '//bibletranslation.ws/palmer-translation/', 'http', ':', '//bibletranslation.ws/palmer-translation/', 'http', ':', '//bibletranslation.ws/palmer-translation/', 'http', ':', '//bibletranslation.ws/palmer-translation/', 'http', ':', '//bibletranslation.ws/palmer-translation/', 'http', ':', '//bibletranslation.ws/palmer-translation/', 'http', ':', '//bibletranslation.ws/palmer-translation/', 'http', ':', '//bibletranslation.ws/palmer-translation/', 'http', ':', '//bibletranslation.ws/palmer-translation/', 'http', ':', '//bibletranslation.ws/palmer-translation/', 'http', ':', '//bibletranslation.ws/palmer-translation/', 'http', ':', '//bibletranslation.ws/palmer-translation/', 'http', ':', '//bibletranslation.ws/palmer-translation/', 'http', ':', '//bibletranslation.ws/palmer-translation/', 'http', ':', '//bibletranslation.ws/palmer-translation/', 'http', ':', '//bibletranslation.ws/palmer-translation/', 'http', ':', '//www.bibletranslation.ws/tran.html', 'http', ':', '//bibletranslation.ws/palmer-translation/', 'http', ':', '//bibletranslation.ws/palmer-translation/', 'http', ':', '//bibletranslation.ws/palmer-translation/', 'http', ':', '//bibletranslation.ws/palmer-translation/', 'http', ':', '//bibletranslation.ws/palmer-translation/', 'http', ':', '//bibletranslation.ws/palmer-translation/', 'http', ':', '//bibletranslation.ws/palmer-translation/', 'http', ':', '//bibletranslation.ws/palmer-translation/', 'http', ':', '//bibletranslation.ws/palmer-translation/', 'http', ':', '//bibletranslation.ws/palmer-translation/', 'http', ':', '//bibletranslation.ws/palmer-translation/', 'http', ':', '//bibletranslation.ws/palmer-translation/', 'http', ':', '//bibletranslation.ws/palmer-translation/', 'http', ':', '//bibletranslation.ws/palmer-translation/', 'http', ':', '//bibletranslation.ws/palmer-translation/', 'http', ':', '//bibletranslation.ws/palmer-translation/']\n"
     ]
    }
   ],
   "source": [
    "print(words)"
   ]
  },
  {
   "cell_type": "code",
   "execution_count": 285,
   "metadata": {},
   "outputs": [],
   "source": [
    "# from https://www.tutorialspoint.com/python_text_processing/python_spelling_check.htm"
   ]
  },
  {
   "cell_type": "code",
   "execution_count": 286,
   "metadata": {},
   "outputs": [],
   "source": [
    "misspelled_words = spell.unknown(words2)  # words  # words2 # stripped\n"
   ]
  },
  {
   "cell_type": "code",
   "execution_count": 287,
   "metadata": {},
   "outputs": [],
   "source": [
    "misspelled_words_df = pd.DataFrame(misspelled_words,columns=['Words'])"
   ]
  },
  {
   "cell_type": "code",
   "execution_count": 288,
   "metadata": {},
   "outputs": [],
   "source": [
    "#print(words2)"
   ]
  },
  {
   "cell_type": "code",
   "execution_count": 289,
   "metadata": {},
   "outputs": [
    {
     "name": "stdout",
     "output_type": "stream",
     "text": [
      "{'oznites', 'kengkreia', '', '43not', 'admah', '52this', 'perverseness', 'asahel', 'jezrahiah', 'maaz', '67then', '35see', 'hodaviah', '7for', '54he', 'jeshaiah', '24he', '46get', 'theudas', '61now', '36the', '25except', 'ginath', 'lampstands', 'vaniah', 'haft', 'intimidations', 'quaestiones', 'birsha', 'jether', '62the', 'baladan', 'harhur', 'zophar', 'iturea', 'habazziniah', '11she', '29yet', '79to', 'sepharvites', '39and', 'smites', 'zephi', 'hasshub', '24then', 'gedor', 'shaalabbin', 'witchcrafts', 'ahiman', '27but', '18he', 'outranked', '29woe', 'timnah', '22they', '48i', 'ithamar', 'shimrath', '12so', 'backbiters', 'jehu', '47truly', '49nathaniel', '14simon', 'scabbed', 'laish', 'arubboth', 'rechabites', 'tobiah', '20saying', '20it', 'achan', 'janai', '20then', '58now', '75and', '29it', '34i', 'muppim', '34they', 'madmannah', 'almug', 'intermeddle', 'bedeiah', '29that', 'carites', '22jesus', 'affectioned', '28automatically', 'unworthily', 'zereth', 'thunderings', 'whereto', 'kohathites', 'zaanannim', '19again', '70but', '26now', 'shua', 'hazael', 'nehushtan', 'zoheleth', 'perizzite', '11and', 'thirsted', 'carpus', 'τοῦ', '30in', 'berith', 'hoshaiah', 'psalteries', 'thummim', 'ospray', '30such', 'amittai', 'uncircumcision', '4or', '48nathaniel', 'ekronites', 'ophrah', 'telassar', 'aher', '34truly', '29i', 'molech', '13though', '8from', 'hagarenes', 'chelub', 'jersusalem', '51in', 'gader', '20jesus', 'massah', 'shillemites', 'berodach', 'jeuel', '2they', 'ebron', '67and', 'goads', '7a', 'maai', 'jeshanah', '43in', 'homam', 'korahites', 'arumah', 'addi', 'rapha', 'hammolecheth', 'ziphion', 'jacinth', 'azzah', 'shuni', 'jehudi', 'asherites', 'arbel', '48be', 'lael', 'telaim', 'emptiers', 'nymphas', 'gazingstock', 'raama', 'peor', '15you', 'mockest', 'abida', '8his', 'slanderously', 'magadan', 'merari', 'execration', 'lahmam', '5from', 'caiaphas', '34the', 'quarreling', 'temanite', 'ephrathite', 'kindles', 'shoutings', 'shelemiah', 'traveler', 'ahohite', 'ohel', 'hachmoni', 'appeases', '35jesus', 'blastus', 'reuel', '33regardless', 'expiated', 'areli', 'elath', 'zimran', 'succoth', 'akkub', 'oholibamah', 'sodomites', '43what', 'kadmiel', 'hegai', '36if', 'traveled', '57but', 'hashmonah', 'aphekah', 'sisera', '44so', '40yet', 'shittim', 'tirhanah', 'naham', 'zattu', 'launderer', 'azotus', 'zil', '23he', 'jobab', 'kabzeel', 'goodlier', 'evi', 'jamin', '10blessed', '5jesus', 'hamutal', '33so', 'nehelamite', 'gabbai', 'sheleph', 'medad', '56they', 'esteeming', '7so', 'plows', 'gareb', 'sharar', 'abilene', 'disputings', 'jeshohaiah', 'gozan', '9concerning', 'iye', '4then', 'jehosheba', '43joseph', '22his', 'tebeth', 'tahpanhes', '2inasmuch', '27and', 'incenses', '41two', 'bamah', '25it', 'arodi', '31then', 'thirtyfold', 'aenon', 'hobaiah', '3therefore', 'circumcise', 'bigvai', 'harvestman', 'amram', 'rogel', 'arza', '19sent', 'hushah', 'segub', 'rottennessenters', 'hoham', '42again', '42for', 'geshurites', 'hezro', 'joses', 'mibzar', 'hachilah', 'izliah', 'shuthelahites', '16their', 'pelonite', 'dimon', 'megiddo', 'zior', 'shean', '23his', '50nicodemus', '58and', 'atroth', '16at', 'chesed', 'bozkath', 'gazez', 'ahira', 'atad', '51jesus', 'talmon', 'shiphi', 'ishmaiah', 'hathach', 'shriveled', 'serah', 'seekes', '42because', 'chiliarchs', 'shimei', '51but', 'shechemites', 'ophel', '20our', '600th', 'ezrah', 'hazzebaim', '25jesus', 'ziba', 'meconah', 'ammoni', 'phicol', '16but', '63saying', '32yet', 'haggi', 'shaphir', '13the', 'perga', '20rejoice', 'geba', '73the', '13when', '7let', '14i', 'haahashtari', 'cuthah', '18were', 'ahimelech', 'exeedingly', '8now', 'ammi', 'divied', 'imrah', 'parah', 'insomuch', '26were', 'beeliada', '22you', 'calveth', '43a', 'phlegon', 'ishvites', 'jeremai', 'printpostws', 'gerar', '5yet', '42so', 'huram', 'attai', 'meribath', '24i', 'manahath', 'chastisements', 'psaltery', 'scoffer', '23truly', '24the', 'hararite', 'idolater', 'beon', 'jeziel', 'diatessaron', 'zephath', 'machbena', 'smoldering', 'abiezer', 'jorkeam', 'hasadiah', '6instead', '2who', 'sucathites', 'almodad', '33now', '19at', 'eshtemoa', 'jeshishai', 'hamran', '31causing', 'eglah', '49as', 'gravings', '7and', '30for', 'goodliness', '32if', 'caphtor', 'huppah', 'saha', 'siphmoth', 'goatskins', 'aharah', 'shechem', 'becherites', '11if', 'tebah', '3in', 'murrain', 'midianites', 'amramites', 'melech', 'shephupham', 'aridai', 'nehiloth', '44came', 'palti', 'gebim', '6there', '12while', '21that', '21so', 'ijon', 'stingers', '35thus', '13jesus', '32what', 'gilonite', '36no', 'shihor', 'agee', 'eliphaz', 'gadi', '17the', '40at', 'hassenaah', 'mysia', 'zeboiim', 'reba', '11simon', 'ו', 'eran', 'ameyourst', 'shashak', 'diphath', 'manslayers', 'jathniel', 'helon', 'moza', 'neriah', 'kerioth', 'shomer', '46so', '5these', '9when', 'armoni', 'gahar', 'jeberechiah', 'menstealers', '23alas', '15outside', 'lakkum', 'deceitfully', 'sprinkles', 'hatipha', '12are', '18one', 'sardius', 'urijah', 'ornan', 'mehuman', '49jesus', 'uprightly', '30john', '8but', 'betrayers', 'bazluth', '40but', '36naked', 'joktan', 'ezem', 'sceptres', 'gadites', 'meshelemiah', 'hereth', 'imlah', 'bigthana', 'meshillemith', 'kjv', 'obil', '15now', 'mibsam', 'horon', '38those', '36again', 'zalaph', '31only', 'apollyōn', 'beeri', 'ohad', 'chesulloth', 'ithream', 'arbathite', 'achmetha', 'zecher', '15he', '23if', 'revellings', 'hizkiah', 'reviles', 'lotan', 'layed', 'freewoman', 'onam', 'kadesh', 'crossway', 'cainan', '9blessed', 'elizur', 'paarai', 'abijah', 'chelal', '24when', 'misrephoth', 'tumors', '16some', 'shammoth', '6then', 'bewailed', 'neiel', 'lappidoes', 'zetham', 'apharsites', '21it', '32the', 'holybible', 'aroerite', 'chaldean', '30then', '20because', 'morashtite', 'zimri', 'tou', '4to', '30jesus', 'likhi', 'beeroth', 'hazzurim', 'raamah', 'handbreadths', 'zayin', 'anathoth', 'kolaiah', 'hazar', '19as', 'eltekeh', 'chinnereth', 'hivite', 'ingathering', 'rodanim', 'derbian', '15and', 'discipled', 'kinah', '32let', 'hizki', 'upharsin', 'nabal', 'nisan', 'rizia', 'presumptuously', 'ahumai', '15they', 'tizite', 'carchemish', 'ziph', 'scepter', 'oliveyards', '12jesus', 'geber', 'bul', 'dishonoring', '36do', '12from', 'benoth', '21and', 'backslider', 'jokim', 'abase', 'jahaziel', 'bohan', 'adamah', '13then', 'basshebeth', '52and', 'vaunting', 'abanah', 'darics', 'pahath', 'azaliah', 'jehucal', 'onan', 'amraphel', 'zophah', 'machi', 'arrogancy', '30now', '4you', 'bamoth', 'hakeldama', 'talant', '46the', 'hermogenes', '26they', '68but', '16john', 'bealoth', 'joshaviah', 'arvadite', 'overpass', 'algum', 'ashdod', 'nego', '39jesus', 'ahihud', 'thereward', 'ipfs', 'sivan', 'riblah', 'baalis', '33but', 'sukkot', 'ithlah', 'ozem', '44how', '45who', '49but', '54the', 'shelomi', 'berechiah', 'sophereth', 'deceivableness', 'exactors', 'guni', 'ungirded', 'encamping', 'ephes', 'kattath', 'hammuel', 'abihail', 'comeliness', 'avvites', '15truly', '66from', 'μέρους', 'bereaver', '7jesus', 'shual', 'izri', '29they', '31our', 'gazers', 'hodesh', 'jareb', 'buzi', 'ishbibenob', 'prating', 'hamathite', 'uzal', '34and', '33then', 'undergirding', 'curseth', 'japhlet', 'avails', 'elzaphan', '16saying', '44no', '18yet', '2she', '7if', 'abiathar', '42how', '42didn', 'broiled', 'dwels', 'zepho', 'nahalol', 'sallai', 'cushite', 'letushim', '3through', '27thereupon', 'nehum', 'entreat', 'shemariah', 'subdues', 'gōg', 'jagur', 'mashal', 'achzib', 'jahleelites', 'avvim', '10this', 'zaccur', 'pomiscuity', 'undependable', '38he', 'travelers', 'adummim', 'lahai', '19jesus', 'tabrimmon', '45it', 'mahol', 'lowliness', '32you', 'jeribai', 'patrum', '37if', 'eubulus', '26in', 'heldai', 'hannathon', 'jashub', 'paltite', 'shimeam', '35why', 'maktesh', '37so', '62but', 'amashsai', 'poratha', '55but', 'akrabbim', 'fainthearted', 'stumblingblocks', '4so', '22if', 'recah', 'eleph', '36david', 'tob', 'ophir', 'carmites', 'beforetime', 'bakbakkar', '31by', '7they', 'trachonitis', '7now', 'righteousnesses', '22even', 'zeboim', '22is', 'emek', 'sojourned', 'michmash', '35for', 'jeroham', 'zibiah', 'ahinoam', 'circumcising', 'azel', 'helez', 'attalia', '24so', 'helkath', 'railer', 'madon', 'harashim', 'ל', 'paramours', 'ע', 'elpelet', '9they', 'chezib', 'jarmuth', 'jehoash', '32for', 'vophsi', '32which', 'overpowers', 'forasmuch', 'ulai', 'gamul', 'shalman', 'kishon', 'kenite', 'chinneroth', '17so', '56but', 'merathaim', '69and', 'unpreparedly', 'durst', '44and', 'jesimiel', 'dilean', 'uzzia', '33aren', 'tychicus', 'laborer', 'bethuel', '73and', '32there', 'iphdeiah', 'cursives', 'grainfields', 'chiliarch', '24for', 'jehoiachin', 'bethsaida', 'aziel', 'aven', 'τοῦδε', '18i', 'dibri', 'eshtemoh', 'elpaal', 'harim', '37for', '38jesus', '42but', 'hareph', '14woe', '9so', 'hazo', 'dromedary', '18here', 'elihoreph', 'hadashah', 'sheol', '27except', 'jahdo', '35the', 'emerods', 'thebez', '14you', 'mehujael', 'shilshah', 'athlai', 'outfitted', 'achshaph', '33indeed', '25in', 'ruhamah', 'ashan', '19therefore', 'nahaliel', 'marveling', '27do', 'jashubites', 'jehoram', 'unprofitableness', '30truly', 'jaspar', '10neither', 'cheiroplegic', 'abigal', 'nominative', '26the', '20herod', 'jehdeiah', 'darda', 'paneah', 'peninnah', 'zophai', 'jahzeel', 'berothah', '16woe', 'achar', 'winnows', 'shimri', 'wellspring', 'spuriousness', '9in', '20be', 'jehezkel', '9if', '34but', '22indeed', 'ג', 'sabteca', 'tossings', 'anan', 'pithom', 'nethaniah', 'shepho', 'mibhar', '54therefore', 'overspread', 'leummim', 'gederothaim', 'abiezrites', 'bazlith', 'tochen', 'admatha', '8when', 'nardroot', '31these', '25woe', '29to', '52jesus', 'perjured', 'arah', 'mufflers', 'shelah', 'masrekah', 'bezer', 'longsuffering', 'centurions', 'unno', 'envyings', 'conies', 'solitarily', 'baptizer', '36be', 'ararite', 'hezron', 'deuel', '25on', 'zimmah', 'jehoiarib', 'elkanah', 'hallow', 'hammon', 'sherebiah', 'sarsechim', '56mary', 'apollonia', '42the', '42give', 'shittah', '12having', 'mirmah', 'malchiram', 'rephael', 'shemed', 'nebuzaradan', '40indeed', 'kehelathah', 'leshem', '41this', 'unrebukable', 'nehushta', 'homeborn', 'zethar', 'odor', 'persuadable', 'yodh', 'achor', 'telah', 'laodicea', '11in', '13instead', '25that', 'armorbearers', 'idumea', 'calah', 'ז', 'convulses', 'bimhal', 'asheroth', 'intercessions', '9i', 'alvah', 'naharai', '21then', 'whoredoms', 'pretention', 'pashhur', 'tolaites', 'dimnah', 'hananel', 'juttah', '35by', 'osnappar', '36he', 'fornicator', 'scoffers', 'tertullus', 'arnon', 'ummah', 'ahio', '11saying', 'gether', '53thus', 'strenghened', '72to', 'ishma', '13but', 'gibeonites', 'hashem', 'sycomore', 'neri', '39they', 'baharumite', 'saraph', '19and', 'drpbiblesofar', 'lebaoth', '7he', '19he', '2with', 'joiada', 'hazer', '19this', 'sychar', 'adriel', 'dumah', 'zedad', 'sepulcher', 'tabbath', 'peresh', 'weltering', 'aren', 'beno', 'sanballat', 'chalkstones', 'kedemoth', 'calneh', 'shiphtan', 'aziza', '14some', '8i', '29except', 'berea', '1now', 'heresh', 'evildoer', 'rabbouni', 'cyrenians', 'wvould', 'beholds', 'kallai', 'philistia', 'conaniah', '42and', '9though', 'anim', 'talebearer', '41now', 'cleopas', 'entangles', 'zurishaddai', 'harnepher', '37peter', '28since', 'honorable', '12if', 'saphira', 'headtire', 'chilion', 'jubal', 'hermas', 'rabshakeh', 'receptus', '8blessed', 'igal', 'skilfulness', '41stay', 'haruz', '11believe', 'פ', 'adaiah', 'manassites', 'headtires', '35nor', 'eppatach', '36so', '26jesus', 'erites', 'jehozadak', '9as', 'puteoli', '14if', 'shamefacedness', 'rabbah', 'ἀληθοῦς', 'pibeseth', 'mispar', 'tema', 'elihu', 'amariah', 'mede', '16he', 'ikkesh', 'gibeonite', '44but', '26john', '70jesus', '12they', '37jesus', 'joshaphat', 'adina', '6because', 'workboys', 'rabbith', 'ishi', 'fewness', 'skeva', 'consders', 'zephathah', '15for', '4saying', 'rhegium', '27woe', '45a', '30as', '1and', 'ribai', '46he', '4john', 'kartah', '37i', 'achaicus', 'hakkore', 'shemiramoth', 'euraclydon', 'hara', 'persis', '28in', '32they', 'bithynia', 'erech', 'disgracing', 'hazarmaveth', 'mandrakes', 'punites', '65and', 'abaddon', 'mishma', 'ח', '24truly', 'bezalel', '7you', 'unskillfully', '50then', 'neapolis', 'huppim', 'alhqous', 'haggidgad', 'chitlish', '36what', 'shibah', 'bibletranslation', '17he', 'geuel', 'abinoam', '50for', 'awaked', '55now', 'jeshurun', '3philip', 'προσήκει', '4as', 'gishpa', '18this', 'abronah', 'jehizkiah', 'omerful', 'kedar', 'menna', '30because', 'genubath', 'zebulun', 'hiddekel', 'gershom', 'shobal', 'huldah', 'eshban', 'middin', '26truly', '14take', '42be', '23at', 'armorbearer', '4the', '35that', 'jarkon', 'crypto', 'meroz', 'lepta', 'ingatherings', 'sorrowed', '19if', 'hivites', 'sheresh', 'ismachiah', '6so', 'mecherathite', 'revilings', '31it', '8do', 'elparan', 'beerothites', 'elidad', '3give', '30this', '16these', 'appii', 'maonites', 'leavens', 'ataroth', '15everything', '14for', '23then', 'fornicated', 'adoni', 'jotbathah', 'dammim', 'zeruiah', 'ב', '9and', 'nimrim', '8one', 'beraiah', 'abarim', '3but', 'abishai', '1at', '19when', 'harod', 'procede', 'achbor', '30when', '32remember', 'shimeah', '11then', 'zalmonah', 'visiteth', 'winevat', '22and', '9nicodemus', 'betonim', 'jaakan', 'geliloth', '57now', 'gittaim', 'eliasaph', 'athaliah', 'ahaz', 'linus', 'succored', 'puvah', '41so', 'birzaith', 'oblation', 'armlets', '4when', 'searchings', 'nourisher', 'rezin', 'ethni', 'korah', 'beri', 'bilshan', '12what', 'iconium', '62then', '8jesus', 'abda', '5at', 'eglaim', 'sabaoth', '6this', 'serug', 'shaalbonite', 'assos', 'stephanas', 'wearies', '9on', 'nadab', 'jair', 'millo', 'pasdammim', '17in', '10then', 'chephar', 'jabez', 'meshullemeth', 'vashti', 'dodai', 'bedan', 'lavers', 'pekahiah', 'maschil', 'shoshannim', 'croucheth', 'berak', '14seeing', 'chrysoprase', 'timotheus', 'zebina', 'gerizim', 'jozabad', '38then', 'aspatha', 'causest', 'jucal', 'patrobas', 'ithnan', 'imna', '47they', 'attent', '28peter', 'shinab', 'cush', 'rebuker', 'arodites', 'nibshan', 'ashima', 'nepheg', 'lubim', '65pilate', 'proshkei', 'jannes', 'unmerciful', 'sheshai', 'pannag', 'enrapt', '63spirit', 'vowest', 'azekah', 'tadmor', 'shehariah', '36simon', 'eliashib', 'hadad', '4how', 'seleucia', 'mahath', '21to', '10indeed', 'chrysolite', 'tenderhearted', 'etham', 'hilkiah', '2immediately', 'tarries', '8peter', 'girzites', 'intructed', 'hagri', 'maadiah', 'harorite', 'jezerites', 'jaan', 'haggites', '70again', '3he', 'zenan', 'zeredah', 'shaalbim', 'baalzibbul', 'jokneam', 'zererah', 'nain', 'hiel', 'blamers', 'daberath', 'chaldees', 'abagtha', 'jesher', '6when', 'hepher', 'goshen', 'telem', 'ezion', 'zaphon', 'azaz', 'houshold', 'א', 'immer', 'nephilim', 'shadrach', 'mamre', 'makheloth', 'cherethites', 'nazirites', 'alee', 'atoned', 'horem', 'cheran', 'azgad', 'malchiel', 'sorek', 'eloth', 'unblameable', 'chesalon', 'geshem', '19o', 'salecah', 'barnea', 'epaenetus', 'milcah', 'iram', 'hapharaim', '23which', '22behold', 'merodach', '57then', 'ardon', '16and', 'cosam', '1when', '46with', 'postured', 'azaziah', 'apphia', 'footnoted', 'bildad', '42truly', 'holyday', 'soever', 'sheshbazzar', 'slacked', 'barhumite', 'untempered', 'ahban', 'derbe', 'dryshod', '4we', 'elead', '18by', 'uthai', 'alemeth', 'acco', 'thyatira', 'resheph', 'zibia', 'purah', 'shuham', 'clave', 'joshah', 'mezobaite', 'diblaim', '5his', 'menpleasers', 'slanderers', 'ibleam', 'lamedh', '54then', '12i', 'scourging', 'cuth', 'tahchemonite', 'ebed', 'pinon', 'terebinth', 'chislev', 'ishbah', 'maacath', 'zabdi', 'jaddua', 'oldness', '9some', 'soberminded', 'iezer', 'manahathites', 'mahlon', 'heleb', 'obal', '43and', 'zer', 'ekron', 'jehiah', 'vaizatha', '10for', '31pilate', '16jesus', 'jeiel', 'hodiah', 'susim', 'jezreel', 'cummin', 'susah', 'bowstrings', 'kedesh', 'hobab', 'abimelech', 'ramathaim', 'ezel', '67jesus', 'sepharad', 'mattatha', 'temah', '39you', '68and', 'shaashgaz', 'bukki', 'kidron', 'shimea', 'seorim', '3jesus', 'disannul', 'ashdodites', 'shamgar', 'jerijah', 'haggiah', 'pisidia', 'shapham', 'hazeroth', 'gleans', '29jesus', 'pagiel', 'jogbehah', 'sibboleth', 'bunah', 'medan', 'shaulites', 'minnith', 'neah', 'shobi', '11the', '35it', 'hasupha', '57and', 'lyres', 'joram', '18while', 'malignity', 'babblings', 'sosipater', '5to', 'rakkath', '28bless', '30saying', '6that', '44the', 'pallu', 'arba', 'kelaiah', '26i', 'ramiah', '15when', 'pathrusim', 'nedabiah', '44for', '20many', 'mattathias', 'zanoah', '38there', '2every', 'goah', 'prochorus', 'ithran', 'shophach', '32last', 'esek', '6blessed', '10don', '16if', 'doesan', 'predestinate', 'taberah', 'jeriah', '17do', '10jesus', '16you', 'elkoshite', 'bidkar', 'aramitess', '48which', 'adithaim', 'similitudes', '14that', 'eliab', '60but', 'jerubbaal', 'shumathites', 'aboveward', '4for', '10pilate', '26everyone', 'requite', 'lampstand', 'shunammite', '14and', 'dissemblers', 'sidonians', 'ashpenaz', '12this', 'shaaraim', 'taanath', 'abishalom', 'grayheaded', '3judas', 'uncleannesses', '18truly', 'perezites', 'hul', 'zerahites', 'neballat', 'hanoch', 'inclosed', 'ezbai', 'jaareoregim', 'tartak', 'eliakim', 'oren', 'midian', 'helem', 'merib', 'upholden', 'travailing', '20for', 'exults', '17that', 'ziz', '25he', '13annulling', 'aner', 'maareh', 'aijalon', 'benjamites', '26o', 'rehoboam', '5now', 'ashbel', 'mattaniah', 'baale', '6these', 'heralder', '12here', 'ithrites', '53every', 'romae', 'jalam', 'shaphan', 'anammelech', 'izziah', 'israelitish', 'hadoram', 'sealskins', '36and', '18anyone', '23the', 'ashbea', 'ש', 'bithiah', 'siaha', 'ת', 'desolated', 'waked', 'inkhorn', 'unweighed', '55for', 'bozenai', 'rekem', 'ephrath', 'zichri', 'ahasuerus', 'snuffers', 'seraiah', 'adjure', 'sirion', 'jekabzeel', 'lemuel', 'abishua', '10and', 'azrikam', 'jezer', 'jutah', 'crescens', 'thornbushes', 'idalah', 'plottings', 'mijamin', '26on', '19then', 'boastings', 'einai', '43happy', 'judean', '11truly', '27they', 'taskmasters', 'herodias', '37pilate', 'haddah', 'abital', 'uzza', 'togarmah', 'jazer', 'ammihur', 'ammiel', 'mikneiah', 'mattattah', 'כ', 'baalah', '15in', '4th', 'noontime', 'abelcheramim', '38and', 'igdaliah', 'stumblingstone', 'gallio', 'jesharelah', 'bithron', 'tophel', 'fastings', '30at', 'shemesh', 'gimzo', 'hermons', 'bochim', '56for', '47now', '34therefore', 'clamor', 'ephraimite', 'terebinths', 'gilgal', '58jesus', 'thereunto', 'sibmah', 'gibeah', '39when', 'goiim', 'hattush', 'ithra', 'gashmu', 'adonijah', 'nissi', 'sotai', '16then', 'revenger', 'amalek', 'raamiah', '19the', 'cabul', 'vav', 'harosheth', '56among', 'zephonites', '31in', 'iob', 'arpachshad', 'jaroah', 'harhas', 'skillfully', 'shined', 'mishal', '33whoever', 'shevaqtani', '18they', 'suphah', 'assir', 'gaddi', '3this', '49for', 'aznoth', 'girgashite', 'jerusha', 'zarethan', 'niv', 'ammonius', 'signaling', 'maginificent', '13i', 'ulla', 'slingers', '14the', 'timna', '32but', '26but', 'ethbaal', 'winnow', '11he', 'hymenaeus', 'kenaz', 'tzedakah', 'muteness', 'tiphsah', 'amaziah', '52the', 'nekoda', '31and', 'jireh', 'gnashes', 'palanquin', 'cubits', 'nahshon', 'lehabim', 'raddai', '6and', 'toude', '6from', 'ephah', 'aroer', '27he', 'pileser', '59these', 'perazim', 'zephon', 'gabbatha', 'foreknowledge', '48whereas', 'jekameam', '4jesus', 'thnk', 'backbiting', 'makaz', 'michri', 'findest', '10do', 'kiriathaim', 'sacar', 'ibzan', 'asshur', 'bereaves', '18so', '45then', '40some', 'hanniel', 'lamech', 'gittite', 'bakbuk', '58this', '64and', 'jaasiel', 'hezion', '61but', '64after', '49day', 'makkedah', 'etam', 'undersetters', '10nor', 'jarib', '38i', 'hasrah', 'discomfit', 'adjuration', '3it', '15because', 'bosor', 'missabib', '31so', 'ק', 'aridatha', 'asenath', 'fatling', 'raphu', 'shubael', 'helek', '13it', 'enslaves', '43jesus', 'maaseiah', 'libnites', 'hathath', 'jakeh', '41the', 'jezaniah', 'dodanim', '14put', 'denigrates', 'bocheru', '3like', 'gemariah', '19honor', 'offscouring', 'gideoni', 'dalphon', '12which', '2it', 'bedad', 'pygarg', 'hariph', 'rehob', 'sneezings', 'despiteful', 'willfully', 'seled', '30they', 'horonite', 'eber', 'amalekite', '16they', 'besodeiah', 'ahiramites', 'feignedly', 'stiffhearted', 'migron', '25so', 'jaareshiah', 'cupbearers', 'populaces', 'penuel', 'victualled', 'meron', '48so', '19all', 'ithiel', 'ashteroth', 'watersprings', '16the', '19for', 'bondmaids', 'aijaleth', 'wouldn', '7blessed', 'uzzen', 'shillem', 'tebaliah', '23and', '12rejoice', 'rabboni', '43at', 'worshiper', 'habaiah', 'japhletites', 'shammua', 'hassenuah', 'bereave', 'ichabod', 'buzite', 'anakim', 'bishlam', '19just', '37but', 'sheepfolds', 'michtam', 'ezrahite', 'parthians', 'dimonah', '24god', 'othniel', 'remembrancers', '37happy', 'nisroch', 'stouthearted', 'bera', 'plowshares', 'hagaba', 'pithon', '23that', 'mnason', 'compassed', 'purim', 'buriers', 'gennesaret', 'textus', 'barzillai', 'nogah', '32i', 'bethul', '3simon', '54jesus', 'befit', 'agur', 'shemeber', 'trucebreakers', '51and', 'savor', 'benaiah', '47but', 'dehaites', 'madmenah', 'ahian', 'handstaves', 'nimshi', 'shikkeron', 'neco', 'archippus', 'kephas', '2in', '71then', 'dainties', 'hushai', 'gileadites', '41and', 'untaken', 'aharhel', 'gaddah', 'elasah', '34you', 'wineskins', 'wrestlings', 'mishael', '45for', 'knicknamed', 'joah', 'foreknew', 'ungodliness', '37then', '50jesus', '18the', '24immediately', 'enaim', 'ashvath', 'pallbearers', 'abdiel', '14saying', 'horonaim', '49your', 'hoshea', 'tarried', '29but', 'almon', '1in', 'gaham', 'smiters', '19they', '53are', 'adino', 'nodab', 'amasai', 'esteems', 'dissolvest', 'midianite', 'qoph', 'sinim', 'brickkiln', 'disputer', '39now', 'συγχωρουμένου', 'workgirls', 'stiffnecked', 'housetops', '47so', 'backsliding', 'jerimoth', 'gibbethon', 'ahikam', 'roes', 'premeditatedly', '38on', 'herodion', 'tahtim', 'naharaim', '35behold', 'excellest', '27for', 'arkite', 'babylonish', '21for', 'meshobab', 'zizah', 'tabeel', '5they', 'binea', '18watch', 'tahan', 'thatenters', 'naarai', 'endued', 'defiles', 'shimeon', 'axletrees', 'mushites', '5and', 'reu', 'revolters', 'seneh', 'nicopolis', 'keziah', 'aretas', '54ambushing', 'jashar', 'sarai', 'nebaioth', '7philip', '63then', 'mahazioth', 'eshton', 'canaanitess', 'tahanites', 'gebalites', 'tiras', 'naphish', 'agag', '8in', 'groanings', 'unshrunk', '2during', 'sethur', 'sepharvaim', 'ptolemais', 'mahalath', '21but', 'gederite', 'vaheb', 'salmai', '10your', 'hosen', 'passovers', 'jehonathan', '29for', '69nevertheless', 'graving', '9let', '33watch', '28then', 'tekoa', 'geshan', 'zerahiah', 'shamhuth', 'ezbon', 'peruda', 'jetur', 'endor', 'laded', '54but', '68while', 'rhesa', 'malcam', 'noadiah', 'destroyest', 'binnui', 'tentmakers', 'hazor', 'gittites', 'blasphemed', 'shuppim', 'anaiah', 'devourer', '18a', 'michmas', 'jahzah', '16thus', 'lodgest', 'harumaph', '43he', '18you', 'isshijah', 'pacifies', 'ishpah', '38so', '25at', 'foreknow', 'sallu', 'harped', 'gadarenes', 'delicateness', '46and', 'rechab', 'sansannah', 'shunem', 'aniam', 'happuch', 'taproot', 'scourgings', 'whisperers', 'pedaiah', 'eleadah', '2now', 'shimron', 'shushanchites', 'adullamite', '8would', 'lecah', 'bunni', '31another', '4and', '74then', 'balancings', 'frontlets', 'zorathites', 'alian', '65an', 'gileadite', 'untaught', 'sheshan', 'lebanah', '22after', 'geruth', 'zippor', 'adadah', 'hepherites', 'haradah', 'hashum', '6as', 'circumferred', 'shebnah', 'amzi', 'adulteresses', '25also', 'legitamate', '42as', 'bcause', 'joed', '31again', 'trasnsferred', 'kedemah', 'sodi', 'zelophehad', 'mithredath', 'jephthah', 'ceiled', 'piercings', 'cozeba', 'zarephath', 'plowers', 'jahath', '14in', 'berothai', 'helkai', 'hezronites', 'jehoshabeath', 'joiarib', 'quirinius', '15john', 'jaaziel', '4nicodemus', 'baana', 'aland', 'hagrites', 'illumines', 'hadadrimmon', 'keturah', '9whereas', 'bilgai', 'oholah', 'ר', 'proselyte', 'malluch', 'fornicators', 'reprobates', 'zahab', 'shiphrah', '31now', 'shobach', 'giddalti', 'jorah', 'azzur', 'tarrying', 'hacaliah', '19it', 'benhadad', 'balah', '34who', 'galbanum', 'galiliee', '12but', '27to', 'matthan', 'lier', 'phera', 'lehi', 'rezeph', '27again', '48yet', '31which', '19by', '25once', '8the', '49and', '45philip', 'kentakee', 'joahaz', 'eldad', 'eldaah', '4simon', '9simon', 'malchus', 'appertained', 'suph', 'jemuel', 'mephaath', 'mitylene', 'eminency', '47the', '27then', '18just', 'khorazin', 'encamps', 'jorim', '9the', 'affright', 'geshur', 'salmone', 'hamon', 'alexandrians', 'berean', 'chaldeans', 'samlah', 'haroeh', 'elioenai', 'beerah', '2this', '36while', 'kaph', '45but', 'husham', '14joy', 'jashen', 'sharonite', '25for', 'shelanites', 'miniamin', 'betah', 'uz', 'ayin', 'chemarim', 'gudgodah', 'japheth', 'hearkening', 'nazarene', 'jeatherai', '13truly', 'cretans', '22judas', '2then', 'maranatha', 'reappoints', 'peullethai', 'elamites', 'recompenses', 'upheaved', '50but', 'shaphat', 'teman', 'keros', 'meshezabel', '4but', '71he', 'blasphemers', '48that', 'hodevah', 'prognosticators', '22therefore', 'matred', 'hadadezer', 'baalim', 'partaker', 'soberness', 'naam', '22saying', 'evangelizing', 'anathothite', 'slays', 'pisgah', 'kab', 'clauda', 'asuddenly', 'shimshai', 'ananias', '16in', '28therefore', 'nahash', 'hareseth', 'epher', 'defaming', 'forborne', 'pethuel', '42get', 'sheerah', 'mehir', '13greater', 'jehozabad', 'www', 'heth', 'appertains', 'hadlai', 'dunghills', '3isn', 'zondervan', 'uel', 'ochran', 'lodebar', 'ishpan', 'ashterathite', '41moreover', 'chaldea', '41others', 'barsabbas', 'hali', 'jeroboam', '26and', 'abiasaph', 'patara', '8she', 'cilicia', 'mehida', 'taralah', 'eili', '2for', 'puthites', '62and', 'rephaiah', 'asyncritus', 'eliphelehu', '19because', 'bewails', 'helbon', 'elika', 'tav', 'tohu', 'paralyzed', 'sardonyx', 'atrothshophan', 'jokyoul', 'sheva', 'thebook', '29a', 'jairite', 'jambres', 'hassophereth', 'jaasu', 'mahanaim', 'ithrite', '4thus', 'mizpeh', 'pelet', 'hagrite', 'mockings', 'gershonites', '13you', 'cannot', 'molded', '29then', '23jesus', '15is', 'vapors', 'pretenses', '31because', 'sibbecai', 'pirathon', 'haggedolim', '21why', 'illyricum', 'jahzerah', 'eshbaal', 'beninu', 'calcol', '15there', 'carmi', 'wrests', 'ishvah', 'debaucheries', 'ramathite', 'zibeon', '11now', 'praisesto', '7only', '2as', 'havvoth', '24if', 'lovingkindnesses', '5blessed', '19show', 'timnath', 'aliah', 'chastises', '2and', 'heberites', 'elisheba', 'aija', '80and', 'joiakim', 'savior', 'assaying', 'juding', 'melchisedek', 'gezer', '5every', '66and', 'hadid', 'destine', '11how', 'rogelim', 'straitly', 'lefthanded', '41but', 'karka', 'zabdiel', 'slothfulness', '46i', 'laodiceans', '5thus', 'hophni', 'spincraft', 'nephushesim', 'hori', 'wraths', 'bestower', 'hauran', 'beten', '18for', 'basemath', 'lod', 'tishbite', '7behold', 'aiath', 'jozadak', '8then', 'shaveh', 'keriot', 'shoshanim', 'hagabah', 'filleted', '30save', 'wilily', '24you', '18where', 'bozrah', 'zalmunna', '31likewise', 'honored', 'hanochites', 'huzoth', 'kohath', 'atharim', 'shobab', 'shamsherai', '11give', '32truly', 'kaiapha', 'jerubbesheth', 'scandalizes', 'boanerges', '31you', '15but', 'melah', '28you', 'abiel', 'temeni', '71and', '6thus', '22adultery', 'gatam', '6if', 'arphaxad', 'manslayer', 'jehoaddin', 'exactor', 'brawlers', 'maliciousness', 'whisperer', 'adna', 'syntyche', 'minni', 'irpeel', 'espousals', 'antichrists', 'winepress', '32on', 'timon', 'ramah', '22moreover', '38this', 'shebat', 'inclosings', '10so', 'scandalizings', 'ethnan', 'coniah', 'reaiah', '53or', '42jesus', 'agagite', '33if', 'alvan', 'eranites', 'seamew', 'samekh', 'zabbai', 'suah', 'inclose', 'boasters', '32and', 'gaal', 'yoanan', 'mahalaleel', '7again', 'chasten', '11they', 'harmagedōn', 'adalia', 'arammaacah', 'iim', 'shimeathites', 'azbuk', '63but', 'gomorra', 'taskwork', 'ebiasaph', 'zephaniah', 'avenges', 'lystra', 'zemaraim', 'zaphenath', 'bondservant', 'shuhah', 'abishag', 'mallothi', '9after', 'fightings', 'shemida', '12cargo', '48but', 'nemuel', 'hephzi', '13children', 'homers', 'romamti', 'rezon', 'bondservants', '23but', '2simon', 'elam', 'sheber', 'abib', 'thoraxes', 'ehi', '21others', 'seveneh', 'baken', 'azarel', '36then', '31the', '19has', 'hormah', 'bered', 'libnah', 'firepans', 'heshbon', 'ammah', 'ahasbai', 'zaham', 'sukkiim', '22many', 'chebar', 'giah', 'moabitish', 'sihon', '4whoever', 'ludim', '65then', 'anub', 'anthothijah', 'hearkened', '35this', '45and', '10she', '57just', '32then', 'ladan', 'heled', 'jeduthun', 'sharezer', 'adonikam', '35regardless', 'justifier', 'weren', 'whereabout', 'japhia', 'hamath', 'imnah', '17but', 'halak', '8he', 'shahar', 'doeg', 'phylacteries', 'gazites', 'ebez', '10but', 'bondman', 'eltolad', '20these', '20at', 'elnathan', 'harsith', 'evangelize', '37they', 'libnath', 'unsearchable', 'hanes', '9at', 'δὴ', '13if', 'ahlab', 'luhith', 'enosh', 'zelzah', 'dandled', 'gemalli', 'seredites', 'jekuthiel', '46where', 'gamaliel', '28just', 'naaran', '40jesus', 'gimel', 'henadad', '18or', 'jehoshaphat', 'zorites', '24but', 'jered', 'vapor', 'bilgah', 'muthlabben', 'jephthae', 'shepham', '55ran', 'labors', 'καὶ', 'shabbethai', 'extortioner', 'whereunto', 'elymas', 'bezek', 'shelishiyah', 'backslidings', 'miscarrying', 'shoham', 'dibon', 'kayafa', 'helah', '5while', 'reumah', '31took', 'semachiah', 'allays', 'sinaitic', 'hesed', 'doesn', '11having', 'cozbi', 'incorruption', 'endeavored', 'bowshot', 'lehem', 'toah', 'hebronites', 'eshtaol', 'jeush', 'beor', 'hewed', 'elem', 'whichenters', '22when', 'religiousness', 'hosah', '20teaching', 'mehetabel', 'abasing', 'ishvi', 'piltai', 'abiud', '10he', '13so', 'kareah', 'alamoth', 'cappadocia', 'joash', 'sismai', 'sharuhen', '3so', 'distill', 'adventured', 'barachiah', 'pedahel', '19every', 'addon', 'archites', 'jabesh', 'gershonite', 'elul', 'shigionoth', 'zoar', '8heal', '17and', '35sky', 'outmost', 'asharelah', 'blowhard', 'ahishar', '53then', 'engannim', '45many', 'caldron', 'eltekon', 'chenaanah', 'ammishaddai', 'machpelah', '26then', '43but', 'contaminator', 'carcas', '6jesus', 'mearah', 'hanani', '4abide', 'forefather', 'tibni', 'anab', 'jalon', 'grievousness', 'pochereth', '38keep', 'iscah', 'bariah', 'marsena', 'nethanel', 'kenizzite', '16therefore', 'jebus', 'remaliah', 'gershon', 'susi', 'pericope', '38but', 'holybibletr', 'ambushment', 'quartus', 'baasha', 'heman', 'talmai', 'troubler', 'besor', '25but', '43therefore', 'marketplaces', '34then', '14leave', 'gaddiel', 'labored', 'omri', 'beerothite', '64you', 'abutted', '35and', 'magor', 'weremen', 'reubenites', '34to', '44where', 'miscarrieth', 'antipatris', 'leannoth', 'shimronites', 'nethinim', '14these', '52then', 'chelubai', '37david', 'othni', '15no', '3said', '1jesus', 'html', 'plenteousness', 'galal', 'simeonites', 'jarah', 'amnon', 'meraiah', '6deal', '18now', '42saying', 'pispa', 'diklah', 'laboring', 'questiones', '42even', '35so', 'elah', 'eliathah', '7as', 'overplus', 'jehonadab', '76yes', 'haccherem', 'resh', 'ahishahar', 'abaddōn', 'magbish', 'bezai', '5for', '17now', '7from', 'archevites', 'sirah', 'burgon', '28thomas', 'melea', 'shaharaim', 'shiza', '22thus', 'delightsome', '21martha', 'profanely', '40when', '11jesus', 'onesimus', 'ahimaaz', 'salma', 'padon', '67saying', '68simon', 'musicion', 'diviners', 'moseroth', 'compassing', 'beracah', '20and', 'crimsoned', 'hoshama', 'waterflood', '13for', 'firstling', '23i', '48you', '14how', 'jebusite', 'tirzah', 'delaiah', '25indeed', 'harodite', 'ahimoth', 'azzan', 'destructions', 'gibea', 'jearim', 'zebidah', '51from', '21at', 'grumblers', 'lachish', 'maneh', 'gibeath', 'tarpelites', 'concision', '40where', 'nebo', 'yannai', '14jesus', '17since', 'gloominess', '17yet', 'diatessaronpalmerniv', 'hamulites', '3the', '28jesus', 'gerahs', '64give', 'ashtaroth', 'tobijah', 'shiloah', 'shealtiel', 'ishmerai', '15so', 'enos', 'taanach', 'chileab', 'jeshimoth', 'favors', 'rehoboth', 'naphtuhim', 'bloodguilt', 'jerahmeelites', '8again', 'zabud', 'merab', 'jebusites', 'hazzelelponi', 'stoutness', 'hadassah', 'achsah', 'washingtoniensis', 'josheb', 'bukkiah', 'parosh', 'jacan', 'haman', 'shilonite', 'esli', 'wellbeloved', '17then', 'addar', 'korban', 'jeoparded', 'tirhakah', 'shenazzar', 'zuph', 'naggai', 'foreknown', '38ask', 'talants', '8for', 'garmite', 'meribah', 'overwise', 'prancings', 'reubenite', '8nation', 'seditions', 'beka', 'necoh', 'lasha', 'chastens', '50and', 'hosha', 'galatian', 'ashkelonites', '47when', 'barah', 'madai', 'prostrating', '52for', 'capitalis', 'cushi', 'crispus', 'ebal', 'pipings', 'merhak', 'tappuah', 'haruphite', 'nebushazban', '12then', 'zillethai', 'ebibles', 'unblameably', 'dabbesheth', '4who', 'ashtoreth', 'evangelized', 'korazin', '21his', 'gilalai', '59then', 'kamai', '3whose', 'adramyttium', 'howbeit', '18that', 'shulammite', 'sojourner', '47then', 'izrahiah', '10concerning', 'bedsheet', 'despisers', 'asiel', 'shephuphan', 'sithri', 'imla', '36neither', 'hammiphkad', 'ibsam', 'izharites', 'zuar', 'amorites', 'plow', 'agabus', 'nazarenes', 'shallum', 'shushan', 'ezer', 'shamma', 'havilah', 'milch', 'asps', 'romamtiezer', 'dishonors', '21the', 'hindmost', 'godlessly', '22he', '17his', 'elishua', 'eshek', 'joezer', 'ahilud', 'halphaeus', 'tryphena', 'gadara', 'artemas', 'ziza', 'molid', '17o', '36truly', 'iphtah', 'jashubilehem', '17for', 'laadah', '21from', '50it', 'priceyness', 'beriah', 'jogli', 'horite', 'onycha', 'ahiah', '25truly', '42he', 'anath', 'bacuth', 'abdon', 'imnites', 'joshbekashah', '21continuing', 'divorcement', 'adoniram', '29take', '8all', 'aristarchus', 'nahamani', '35there', 'gaash', 'eliphelet', 'pelethites', '8after', '8so', '12you', 'revilers', '23one', 'mahlah', 'shebna', 'shobai', 'jotham', 'keziz', '27jesus', 'maaziah', '14so', 'vouches', 'meunim', 'clopas', 'erastus', 'sered', 'naaman', 'tattenai', '53and', 'mithnite', '12the', 'bileam', 'whelps', 'shemidaites', 'hammath', 'machbannai', 'fishhook', 'pethahiah', '29are', '28even', 'disowns', 'shouldn', 'belaites', '14except', '33he', '22the', 'stripling', 'addan', 'shiggaion', 'nephisim', 'izrahite', '25i', 'bebai', 'jaminites', 'shaaph', '19i', 'achaia', 'merom', '29the', 'shimrith', 'beulah', 'moadiah', 'shalom', 'furbished', 'josech', 'chisloth', 'jehiel', 'cupbearer', 'shashai', 'brawler', 'shedder', 'zipporah', '24up', 'shilonites', 'marah', 'parnach', 'sojourning', 'melki', 'jaziz', 'lyreharp', 'bereaving', 'selah', '13he', 'infolding', 'zebulunite', 'hukok', 'biztha', 'hamor', 'mantelet', 'abased', 'paran', 'kibroth', 'rizpah', 'jahziel', 'transgressor', 'sennacherib', '36but', '44truly', 'machir', 'pyrrhus', 'kish', 'shammah', 'jephunneh', '44in', 'berothite', 'avouched', 'kenath', 'ozni', 'berites', 'elonites', '9then', 'hephzibah', 'acceptation', 'mazzaroth', 'adrammelech', 'eglon', 'moabite', 'iddo', '53father', '32jesus', '11for', '40they', '22pilate', 'mispereth', 'lema', '66so', '24that', '13indeed', 'gulgolta', '22why', 'geder', 'heshmon', 'ucal', '10instead', 'incloses', 'jael', '10now', 'sia', 'lebonah', 'sheariah', 'semein', 'menahem', '46for', '21now', 'gibbar', 'huri', 'rakkon', '15then', '14but', 'philetus', 'pudens', 'piram', 'uzzah', 'blindfolding', 'zenas', 'ahijah', 'zedekiah', 'ithmah', 'unhewn', 'habor', 'adin', 'kindreds', 'janim', 'plowmen', 'mowings', '24saying', 'disicples', 'phenice', 'gomorrha', 'idolaters', 'shemaiah', 'anoints', 'puah', 'magog', 'inwrought', '64jesus', 'elhanan', 'zizania', '24judge', '30so', 'casluhim', '3rd', '75in', 'methushael', 'ginnethon', 'jedaiah', 'shobek', '30while', 'surnamed', '3upon', 'temanites', 'parbar', 'hazarshual', 'apelles', 'shuhamites', 'galeed', 'meholathite', '8you', 'misgab', 'aiah', 'hukkok', 'hushathite', '28i', 'hupham', 'murmurers', 'shahazumah', 'raamses', '35while', 'merous', 'shipmen', 'arod', '28truly', 'melita', 'rimmono', 'hakkatan', 'ahisamach', '20those', 'ninevites', 'hobah', '43for', 'shebaqtani', '38pilate', 'kuza', 'rephaim', '25well', 'sabbaths', 'tirathites', 'ahuzzam', 'profaneness', '34for', 'asarel', 'sickled', '8because', 'adiel', '48has', '23this', '17saying', '32this', 'ministration', 'jeruel', '51power', 'moladah', '12saying', 'jehoaddah', '14when', '20peter', '59and', 'meriboth', '26one', 'elteke', 'canaanitish', '48and', 'eliehoenai', 'pihahiroth', 'gittith', 'pummeled', 'zelek', 'hemdan', '49this', 'benjamite', 'eduth', '46not', 'timnite', 'overflowings', '17similarly', '49because', 'chemosh', 'zeeb', 'imri', 'rebukeenters', '46while', 'fulness', 'palluites', 'kibzaim', 'scandalize', 'swearers', 'worshiped', 'srikes', '37all', '36that', 'olympas', 'ard', 'eutychus', 'gunites', 'dophkah', 'nergal', '3remember', 'unni', 'canneh', 'marinum', 'tattlers', 'arabah', '33sell', 'terribleness', 'raphah', 'spikenard', 'naamites', '20but', '1but', 'maroth', 'shimeath', 'withhheld', 'endeavoring', 'ginnethoi', 'jedidah', 'melatiah', 'mishmannah', 'dodavahu', 'azmon', 'broidered', '47and', '9do', 'dutha', 'anagnwsmatos', 'joelah', 'secundus', 'partakers', '21neither', 'kamon', 'oblations', 'jekamiah', 'nophah', '50the', 'habbakuk', '2being', '43until', '3and', 'micaiah', '4in', 'pharpar', '38also', 'gibeathite', 'pekah', 'http', 'jehuel', '31secondmost', '40and', 'athaiah', '28so', 'advisement', 'tekoite', '9what', '5or', 'amminadab', 'milalai', 'saph', 'rehum', 'jehallelel', 'adoram', 'shephatiah', 'baaseiah', 'potsherd', 'pilha', 'pathros', 'ashurites', 'biri', 'phygellus', 'ishmaelites', 'deeded', 'eliam', 'matrites', 'sheminith', 'vaunt', '11these', 'meshullam', 'vainglory', 'shebaniah', 'hirah', 'meholah', '44you', '15the', 'archite', 'halah', 'hurai', 'jaalah', 'jehieli', 'tokhath', '24regardless', 'gambol', 'meshech', '26woe', '51then', 'galatia', 'deker', '36for', 'tacklings', 'tibhath', 'ibnijah', 'hatita', '47anyone', 'cheluhi', 'ishmaelite', 'shamlai', 'parvaim', 'jashobeam', 'mebunnai', 'jonath', 'stammerers', '9because', 'jersualem', 'forepart', 'haggith', '9for', '2so', 'hena', 'discerner', '17neither', 'senir', '39he', 'jecoliah', '20nevertheless', '55at', 'syro', '54and', 'mahavite', 'damascenes', '48if', 'importune', 'happizzez', 'jabal', 'levite', 'shiphmite', 'praetorium', 'impenitent', 'mephibosheth', 'rosh', '17sanctify', 'horam', 'tryphosa', 'hireling', '50neither', 'snuffdishes', 'tekel', '37therefore', 'bosheth', '21in', 'zilpah', 'alush', 'raham', 'zamzummim', '2how', 'neighings', 'requiting', 'desolations', '17if', 'hadattah', 'ahiezer', '53jesus', 'ezri', 'hushim', 'arvad', 'venerate', 'disquietness', 'resen', 'handbreadth', 'runnest', '53hungry', 'jotbah', 'ophni', 'maath', '25and', 'winebibbers', 'gederah', 'mahalalel', 'becorath', 'bdellium', '16for', 'creeeping', 'caphtorim', 'contentedness', 'bondwomen', '28wherever', 'salu', 'gedaliah', 'syriac', 'arisai', '15those', '27people', 'kibrothhattaavah', 'abiram', '28these', 'adar', 'zeresh', 'zethan', 'jokdeam', '56abraham', 'tahpenes', 'amad', 'colhozeh', 'trophimus', 'jehoiakim', '22so', 'enam', 'kazin', 'disannulls', 'shagee', 'ahzai', '26it', '19since', 'potiphera', '27this', 'upending', '7then', 'timbrel', 'silvanus', 'guiltiness', 'jeriel', 'beera', 'jechiliah', 'bountifully', '9neither', 'jachinites', 'harhaiah', '2be', 'rumor', 'shemuel', 'keriothite', '1during', 'tyrannus', 'silverlings', 'zeruah', 'jeuz', 'hachmonite', '14with', 'theophilus', 'daleth', 'helam', 'plowshare', 'euodias', '23all', 'blaspheming', '17tell', 'scarceness', 'rakem', 'hashabneiah', '39for', 'urim', 'צ', 'rabbim', 'emim', 'blasphemes', 'abialbon', 'jorai', 'bealiah', 'barachel', 'compassions', 'stumblings', '1a', 'sixtyfold', '57the', '16again', 'jahzeelites', 'ahaziah', 'ittai', 'zaccai', '9even', 'kors', '21blessed', '8and', '33the', 'eder', '17thus', '21therefore', 'horites', '13took', 'elishama', 'rissah', 'maarath', 'kanah', 'meonenim', '21when', 'edifies', '30leave', 'ziha', 'sinite', 'communed', 'biziothiah', 'syrtis', 'vexes', '56and', 'cyrenian', 'amasiah', 'nebuchadrezzar', 'wikgren', '5thomas', '2saying', 'mareshah', 'eglath', 'sojournings', '9but', '45when', '24simon', '32behold', 'dalmanutha', 'ahlai', 'jehoaddan', 'stedfast', '26for', 'jaaziah', 'shemite', 'gizonite', 'hahiroth', 'ahuzzath', 'meremoth', 'dishonor', 'mattanah', 'counselor', '25see', 'shuah', 'halhul', 'laishah', '12his', 'aforetime', '5it', 'dorkas', '16no', 'ahitub', 'ahiam', '20when', 'ה', 'sargon', 'cephas', 'forgat', 'gopher', 'abiezrite', 'signaled', 'shemaah', 'araunah', 'ziphah', '58her', 'apharsathchites', 'chenaniah', 'famish', 'meshach', 'cnidus', 'uzzielites', 'fatlings', 'bypaths', 'glede', 'pamphylia', 'elohe', 'gilboa', 'uncomely', 'mushi', 'anamim', '37the', 'kishion', 'alway', 'enan', '24martha', '46but', 'threshes', 'perizzites', 'misdeed', 'hebrewess', '51he', '35do', 'kitron', 'josiphiah', 'winepresses', 'iyeabarim', 'bozez', 'hallohesh', 'aphiah', '33his', 'pul', 'cushan', 'hoglah', 'hammahlekoth', '40for', '3not', '20truly', 'pontic', 'nezib', 'hanun', 'jahmai', 'soareth', '6one', '56the', 'aphik', 'handiworks', 'nimrah', '17arriving', '18but', '26if', '9which', 'nacon', '13at', 'jushab', '56then', '30i', '35yes', 'amplias', 'dedan', 'nahbi', 'mattenai', 'kelita', 'porcius', 'iru', 'grecians', 'latchet', '27she', 'exalts', 'zorah', 'anaharath', 'ithai', 'thereout', 'diblah', 'accad', 'shebuel', 'sitts', '35peter', 'buz', 'heleph', 'perida', 'calno', '27my', 'jonam', '5not', 'machirites', '36nor', 'mizraim', '14then', 'jeconiah', 'naamah', '11this', '8philip', 'ramoth', 'azazel', 'apostleship', '4now', 'adria', 'chedorlaomer', 'edified', 'unwalled', 'akim', 'blanded', 'gederoth', 'wreathen', '37and', '69he', '15woe', 'adah', 'tetter', 'abihu', 'tekoites', '27anyone', 'holybiblebyz', 'joha', 'overcomer', '28and', '41jesus', 'atarah', 'affrighted', 'masteries', 'epaphroditus', 'tabernacling', 'tikvah', 'shilhi', 'malchi', '20the', 'joda', 'izhar', '5he', 'maadai', '33for', 'zaavan', 'eznite', 'naphtali', 'joab', 'regem', 'pelaiah', 'eshtaolites', 'meonothai', '2but', 'zebah', 'mahseiah', 'pities', '7woe', '17when', 'medeba', 'secu', 'gazzam', 'vedan', 'tashheth', 'moneychangers', 'גֻּלְגֻּלְתָּא', '40you', 'bayith', 'adbeel', 'lehemite', 'ashkenaz', 'humbles', 'habakkuk', 'tetrarch', '72and', 'saltpits', '5just', '12he', '38now', 'amalekites', 'rewarder', 'samgar', '10i', 'abishur', 'shaul', 'scandalizing', 'shalishah', 'shavsha', 'jehud', 'goodliest', 'zebub', '19go', 'machnadebai', 'oded', 'bahurim', '23whose', 'pazzez', 'haggai', 'mattocks', 'sojourners', '46happy', '17truly', '10five', 'eshcol', 'barkos', 'bavvai', '61and', 'jada', 'arieh', 'overpast', 'worshipers', 'eluzai', 'watchings', 'moreh', 'ahava', 'calamus', 'cumbrance', '13and', '8on', 'naioth', 'argob', '33o', 'shedeur', 'shammai', 'elohi', 'worshiping', 'mozah', '29and', '52he', '39the', 'asnah', 'giddel', 'hammoth', '26look', 'unfading', 'somber', 'zophim', 'zela', 'peleth', 'zemarite', 'dinaites', '9go', '6both', 'hashubah', 'azubah', 'lysanias', 'jehubbah', 'zobebah', '4once', 'τὸν', 'shethar', 'junia', '26yes', '24they', 'mizpah', 'rumah', 'johanan', '40who', 'hananaiah', 'anem', 'prate', '22as', '3because', 'lovingkindness', 'tarea', '18because', 'hannaniah', 'jezreelite', 'libni', 'keepest', 'holon', 'jahzeiah', '56hypocrites', 'kemuel', 'naarah', 'netophah', 'furbish', 'sorceries', '54again', '51i', 'philologus', 'gidom', '5the', '16by', 'koum', '50so', '18mary', '13telling', 'moabites', 'marcaboth', 'hananiah', 'arioch', 'jabneel', '6now', '44thinking', 'jerushah', '46who', 'likeminded', 'carmelitess', 'derides', 'dieremhneuein', '16truly', 'hazazon', 'jahdiel', 'nebat', 'ivvah', 'miry', '12after', '39behold', '22philip', '47while', '31sky', '13woe', 'diadems', '35but', 'bether', 'shephi', '52but', 'sannah', 'shecaniah', 'malchijah', 'shitrai', 'snapp', '41he', 'hadarezer', '22blessed', 'baara', 'mahli', '5in', 'extortioners', 'whichsoever', 'kenites', '58for', 'nereus', '11so', 'ziddim', '6he', 'raca', 'miletum', '5but', 'oholibah', 'hocked', 'prisca', 'abitub', 'eshan', 'lahmi', 'slidden', 'hodshi', '12and', '41they', 'mishraites', 'pilneser', '14this', '37o', 'athirst', '5as', 'remeth', '34it', 'iyim', '24jesus', 'sepher', '41then', '21jesus', '5remember', 'eliahba', 'gallim', 'malchielites', 'shinar', 'zemirah', 'innocency', 'naamathite', 'bethphage', 'jakim', 'enchanters', 'putiel', '38they', 'shuthelah', 'zuzim', 'י', '30to', 'archelaus', '23during', 'ד', 'dires', '39at', '24leave', 'jamlech', 'helbah', 'ashhur', 'hammeah', '38the', 'galileans', 'uncorruptness', 'zoheth', 'jadon', '32so', 'yokefellow', 'zabad', 'siloam', 'jehohanan', 'eshterah', 'ephraimites', 'washpot', '18who', '43the', 'punon', 'tehinnah', 'repenting', 'moneybag', 'teraphim', 'magōg', 'tanhumeth', 'baalath', 'joshibiah', 'ravin', 'tiberias', '3blessed', 'karkor', 'topheth', 'jerahmeel', 'cenchrea', '26people', 'uphaz', '39but', '74to', '18everyone', 'diblathaim', 'amam', 'jahdai', 'casiphia', '22but', '59yet', 'rephidim', 'chilmad', '26at', 'jewdom', '6many', 'sabta', 'enon', 'straitness', 'mattithiah', '33jesus', 'siddim', 'tabbaoth', 'pureness', 'baali', '16other', 'craftiness', 'manasseh', '48because', 'maralah', '20his', '1after', 'ishbak', 'neariah', '33and', 'honors', 'hashbaddanah', 'bakbukiah', '30and', 'hagab', '18and', '12or', 'whensoever', '17from', 'arnan', 'bigtha', '1the', '14last', 'hanamel', '20how', 'huphamites', 'ammon', 'rinnah', 'mahaneh', 'achish', 'jeremoth', '21she', 'obed', '16as', '4this', '25the', 'ellasar', '3you', 'mishpat', 'consulter', '3be', '9jesus', 'forbare', 'mesha', 'ater', '5you', 'jedidiah', '45blessed', 'taphath', 'sheal', 'hothir', 'butlership', 'gier', 'jehoiada', 'jattir', 'amasa', 'caldrons', '31who', 'displeases', 'dayspring', 'grabbiness', '39so', '15jesus', 'ishhod', 'elealeh', 'eusebian', 'pishon', 'ziphites', 'stacte', 'hiddai', 'strifes', 'carshena', 'abjects', '3saying', 'scall', 'elienai', 'lycaonian', '34jesus', 'ט', 'flatteries', 'humtah', 'disquieted', 'shelishi', 'asrielites', 'favored', 'avva', 'ibhar', 'mered', 'edrei', '44then', 'calkers', '12seeing', 'cabbon', 'shelomoth', 'shelesh', '23nevertheless', 'nobah', '30the', '31but', 'jahaz', 'abijam', 'hamonah', '45so', 'sucklings', 'bethink', 'apharsachites', '24as', 'thunderclaps', 'ephrathah', 'menuhoth', 'slumberings', '13these', 'timbrels', 'giloh', 'hindermost', 'zalmon', '11from', 'pethor', 'meraioth', '28the', '10the', 'reelaiah', 'anah', 'נ', '10see', 'rishathaim', 'jidlaph', '60then', 'kishi', 'parmashta', '28but', '70so', '51truly', '40andrew', 'bashan', 'misham', 'vesture', 'zoan', 'shachia', '23woe', 'διερμηνεύειν', 'tahash', 'ilai', 'shuhite', 'rimmon', 'predestinated', 'senaah', 'magdiel', 'idbash', '19but', 'seba', '35whoever', '13now', '5so', '31therefore', 'tola', 'stedfastly', 'pelaliah', 'εἶναι', 'migdol', 'sippai', 'jochebed', 'teth', '14at', 'seirah', 'chenani', 'mizzah', 'armor', 'migdal', 'asshurim', 'mahlites', 'isshiah', 'elzabad', 'jozacar', 'adnah', '11because', '60and', 'showbread', '25therefore', 'rehokim', 'debir', 'pedahzur', 'hammedatha', 'pirathonite', 'plowed', 'ashbelites', 'hashabnah', 'jezreelitess', 'ס', 'ziklag', '7saying', 'ephod', 'ammihud', '46telling', 'eliud', 'pildash', 'arelites', 'hattil', 'betroth', 'pasach', '35pilate', 'sugcwroumenou', 'oholiab', 'shion', 'jahleel', 'oboth', 'socoh', 'hazaiah', 'eleazar', 'shisha', 'sabeans', 'sottish', '65he', '19to', 'meshillemoth', 'paruah', 'asaiah', 'hamul', 'michmethath', 'paltiel', 'elishaphat', '33sky', 'tahath', 'irijah', '2abraham', 'irad', 'edomite', 'shema', 'ephrathites', '11but', '48where', '20in', 'harbonah', 'ananiah', 'zeror', 'ulcerous', 'eyeservice', '39there', 'azaniah', 'nahath', 'rehabiah', 'tabrets', '15matthew', '23as', 'ziphron', 'horsehoofs', 'manaen', 'kushaiah', 'plowing', '12revenue', 'pestilent', 'ulam', 'shishak', 'ashnah', 'neziah', 'bondwoman', '4blessed', 'elnaam', '40a', 'gadite', 'bigthan', 'zebulunites', 'malluchi', 'gedi', 'helekites', 'vaticanus', 'eker', '22then', '27john', 'shelomith', 'jetheth', 'ethanim', 'girds', 'adaminekeb', 'zedek', 'eleasah', 'profaning', 'causeless', '38john', 'palal', '23why', 'drusilla', 'ramath', 'hinnom', 'roebucks', 'מ', 'νοῦν', '17these', '15i', 'amoz', 'pryer', 'housetop', 'ibri', 'jerusalemites', 'nohah', 'harsha', 'metzger', 'proselytes', '18then', 'esar', 'asherim', 'vaunts', '32since', 'parshandatha', 'wasteness', 'hakupha', '33they', '4because', '70as', '11when', '7th', 'avith', 'pekod', 'ahiram', '32now', 'elmadam', 'allammelech', 'sibraim', '2telling', '35like', 'unthankful', 'thereat', 'amorite', 'basketfuls', 'tabret', 'withholden', 'unreproveable', '30who', 'dishonorable', 'uzziah', 'iezerites', 'gebal', 'zerubbabel', 'bowlful', 'uzzi', 'megiddon', '12when', 'dishan', 'nephtoah', 'snuffs', 'prosperously', '15neither', 'thaddaeus', 'defenseless', 'korahite', 'rithmah', 'jaala', '24and', '29my', 'allemeth', '22for', '41you', '27the', '10in', 'moneylovers', 'sephar', '16when', 'dannah', '11yes', 'jachin', 'azriel', 'tsadhe', '59i', '52they', '31jesus', '4i', 'peradventure', 'lassharon', 'uzziel', 'liers', 'rejoicest', 'apparelled', '39because', 'allured', '32mary', 'moabitess', '10when', 'diotrephes', '16repent', '29we', 'succor', 'revealer', '28now', 'proconsuls', 'ammizabad', 'shallecheth', '10standing', 'abidan', '10if', '3peter', '1since', 'eliada', 'oneenters', '43i', 'sabtah', 'gannim', 'aphrah', 'netophathite', '48jesus', 'akan', '24one', 'laborers', 'dromedaries', 'shelumiel', 'shuphamites', 'danites', 'zobah', 'besai', 'mocker', '4they', 'bichri', 'matthat', '19now', 'obeli', '32a', '71salvation', 'janoah', 'travailed', 'adullam', 'ephlal', 'jaakobah', '5then', 'sosthenes', 'bloodguiltiness', 'isn', '3now', 'epaphras', '27what', '9truly', 'apollos', 'egresses', 'unmovable', 'coppersmith', 'bilhah', 'maoch', 'ziv', 'gendereth', '28for', 'keilah', 'hadrach', '31we', 'gath', 'surmisings', 'jarha', 'paddan', 'gibeon', 'timnathserah', '21these', 'hakkoz', 'hezir', 'hattaavah', '18no', 'tilgath', 'tarshish', '36two', 'oreb', 'lebana', '29so', 'elishah', 'elberith', 'mene', 'topossess', '10or', '28as', 'gehenna', 'zuriel', 'zair', 'ahithophel', 'tehaphnehes', 'nibhaz', 'higgaion', 'nemuelites', '25then', 'ἀναγνώσματος', 'sunrising', 'mikloth', 'dishon', 'dissembles', 'hews', 'arim', '66how', '24after', 'omers', 'shepher', 'shemer', 'maharai', 'purposed', 'correcteth', 'moresheth', 'jokshan', 'baptizing', '26yet', '47for', 'herodians', 'fitches', '22regardless', 'jokmeam', '22all', 'nazirite', 'stumblingblock', 'zebul', 'uzai', 'chidon', '50with', '3then', 'unshod', 'parmenas', 'jaazaniah', 'eliphal', 'meronothite', 'nahalal', 'ibneiah', 'nobai', '49while', 'treader', 'shalmaneser', 'athach', 'hophra', 'seing', 'tartarus', 'prophesyings', 'tilon', 'freewill', 'hatticon', 'peleg', 'elizaphan', 'paseah', 'noontide', 'memucan', 'shebarim', 'demonized', '6for', 'zin', 'rapine', 'hashabiah', 'jeshua', 'sitnah', 'sarid', 'tolad', '9pack', 'manoah', 'zerah', 'lysias', 'doormaid', 'hethlon', 'shalal', 'malchishua', 'helve', 'hearkens', 'zohar', 'purposing', 'shilhim', 'kiriath', 'jothan', 'jediael', 'jerah', 'dedanites', 'bilhan', 'mithkah', 'ephai', 'zibbul', 'kadmonite', 'gehazi', 'magpiash', '15just', 'mattan', '30he', 'humbleness', '64yet', 'kittim', 'shunites', 'haram', '20thus', '31for', 'asiarchs', 'persecutest', 'unstopped', 'abdeel', 'thiefenters', 'gai', 'uriel', 'sinns', '55isn', 'hilen', '33in', 'aleph', '41for', 'ahoah', '28they', 'gihon', 'appaim', 'leb', 'sebam', 'ahinadab', 'abinadab', 'gederathite', 'scoffest', '36dismiss', 'zered', 'sheshach', 'nicolaitans', 'jeshebeab', 'samothraiki', 'froward', 'carousals', 'reproofs', '6but', 'jabneh', 'hozai', 'lasea', 'lahad', '55and', 'reprover', '48the', 'chimham', 'shimeites', 'shaalim', '4these', 'baldhead', 'secacah', 'surpassingly', 'surmising', 'onesiphorus', 'maon', 'aphek', '30but', 'haziel', 'zabbud', 'roareth', 'poti', 'demas', 'unrighteously', 'netaim', 'profaned', 'vinedressers', 'unadvisedly', 'bountifulness', 'oni', 'kinsfolks', '38for', 'jerioth', 'jegar', 'asherah', 'adoraim', 'bucklers', 'talitha', 'ammonitess', 'ardites', 'sharai', '10they', 'exorcists', 'sopater', 'reveling', 'spreadings', 'orpah', '20a', '7i', 'amana', '14after', 'chislon', '22in', '1that', 'requited', 'shallun', 'kartan', 'moserah', 'joppa', 'merarites', 'quarreled', 'rephah', 'pelatiah', 'abihud', 'garners', 'elon', 'odors', '7but', '3for', '63and', 'nicanor', 'chephirah', 'hierapolis', '13from', 'netophathites', 'jabin', 'metes', '40on', '18zechariah', '2he', 'rohgah', '49the', '17jesus', 'backbitings', 'tiria', 'vestures', 'profanes', 'kain', 'lycia', 'riphath', 'jemimah', 'divinations', 'curs', '29his', 'jeduthan', '7the', '15let', 'winnowed', 'dinhabah', '23for', 'bondmaid', 'jehoahaz', 'tahrea', 'maacathite', 'anak', 'sanctifies', 'zaanan', 'nahor', '20he', '77to', 'harbona', 'naboth', 'arbite', 'honoring', '78because', 'flutists', 'anoth', '12for', 'maacah', 'whoso', 'baanah', 'belteshazzar', 'beautifications', '36jesus', 'middlemost', '21they', '1then', 'karnaim', '41in', 'teresh', 'asriel', 'darkon', 'tiglath', 'firstlings', 'maacathites', 'zebadiah'}\n"
     ]
    }
   ],
   "source": [
    "print(misspelled_words)"
   ]
  },
  {
   "cell_type": "code",
   "execution_count": 290,
   "metadata": {},
   "outputs": [
    {
     "data": {
      "text/plain": [
       "set()"
      ]
     },
     "execution_count": 290,
     "metadata": {},
     "output_type": "execute_result"
    }
   ],
   "source": [
    "spell.known(misspelled_words)"
   ]
  },
  {
   "cell_type": "markdown",
   "metadata": {},
   "source": [
    "# Blob\n",
    "https://textblob.readthedocs.io/en/dev/"
   ]
  },
  {
   "cell_type": "code",
   "execution_count": 292,
   "metadata": {},
   "outputs": [],
   "source": [
    "\n",
    "from textblob import TextBlob"
   ]
  },
  {
   "cell_type": "code",
   "execution_count": 293,
   "metadata": {},
   "outputs": [],
   "source": [
    "text = my_text"
   ]
  },
  {
   "cell_type": "code",
   "execution_count": 294,
   "metadata": {},
   "outputs": [],
   "source": [
    "blob = TextBlob(text)"
   ]
  },
  {
   "cell_type": "code",
   "execution_count": 295,
   "metadata": {},
   "outputs": [],
   "source": [
    "\n",
    "#blob.tags      \n"
   ]
  },
  {
   "cell_type": "markdown",
   "metadata": {},
   "source": [
    "\n",
    "\n",
    "blob.noun_phrases   # WordList(['titular threat', 'blob',\n",
    "                    #            'ultimate movie monster',\n"
   ]
  },
  {
   "cell_type": "markdown",
   "metadata": {},
   "source": [
    "                    #            'amoeba-like mass', ...])\n",
    "\n",
    "for sentence in blob.sentences:\n",
    "    print(sentence.sentiment.polarity)\n"
   ]
  },
  {
   "cell_type": "markdown",
   "metadata": {},
   "source": [
    "# Spelling PArt 2"
   ]
  },
  {
   "cell_type": "code",
   "execution_count": 296,
   "metadata": {},
   "outputs": [
    {
     "name": "stdout",
     "output_type": "stream",
     "text": [
      "burlap  is incorrect and correct is:  bursa\n"
     ]
    }
   ],
   "source": [
    "# from https://textblob.readthedocs.io/en/dev/quickstart.html#part-of-speech-tagging\n",
    "b = TextBlob(\"burlap\") #misspelled_words)\n",
    "print(b, \" is incorrect and correct is: \" ,b.correct())\n"
   ]
  },
  {
   "cell_type": "code",
   "execution_count": 297,
   "metadata": {},
   "outputs": [
    {
     "data": {
      "text/html": [
       "<div>\n",
       "<style scoped>\n",
       "    .dataframe tbody tr th:only-of-type {\n",
       "        vertical-align: middle;\n",
       "    }\n",
       "\n",
       "    .dataframe tbody tr th {\n",
       "        vertical-align: top;\n",
       "    }\n",
       "\n",
       "    .dataframe thead th {\n",
       "        text-align: right;\n",
       "    }\n",
       "</style>\n",
       "<table border=\"1\" class=\"dataframe\">\n",
       "  <thead>\n",
       "    <tr style=\"text-align: right;\">\n",
       "      <th></th>\n",
       "      <th>Words</th>\n",
       "    </tr>\n",
       "  </thead>\n",
       "  <tbody>\n",
       "    <tr>\n",
       "      <th>0</th>\n",
       "      <td>oznites</td>\n",
       "    </tr>\n",
       "    <tr>\n",
       "      <th>1</th>\n",
       "      <td>kengkreia</td>\n",
       "    </tr>\n",
       "    <tr>\n",
       "      <th>2</th>\n",
       "      <td></td>\n",
       "    </tr>\n",
       "    <tr>\n",
       "      <th>3</th>\n",
       "      <td>43not</td>\n",
       "    </tr>\n",
       "    <tr>\n",
       "      <th>4</th>\n",
       "      <td>admah</td>\n",
       "    </tr>\n",
       "  </tbody>\n",
       "</table>\n",
       "</div>"
      ],
      "text/plain": [
       "       Words\n",
       "0    oznites\n",
       "1  kengkreia\n",
       "2           \n",
       "3      43not\n",
       "4      admah"
      ]
     },
     "execution_count": 297,
     "metadata": {},
     "output_type": "execute_result"
    }
   ],
   "source": [
    "misspelled_words_df.head()"
   ]
  },
  {
   "cell_type": "code",
   "execution_count": 298,
   "metadata": {},
   "outputs": [],
   "source": [
    "for i in misspelled_words_df: #range (len (misspelled_words_df)):\n",
    "    temp = misspelled_words_df[i]\n",
    "    str_temp= str(temp)\n",
    "    bword  = TextBlob(str_temp)\n",
    "    correct = bword.correct()"
   ]
  },
  {
   "cell_type": "code",
   "execution_count": 299,
   "metadata": {},
   "outputs": [
    {
     "name": "stdout",
     "output_type": "stream",
     "text": [
      "0           oznites\n",
      "1         kengkreia\n",
      "2                  \n",
      "3             43not\n",
      "4             admah\n",
      "           ...     \n",
      "4908         darkon\n",
      "4909        tiglath\n",
      "4910     firstlings\n",
      "4911    maacathites\n",
      "4912       zebadiah\n",
      "Name: Words, Length: 4913, dtype: object  is incorrent and correct is:  0           unites\n",
      "1         kengkreia\n",
      "2                  \n",
      "3             not\n",
      "4             adams\n",
      "           ...     \n",
      "4908         dark\n",
      "4909        tiglath\n",
      "4910     firstlings\n",
      "4911    maacathites\n",
      "4912       zebadiah\n",
      "Same: Words, Length: 4913, type: object\n"
     ]
    }
   ],
   "source": [
    " print(bword, \" is incorrent and correct is: \", correct) # ,b.correct())"
   ]
  },
  {
   "cell_type": "code",
   "execution_count": 300,
   "metadata": {},
   "outputs": [
    {
     "name": "stdout",
     "output_type": "stream",
     "text": [
      "0           oznites\n",
      "1         kengkreia\n",
      "2                  \n",
      "3             43not\n",
      "4             admah\n",
      "           ...     \n",
      "4908         darkon\n",
      "4909        tiglath\n",
      "4910     firstlings\n",
      "4911    maacathites\n",
      "4912       zebadiah\n",
      "Name: Words, Length: 4913, dtype: object  is incorrent and correct is:  bursa\n"
     ]
    }
   ],
   "source": [
    " print(bword, \" is incorrent and correct is: \", b.correct())"
   ]
  },
  {
   "cell_type": "code",
   "execution_count": null,
   "metadata": {},
   "outputs": [],
   "source": []
  },
  {
   "cell_type": "code",
   "execution_count": null,
   "metadata": {},
   "outputs": [],
   "source": []
  },
  {
   "cell_type": "code",
   "execution_count": null,
   "metadata": {},
   "outputs": [],
   "source": []
  }
 ],
 "metadata": {
  "colab": {
   "collapsed_sections": [
    "Q_Z1mX17Kk-b",
    "BdEnvU8IKk_E",
    "t9tl73nHKk_H",
    "oqEKZHMHKk_K",
    "rGWEqyO1Kk_M",
    "CJg7KAzEKk_O",
    "d6-qdOz3Kk_Q",
    "BWimwiHiKk_U",
    "ECjqEDAqKk_X",
    "_Y7DtxRmKk_b",
    "sknq_AAJKk_e",
    "4D6kejG9Kk_i"
   ],
   "name": "DSIA Demo-9_2.ipynb",
   "provenance": []
  },
  "kernelspec": {
   "display_name": "Python 3",
   "language": "python",
   "name": "python3"
  },
  "language_info": {
   "codemirror_mode": {
    "name": "ipython",
    "version": 3
   },
   "file_extension": ".py",
   "mimetype": "text/x-python",
   "name": "python",
   "nbconvert_exporter": "python",
   "pygments_lexer": "ipython3",
   "version": "3.7.6"
  }
 },
 "nbformat": 4,
 "nbformat_minor": 1
}
